{
  "cells": [
    {
      "cell_type": "code",
      "source": [
        "# TODO disable this cell before submission!\n",
        "from google.colab import drive\n",
        "# drive.mount('/content/drive')  # if this does not work try the next line of code\n",
        "drive.mount('/content/drive', force_remount=True)\n",
        "# my files are in 'labs/lab0-0'  # TODO edit this for each assign\n",
        "!cp -r /content/drive/MyDrive/project2-PirateRum/* .\n",
        "!pip install -r requirements.txt\n",
        "# restart the runtime\n",
        "import os\n",
        "os._exit(00)"
      ],
      "metadata": {
        "colab": {
          "base_uri": "https://localhost:8080/",
          "height": 381
        },
        "id": "nJ2ZP3yfEGom",
        "outputId": "019230db-2a9f-428e-9b9f-84fa4427fdde"
      },
      "id": "nJ2ZP3yfEGom",
      "execution_count": 1,
      "outputs": [
        {
          "output_type": "error",
          "ename": "MessageError",
          "evalue": "ignored",
          "traceback": [
            "\u001b[0;31m---------------------------------------------------------------------------\u001b[0m",
            "\u001b[0;31mMessageError\u001b[0m                              Traceback (most recent call last)",
            "\u001b[0;32m<ipython-input-1-f7f0719b25a0>\u001b[0m in \u001b[0;36m<module>\u001b[0;34m()\u001b[0m\n\u001b[1;32m      2\u001b[0m \u001b[0;32mfrom\u001b[0m \u001b[0mgoogle\u001b[0m\u001b[0;34m.\u001b[0m\u001b[0mcolab\u001b[0m \u001b[0;32mimport\u001b[0m \u001b[0mdrive\u001b[0m\u001b[0;34m\u001b[0m\u001b[0;34m\u001b[0m\u001b[0m\n\u001b[1;32m      3\u001b[0m \u001b[0;31m# drive.mount('/content/drive')  # if this does not work try the next line of code\u001b[0m\u001b[0;34m\u001b[0m\u001b[0;34m\u001b[0m\u001b[0;34m\u001b[0m\u001b[0m\n\u001b[0;32m----> 4\u001b[0;31m \u001b[0mdrive\u001b[0m\u001b[0;34m.\u001b[0m\u001b[0mmount\u001b[0m\u001b[0;34m(\u001b[0m\u001b[0;34m'/content/drive'\u001b[0m\u001b[0;34m,\u001b[0m \u001b[0mforce_remount\u001b[0m\u001b[0;34m=\u001b[0m\u001b[0;32mTrue\u001b[0m\u001b[0;34m)\u001b[0m\u001b[0;34m\u001b[0m\u001b[0;34m\u001b[0m\u001b[0m\n\u001b[0m\u001b[1;32m      5\u001b[0m \u001b[0;31m# my files are in 'labs/lab0-0'  # TODO edit this for each assign\u001b[0m\u001b[0;34m\u001b[0m\u001b[0;34m\u001b[0m\u001b[0;34m\u001b[0m\u001b[0m\n\u001b[1;32m      6\u001b[0m \u001b[0mget_ipython\u001b[0m\u001b[0;34m(\u001b[0m\u001b[0;34m)\u001b[0m\u001b[0;34m.\u001b[0m\u001b[0msystem\u001b[0m\u001b[0;34m(\u001b[0m\u001b[0;34m'cp -r /content/drive/MyDrive/project2-PirateRum/* .'\u001b[0m\u001b[0;34m)\u001b[0m\u001b[0;34m\u001b[0m\u001b[0;34m\u001b[0m\u001b[0m\n",
            "\u001b[0;32m/usr/local/lib/python3.7/dist-packages/google/colab/drive.py\u001b[0m in \u001b[0;36mmount\u001b[0;34m(mountpoint, force_remount, timeout_ms)\u001b[0m\n\u001b[1;32m    107\u001b[0m       \u001b[0mforce_remount\u001b[0m\u001b[0;34m=\u001b[0m\u001b[0mforce_remount\u001b[0m\u001b[0;34m,\u001b[0m\u001b[0;34m\u001b[0m\u001b[0;34m\u001b[0m\u001b[0m\n\u001b[1;32m    108\u001b[0m       \u001b[0mtimeout_ms\u001b[0m\u001b[0;34m=\u001b[0m\u001b[0mtimeout_ms\u001b[0m\u001b[0;34m,\u001b[0m\u001b[0;34m\u001b[0m\u001b[0;34m\u001b[0m\u001b[0m\n\u001b[0;32m--> 109\u001b[0;31m       ephemeral=True)\n\u001b[0m\u001b[1;32m    110\u001b[0m \u001b[0;34m\u001b[0m\u001b[0m\n\u001b[1;32m    111\u001b[0m \u001b[0;34m\u001b[0m\u001b[0m\n",
            "\u001b[0;32m/usr/local/lib/python3.7/dist-packages/google/colab/drive.py\u001b[0m in \u001b[0;36m_mount\u001b[0;34m(mountpoint, force_remount, timeout_ms, ephemeral)\u001b[0m\n\u001b[1;32m    122\u001b[0m   \u001b[0;32mif\u001b[0m \u001b[0mephemeral\u001b[0m\u001b[0;34m:\u001b[0m\u001b[0;34m\u001b[0m\u001b[0;34m\u001b[0m\u001b[0m\n\u001b[1;32m    123\u001b[0m     _message.blocking_request(\n\u001b[0;32m--> 124\u001b[0;31m         'request_auth', request={'authType': 'dfs_ephemeral'}, timeout_sec=None)\n\u001b[0m\u001b[1;32m    125\u001b[0m \u001b[0;34m\u001b[0m\u001b[0m\n\u001b[1;32m    126\u001b[0m   \u001b[0mmountpoint\u001b[0m \u001b[0;34m=\u001b[0m \u001b[0m_os\u001b[0m\u001b[0;34m.\u001b[0m\u001b[0mpath\u001b[0m\u001b[0;34m.\u001b[0m\u001b[0mexpanduser\u001b[0m\u001b[0;34m(\u001b[0m\u001b[0mmountpoint\u001b[0m\u001b[0;34m)\u001b[0m\u001b[0;34m\u001b[0m\u001b[0;34m\u001b[0m\u001b[0m\n",
            "\u001b[0;32m/usr/local/lib/python3.7/dist-packages/google/colab/_message.py\u001b[0m in \u001b[0;36mblocking_request\u001b[0;34m(request_type, request, timeout_sec, parent)\u001b[0m\n\u001b[1;32m    173\u001b[0m   request_id = send_request(\n\u001b[1;32m    174\u001b[0m       request_type, request, parent=parent, expect_reply=True)\n\u001b[0;32m--> 175\u001b[0;31m   \u001b[0;32mreturn\u001b[0m \u001b[0mread_reply_from_input\u001b[0m\u001b[0;34m(\u001b[0m\u001b[0mrequest_id\u001b[0m\u001b[0;34m,\u001b[0m \u001b[0mtimeout_sec\u001b[0m\u001b[0;34m)\u001b[0m\u001b[0;34m\u001b[0m\u001b[0;34m\u001b[0m\u001b[0m\n\u001b[0m",
            "\u001b[0;32m/usr/local/lib/python3.7/dist-packages/google/colab/_message.py\u001b[0m in \u001b[0;36mread_reply_from_input\u001b[0;34m(message_id, timeout_sec)\u001b[0m\n\u001b[1;32m    104\u001b[0m         reply.get('colab_msg_id') == message_id):\n\u001b[1;32m    105\u001b[0m       \u001b[0;32mif\u001b[0m \u001b[0;34m'error'\u001b[0m \u001b[0;32min\u001b[0m \u001b[0mreply\u001b[0m\u001b[0;34m:\u001b[0m\u001b[0;34m\u001b[0m\u001b[0;34m\u001b[0m\u001b[0m\n\u001b[0;32m--> 106\u001b[0;31m         \u001b[0;32mraise\u001b[0m \u001b[0mMessageError\u001b[0m\u001b[0;34m(\u001b[0m\u001b[0mreply\u001b[0m\u001b[0;34m[\u001b[0m\u001b[0;34m'error'\u001b[0m\u001b[0;34m]\u001b[0m\u001b[0;34m)\u001b[0m\u001b[0;34m\u001b[0m\u001b[0;34m\u001b[0m\u001b[0m\n\u001b[0m\u001b[1;32m    107\u001b[0m       \u001b[0;32mreturn\u001b[0m \u001b[0mreply\u001b[0m\u001b[0;34m.\u001b[0m\u001b[0mget\u001b[0m\u001b[0;34m(\u001b[0m\u001b[0;34m'data'\u001b[0m\u001b[0;34m,\u001b[0m \u001b[0;32mNone\u001b[0m\u001b[0;34m)\u001b[0m\u001b[0;34m\u001b[0m\u001b[0;34m\u001b[0m\u001b[0m\n\u001b[1;32m    108\u001b[0m \u001b[0;34m\u001b[0m\u001b[0m\n",
            "\u001b[0;31mMessageError\u001b[0m: Error: credential propagation was unsuccessful"
          ]
        }
      ]
    },
    {
      "cell_type": "code",
      "execution_count": null,
      "id": "525bf509",
      "metadata": {
        "deletable": false,
        "editable": false,
        "tags": [],
        "id": "525bf509"
      },
      "outputs": [],
      "source": [
        "# Please do not change this cell because some hidden tests might depend on it.\n",
        "import os\n",
        "\n",
        "# Otter grader does not handle ! commands well, so we define and use our\n",
        "# own function to execute shell commands.\n",
        "def shell(commands, warn=True):\n",
        "    \"\"\"Executes the string `commands` as a sequence of shell commands.\n",
        "     \n",
        "       Prints the result to stdout and returns the exit status. \n",
        "       Provides a printed warning on non-zero exit status unless `warn` \n",
        "       flag is unset.\n",
        "    \"\"\"\n",
        "    file = os.popen(commands)\n",
        "    print (file.read().rstrip('\\n'))\n",
        "    exit_status = file.close()\n",
        "    if warn and exit_status != None:\n",
        "        print(f\"Completed with errors. Exit status: {exit_status}\\n\")\n",
        "    return exit_status\n",
        "\n",
        "shell(\"\"\"\n",
        "ls requirements.txt >/dev/null 2>&1\n",
        "if [ ! $? = 0 ]; then\n",
        " rm -rf .tmp\n",
        " git clone https://github.com/cs236299-2022-spring/project2.git .tmp\n",
        " mv .tmp/requirements.txt ./\n",
        " rm -rf .tmp\n",
        "fi\n",
        "pip install -q -r requirements.txt\n",
        "\"\"\")"
      ]
    },
    {
      "cell_type": "code",
      "execution_count": null,
      "id": "9baa12c8",
      "metadata": {
        "deletable": false,
        "editable": false,
        "id": "9baa12c8"
      },
      "outputs": [],
      "source": [
        "# Initialize Otter\n",
        "import otter\n",
        "grader = otter.Notebook()"
      ]
    },
    {
      "cell_type": "raw",
      "id": "9918757a",
      "metadata": {
        "tags": [],
        "id": "9918757a"
      },
      "source": [
        "%%latex\n",
        "\\newcommand{\\vect}[1]{\\mathbf{#1}}\n",
        "\\newcommand{\\cnt}[1]{\\sharp(#1)}\n",
        "\\newcommand{\\argmax}[1]{\\underset{#1}{\\operatorname{argmax}}}\n",
        "\\newcommand{\\softmax}{\\operatorname{softmax}}\n",
        "\\newcommand{\\Prob}{\\Pr}\n",
        "\\newcommand{\\given}{\\,|\\,}"
      ]
    },
    {
      "cell_type": "markdown",
      "id": "fe802350",
      "metadata": {
        "tags": [],
        "id": "fe802350"
      },
      "source": [
        "$$\n",
        "\\renewcommand{\\vect}[1]{\\mathbf{#1}}\n",
        "\\renewcommand{\\cnt}[1]{\\sharp(#1)}\n",
        "\\renewcommand{\\argmax}[1]{\\underset{#1}{\\operatorname{argmax}}}\n",
        "\\renewcommand{\\softmax}{\\operatorname{softmax}}\n",
        "\\renewcommand{\\Prob}{\\Pr}\n",
        "\\renewcommand{\\given}{\\,|\\,}\n",
        "$$"
      ]
    },
    {
      "cell_type": "markdown",
      "id": "58d00522",
      "metadata": {
        "tags": [
          "remove_for_latex"
        ],
        "id": "58d00522"
      },
      "source": [
        "# 236299 - Introduction to Natural Language Processing\n",
        "## Project 2: Sequence labeling – The slot filling task"
      ]
    },
    {
      "cell_type": "markdown",
      "id": "05ef3057",
      "metadata": {
        "id": "05ef3057"
      },
      "source": [
        "# Introduction\n",
        "\n",
        "The second segment of the project involves a sequence labeling task, in which the goal is to label the tokens in a text. Many NLP tasks have this general form. Most famously is the task of _part-of-speech labeling_ as you explored in lab 2-4, where the tokens in a text are to be labeled with their part of speech (noun, verb, preposition, etc.). In this project segment, however, you'll use sequence labeling to implement a system for filling the slots in a template that is intended to describe the meaning of an ATIS query. For instance, the sentence \n",
        "\n",
        "    What's the earliest arriving flight between Boston and Washington DC?\n",
        "    \n",
        "might be associated with the following slot-filled template: \n",
        "\n",
        "    flight_id\n",
        "        fromloc.cityname: boston\n",
        "        toloc.cityname: washington\n",
        "        toloc.state: dc\n",
        "        flight_mod: earliest arriving\n",
        "    \n",
        "You may wonder how this task is a sequence labeling task. We label each word in the source sentence with a tag taken from a set of tags that correspond to the slot-labels. For each slot-label, say `flight_mod`, there are two tags: `B-flight_mod` and `I-flight_mod`. These are used to mark the beginning (B) or interior (I) of a phrase that fills the given slot. In addition, there is a tag for other (O) words that are not used to fill any slot. (This technique is thus known as IOB encoding.) Thus the sample sentence would be labeled as follows:\n",
        "\n",
        "| Token   | Label    |\n",
        "| :------ | :----- | \n",
        "| `BOS` | `O` |\n",
        "| `what's` | `O` |\n",
        "| `the` | `O` |\n",
        "| `earliest` | `B-flight_mod` |\n",
        "| `arriving` | `I-flight_mod` |\n",
        "| `flight` | `O` |\n",
        "| `between` | `O` |\n",
        "| `boston` | `B-fromloc.city_name` |\n",
        "| `and` | `O` |\n",
        "| `washington` | `B-toloc.city_name` |\n",
        "| `dc` | `B-toloc.state_code` |\n",
        "| `EOS` | `O` |\n",
        "\n",
        "> See below for information about the `BOS` and `EOS` tokens. \n",
        "\n",
        "The template itself is associated with the question type for the sentence, perhaps as recovered from the sentence in the last project segment.\n",
        "\n",
        "In this segment, you'll implement three methods for sequence labeling: a hidden Markov model (HMM) and two recurrent neural networks, a simple RNN and a long short-term memory network (LSTM). By the end of this homework, you should have grasped the pros and cons of the statistical and neural approaches.\n",
        "\n",
        "## Goals\n",
        "\n",
        "1. Implement an HMM-based approach to sequence labeling.\n",
        "2. Implement an RNN-based approach to sequence labeling.\n",
        "3. Implement an LSTM-based approach to sequence labeling.\n",
        "4. Compare the performances of HMM and RNN/LSTM with different amounts of training data. Discuss the pros and cons of the HMM approach and the neural approach."
      ]
    },
    {
      "cell_type": "markdown",
      "id": "baf76999",
      "metadata": {
        "id": "baf76999"
      },
      "source": [
        "## Setup"
      ]
    },
    {
      "cell_type": "code",
      "execution_count": null,
      "id": "0b1b1cd0",
      "metadata": {
        "deletable": false,
        "editable": false,
        "id": "0b1b1cd0"
      },
      "outputs": [],
      "source": [
        "import copy\n",
        "import math\n",
        "import matplotlib.pyplot as plt\n",
        "import random\n",
        "\n",
        "import wget\n",
        "import torch\n",
        "import torch.nn as nn\n",
        "import torchtext.legacy as tt\n",
        "\n",
        "from tqdm.auto import tqdm"
      ]
    },
    {
      "cell_type": "code",
      "execution_count": null,
      "id": "9c41bdcb",
      "metadata": {
        "id": "9c41bdcb"
      },
      "outputs": [],
      "source": [
        "# Set random seeds\n",
        "seed = 1234\n",
        "random.seed(seed)\n",
        "torch.manual_seed(seed)\n",
        "\n",
        "# GPU check, sets runtime type to \"GPU\" where available\n",
        "device = torch.device(\"cuda\" if torch.cuda.is_available() else \"cpu\")\n",
        "print(device)"
      ]
    },
    {
      "cell_type": "markdown",
      "id": "946f4beb",
      "metadata": {
        "id": "946f4beb"
      },
      "source": [
        "## Loading data\n",
        "\n",
        "We download the ATIS dataset, already presplit into training, validation (dev), and test sets."
      ]
    },
    {
      "cell_type": "code",
      "execution_count": null,
      "id": "f71cca38",
      "metadata": {
        "id": "f71cca38"
      },
      "outputs": [],
      "source": [
        "# Prepare to download needed data\n",
        "def download_if_needed(filename, source='./', dest='./'):\n",
        "    os.makedirs(data_path, exist_ok=True) # ensure destination\n",
        "    os.path.exists(f\"./{dest}{filename}\") or wget.download(source + filename, out=dest)\n",
        "\n",
        "source_path = \"https://raw.githubusercontent.com/nlp-course/data/master/ATIS/\"\n",
        "data_path = \"data/\"\n",
        "\n",
        "# Download files\n",
        "for filename in [\"atis.train.txt\",\n",
        "                 \"atis.dev.txt\",\n",
        "                 \"atis.test.txt\"\n",
        "                ]:\n",
        "    download_if_needed(filename, source_path, data_path)"
      ]
    },
    {
      "cell_type": "markdown",
      "id": "418b6a28",
      "metadata": {
        "id": "418b6a28"
      },
      "source": [
        "## Data preprocessing\n",
        "\n",
        "We again use `torchtext` to load data and convert words to indices in the vocabulary. We use one field `TEXT` for processing the question, and another field `TAG` for processing the sequence labels.\n",
        "\n",
        "We treat words occurring fewer than three times in the training data as _unknown words_. They'll be replaced by the unknown word type `<unk>`."
      ]
    },
    {
      "cell_type": "code",
      "execution_count": null,
      "id": "971509fa",
      "metadata": {
        "id": "971509fa"
      },
      "outputs": [],
      "source": [
        "MIN_FREQ = 3\n",
        "\n",
        "TEXT = tt.data.Field(init_token=\"<bos>\", batch_first=False) # batches are of size max_len x bsz\n",
        "TAG = tt.data.Field(init_token=\"<bos>\", batch_first=False)  # ditto\n",
        "fields = (('text', TEXT), ('tag', TAG))\n",
        "\n",
        "train, val, test = tt.datasets.SequenceTaggingDataset.splits(\n",
        "  fields=fields, \n",
        "  path='./data/', \n",
        "  train='atis.train.txt',\n",
        "  validation='atis.dev.txt',\n",
        "  test='atis.test.txt'\n",
        ")\n",
        "\n",
        "TEXT.build_vocab(train.text, min_freq=MIN_FREQ)\n",
        "TAG.build_vocab(train.tag)"
      ]
    },
    {
      "cell_type": "markdown",
      "id": "e1bf2db1",
      "metadata": {
        "id": "e1bf2db1"
      },
      "source": [
        "We can get some sense of the datasets by looking at the size and some elements of the text and tag vocabularies."
      ]
    },
    {
      "cell_type": "code",
      "execution_count": null,
      "id": "ccc4cc65",
      "metadata": {
        "id": "ccc4cc65"
      },
      "outputs": [],
      "source": [
        "print(f\"Size of English vocabulary: {len(TEXT.vocab)}\")\n",
        "print(f\"Most common English words: {TEXT.vocab.freqs.most_common(10)}\\n\")\n",
        "\n",
        "print(f\"Number of tags: {len(TAG.vocab)}\")\n",
        "print(f\"Most common tags: {TAG.vocab.freqs.most_common(10)}\")"
      ]
    },
    {
      "cell_type": "markdown",
      "id": "769ef343",
      "metadata": {
        "id": "769ef343"
      },
      "source": [
        "## Special tokens and tags\n",
        "\n",
        "You'll have already noticed the `BOS` and `EOS`, special tokens that the dataset developers used to indicate the beginning and end of the sentence; we'll leave them in the data.\n",
        "\n",
        "We've also passed in `init_token=\"<bos>\"` for both torchtext fields. Torchtext will prepend these to the sequence of words and tags. This relieves us from estimating the initial distribution of tags and tokens in HMMs, since we always start with a token `<bos>` whose tag is also `<bos>`. We'll be able to refer to these tags as exemplified here:"
      ]
    },
    {
      "cell_type": "code",
      "execution_count": null,
      "id": "4b3737a7",
      "metadata": {
        "id": "4b3737a7"
      },
      "outputs": [],
      "source": [
        "print(f\"\"\"\n",
        "Initial tag string: {TAG.init_token}\n",
        "Initial tag id:     {TAG.vocab.stoi[TAG.init_token]}\n",
        "\"\"\")"
      ]
    },
    {
      "cell_type": "markdown",
      "id": "d38608ec",
      "metadata": {
        "id": "d38608ec"
      },
      "source": [
        "Finally, since `torchtext` will be providing the sentences in the training corpus in \"batches\", `torchtext` will force the sentences within a batch to be the same length by padding them with a special token. Again, we can access that token as shown here:"
      ]
    },
    {
      "cell_type": "code",
      "execution_count": null,
      "id": "87cd15a6",
      "metadata": {
        "id": "87cd15a6"
      },
      "outputs": [],
      "source": [
        "print(f\"\"\"\n",
        "Pad tag string: {TAG.pad_token}\n",
        "Pad tag id:     {TAG.vocab.stoi[TAG.pad_token]}\n",
        "\"\"\")"
      ]
    },
    {
      "cell_type": "markdown",
      "id": "b03de9a4",
      "metadata": {
        "id": "b03de9a4"
      },
      "source": [
        "Now, we can iterate over the dataset using `torchtext`'s iterator. We'll use a non-trivial batch size to gain the benefit of training on multiple sentences at a shot. You'll need to be careful about the shapes of the various tensors that are being manipulated."
      ]
    },
    {
      "cell_type": "code",
      "execution_count": null,
      "id": "ed69f956",
      "metadata": {
        "id": "ed69f956"
      },
      "outputs": [],
      "source": [
        "BATCH_SIZE = 20\n",
        "\n",
        "train_iter, val_iter, test_iter = tt.data.BucketIterator.splits(\n",
        "    (train, val, test), \n",
        "    batch_size=BATCH_SIZE, \n",
        "    repeat=False, \n",
        "    device=device)"
      ]
    },
    {
      "cell_type": "markdown",
      "id": "6314896c",
      "metadata": {
        "id": "6314896c"
      },
      "source": [
        "Each batch will be a tensor of size `max_length x batch_size`. Let's examine a batch."
      ]
    },
    {
      "cell_type": "code",
      "execution_count": null,
      "id": "c9d903dc",
      "metadata": {
        "id": "c9d903dc"
      },
      "outputs": [],
      "source": [
        "# Get the first batch\n",
        "batch = next(iter(train_iter))\n",
        "\n",
        "# What's its shape? Should be max_length x batch_size.\n",
        "print(f'Shape of batch text tensor: {batch.text.shape}\\n')\n",
        "\n",
        "# Extract the first sentence in the batch, both text and tags\n",
        "first_sentence = batch.text[:, 0]\n",
        "first_tags = batch.tag[:, 0]\n",
        "\n",
        "# Print out the first sentence, as token ids and as text\n",
        "print(\"First sentence in batch\")\n",
        "print(f\"{first_sentence}\")\n",
        "print(f\"{' '.join([TEXT.vocab.itos[i] for i in first_sentence])}\\n\")\n",
        "\n",
        "print(\"First tags in batch\")\n",
        "print(f\"{first_tags}\")\n",
        "print(f\"{[TAG.vocab.itos[i] for i in first_tags]}\")"
      ]
    },
    {
      "cell_type": "markdown",
      "id": "78014cd8",
      "metadata": {
        "id": "78014cd8"
      },
      "source": [
        "The goal of this project is to predict the sequence of tags `batch.tag` given a sequence of words `batch.text`."
      ]
    },
    {
      "cell_type": "markdown",
      "id": "b5892a1a",
      "metadata": {
        "id": "b5892a1a"
      },
      "source": [
        "# Majority class labeling\n",
        "\n",
        "As usual, we can get a sense of the difficulty of the task by looking at a simple baseline, tagging every token with the majority tag. Here's a table of tag frequencies for the most frequent tags:"
      ]
    },
    {
      "cell_type": "code",
      "execution_count": null,
      "id": "944d5ce8",
      "metadata": {
        "id": "944d5ce8"
      },
      "outputs": [],
      "source": [
        "def count_tags(iterator):\n",
        "  tag_counts = torch.zeros(len(TAG.vocab.itos), device=device)\n",
        "\n",
        "  for batch in iterator:\n",
        "    tags = batch.tag.view(-1)\n",
        "    tag_counts.scatter_add_(0, tags, torch.ones(tags.shape).to(device))\n",
        "\n",
        "  ## Alternative untensorized implementation for reference\n",
        "  # for batch in iterator:                # for each batch\n",
        "  #   for sent_id in range(len(batch)):   # ... each sentence in the batch\n",
        "  #     for tag in batch.tag[:, sent_id]: # ... each tag in the sentence\n",
        "  #       tag_counts[tag] += 1            # bump the tag count\n",
        "\n",
        "  # Ignore paddings\n",
        "  tag_counts[TAG.vocab.stoi[TAG.pad_token]] = 0\n",
        "  return tag_counts\n",
        "\n",
        "tag_counts = count_tags(train_iter)\n",
        "\n",
        "for tag_id in range(len(TAG.vocab.itos)):\n",
        "  print(f'{tag_id:3}  {TAG.vocab.itos[tag_id]:30}{tag_counts[tag_id].item():3.0f}')"
      ]
    },
    {
      "cell_type": "markdown",
      "id": "758de818",
      "metadata": {
        "id": "758de818"
      },
      "source": [
        "It looks like the `'O'` (other) tag is, unsurprisingly, the most frequent tag (except for the padding tag). The proportion of tokens labeled with that tag (ignoring the padding tag) gives us a good baseline accuracy for this sequence labeling task. To verify that intuition, we can calculate the accuracy of the majority tag on the test set:"
      ]
    },
    {
      "cell_type": "code",
      "execution_count": null,
      "id": "89a32b9a",
      "metadata": {
        "id": "89a32b9a"
      },
      "outputs": [],
      "source": [
        "tag_counts_test = count_tags(test_iter)\n",
        "majority_baseline_accuracy = (\n",
        "  tag_counts_test[TAG.vocab.stoi['O']] \n",
        "  / tag_counts_test.sum()\n",
        ")\n",
        "print(f'Baseline accuracy: {majority_baseline_accuracy:.3f}')"
      ]
    },
    {
      "cell_type": "markdown",
      "id": "dfa9302c",
      "metadata": {
        "id": "dfa9302c"
      },
      "source": [
        "# HMM for sequence labeling\n",
        "\n",
        "Having established the baseline to beat, we turn to implementing an HMM model.\n",
        "\n",
        "## Notation\n",
        "\n",
        "First, let's start with some notation. We use $\\mathcal{V} = \\langle \\mathcal{V}_1, \\mathcal{V}_2, \\ldots \\mathcal{V}_V \\rangle$ to denote the vocabulary of word types and $Q = \\langle{Q_1, Q_2, \\ldots, Q_N} \\rangle$ to denote the possible tags, which is the state space of the HMM. Thus $V$ is the number of word types in the vocabulary and $N$ is the number of states (tags).\n",
        "\n",
        "We use $\\vect{w} = w_1 \\cdots w_T \\in \\mathcal{V}^T$ to denote the string of words at \"time steps\" $t$ (where $t$ varies from $1$ to $T$). Similarly, $\\vect{q} = q_1 \\cdots q_T \\in Q^T$ denotes the corresponding sequence of states (tags)."
      ]
    },
    {
      "cell_type": "markdown",
      "id": "868cbd27",
      "metadata": {
        "id": "868cbd27"
      },
      "source": [
        "## Training an HMM by counting\n",
        "\n",
        "Recall that an HMM is defined via a transition matrix $A$, which stores the probability of moving from one state $Q_i$ to another $Q_j$, that is, \n",
        "\n",
        "$$A_{ij}=\\Prob(q_{t+1}=Q_j  \\given  q_t=Q_i)$$\n",
        "\n",
        "and an emission matrix $B$, which stores the probability of generating word $\\mathcal{V}_j$ given state $Q_i$, that is, \n",
        "\n",
        "$$B_{ij}= \\Prob(w_t=\\mathcal{V}_j  \\given q_t= Q_i)$$\n",
        "\n",
        "> As is typical in notating probabilities, we'll use abbreviations\n",
        ">\n",
        "\\begin{align}\n",
        "\\Prob(q_{t+1} \\given  q_t) &\\equiv \\Prob(q_{t+1}=Q_j  \\given  q_t=Q_i) \\\\\n",
        "\\Prob(w_t  \\given q_t) &\\equiv \\Prob(w_t=\\mathcal{V}_j  \\given q_t= Q_i)\n",
        "\\end{align}\n",
        ">\n",
        "> where the $i$ and $j$ are clear from context.\n",
        "\n",
        "In our case, since the labels are observed in the training data, we can directly use counting to determine (maximum likelihood) estimates of $A$ and $B$."
      ]
    },
    {
      "cell_type": "markdown",
      "id": "5f9520cd",
      "metadata": {
        "id": "5f9520cd"
      },
      "source": [
        "### Goal 1(a): Find the transition matrix\n",
        "\n",
        "The matrix $A$ contains the transition probabilities: $A_{ij}$ is the probability of moving from state $Q_i$ to state $Q_j$ in the training data, so that $\\sum^{N}_{j = 1 } A_{ij} = 1$ for all $i$. \n",
        "\n",
        "We find these probabilities by counting the number of times state $Q_j$ appears right after state $Q_i$, as a proportion of all of the transitions from $Q_i$.\n",
        "\n",
        "$$\n",
        "A_{ij} = \\frac{\\cnt{Q_i, Q_j} + \\delta}{\\sum_k \\left (\\cnt{Q_i, Q_k}+\\delta \\right)}\n",
        "$$\n",
        "\n",
        "(In the above formula, we also used add-$\\delta$ smoothing.)\n",
        "\n",
        "Using the above definition, implement the method `train_A` in the `HMM` class below, which calculates and returns the $A$ matrix as a tensor of size $N \\times N$.\n",
        "\n",
        "> You'll want to go ahead and implement this part now, and test it below, before moving on to the next goal.\n",
        "\n",
        "> Remember that the training data is being delivered to you batched."
      ]
    },
    {
      "cell_type": "markdown",
      "id": "9ecefdf7",
      "metadata": {
        "id": "9ecefdf7"
      },
      "source": [
        "### Goal 1(b): Find the emission matrix $B$\n",
        "\n",
        "Similar to the transition matrix, the emission matrix contains the emission probabilities such that $B_{ij}$ is probability of word $w_t=\\mathcal{V}_j$ conditioned on state $q_t=Q_i$.\n",
        "\n",
        "We can find this by counting as well.\n",
        "$$\n",
        "B_{ij} = \\frac{\\cnt{Q_i, \\mathcal{V}_j} + \\delta}{\\sum_k \\left (\\cnt{Q_i, \\mathcal{V}_k} + \\delta \\right)}\n",
        "       = \\frac{\\cnt{Q_i, \\mathcal{V}_j} + \\delta}{\\cnt{Q_i} + \\delta V}\n",
        "$$\n",
        "\n",
        "Using the above definitions, implement the `train_B` method in the `HMM` class below, which calculates and returns the $B$ matrix as a tensor of size $N \\times V$.\n",
        "\n",
        "> You'll want to go ahead and implement this part now, and test it below, before moving on to the next goal."
      ]
    },
    {
      "cell_type": "markdown",
      "id": "569f352e",
      "metadata": {
        "id": "569f352e"
      },
      "source": [
        "## Sequence labeling with a trained HMM\n",
        "\n",
        "Now that you're able to train an HMM by estimating the transition matrix $A$ and the emission matrix $B$, you can apply it to the task of labeling a sequence of words $\\vect{w} = w_1 \\cdots w_T$. Our goal is to find the most probable sequence of tags $\\vect{\\hat q} \\in Q^T$ given a sequence of words $\\vect{w} \\in \\mathcal{V}^T$.\n",
        "\n",
        "\\begin{align*}\n",
        "\\vect{\\hat q} &= \\operatorname*{argmax}\\limits_{\\vect{q} \\in Q^T}(\\Prob(\\vect{q} \\given \\vect{w})) \\\\\n",
        "& = \\operatorname*{argmax}_{\\vect{q} \\in Q^T}(\\Prob(\\vect{q},\\vect{w})) \\\\\n",
        "& = \\operatorname*{argmax}_{\\vect{q} \\in Q^T}\\left(\\Pi^{T}_{t = 1} \\Prob(w_{t} \\given q_{t})\\Prob(q_{t} \\given q_{t-1})\\right)\n",
        "\\end{align*}\n",
        "\n",
        "where $\\Prob(w_{t}=\\mathcal{V}_j \\given q_{t}=Q_i) = B_{ij}$, $\\Prob(q_{t}=Q_j \\given q_{t-1}=Q_{i})=A_{ij}$, and $q_0$ is the predefined initial tag `TAG.vocab.stoi[TAG.init_token]`."
      ]
    },
    {
      "cell_type": "markdown",
      "id": "1fc1b8b7",
      "metadata": {
        "id": "1fc1b8b7"
      },
      "source": [
        "### Goal 1(c): Viterbi algorithm\n",
        "\n",
        "Implement the `predict` method, which should use the Viterbi algorithm to find the most likely sequence of tags for a sequence of `words`.\n",
        "\n",
        "> Warning: It may take up to 30 minutes to tag the entire test set depending on your implementation. (A fully tensorized implementation can be much faster though.) We highly recommend that you begin by experimenting with your code using a _very small subset_ of the dataset, say two or three sentences, ramping up from there.\n",
        "\n",
        "> Hint: Consider how to use vectorized computations where possible for speed."
      ]
    },
    {
      "cell_type": "markdown",
      "id": "6df0af98",
      "metadata": {
        "id": "6df0af98"
      },
      "source": [
        "## Evaluation\n",
        "\n",
        "We've provided you with the `evaluate` function, which takes a dataset iterator and uses `predict` on each sentence in each batch, comparing against the gold tags, to determine the accuracy of the model on the test set."
      ]
    },
    {
      "cell_type": "code",
      "execution_count": null,
      "id": "3ca34fbe",
      "metadata": {
        "id": "3ca34fbe"
      },
      "outputs": [],
      "source": [
        "class HMMTagger():\n",
        "  def __init__ (self, text, tag):\n",
        "    self.text = text\n",
        "    self.tag = tag\n",
        "    self.V = len(text.vocab.itos)    # vocabulary size\n",
        "    self.N = len(tag.vocab.itos)     # state space size\n",
        "    self.initial_state_id = tag.vocab.stoi[tag.init_token]\n",
        "    self.pad_state_id = tag.vocab.stoi[tag.pad_token]\n",
        "    self.pad_word_id = text.vocab.stoi[text.pad_token]\n",
        "  \n",
        "  def train_A(self, iterator, delta):\n",
        "    \"\"\"Returns A for training dataset `iterator` using add-`delta` smoothing.\"\"\"\n",
        "    # Create A table\n",
        "    A = torch.zeros(self.N, self.N, device=device)\n",
        "    sum_rows = torch.zeros(self.N, device=device)\n",
        "    for batch in iterator:\n",
        "      for sent_id in range(len(batch)):\n",
        "        tags = batch.tag[:, sent_id]\n",
        "        for i in range(len(tags)-1):\n",
        "            A[tags[i]][tags[i+1]] +=1\n",
        "            if(i!= len(tags)-2):\n",
        "              sum_rows[tags[i]]+=1\n",
        "    A+=delta\n",
        "    sum_rows = sum_rows.reshape(-1, 1)\n",
        "    sum_rows+=self.V*delta\n",
        "    A = A/sum_rows        \n",
        "    return A\n",
        "\n",
        "\n",
        "\n",
        "  def train_B(self, iterator, delta):\n",
        "    \"\"\"Returns B for training dataset `iterator` using add-`delta` smoothing.\"\"\"\n",
        "    B = torch.zeros(self.N, self.V, device=device)\n",
        "    tags_sum = torch.zeros(self.N, device=device)\n",
        "    for batch in iterator:\n",
        "      for sent_id in range(len(batch)):\n",
        "        text = batch.text[:, sent_id]\n",
        "        tags = batch.tag[:, sent_id]\n",
        "        for i in range(len(tags)):\n",
        "            B[tags[i]][text[i]] +=1\n",
        "            tags_sum[tags[i]]+=1\n",
        "    \n",
        "    B+=delta\n",
        "    tags_sum+=self.V*delta\n",
        "    tags_sum = tags_sum.reshape(-1, 1)\n",
        "    B = B/tags_sum\n",
        "    return B\n",
        "\n",
        "  def train_all(self, iterator, delta=0.01):\n",
        "    \"\"\"Stores A and B (actually, their logs) for training dataset `iterator`.\"\"\"\n",
        "    self.log_A = self.train_A(iterator, delta).log()\n",
        "    self.log_B = self.train_B(iterator, delta).log()\n",
        "    \n",
        "  def predict(self, words):\n",
        "    \"\"\"Returns the most likely sequence of tags for a sequence of `words`.\n",
        "    Arguments:\n",
        "      words: a tensor of size (seq_len,)\n",
        "    Returns:\n",
        "      a list of tag ids\n",
        "    \"\"\"\n",
        "    vit_mat = torch.zeros(self.N, len(words), device = device)\n",
        "    prev_mat = torch.zeros(self.N, len(words), device = device)\n",
        "    vit_mat[2,0] = 1\n",
        "    vit_mat[:,0] =torch.log(vit_mat[:,0]) \n",
        "    backpointers = torch.zeros(len(words), device = device)\n",
        "\n",
        "    for word in range(1, len(words)):\n",
        "        for tag in range(self.N):\n",
        "            all_results = vit_mat[:,word-1]+self.log_A[:,tag]\n",
        "            vit_mat[tag][word] = torch.max(all_results).item()+self.log_B[tag][words[word]]\n",
        "            prev_mat[tag][word] = torch.argmax(all_results)\n",
        "\n",
        "\n",
        "    backpointers = torch.zeros(len(words), device=device)\n",
        "    backpointers[len(words)-1] = (torch.argmax(vit_mat[:,len(words)-1])).long()\n",
        "    for i in range(len(words)-2, -1, -1):\n",
        "      backpointers[i] = prev_mat[backpointers[i+1].long()][i+1]\n",
        "\n",
        "    return list(backpointers) \n",
        "\n",
        "\n",
        "\n",
        "\n",
        "  def evaluate(self, iterator):\n",
        "    \"\"\"Returns the model's token accuracy on a given dataset `iterator`.\"\"\"\n",
        "    correct = 0\n",
        "    total = 0\n",
        "    for batch in tqdm(iterator, leave=False):\n",
        "      for sent_id in range(len(batch)):\n",
        "        words = batch.text[:, sent_id]\n",
        "        words = words[words.ne(self.pad_word_id)] # remove paddings\n",
        "        tags_gold = batch.tag[:, sent_id]\n",
        "        tags_pred = self.predict(words)\n",
        "        for tag_gold, tag_pred in zip(tags_gold, tags_pred):\n",
        "          if tag_gold == self.pad_state_id:  # stop once we hit padding\n",
        "            break\n",
        "          else:\n",
        "            total += 1\n",
        "            if tag_pred == tag_gold:\n",
        "              correct += 1\n",
        "    return correct/total"
      ]
    },
    {
      "cell_type": "markdown",
      "id": "6b5c68bf",
      "metadata": {
        "id": "6b5c68bf"
      },
      "source": [
        "Putting everything together, you should now be able to train and evaluate the HMM. A correct implementation can be expected to reach above **90% test set accuracy** after running the following cell."
      ]
    },
    {
      "cell_type": "code",
      "execution_count": null,
      "id": "bb44ae40",
      "metadata": {
        "id": "bb44ae40"
      },
      "outputs": [],
      "source": [
        "# Instantiate and train classifier\n",
        "hmm_tagger = HMMTagger(TEXT, TAG)\n",
        "hmm_tagger.train_all(train_iter)\n",
        "\n",
        "# Evaluate model performance\n",
        "print(f'Training accuracy: {hmm_tagger.evaluate(train_iter):.3f}\\n'\n",
        "      f'Test accuracy:     {hmm_tagger.evaluate(test_iter):.3f}')"
      ]
    },
    {
      "cell_type": "markdown",
      "id": "73b1648b",
      "metadata": {
        "id": "73b1648b"
      },
      "source": [
        "# RNN for Sequence Labeling\n",
        "\n",
        "HMMs work quite well for this sequence labeling task. Now let's take an alternative (and more trendy) approach: RNN/LSTM-based sequence labeling. Similar to the HMM part of this project, you will also need to train a model on the training data, and then use the trained model to decode and evaluate some testing data.\n",
        "\n",
        "<img src=\"https://github.com/nlp-course/data/raw/master/Resources/rnn-unfolded-figure.png\" width=600 align=right />\n",
        "\n",
        "After unfolding an RNN, the cell at time $t$ generates the observed output $\\vect{y}_t$ based on the input $\\vect{x}_t$ and the hidden state of the previous cell $\\vect{h}_{t-1}$, according to the following equations.\n",
        "\n",
        "\\begin{align*}\n",
        "\\vect{h}_t &=  \\sigma(\\vect{U} \\vect{x}_t + \\vect{V} \\vect{h}_{t-1}) \\\\\n",
        "\\vect{\\hat y}_t &= \\softmax(\\vect{W} \\vect{h}_t)\n",
        "\\end{align*}\n",
        "\n",
        "The parameters here are the elements of the matrices $\\vect{U}$, $\\vect{V}$, and $\\vect{W}$. Similar to the last project segment, we will perform the forward computation, calculate the loss, and then perform the backward computation to compute the gradients with respect to these model parameters. Finally, we will adjust the parameters opposite the direction of the gradients to minimize the loss, repeating until convergence.\n",
        "\n",
        "You've seen these kinds of neural network models before, for language modeling in lab 2-3 and sequence labeling in lab 2-5. The code there should be very helpful in implementing an `RNNTagger` class below. Consequently, we've provided very little guidance on the implementation. We do recommend you follow the steps below however."
      ]
    },
    {
      "cell_type": "markdown",
      "id": "9a1c4e9e",
      "metadata": {
        "id": "9a1c4e9e"
      },
      "source": [
        "## Goal 2(a): RNN training\n",
        "\n",
        "Implement the forward pass of the RNN tagger and the loss function. A reasonable way to proceed is to implement the following methods:\n",
        "\n",
        "1. `forward(self, text_batch)`: Performs the RNN forward computation over a whole `text_batch` (`batch.text` in the above data loading example). The `text_batch` will be of shape `max_length x batch_size`. You might run it through the following layers: an embedding layer, which maps each token index to an embedding of size `embedding_size` (so that the size of the mapped batch becomes `max_length x batch_size x embedding_size`); then an RNN, which maps each token embedding to a vector of `hidden_size` (the size of all outputs is `max_length x batch_size x hidden_size`); then a linear layer, which maps each RNN output element to a vector of size $N$ (which is commonly referred to as \"logits\", recall that $N=|Q|$, the size of the tag set).\n",
        "\n",
        "This function is expected to return `logits`, which provides a logit for each tag of each word of each sentence in the batch (structured as a tensor of size `max_length x batch_size x N`). \n",
        "\n",
        "> You might find the following functions useful: \n",
        ">\n",
        "> * [`nn.Embedding`](https://pytorch.org/docs/stable/generated/torch.nn.Embedding.html)\n",
        "> * [`nn.Linear`](https://pytorch.org/docs/stable/generated/torch.nn.Linear.html)\n",
        "> * [`nn.RNN`](https://pytorch.org/docs/stable/generated/torch.nn.RNN.html)\n",
        "\n",
        "2. `compute_loss(self, logits, tags)`: Computes the loss for a batch by comparing `logits` of a batch returned by `forward` to `tags`, which stores the true tag ids for the batch. Thus `logits` is a tensor of size `max_length x batch_size x N`, and `tags` is a tensor of size `max_length x batch_size`. Note that the criterion functions in `torch` expect outputs of a certain shape, so you might need to perform some shape conversions.\n",
        "\n",
        "> You might find [`nn.CrossEntropyLoss`](https://pytorch.org/docs/master/generated/torch.nn.CrossEntropyLoss.html) from the last project segment useful. Note that if you use `nn.CrossEntropyLoss` then you should not use a softmax layer at the end since that's already absorbed into the loss function. Alternatively, you can use [`nn.LogSoftmax`](https://pytorch.org/docs/stable/generated/torch.nn.LogSoftmax.html) as the final sublayer in the forward pass, but then you need to use [`nn.NLLLoss`](https://pytorch.org/docs/stable/generated/torch.nn.NLLLoss.html), which does not contain its own softmax. We recommend the former, since working in log space is usually more numerically stable.\n",
        "\n",
        "> Be careful about the shapes/dimensions of tensors. You might find [`torch.Tensor.view`](https://pytorch.org/docs/stable/tensors.html#torch.Tensor.view) useful for reshaping tensors.\n",
        "\n",
        "3. `train_all(self, train_iter, val_iter, epochs=10, learning_rate=0.001)`: Trains the model on training data generated by the iterator `train_iter` and validation data `val_iter`.The `epochs` and `learning_rate` variables are the number of epochs (number of times to run through the training data) to run for and the learning rate for the optimizer, respectively. You can use the validation data to determine which model was the best one as the epocks go by. Notice that our code below assumes that during training the best model is stored so that `rnn_tagger.load_state_dict(rnn_tagger.best_model)` restores the parameters of the best model."
      ]
    },
    {
      "cell_type": "markdown",
      "id": "ce18b5b7",
      "metadata": {
        "id": "ce18b5b7"
      },
      "source": [
        "## Goal 2(b) RNN decoding\n",
        "\n",
        "Implement a method to predict the tag sequence associated with a sequence of words:\n",
        "\n",
        "1. `predict(self, text_batch)`: Returns the batched predicted tag sequences associated with a batch of sentences.\n",
        "2. `def evaluate(self, iterator)`: Returns the accuracy of the trained tagger on a dataset provided by `iterator`."
      ]
    },
    {
      "cell_type": "code",
      "execution_count": null,
      "id": "1bc758a6",
      "metadata": {
        "id": "1bc758a6"
      },
      "outputs": [],
      "source": [
        "class RNNTagger(nn.Module):\n",
        "  def __init__(self, text, tag, embedding_size, hidden_size):\n",
        "    super().__init__()\n",
        "    self.text = text\n",
        "    self.tag = tag\n",
        "    self.N = len(tag.vocab.itos)   # tag vocab size\n",
        "    self.V = len(text.vocab.itos)  # text vocab size\n",
        "    self.embedding_size = embedding_size\n",
        "    self.hidden_size = hidden_size\n",
        "\n",
        "    # Create essential modules\n",
        "    self.word_embeddings = nn.Embedding(self.V, embedding_size) # Lookup layer\n",
        "    self.rnn = nn.RNN(input_size=embedding_size, \n",
        "                      hidden_size=hidden_size)\n",
        "    self.hidden2output = nn.Linear(hidden_size, self.N)\n",
        "\n",
        "    # Create loss function\n",
        "    pad_id = self.tag.vocab.stoi[self.tag.pad_token]\n",
        "    self.loss_function = nn.CrossEntropyLoss(reduction='sum', ignore_index=pad_id)\n",
        "\n",
        "    # Initialize parameters\n",
        "    self.init_parameters()\n",
        "\n",
        "  def init_parameters(self, init_low=-0.15, init_high=0.15):\n",
        "    for p in self.parameters():\n",
        "      p.data.uniform_(init_low, init_high)\n",
        "\n",
        "  def compute_loss(self, logits, tags):\n",
        "    return self.loss_function(logits.view(-1, self.N), tags.view(-1))\n",
        "\n",
        "  def train_all(self, train_iter, val_iter, epochs=10, learning_rate=0.001):\n",
        "    self.train()\n",
        "    optim = torch.optim.Adam(self.parameters(), lr=learning_rate)\n",
        "    best_validation_accuracy = -float('inf')\n",
        "    best_model = None\n",
        "    for epoch in range(epochs): \n",
        "      total = 0\n",
        "      running_loss = 0.0\n",
        "      for batch in tqdm(train_iter):\n",
        "        self.zero_grad()\n",
        "\n",
        "        words = batch.text \n",
        "        tags = batch.tag \n",
        "        \n",
        "        logits = self.forward(words)\n",
        "        loss = self.compute_loss(logits, tags)\n",
        "        \n",
        "        (loss/words.size(1)).backward()\n",
        "\n",
        "        optim.step()\n",
        "\n",
        "        total += 1\n",
        "        running_loss += loss.item()\n",
        "        \n",
        "      validation_accuracy = self.evaluate(val_iter)\n",
        "      if validation_accuracy > best_validation_accuracy:\n",
        "        best_validation_accuracy = validation_accuracy\n",
        "        self.best_model = copy.deepcopy(self.state_dict())\n",
        "      epoch_loss = running_loss / total\n",
        "      print (f'Epoch: {epoch} Loss: {epoch_loss:.4f} '\n",
        "             f'Validation accuracy: {validation_accuracy:.4f}')\n",
        "\n",
        "\n",
        "  def forward(self, text_batch):\n",
        "    \"\"\"Performs forward, returns logits.\n",
        "    \n",
        "    Arguments: \n",
        "      text_batch: a tensor containing word ids of size (seq_len, 1) \n",
        "    Returns:\n",
        "      logits: a tensor of size (seq_len, 1, self.N)\n",
        "    \"\"\"\n",
        "    word_embeddings = self.word_embeddings(text_batch)\n",
        "\n",
        "    hidden = None\n",
        "    \n",
        "    output, hidden = self.rnn(word_embeddings, hidden)\n",
        "    logits = self.hidden2output(output)\n",
        "    return logits\n",
        "\n",
        "  def predict(self, text_batch):\n",
        "    tag_batch = self.forward(text_batch)\n",
        "    tag_batch = tag_batch.argmax(dim = 2)\n",
        "    return tag_batch\n",
        "  def evaluate(self, iterator):\n",
        "    correct = 0\n",
        "    total = 0\n",
        "    true_positive_comma = 0\n",
        "    predicted_positive_comma = 0\n",
        "    total_positive_comma = 0\n",
        "    pad_id = TAG.vocab.stoi[TAG.pad_token]\n",
        "    for batch in tqdm(iterator):\n",
        "      words = batch.text\n",
        "      tags = batch.tag\n",
        "      tags_pred = self.predict(words)\n",
        "      mask = tags.ne(pad_id)\n",
        "      cor = (tags == tags_pred)[mask]\n",
        "      correct += cor.float().sum().item()\n",
        "      total += mask.float().sum().item()\n",
        "    return correct/total\n"
      ]
    },
    {
      "cell_type": "markdown",
      "id": "ff497156",
      "metadata": {
        "id": "ff497156"
      },
      "source": [
        "Now train your tagger on the training and validation set.\n",
        "Run the cell below to train an RNN, and evaluate it. A proper implementation should reach about **95%+ accuracy**."
      ]
    },
    {
      "cell_type": "code",
      "execution_count": null,
      "id": "f0542af2",
      "metadata": {
        "id": "f0542af2"
      },
      "outputs": [],
      "source": [
        "# Instantiate and train classifier\n",
        "rnn_tagger = RNNTagger(TEXT, TAG, embedding_size=36, hidden_size=36).to(device)\n",
        "rnn_tagger.train_all(train_iter, val_iter, epochs=10, learning_rate=0.001)\n",
        "rnn_tagger.load_state_dict(rnn_tagger.best_model)\n",
        "\n",
        "# Evaluate model performance\n",
        "print(f'Training accuracy: {rnn_tagger.evaluate(train_iter):.3f}\\n'\n",
        "      f'Test accuracy:     {rnn_tagger.evaluate(test_iter):.3f}')"
      ]
    },
    {
      "cell_type": "markdown",
      "id": "dd9aeda7",
      "metadata": {
        "id": "dd9aeda7"
      },
      "source": [
        "# LSTM for slot filling\n",
        "\n",
        "Did your RNN perform better than HMM? How much better was it? Was that expected? \n",
        "\n",
        "RNNs tend to exhibit the [vanishing gradient problem](https://en.wikipedia.org/wiki/Vanishing_gradient_problem). To remedy this, the Long-Short Term Memory (LSTM) model was introduced. In PyTorch, we can simply use [`nn.LSTM`](https://pytorch.org/docs/stable/generated/torch.nn.LSTM.html). \n",
        "\n",
        "In this section, you'll implement an LSTM model for slot filling. If you've got the RNN model well implemented, this should be extremely straightforward. Just copy and paste your solution, change the call to `nn.RNN` to a call to `nn.LSTM`, and make any other minor adjustments that are necessary. In particular, LSTMs have _two_ recurrent parts, `h` and `c`. You'll thus need to initialize both of these when performing forward computations."
      ]
    },
    {
      "cell_type": "code",
      "execution_count": null,
      "id": "a15204bb",
      "metadata": {
        "id": "a15204bb"
      },
      "outputs": [],
      "source": [
        "class LSTMTagger(nn.Module):\n",
        "  def __init__(self, text, tag, embedding_size, hidden_size):\n",
        "    super().__init__()\n",
        "    self.text = text\n",
        "    self.tag = tag\n",
        "    self.N = len(tag.vocab.itos)   \n",
        "    self.V = len(text.vocab.itos)\n",
        "    self.embedding_size = embedding_size\n",
        "    self.hidden_size = hidden_size\n",
        "\n",
        "    \n",
        "    self.word_embeddings = nn.Embedding(self.V, embedding_size) \n",
        "    self.rnn = nn.LSTM(input_size=embedding_size, \n",
        "                      hidden_size=hidden_size)\n",
        "    self.hidden2output = nn.Linear(hidden_size, self.N)\n",
        "\n",
        "    pad_id = self.tag.vocab.stoi[self.tag.pad_token]\n",
        "    self.loss_function = nn.CrossEntropyLoss(reduction='sum', ignore_index=pad_id)\n",
        "\n",
        "    self.init_parameters()\n",
        "\n",
        "  def init_parameters(self, init_low=-0.15, init_high=0.15):\n",
        "    for p in self.parameters():\n",
        "      p.data.uniform_(init_low, init_high)\n",
        "\n",
        "  def compute_loss(self, logits, tags):\n",
        "    return self.loss_function(logits.view(-1, self.N), tags.view(-1))\n",
        "\n",
        "  def train_all(self, train_iter, val_iter, epochs=10, learning_rate=0.001):\n",
        "    self.train()\n",
        "    optim = torch.optim.Adam(self.parameters(), lr=learning_rate)\n",
        "    best_validation_accuracy = -float('inf')\n",
        "    best_model = None\n",
        "    for epoch in range(epochs): \n",
        "      total = 0\n",
        "      running_loss = 0.0\n",
        "      for batch in tqdm(train_iter):\n",
        "        self.zero_grad()\n",
        "\n",
        "        words = batch.text \n",
        "        tags = batch.tag \n",
        "        \n",
        "        logits = self.forward(words)\n",
        "        loss = self.compute_loss(logits, tags)\n",
        "        (loss/words.size(1)).backward()\n",
        "        optim.step()\n",
        "        total += 1\n",
        "        running_loss += loss.item()        \n",
        "      validation_accuracy = self.evaluate(val_iter)\n",
        "      if validation_accuracy > best_validation_accuracy:\n",
        "        best_validation_accuracy = validation_accuracy\n",
        "        self.best_model = copy.deepcopy(self.state_dict())\n",
        "      epoch_loss = running_loss / total\n",
        "      print (f'Epoch: {epoch} Loss: {epoch_loss:.4f} '\n",
        "             f'Validation accuracy: {validation_accuracy:.4f}')\n",
        "\n",
        "\n",
        "  def forward(self, text_batch):\n",
        "    word_embeddings = self.word_embeddings(text_batch)\n",
        "    hidden = torch.zeros(1,text_batch.shape[1], self.hidden_size, device = device)\n",
        "    c= torch.zeros(1,text_batch.shape[1], self.hidden_size, device = device)\n",
        "    output, (hidden,c) = self.rnn(word_embeddings, (hidden, c))\n",
        "    logits = self.hidden2output(output)\n",
        "    return logits\n",
        "\n",
        "  def predict(self, text_batch):\n",
        "    tag_batch = self.forward(text_batch)\n",
        "    tag_batch = tag_batch.argmax(dim = 2)\n",
        "    return tag_batch\n",
        "  def evaluate(self, iterator):\n",
        "    correct = 0\n",
        "    total = 0\n",
        "    true_positive_comma = 0\n",
        "    predicted_positive_comma = 0\n",
        "    total_positive_comma = 0\n",
        "    pad_id = TAG.vocab.stoi[TAG.pad_token]\n",
        "    for batch in tqdm(iterator):\n",
        "      words = batch.text\n",
        "      tags = batch.tag\n",
        "      tags_pred = self.predict(words)\n",
        "      mask = tags.ne(pad_id)\n",
        "      cor = (tags == tags_pred)[mask]\n",
        "      correct += cor.float().sum().item()\n",
        "      total += mask.float().sum().item()\n",
        "    return correct/total"
      ]
    },
    {
      "cell_type": "markdown",
      "id": "b162aef4",
      "metadata": {
        "id": "b162aef4"
      },
      "source": [
        "Run the cell below to train an LSTM, and evaluate it. A proper implementation should reach about **95%+ accuracy**."
      ]
    },
    {
      "cell_type": "code",
      "execution_count": null,
      "id": "980676af",
      "metadata": {
        "id": "980676af"
      },
      "outputs": [],
      "source": [
        "# Instantiate and train classifier\n",
        "lstm_tagger = LSTMTagger(TEXT, TAG, embedding_size=36, hidden_size=36).to(device)\n",
        "lstm_tagger.train_all(train_iter, val_iter, epochs=10, learning_rate=0.001)\n",
        "lstm_tagger.load_state_dict(lstm_tagger.best_model)\n",
        "\n",
        "# Evaluate model performance\n",
        "print(f'Training accuracy: {lstm_tagger.evaluate(train_iter):.3f}\\n'\n",
        "      f'Test accuracy:     {lstm_tagger.evaluate(test_iter):.3f}')"
      ]
    },
    {
      "cell_type": "markdown",
      "id": "088d4111",
      "metadata": {
        "id": "088d4111"
      },
      "source": [
        "# Goal 4: Compare HMM to RNN/LSTM with different amounts of training data\n",
        "\n",
        "Vary the amount of training data and compare the performance of HMM to RNN or LSTM (Since RNN is similar to LSTM, picking one of them is enough.) Discuss the pros and cons of HMM and RNN/LSTM based on your experiments.\n",
        "\n",
        "> This part is more open-ended. We're looking for thoughtful experiments and analysis of the results, not any particular result or conclusion.\n",
        "\n",
        "The code below shows how to subsample the training set with downsample ratio `ratio`. To speedup evaluation we only use 50 test samples."
      ]
    },
    {
      "cell_type": "code",
      "execution_count": null,
      "id": "a037bc02",
      "metadata": {
        "id": "a037bc02"
      },
      "outputs": [],
      "source": [
        "ratio = 0.1\n",
        "test_size = 50\n",
        "\n",
        "# Set random seeds to make sure subsampling is the same for HMM and RNN\n",
        "random.seed(seed)\n",
        "torch.manual_seed(seed)\n",
        "\n",
        "train, val, test = tt.datasets.SequenceTaggingDataset.splits(\n",
        "            fields=fields, \n",
        "            path='./data/', \n",
        "            train='atis.train.txt', \n",
        "            validation='atis.dev.txt',\n",
        "            test='atis.test.txt')\n",
        "\n",
        "# Subsample\n",
        "random.shuffle(train.examples)\n",
        "train.examples = train.examples[:int(math.floor(len(train.examples)*ratio))]\n",
        "random.shuffle(test.examples)\n",
        "test.examples = test.examples[:test_size]\n",
        "\n",
        "# Rebuild vocabulary\n",
        "TEXT.build_vocab(train.text, min_freq=MIN_FREQ)\n",
        "TAG.build_vocab(train.tag)"
      ]
    },
    {
      "cell_type": "code",
      "execution_count": null,
      "id": "4010fb98",
      "metadata": {
        "id": "4010fb98"
      },
      "outputs": [],
      "source": [
        "BATCH_SIZE = 20\n",
        "\n",
        "train_iter, val_iter, test_iter = tt.data.BucketIterator.splits(\n",
        "    (train, val, test), \n",
        "    batch_size=BATCH_SIZE, \n",
        "    repeat=False, \n",
        "    device=device)\n",
        "\n",
        "# Instantiate and train classifier\n",
        "lstm_tagger = LSTMTagger(TEXT, TAG, embedding_size=36, hidden_size=36).to(device)\n",
        "lstm_tagger.train_all(train_iter, test_iter, epochs=100, learning_rate=0.002)\n",
        "lstm_tagger.load_state_dict(lstm_tagger.best_model)\n",
        "\n",
        "# Evaluate model performance\n",
        "print(f'Training accuracy: {lstm_tagger.evaluate(train_iter):.3f}\\n'\n",
        "      f'Test accuracy:     {lstm_tagger.evaluate(test_iter):.3f}')"
      ]
    },
    {
      "cell_type": "code",
      "execution_count": null,
      "id": "70710842",
      "metadata": {
        "id": "70710842"
      },
      "outputs": [],
      "source": [
        "# Instantiate and train classifier\n",
        "rnn_tagger = RNNTagger(TEXT, TAG, embedding_size=36, hidden_size=36).to(device)\n",
        "rnn_tagger.train_all(train_iter, val_iter, epochs=80, learning_rate=0.0015)\n",
        "rnn_tagger.load_state_dict(rnn_tagger.best_model)\n",
        "\n",
        "# Evaluate model performance\n",
        "print(f'Training accuracy: {rnn_tagger.evaluate(train_iter):.3f}\\n'\n",
        "      f'Test accuracy:     {rnn_tagger.evaluate(test_iter):.3f}')"
      ]
    },
    {
      "cell_type": "code",
      "execution_count": null,
      "id": "ba98deb5",
      "metadata": {
        "id": "ba98deb5"
      },
      "outputs": [],
      "source": [
        "# Instantiate and train classifier\n",
        "hmm_tagger = HMMTagger(TEXT, TAG)\n",
        "hmm_tagger.train_all(train_iter)\n",
        "\n",
        "# Evaluate model performance\n",
        "print(f'Training accuracy: {hmm_tagger.evaluate(train_iter):.3f}\\n'\n",
        "      f'Test accuracy:     {hmm_tagger.evaluate(test_iter):.3f}')"
      ]
    },
    {
      "cell_type": "markdown",
      "id": "0a8ba9e0",
      "metadata": {
        "id": "0a8ba9e0"
      },
      "source": [
        "_Type your answer here, replacing this text._"
      ]
    },
    {
      "cell_type": "markdown",
      "id": "6bafdcf0",
      "metadata": {
        "deletable": false,
        "editable": false,
        "id": "6bafdcf0"
      },
      "source": [
        "<!-- BEGIN QUESTION -->\n",
        "\n",
        "# Debrief\n",
        "\n",
        "**Question:** We're interested in any thoughts you have about this project segment so that we can improve it for later years, and to inform later segments for this year. Please list any issues that arose or comments you have to improve the project segment. Useful things to comment on include the following: \n",
        "\n",
        "* Was the project segment clear or unclear? Which portions?\n",
        "* Were the readings appropriate background for the project segment? \n",
        "* Are there additions or changes you think would make the project segment better?\n",
        "\n",
        "<!--\n",
        "BEGIN QUESTION\n",
        "name: open_response_debrief\n",
        "manual: true\n",
        "-->"
      ]
    },
    {
      "cell_type": "markdown",
      "id": "165a63a9",
      "metadata": {
        "id": "165a63a9"
      },
      "source": [
        "_Type your answer here, replacing this text._"
      ]
    },
    {
      "cell_type": "markdown",
      "id": "d9dbcb70",
      "metadata": {
        "id": "d9dbcb70"
      },
      "source": [
        "<!-- END QUESTION -->\n",
        "\n",
        "\n",
        "\n",
        "# Instructions for submission of the project segment\n",
        "\n",
        "This project segment should be submitted to Gradescope at <https://rebrand.ly/project2-submit-code> and <https://rebrand.ly/project2-submit-pdf>, which will be made available some time before the due date.\n",
        "\n",
        "Project segment notebooks are manually graded, not autograded using otter as labs are. (Otter is used within project segment notebooks to synchronize distribution and solution code however.) **We will not run your notebook before grading it.** Instead, we ask that you submit the already freshly run notebook. The best method is to \"restart kernel and run all cells\", allowing time for all cells to be run to completion. You should submit your code to Gradescope at the code submission assignment at <https://rebrand.ly/project2-submit-code>.\n",
        "\n",
        "We also request that you **submit a PDF of the freshly run notebook**. The simplest method is to use \"Export notebook to PDF\", which will render the notebook to PDF via LaTeX. If that doesn't work, the method that seems to be most reliable is to export the notebook as HTML (if you are using Jupyter Notebook, you can do so using `File -> Print Preview`), open the HTML in a browser, and print it to a file. Then make sure to add the file to your git commit. Please name the file the same name as this notebook, but with a `.pdf` extension. (Conveniently, the methods just described will use that name by default.) You can then perform a git commit and push and submit the commit to Gradescope at <https://rebrand.ly/project2-submit-pdf>."
      ]
    }
  ],
  "metadata": {
    "accelerator": "GPU",
    "colab": {
      "collapsed_sections": [],
      "name": "project2_sequence.ipynb",
      "provenance": []
    },
    "kernelspec": {
      "display_name": "Python 3 (ipykernel)",
      "language": "python",
      "name": "python3"
    },
    "language_info": {
      "codemirror_mode": {
        "name": "ipython",
        "version": 3
      },
      "file_extension": ".py",
      "mimetype": "text/x-python",
      "name": "python",
      "nbconvert_exporter": "python",
      "pygments_lexer": "ipython3",
      "version": "3.9.12"
    },
    "title": "CS236299 Project Segment 2: Sequence labeling – The slot filling task"
  },
  "nbformat": 4,
  "nbformat_minor": 5
}