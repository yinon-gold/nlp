{
 "cells": [
  {
   "cell_type": "code",
   "execution_count": 1,
   "id": "0155dfed",
   "metadata": {
    "deletable": false,
    "editable": false,
    "tags": []
   },
   "outputs": [
    {
     "name": "stdout",
     "output_type": "stream",
     "text": [
      "\n"
     ]
    }
   ],
   "source": [
    "# Please do not change this cell because some hidden tests might depend on it.\n",
    "import os\n",
    "\n",
    "# Otter grader does not handle ! commands well, so we define and use our\n",
    "# own function to execute shell commands.\n",
    "def shell(commands, warn=True):\n",
    "    \"\"\"Executes the string `commands` as a sequence of shell commands.\n",
    "     \n",
    "       Prints the result to stdout and returns the exit status. \n",
    "       Provides a printed warning on non-zero exit status unless `warn` \n",
    "       flag is unset.\n",
    "    \"\"\"\n",
    "    file = os.popen(commands)\n",
    "    print (file.read().rstrip('\\n'))\n",
    "    exit_status = file.close()\n",
    "    if warn and exit_status != None:\n",
    "        print(f\"Completed with errors. Exit status: {exit_status}\\n\")\n",
    "    return exit_status\n",
    "\n",
    "shell(\"\"\"\n",
    "ls requirements.txt >/dev/null 2>&1\n",
    "if [ ! $? = 0 ]; then\n",
    " rm -rf .tmp\n",
    " git clone https://github.com/cs236299-2022-spring/project1.git .tmp\n",
    " mv .tmp/requirements.txt ./\n",
    " rm -rf .tmp\n",
    "fi\n",
    "pip install -q -r requirements.txt\n",
    "\"\"\")"
   ]
  },
  {
   "cell_type": "code",
   "execution_count": 2,
   "id": "c6a0bc40",
   "metadata": {
    "deletable": false,
    "editable": false
   },
   "outputs": [],
   "source": [
    "# Initialize Otter\n",
    "import otter\n",
    "grader = otter.Notebook()"
   ]
  },
  {
   "cell_type": "raw",
   "id": "e9b714c9",
   "metadata": {
    "tags": []
   },
   "source": [
    "%%latex\n",
    "\\newcommand{\\vect}[1]{\\mathbf{#1}}\n",
    "\\newcommand{\\cnt}[1]{\\sharp(#1)}\n",
    "\\newcommand{\\argmax}[1]{\\underset{#1}{\\operatorname{argmax}}}\n",
    "\\newcommand{\\softmax}{\\operatorname{softmax}}\n",
    "\\newcommand{\\Prob}{\\Pr}\n",
    "\\newcommand{\\given}{\\,|\\,}"
   ]
  },
  {
   "cell_type": "markdown",
   "id": "fb2f53ef",
   "metadata": {},
   "source": [
    "$$\n",
    "\\renewcommand{\\vect}[1]{\\mathbf{#1}}\n",
    "\\renewcommand{\\cnt}[1]{\\sharp(#1)}\n",
    "\\renewcommand{\\argmax}[1]{\\underset{#1}{\\operatorname{argmax}}}\n",
    "\\renewcommand{\\softmax}{\\operatorname{softmax}}\n",
    "\\renewcommand{\\Prob}{\\Pr}\n",
    "\\renewcommand{\\given}{\\,|\\,}\n",
    "$$"
   ]
  },
  {
   "cell_type": "markdown",
   "id": "12e07e2e",
   "metadata": {
    "colab_type": "text",
    "tags": [
     "remove_for_latex"
    ]
   },
   "source": [
    "# Course 236299\n",
    "\n",
    "## Project segment 1: Text classification\n",
    "\n",
    "In this project segment you will build several varieties of text classifiers using PyTorch.\n",
    "\n",
    "1. A majority baseline.\n",
    "2. A naive Bayes classifer.\n",
    "3. A logistic regression (single-layer perceptron) classifier.\n",
    "4. A multilayer perceptron classifier."
   ]
  },
  {
   "cell_type": "markdown",
   "id": "509760dc",
   "metadata": {},
   "source": [
    "# Preparation"
   ]
  },
  {
   "cell_type": "code",
   "execution_count": 3,
   "id": "65827ad8",
   "metadata": {
    "deletable": false,
    "editable": false
   },
   "outputs": [],
   "source": [
    "import copy\n",
    "import re\n",
    "import wget\n",
    "import torch\n",
    "import torch.nn as nn\n",
    "import torchtext.legacy as tt\n",
    "\n",
    "from collections import Counter\n",
    "from torch import optim\n",
    "from tqdm.auto import tqdm"
   ]
  },
  {
   "cell_type": "code",
   "execution_count": 4,
   "id": "22a75c6f",
   "metadata": {
    "colab": {},
    "colab_type": "code"
   },
   "outputs": [
    {
     "name": "stdout",
     "output_type": "stream",
     "text": [
      "cpu\n"
     ]
    }
   ],
   "source": [
    "# Random seed\n",
    "random_seed = 1234\n",
    "torch.manual_seed(random_seed)\n",
    "\n",
    "## GPU check\n",
    "device = torch.device(\"cuda\" if torch.cuda.is_available() else \"cpu\")\n",
    "print(device)"
   ]
  },
  {
   "cell_type": "markdown",
   "id": "3bb918a4",
   "metadata": {
    "colab_type": "text"
   },
   "source": [
    "# The task: Answer types for ATIS queries\n",
    "\n",
    "For this and future project segments, you will be working with a standard natural-language-processing dataset, the [ATIS (Airline Travel Information System) dataset](https://www.kaggle.com/siddhadev/atis-dataset-from-ms-cntk). This dataset is composed of queries about flights – their dates, times, locations, airlines, and the like.\n",
    "\n",
    "Over the years, the dataset has been annotated in all kinds of ways, with parts of speech, informational chunks, parse trees, and even corresponding SQL database queries. You'll use various of these annotations in future assignments. For this project segment, however, you'll pursue an easier classification task: **given a query, predict the answer type**.\n",
    "\n",
    "These queries ask for different types of answers, such as\n",
    "\n",
    "* Flight IDs: \"Show me the flights from Washington to Boston\"\n",
    "* Fares: \"How much is the cheapest flight to Milwaukee\"\n",
    "* City names: \"Where does flight 100 fly to?\"\n",
    "\n",
    "In all, there are some 30 answer types to the queries.\n",
    "\n",
    "Below is an example taken from this dataset:\n",
    "\n",
    "_Query:_\n",
    "\n",
    "```\n",
    "show me the afternoon flights from washington to boston\n",
    "```\n",
    "\n",
    "_SQL:_\n",
    "\n",
    "```\n",
    "SELECT DISTINCT flight_1.flight_id FROM flight flight_1 , airport_service airport_service_1 , city city_1 , airport_service airport_service_2 , city city_2 \n",
    "   WHERE flight_1.departure_time BETWEEN 1200 AND 1800 \n",
    "     AND ( flight_1.from_airport = airport_service_1.airport_code \n",
    "           AND airport_service_1.city_code = city_1.city_code \n",
    "           AND city_1.city_name = 'WASHINGTON' \n",
    "           AND flight_1.to_airport = airport_service_2.airport_code \n",
    "           AND airport_service_2.city_code = city_2.city_code \n",
    "           AND city_2.city_name = 'BOSTON' )\n",
    "```\n",
    "\n",
    "In this project segment, we will consider the answer type for a natural-language query to be the target field of the corresponding SQL query. For the above example, the answer type would be *flight_id*."
   ]
  },
  {
   "cell_type": "markdown",
   "id": "b92b29cd",
   "metadata": {
    "colab_type": "text"
   },
   "source": [
    "## Loading and preprocessing the data\n",
    "\n",
    "> Read over this section, executing the cells, and **making sure you understand what's going on before proceeding to the next parts.**\n",
    "\n",
    "First, let's download the dataset."
   ]
  },
  {
   "cell_type": "code",
   "execution_count": 5,
   "id": "cb993eab",
   "metadata": {
    "colab": {},
    "colab_type": "code"
   },
   "outputs": [
    {
     "name": "stdout",
     "output_type": "stream",
     "text": [
      "100% [............................................................................] 250477 / 250477"
     ]
    }
   ],
   "source": [
    "data_dir = \"https://raw.githubusercontent.com/nlp-236299/data/master/ATIS/\"\n",
    "os.makedirs('data', exist_ok=True)\n",
    "for file in [\"train.nl\",\n",
    "             \"train.sql\",\n",
    "             \"dev.nl\",\n",
    "             \"dev.sql\",\n",
    "             \"test.nl\",\n",
    "             \"test.sql\"]:\n",
    "    wget.download(f\"{data_dir}{file}\", out='data/')"
   ]
  },
  {
   "cell_type": "markdown",
   "id": "bc27f349",
   "metadata": {
    "colab_type": "text"
   },
   "source": [
    "We use `torchtext` to prepare the data, as in lab 1-5. More information on `torchtext` can be found at https://pytorch.org/text/0.8.1/data.html.\n",
    "\n",
    "> You'll notice that we link to version 0.8.1 of the PyTorch documentation, because the `torchtext.data.Field` class is now deprecated. We therefore imported it as `torchtext.legacy` at the top of this notebook. Sadly, torchtext has no convenient replacement for `Field` at the moment.\n",
    "\n",
    "To begin, `torchtext` requires that we define a mapping from the raw data to featurized indices, called a [`Field`](https://torchtext.readthedocs.io/en/latest/data.html#fields). We need one field for processing the question (`TEXT`), and another for processing the label (`LABEL`). These fields make it easy to map back and forth between readable data and lower-level representations like numbers."
   ]
  },
  {
   "cell_type": "code",
   "execution_count": 6,
   "id": "302b8829",
   "metadata": {
    "colab": {},
    "colab_type": "code"
   },
   "outputs": [],
   "source": [
    "TEXT = tt.data.Field(lower=True,            # lowercase all tokens\n",
    "                     sequential=True,       # sequential data\n",
    "                     include_lengths=False, # do not include lengths\n",
    "                     batch_first=True,      # batches will be batch_size X max_len\n",
    "                     tokenize=tt.data.get_tokenizer(\"basic_english\")) \n",
    "LABEL = tt.data.Field(batch_first=True, sequential=False, unk_token=None)"
   ]
  },
  {
   "cell_type": "markdown",
   "id": "3fb864e0",
   "metadata": {
    "colab_type": "text"
   },
   "source": [
    "We provide an interface for loading ATIS data, built on top of [`torchtext.data.Dataset`](https://pytorch.org/text/data.html#torchtext.data.Dataset). "
   ]
  },
  {
   "cell_type": "code",
   "execution_count": 7,
   "id": "44a57f58",
   "metadata": {
    "colab": {},
    "colab_type": "code"
   },
   "outputs": [],
   "source": [
    "class ATIS(tt.data.Dataset):\n",
    "  @staticmethod\n",
    "  def sort_key(ex):\n",
    "    return len(ex.text)\n",
    "\n",
    "  def __init__(self, path, text_field, label_field, **kwargs):\n",
    "    \"\"\"Creates an ATIS dataset instance given a path and fields.\n",
    "    Arguments:\n",
    "        path: Path to the data file\n",
    "        text_field: The field that will be used for text data.\n",
    "        label_field: The field that will be used for label data.\n",
    "        Remaining keyword arguments: Passed to the constructor of\n",
    "            tt.data.Dataset.\n",
    "    \"\"\"\n",
    "    fields = [('text', text_field), ('label', label_field)]\n",
    "    \n",
    "    examples = []\n",
    "    # Get text\n",
    "    with open(path+'.nl', 'r') as f:\n",
    "        for line in f:\n",
    "            ex = tt.data.Example()\n",
    "            ex.text = text_field.preprocess(line.strip()) \n",
    "            examples.append(ex)\n",
    "    \n",
    "    # Get labels\n",
    "    with open(path+'.sql', 'r') as f:\n",
    "        for i, line in enumerate(f):\n",
    "            label = self._get_label_from_query(line.strip())\n",
    "            examples[i].label = label\n",
    "            \n",
    "    super(ATIS, self).__init__(examples, fields, **kwargs)\n",
    "  \n",
    "  def _get_label_from_query(self, query):\n",
    "    \"\"\"Returns the answer type from `query` by dead reckoning.\n",
    "    It's basically the second or third token in the SQL query.\n",
    "    \"\"\"    \n",
    "    match = re.match(r'\\s*SELECT\\s+(DISTINCT\\s*)?(\\w+\\.)?(?P<label>\\w+)', query)\n",
    "    if match:\n",
    "        label = match.group('label')\n",
    "    else:\n",
    "        raise RuntimeError(f'no label in query {query}')\n",
    "    return label\n",
    "\n",
    "  @classmethod\n",
    "  def splits(cls, text_field, label_field, path='./',\n",
    "              train='train', validation='dev', test='test',\n",
    "              **kwargs):\n",
    "    \"\"\"Create dataset objects for splits of the ATIS dataset.\n",
    "    \n",
    "    Arguments:\n",
    "        text_field: The field that will be used for the sentence.\n",
    "        label_field: The field that will be used for label data.\n",
    "        root: The root directory that the dataset's zip archive will be\n",
    "            expanded into; therefore the directory in whose trees\n",
    "            subdirectory the data files will be stored.\n",
    "        train: The filename of the train data. Default: 'train.txt'.\n",
    "        validation: The filename of the validation data, or None to not\n",
    "            load the validation set. Default: 'dev.txt'.\n",
    "        test: The filename of the test data, or None to not load the test\n",
    "            set. Default: 'test.txt'.\n",
    "        Remaining keyword arguments: Passed to the splits method of\n",
    "            Dataset.\n",
    "    \"\"\"\n",
    "\n",
    "    train_data = None if train is None else cls(\n",
    "        os.path.join(path, train), text_field, label_field, **kwargs)\n",
    "    val_data = None if validation is None else cls(\n",
    "        os.path.join(path, validation), text_field, label_field, **kwargs)\n",
    "    test_data = None if test is None else cls(\n",
    "        os.path.join(path, test), text_field, label_field, **kwargs)\n",
    "    return tuple(d for d in (train_data, val_data, test_data)\n",
    "                   if d is not None)"
   ]
  },
  {
   "cell_type": "markdown",
   "id": "10fefe02",
   "metadata": {
    "colab_type": "text"
   },
   "source": [
    "We split the data into training, validation, and test corpora, and build the vocabularies from the training data."
   ]
  },
  {
   "cell_type": "code",
   "execution_count": 8,
   "id": "3415bee8",
   "metadata": {
    "colab": {},
    "colab_type": "code"
   },
   "outputs": [
    {
     "name": "stdout",
     "output_type": "stream",
     "text": [
      "Size of vocab: 512\n",
      "Number of labels: 30\n"
     ]
    }
   ],
   "source": [
    "# Make splits for data\n",
    "train_data, val_data, test_data = ATIS.splits(TEXT, LABEL, path='./data/')\n",
    "\n",
    "# Build vocabulary for data fields\n",
    "MIN_FREQ = 3 # words appearing fewer than 3 times are treated as 'unknown'\n",
    "TEXT.build_vocab(train_data, min_freq=MIN_FREQ)\n",
    "LABEL.build_vocab(train_data)\n",
    "\n",
    "# Compute size of vocabulary\n",
    "vocab_size = len(TEXT.vocab.itos)\n",
    "num_labels = len(LABEL.vocab.itos)\n",
    "print(f\"Size of vocab: {vocab_size}\")\n",
    "print(f\"Number of labels: {num_labels}\")"
   ]
  },
  {
   "cell_type": "markdown",
   "id": "68976403",
   "metadata": {},
   "source": [
    "To get a sense of the kinds of things that are asked about in this dataset, here is the list of all of the answer types in the training data."
   ]
  },
  {
   "cell_type": "code",
   "execution_count": 9,
   "id": "3d50b720",
   "metadata": {},
   "outputs": [
    {
     "name": "stdout",
     "output_type": "stream",
     "text": [
      " 0 advance_purchase\n",
      " 1 aircraft_code\n",
      " 2 airline_code\n",
      " 3 airport_code\n",
      " 4 airport_location\n",
      " 5 arrival_time\n",
      " 6 basic_type\n",
      " 7 booking_class\n",
      " 8 city_code\n",
      " 9 city_name\n",
      "10 count\n",
      "11 day_name\n",
      "12 departure_time\n",
      "13 fare_basis_code\n",
      "14 fare_id\n",
      "15 flight_id\n",
      "16 flight_number\n",
      "17 ground_fare\n",
      "18 meal_code\n",
      "19 meal_description\n",
      "20 miles_distant\n",
      "21 minimum_connect_time\n",
      "22 minutes_distant\n",
      "23 restriction_code\n",
      "24 state_code\n",
      "25 stop_airport\n",
      "26 stops\n",
      "27 time_elapsed\n",
      "28 time_zone_code\n",
      "29 transport_type\n"
     ]
    }
   ],
   "source": [
    "for i, label in enumerate(sorted(LABEL.vocab.itos)):\n",
    "    print(f\"{i:2d} {label}\") "
   ]
  },
  {
   "cell_type": "markdown",
   "id": "ac5ad70f",
   "metadata": {
    "colab_type": "text"
   },
   "source": [
    "## Handling unknown words\n",
    "\n",
    "Note that we mapped words appearing fewer than 3 times to a special _unknown_ token (we're using the `torchtext` default, `<unk>`) for two reasons: \n",
    "\n",
    "1. Due to the scarcity of such rare words in training data, we might not be able to learn generalizable conclusions about them.\n",
    "2. Introducing an unknown token allows us to deal with out-of-vocabulary words in the test data as well: we just map those words to `<unk>`."
   ]
  },
  {
   "cell_type": "code",
   "execution_count": 10,
   "id": "7d3fdfeb",
   "metadata": {
    "colab": {},
    "colab_type": "code"
   },
   "outputs": [
    {
     "name": "stdout",
     "output_type": "stream",
     "text": [
      "Unknown token: <unk>\n",
      "Unknown token id: 0\n",
      "An unknown token: IAmAnUnknownWordForSure\n",
      "Mapped back to word id: 0\n",
      "Mapped to <unk>?: True\n"
     ]
    }
   ],
   "source": [
    "unk_token = TEXT.unk_token\n",
    "print (f\"Unknown token: {unk_token}\")\n",
    "unk_index = TEXT.vocab.stoi[unk_token]\n",
    "print (f\"Unknown token id: {unk_index}\")\n",
    "\n",
    "# UNK example\n",
    "example_unk_token = 'IAmAnUnknownWordForSure'\n",
    "print (f\"An unknown token: {example_unk_token}\")\n",
    "print (f\"Mapped back to word id: {TEXT.vocab.stoi[example_unk_token]}\")\n",
    "print (f\"Mapped to <unk>?: {TEXT.vocab.stoi[example_unk_token] == unk_index}\")"
   ]
  },
  {
   "cell_type": "markdown",
   "id": "8693b075",
   "metadata": {
    "colab_type": "text"
   },
   "source": [
    "## Batching the data\n",
    "\n",
    "To load data in batches, we use `data.BucketIterator`. This enables us to iterate over the dataset under a given `BATCH_SIZE` which specifies how many examples we want to process at a time."
   ]
  },
  {
   "cell_type": "code",
   "execution_count": 11,
   "id": "5eaf394d",
   "metadata": {
    "colab": {},
    "colab_type": "code"
   },
   "outputs": [],
   "source": [
    "BATCH_SIZE = 32\n",
    "train_iter = tt.data.BucketIterator(train_data, batch_size=BATCH_SIZE, device=device)\n",
    "val_iter = tt.data.BucketIterator(val_data, batch_size=BATCH_SIZE, device=device)\n",
    "test_iter = tt.data.Iterator(test_data, batch_size=BATCH_SIZE, sort=False, device=device)"
   ]
  },
  {
   "cell_type": "markdown",
   "id": "2e6ed3df",
   "metadata": {
    "colab_type": "text"
   },
   "source": [
    "Let's look at a single batch from one of these iterators."
   ]
  },
  {
   "cell_type": "code",
   "execution_count": 12,
   "id": "2d6ff5df",
   "metadata": {
    "colab": {},
    "colab_type": "code"
   },
   "outputs": [
    {
     "name": "stdout",
     "output_type": "stream",
     "text": [
      "Size of text batch: torch.Size([32, 24])\n",
      "Third sentence in batch: tensor([29,  5,  4,  3, 22,  2, 23,  1,  1,  1,  1,  1,  1,  1,  1,  1,  1,  1,\n",
      "         1,  1,  1,  1,  1,  1])\n",
      "Converted back to string: list the flights from dallas to baltimore <pad> <pad> <pad> <pad> <pad> <pad> <pad> <pad> <pad> <pad> <pad> <pad> <pad> <pad> <pad> <pad> <pad>\n",
      "Size of label batch: torch.Size([32])\n",
      "Third label in batch: 0\n",
      "Converted back to string: flight_id\n"
     ]
    }
   ],
   "source": [
    "batch = next(iter(train_iter))\n",
    "text = batch.text\n",
    "print (f\"Size of text batch: {text.size()}\")\n",
    "print (f\"Third sentence in batch: {text[2]}\")\n",
    "print (f\"Converted back to string: {' '.join([TEXT.vocab.itos[i] for i in text[2]])}\")\n",
    "\n",
    "label = batch.label\n",
    "print (f\"Size of label batch: {label.size()}\")\n",
    "print (f\"Third label in batch: {label[2]}\")\n",
    "print (f\"Converted back to string: {LABEL.vocab.itos[label[2].item()]}\")"
   ]
  },
  {
   "cell_type": "markdown",
   "id": "fe7816f0",
   "metadata": {
    "colab_type": "text"
   },
   "source": [
    "You might notice some padding tokens `<pad>` when we convert word ids back to strings, or equivalently, padding ids `1` in the corresponding tensor. The reason why we need such padding is because the sentences in a batch might be of different lengths, and to save them in a 2D tensor for parallel processing, sentences that are shorter than the longest sentence need to be padded with some placeholder values. `torchtext` does all this for us automatically. Later during training you'll need to make sure that the paddings do not affect the final results."
   ]
  },
  {
   "cell_type": "code",
   "execution_count": 13,
   "id": "8f7ce843",
   "metadata": {
    "colab": {},
    "colab_type": "code"
   },
   "outputs": [
    {
     "name": "stdout",
     "output_type": "stream",
     "text": [
      "Padding token: <pad>\n",
      "Padding word id: 1\n"
     ]
    }
   ],
   "source": [
    "padding_token = TEXT.pad_token\n",
    "print (f\"Padding token: {padding_token}\")\n",
    "\n",
    "padding_id = TEXT.vocab.stoi[padding_token]\n",
    "print (f\"Padding word id: {padding_id}\")"
   ]
  },
  {
   "cell_type": "markdown",
   "id": "390ef969",
   "metadata": {
    "colab_type": "text"
   },
   "source": [
    "Alternatively, we can also directly iterate over the individual examples in `train_data`, `val_data` and `test_data`. Here the returned values are the raw sentences and labels instead of their corresponding ids, and you might need to explicitly deal with the unknown words, unlike using bucket iterators which automatically map unknown words to an unknown word id."
   ]
  },
  {
   "cell_type": "code",
   "execution_count": 14,
   "id": "9379f64f",
   "metadata": {
    "colab": {},
    "colab_type": "code"
   },
   "outputs": [
    {
     "name": "stdout",
     "output_type": "stream",
     "text": [
      "flight_id  -- list all the flights that arrive at general mitchell international from various cities\n",
      "flight_id  -- give me the flights leaving denver august ninth coming back to boston\n",
      "flight_id  -- what flights from tacoma to orlando on saturday\n",
      "fare_id    -- what is the most expensive one way fare from boston to atlanta on american airlines\n",
      "flight_id  -- what flights return from denver to philadelphia on a saturday\n"
     ]
    }
   ],
   "source": [
    "for example in train_iter.dataset[:5]: # train_iter.dataset is just train_data\n",
    "  print(f\"{example.label:10} -- {' '.join(example.text)}\")"
   ]
  },
  {
   "cell_type": "markdown",
   "id": "eeec5914",
   "metadata": {},
   "source": [
    "## Notations used\n",
    "\n",
    "In this project segment, we'll use the following notations.\n",
    "\n",
    "* Sequences of elements (vectors and the like) are written with angle brackets and commas ($\\langle w_1, \\ldots, w_M \\rangle$) or directly with no punctuation ($w_1 \\cdots w_M$).\n",
    "* Sets are notated similarly but with braces, ($\\{ v_1, \\ldots, v_V \\}$).\n",
    "* Maximum indices ($M$, $N$, $V$, $T$, and $X$ in the following) are written as uppercase italics.\n",
    "* Variables over sequences and sets are written in boldface ($\\vect{w}$), typically with the same letter as the variables over their elements.\n",
    "\n",
    "In particular,\n",
    "\n",
    "* $\\vect{w} = w_1 \\cdots w_M$: A text to be classified, each element $w_j$ being a word token.\n",
    "* $\\vect{v} = \\{ v_1, \\ldots, v_V\\}$: A vocabulary, each element $v_k$ being a word type.\n",
    "* $\\vect{x} = \\langle x_1, \\ldots, x_X \\rangle$: Input features to a model.\n",
    "* $\\vect{y} = \\{ y_1, \\ldots, y_N \\}$: The output classes of a model, each element $y_i$ being a class label.\n",
    "* $\\vect{T} = \\langle \\vect{w}^{(1)}, \\ldots, \\vect{w}^{(T)} \\rangle$: The training corpus of texts.\n",
    "* $\\vect{Y} = \\langle y^{(1)}, \\ldots, y^{(T)} \\rangle$: The corresponding gold labels for the training examples in $T$."
   ]
  },
  {
   "cell_type": "markdown",
   "id": "0175ee8e",
   "metadata": {
    "colab_type": "text"
   },
   "source": [
    "# To Do: Establish a majority baseline\n",
    "\n",
    "A simple baseline for classification tasks is to always predict the most common class. \n",
    "Given a training set of texts $\\vect{T}$ labeled by classes $\\vect{Y}$, we classify an input text $\\vect{w} = w_1 \\cdots w_M$ as the class $y_i$ that occurs most frequently in the training data, that is, specified by\n",
    "\n",
    "$$ \\argmax{i} \\cnt{y_i} $$\n",
    "\n",
    "and thus ignoring the input entirely (!).\n",
    "\n",
    "**Implement the majority baseline and compute test accuracy using the starter code below.** For this baseline, and for the naive Bayes classifier later, we don't need to use the validation set since we don't tune any hyper-parameters."
   ]
  },
  {
   "cell_type": "markdown",
   "id": "bdb33a08",
   "metadata": {},
   "source": [
    "> We encourage you to write simple solutions throughout this project. Make sure to write clear and understandable code. In most cases, you will need no more than 5 to 10 lines of code to implement the solution."
   ]
  },
  {
   "cell_type": "code",
   "execution_count": 15,
   "id": "234f786e",
   "metadata": {
    "colab": {},
    "colab_type": "code"
   },
   "outputs": [],
   "source": [
    "# TODO\n",
    "def majority_baseline_accuracy(train_iter, test_iter):\n",
    "  \"\"\"Returns the most common label in the training set, and the accuracy of\n",
    "     the majority baseline on the test set.\n",
    "  \"\"\"\n",
    "  train_labels = [ex.label for ex in train_iter.dataset]\n",
    "  most_common_label = Counter(train_labels).most_common(1)[0][0]\n",
    "  test_labels = [ex.label for ex in test_iter.dataset]\n",
    "  test_accuracy = len([ex_label for ex_label in test_labels if ex_label==most_common_label]) / len(test_labels)\n",
    "  return most_common_label, test_accuracy"
   ]
  },
  {
   "cell_type": "markdown",
   "id": "9188b058",
   "metadata": {},
   "source": [
    "How well does your classifier work? Let's see:"
   ]
  },
  {
   "cell_type": "code",
   "execution_count": 16,
   "id": "7f0c93fe",
   "metadata": {
    "colab": {},
    "colab_type": "code"
   },
   "outputs": [
    {
     "name": "stdout",
     "output_type": "stream",
     "text": [
      "Most common label: flight_id\n",
      "Test accuracy:     0.683\n"
     ]
    }
   ],
   "source": [
    "# Call the method to establish a baseline\n",
    "most_common_label, test_accuracy = majority_baseline_accuracy(train_iter, test_iter)\n",
    "\n",
    "print(f'Most common label: {most_common_label}\\n'\n",
    "      f'Test accuracy:     {test_accuracy:.3f}')"
   ]
  },
  {
   "cell_type": "markdown",
   "id": "3a8418ad",
   "metadata": {
    "colab_type": "text"
   },
   "source": [
    "# To Do: Implement a Naive Bayes classifier\n",
    "\n",
    "\n",
    "## Review of the naive Bayes method\n",
    "\n",
    "Recall from lab 1-3 that the Naive Bayes classification method classifies a text $\\vect{w} = \\langle w_1, w_2, \\ldots, w_M \\rangle$ as the class $y_i$ given by the following maximization:\n",
    "\n",
    "$$\n",
    "\\argmax{i} \\Prob(y_i \\given \\vect{w}) \\approx \\argmax{i} \\Prob(y_i) \\cdot \\prod_{j=1}^M \\Prob(w_j \\given y_i)\n",
    "$$\n",
    "\n",
    "or equivalently (since taking the log is monotonic)\n",
    "\n",
    "\\begin{align}\n",
    "\\argmax{i} \\Prob(y_i \\given \\vect{w}) &= \\argmax{i} \\log\\Prob(y_i \\given \\vect{w}) \\\\\n",
    "&\\approx \\argmax{i} \\left(\\log\\Prob(y_i) + \\sum_{j=1}^M \\log\\Prob(w_j \\given y_i)\\right)\n",
    "\\end{align}\n",
    "\n",
    "All we need, then, to apply the Naive Bayes classification method is values for the various log probabilities: the priors $\\log\\Prob(y_i)$ and the likelihoods $\\log\\Prob(w_j \\given y_i)$, for each feature (word) $w_j$ and each class $y_i$.\n",
    "\n",
    "We can estimate the prior probabilities $\\Prob(y_i)$ by examining the empirical probability in the training set. That is, we estimate \n",
    "\n",
    "$$ \\Prob(y_i) \\approx \\frac{\\cnt{y_i}}{\\sum_j \\cnt{y_j}} $$\n",
    "\n",
    "We can estimate the likelihood probabilities $\\Prob(w_j \\given y_i)$ similarly by examining the empirical probability in the training set. That is, we estimate \n",
    "\n",
    "$$ \\Prob(w_j \\given y_i) \\approx \\frac{\\cnt{w_j, y_i}}{\\sum_{j'} \\cnt{w_{j'}, y_i}} $$\n",
    "\n",
    "To allow for cases in which the count $\\cnt{w_j, y_i}$ is zero, we can use a modified estimate incorporating add-$\\delta$ smoothing:\n",
    "\n",
    "$$ \\Prob(w_j \\given y_i) \\approx \\frac{\\cnt{w_j, y_i} + \\delta}{\\sum_{j'} \\cnt{w_{j'}, y_i} + \\delta \\cdot V} $$"
   ]
  },
  {
   "cell_type": "markdown",
   "id": "0b71ca1f",
   "metadata": {
    "colab_type": "text"
   },
   "source": [
    "## Two conceptions of the naive Bayes method implementation\n",
    "\n",
    "We can store all of these parameters in different ways, leading to two different implementation conceptions. We review two conceptions of implementing the naive Bayes classification of a text $\\vect{w} = \\langle w_1, w_2, \\ldots, w_M \\rangle$, corresponding to using different representations of the input $\\vect{x}$ to the model: the index representation and the bag-of-words representation. \n",
    "\n",
    "Within each conception, the parameters of the model will be stored in one or more matrices. The conception dictates what operations will be performed with these matrices.\n",
    "\n",
    "### Using the index representation\n",
    "\n",
    "In the first conception, we take the input elements $\\vect{x} = \\langle x_1, x_2, \\ldots, x_M \\rangle$ to be the _vocabulary indices_ of the words $\\vect{w} = w_1 \\cdots w_M$. That is, each word token $w_i$ is of the word type in the vocabulary $\\vect{v}$ at index $x_i$, so \n",
    "\n",
    "$$ v_{x_i} = w_i $$\n",
    "\n",
    "In this representation, the input vector has the same length as the word sequence.\n",
    "\n",
    "We think of the likelihood probabilities as forming a matrix, call it $\\vect{L}$, where the $i,j$-th element stores $\\log \\Prob(v_j \\given y_i)$. \n",
    "\n",
    "$$\\vect{L}_{ij} = \\log\\Prob(v_j \\given y_i)$$\n",
    "\n",
    "Similarly, for the priors, we'll have \n",
    "\n",
    "$$\\vect{P}_{i} = \\log\\Prob(y_i)$$\n",
    "\n",
    "Now the maximization can be implemented as \n",
    "\n",
    "\\begin{align}\n",
    "\\argmax{i} \\log\\Prob(y_i) + \\sum_{j=1}^M \\log\\Prob(w_j \\given y_i)\n",
    "&= \\argmax{i} \\vect{P}_i + \\sum_{j=1}^M \\vect{L}_{i, x_j}\n",
    "\\end{align}\n",
    "\n",
    "Implemented in this way, we see that the use of each input $x_i$ is as an _index_ into the likelihood matrix. \n",
    "\n",
    "### Using the bag-of-words representation\n",
    "\n",
    "<img src=\"https://github.com/nlp-course/data/raw/master/Resources/naive-bayes-figure.png\" width=400 align=right />\n",
    "\n",
    "Notice that since each word in the input is treated separately, the order of the words doesn't matter. Rather, all that matters is how frequently each word type occurs in a text. Consequently, we can use the bag-of-words representation introduced in lab 1-1.\n",
    "\n",
    "Recall that the bag-of-words representation of a text is just its frequency distribution over the vocabulary, which we will notate $bow(\\vect{w})$. Given a vocabulary of word types $\\vect{v} = \\langle v_1, v_2, \\ldots, v_V \\rangle$, the representation of a sentence $\\vect{w} = \\langle w_1, w_2, \\ldots, w_M \\rangle$ is a vector $\\vect{x}$ of size $V$, where \n",
    "\n",
    "$$\\begin{aligned}\n",
    "bow(\\vect{w})_j &= \\sum_{i=1}^M 1[w_i = v_j] & \\mbox{for $1 \\leq j \\leq V$}\n",
    "\\end{aligned}$$\n",
    "\n",
    "We write $1[w_i = v_j]$ to indicate 1 if $w_i = v_j$ and 0 otherwise. For convenience, we'll add an extra $(V+1)$-st element to the end of the bag-of-words vector, a single $1$ whose use will be clear shortly. That is,\n",
    "\n",
    "$$bow(\\vect{w})_{V+1} = 1$$\n",
    "\n",
    "Under this conception, then, we'll take the input $\\vect{x}$ to be $bow(\\vect{w})$. Instead of the input having the same length as the text, it has the same length as the vocabulary.\n",
    "\n",
    "As described in lecture, represented in this way, the quantity to be maximized in the naive Bayes method\n",
    "\n",
    "$$\\log\\Prob(y_i) + \\sum_{j=1}^M \\log\\Prob(w_j \\given y_i)$$\n",
    "\n",
    "can be calculated as \n",
    "\n",
    "$$\\log\\Prob(y_i) + \\sum_{j=1}^V x_j \\cdot \\log\\Prob(v_j \\given y_i)$$\n",
    "\n",
    "which is just $\\vect{U} \\vect{x}$ for a suitable choice of $N \\times (V+1)$ matrix $\\vect{U}$, namely\n",
    "\n",
    "$$ \\vect{U}_{ij} = \\left\\{\n",
    "    \\begin{array}{ll}\n",
    "        \\log \\Prob(v_j \\given y_i) & \\mbox{$1 \\leq i \\leq N$ and $1 \\leq j \\leq V$} \\\\\n",
    "        \\log \\Prob(y_i) & \\mbox{$1 \\leq i \\leq N$ and $j = V+1$} \n",
    "    \\end{array} \\right.\n",
    "$$\n",
    "\n",
    "Under this implementation conception, we've reduced naive Bayes calculations to a single matrix operation. This conception is depicted in the figure at right.\n",
    "\n",
    "You are free to use either conception in your implementation of naive Bayes."
   ]
  },
  {
   "cell_type": "markdown",
   "id": "5c713609",
   "metadata": {
    "colab_type": "text"
   },
   "source": [
    "## Implement the naive Bayes classifier\n",
    " \n",
    "For the implementation, we ask you to implement a Python class `NaiveBayes` that will have (at least) the following three methods:\n",
    "\n",
    "1. `__init__`: An initializer that takes two `torchtext` fields providing descriptions of the text and label aspects of examples.\n",
    "\n",
    "2. `train`: A method that takes a training data iterator and estimates all of the log probabilities $\\log\\Prob(y_i)$ and $\\log\\Prob(v_j \\given y_i)$ as described above. Perform add-$\\delta$ smoothing with $\\delta=1$. These parameters will be used by the `evaluate` method to evaluate a test dataset for accuracy, so you'll want to store them in some data structures in objects of the class.\n",
    "\n",
    "3. `evaluate`: A method that takes a test data iterator and evaluates the accuracy of the trained model on the test set.\n",
    "\n",
    "You can organize your code using either of the conceptions of Naive Bayes described above.\n",
    "\n",
    "You should expect to achieve about an **86% test accuracy** on the ATIS task."
   ]
  },
  {
   "cell_type": "code",
   "execution_count": 17,
   "id": "db6607b9",
   "metadata": {},
   "outputs": [],
   "source": [
    "def bag_of_words(vocab_size, seq):\n",
    "    bow = torch.zeros(vocab_size + 1)\n",
    "    for idx in seq:\n",
    "        bow[idx] += 1\n",
    "    bow[1] = 0\n",
    "    bow[vocab_size] = 1\n",
    "    return bow"
   ]
  },
  {
   "cell_type": "code",
   "execution_count": 18,
   "id": "0692717e",
   "metadata": {
    "colab": {},
    "colab_type": "code"
   },
   "outputs": [],
   "source": [
    "class NaiveBayes():\n",
    "    def __init__ (self, text, label):\n",
    "        self.text = text\n",
    "        self.label = label\n",
    "        self.padding_id = text.vocab.stoi[text.pad_token]\n",
    "        self.V = len(text.vocab.itos) # vocabulary size\n",
    "        self.N = len(label.vocab.itos) # the number of classes\n",
    "        # TODO: Add your code here\n",
    "        self.delta = 1\n",
    "    \n",
    "    def train(self, iterator):\n",
    "        \"\"\"Calculates and stores log probabilities for training dataset `iterator`.\"\"\"\n",
    "        # TODO: Implement this method. Its implemenation might be a bit longer than the others.\n",
    "        self.U = torch.zeros([self.V + 1, self.N])\n",
    "        self.U[-1] = torch.bincount(torch.Tensor([self.label.vocab.stoi[e.label] for e in iterator.dataset.examples]).to(int))\n",
    "        self.U[-1] *=  1 / len(iterator.dataset)\n",
    "        self.U[-1] = torch.log(self.U[-1])\n",
    "\n",
    "        for ex in iterator.dataset:\n",
    "            label_index = self.label.vocab.stoi[ex.label]\n",
    "            text_indices = [self.text.vocab.stoi[word] for word in ex.text]\n",
    "            new_count = torch.bincount(torch.Tensor(text_indices).to(int), minlength=self.V)\n",
    "            self.U.T[label_index][:-1] += new_count\n",
    "\n",
    "        for label_index in range(self.N):\n",
    "            self.U.T[label_index][:-1] += self.delta\n",
    "            label_sum = torch.sum(self.U.T[label_index][:-1])\n",
    "            self.U.T[label_index][:-1] *= 1 / label_sum\n",
    "            self.U.T[label_index][:-1] = torch.log(self.U.T[label_index][:-1])\n",
    "\n",
    "\n",
    "    def evaluate(self, iterator):\n",
    "        \"\"\"Returns the model's accuracy on a given dataset `iterator`.\"\"\"\n",
    "        # TODO: Implement this method.\n",
    "        acc = 0\n",
    "        for x in iterator.dataset.examples:\n",
    "            index_x = [self.text.vocab.stoi[e] for e in x.text]\n",
    "            bow = bag_of_words(vocab_size=self.V, seq=index_x)\n",
    "            y_pred = torch.argmax(bow @ self.U)\n",
    "            y_true = self.label.vocab.stoi[x.label]\n",
    "            acc += y_pred==y_true\n",
    "        return acc / len(iterator.dataset) * 100"
   ]
  },
  {
   "cell_type": "code",
   "execution_count": 19,
   "id": "73d34286",
   "metadata": {
    "colab": {},
    "colab_type": "code"
   },
   "outputs": [
    {
     "name": "stdout",
     "output_type": "stream",
     "text": [
      "Training accuracy: 89.678\n",
      "Test accuracy:     86.384\n"
     ]
    }
   ],
   "source": [
    "# Instantiate and train classifier\n",
    "nb_classifier = NaiveBayes(TEXT, LABEL)\n",
    "nb_classifier.train(train_iter)\n",
    "\n",
    "# Evaluate model performance\n",
    "print(f'Training accuracy: {nb_classifier.evaluate(train_iter):.3f}\\n'\n",
    "      f'Test accuracy:     {nb_classifier.evaluate(test_iter):.3f}')"
   ]
  },
  {
   "cell_type": "markdown",
   "id": "9b37d0ff",
   "metadata": {
    "colab_type": "text"
   },
   "source": [
    "# To Do: Implement a logistic regression classifier\n",
    "\n",
    "In this part, you'll complete a PyTorch implementation of a logistic regression (equivalently, a single layer perceptron) classifier. We review logistic regression here highlighting the similarities to the matrix-multiplication conception of naive Bayes. Thus, we take the input $\\vect{x}$ to be the bag-of-words representation $bow(\\vect{w})$. But as before you are free to use either implementation approach.\n",
    "\n",
    "## Review of logistic regression\n",
    "\n",
    "Similar to naive Bayes, in logistic regression, we assign a probability to a text $\\vect{x}$ by merely multiplying an $N \\times V$ matrix $\\vect{U}$ by it. However, we don't stipulate that the values in the matrix $\\vect{U}$ be estimated from the training corpus in the \"naive Bayes\" manner. Instead, we allow them to take on any value, using a training regime to select good values.\n",
    "\n",
    "In order to make sure that the output of the matrix multiplication $\\vect{U}\\vect{x}$ is mapped onto a probability distribution, we apply a nonlinear function to renormalize the values. We use the softmax function, a generalization of the sigmoid function from lab 1-4, defined by \n",
    "\n",
    "$$\\softmax(\\vect{z})_i = \\frac{\\exp(z_i)}{\\sum_{j=1}^{N} \\exp(z_j)}$$\n",
    "\n",
    "for each of the indices $i$ from $1$ to $N$.\n",
    "\n",
    "In summary, we model $\\Prob (y \\given \\vect{x})$ as\n",
    "\n",
    "$$ \\Prob(y_i \\given \\vect{x}) = \\softmax ( \\vect{U} \\vect{x} )_i $$\n",
    "\n",
    "<img src=\"https://github.com/nlp-course/data/raw/master/Resources/logistic-regression-figure.png\" alt=\"logistic regression illustration\" width=\"400\"  align=right />\n",
    "\n",
    "The calculation of $\\Prob(y \\given \\vect{x})$ for each text $\\vect{x}$ is referred to as the _forward_ computation. In summary, the forward computation for logistic regression involves a linear calculation ($\\vect{U} \\vect{x}$) followed by a nonlinear calculation ($\\softmax$). We think of the perceptron (and more generally many of these neural network models) as transforming from one representation to another. A perceptron performs a linear transformation from the index or bag-of-words representation of the text to a representation as a vector, followed by a nonlinear transformation, a softmax or sigmoid, giving a representation as a probability distribution over the class labels. This single-layer perceptron thus involves two _sublayers_. (In the next part of the project segment, you'll experiment with a multilayer perceptron, with two perceptron layers, and hence four sublayers.)\n",
    "\n",
    "The loss function you'll use is the negative log probability $-\\log \\Prob (y \\given \\vect{x})$. The negative is used, since it is convention to minimize loss, whereas we want to maximize log likelihood. \n",
    "\n",
    "The forward and loss computations are illustrated in the figure at right. In practice, for numerical stability reasons, PyTorch absorbs the softmax operation into the loss function `nn.CrossEntropyLoss`. That is, the input to the `nn.CrossEntropyLoss` function is the vector of sums $\\vect{U} \\vect{x}$ (the last step in the box marked \"your job\" in the figure) rather than the vector of probabilities $\\Prob(y \\given \\vect{x})$. That makes things easier for you (!), since you're responsible only for the first sublayer.\n",
    "\n",
    "Given a forward computation, the weights can then be adjusted by taking a step opposite to the gradient of the loss function. Adjusting the weights in this way is referred to as the _backward_ computation. Fortunately, `torch` takes care of the backward computation for you, just as in lab 1-5.\n",
    "\n",
    "The optimization process of performing the forward computation, calculating the loss, and performing the backward computation to improve the weights is done repeatedly until the process converges on a (hopefully) good set of weights. You'll find this optimization process in the `train_all` method that we've provided. The trained weights can then be used to perform classification on a test set. See the `evaluate` method."
   ]
  },
  {
   "cell_type": "markdown",
   "id": "f924a1f9",
   "metadata": {
    "colab_type": "text"
   },
   "source": [
    "## Implement the logistic regression classifier\n",
    "\n",
    "For the implementation, we ask you to implement a logistic regression classifier as a subclass of [`torch.nn.Module`](https://pytorch.org/docs/stable/generated/torch.nn.Module.html#torch.nn.Module). You need to implement the following methods:\n",
    "\n",
    "1. `__init__`: an initializer that takes two `torchtext` fields providing descriptions of the text and label aspects of examples.\n",
    "\n",
    "    During initialization, you'll want to define a [tensor](https://pytorch.org/docs/stable/tensors.html#torch-tensor) of weights, wrapped in [`torch.nn.Parameter`](https://pytorch.org/docs/master/generated/torch.nn.parameter.Parameter.html#torch.nn.parameter.Parameter), [initialized randomly](https://pytorch.org/docs/stable/tensors.html#torch.Tensor.uniform_), which plays the role of $\\vect{U}$. The elements of this tensor are the parameters of the `torch.nn` instance in the following special technical sense: It is the parameters of the module whose gradients will be calculated and whose values will be updated. Alternatively, you might find it easier to use the [`nn.Embedding` module](https://pytorch.org/docs/master/generated/torch.nn.Embedding.html) which is a wrapper to the weight tensor with a lookup implementation.\n",
    "\n",
    "2. `forward`: given a text batch of size `batch_size X max_length`, return a tensor of logits of size `batch_size X num_labels`. That is, for each text $\\vect{x}$ in the batch and each label $y$, you'll be calculating $\\vect{U}\\vect{x}$ as shown in the figure, returning a tensor of these values. Note that the softmax operation is absorbed into [`nn.CrossEntropyLoss`](https://pytorch.org/docs/master/generated/torch.nn.CrossEntropyLoss.html) so you won't need to deal with that.\n",
    "\n",
    "3. `train_all`: A method that performs training. You might find lab 1-5 useful.\n",
    "\n",
    "4. `evaluate`: A method that takes a test data iterator and evaluates the accuracy of the trained model on the test set.\n",
    "\n",
    "Some things to consider:\n",
    "\n",
    "1. The parameters of the model, the weights, need to be initialized properly. We suggest initializing them to some small random values. See [`torch.uniform_`](https://pytorch.org/docs/stable/tensors.html#torch.Tensor.uniform_).\n",
    "\n",
    "2. You'll want to make sure that padding tokens are handled properly. What should the weight be for the padding token?\n",
    "\n",
    "3. In extracting the proper weights to sum up, based on the word types in a sentence, we are essentially doing a lookup operation. You might find [`nn.Embedding`](https://pytorch.org/docs/master/generated/torch.nn.Embedding.html) or [`torch.gather`](https://pytorch.org/docs/stable/generated/torch.gather.html#torch-gather) useful.\n",
    "\n",
    "4. You can try different optimizers. We recommend [`torch.optim.Adam`](https://pytorch.org/docs/stable/generated/torch.optim.Adam.html).\n",
    "\n",
    "You should expect to achieve about **91%** test accuracy on the ATIS classificiation task. "
   ]
  },
  {
   "cell_type": "code",
   "execution_count": 20,
   "id": "11ebec5b",
   "metadata": {
    "colab": {},
    "colab_type": "code"
   },
   "outputs": [],
   "source": [
    "class LogisticRegression(nn.Module):\n",
    "    def __init__ (self, text, label):\n",
    "        super().__init__()\n",
    "        self.text = text\n",
    "        self.label = label\n",
    "        self.padding_id = text.vocab.stoi[text.pad_token]\n",
    "        # Keep the vocabulary sizes available\n",
    "        self.N = len(label.vocab.itos) # num_classes\n",
    "        self.V = len(text.vocab.itos)  # vocab_size\n",
    "        self.weights = nn.Linear(in_features=self.V, out_features=self.N)\n",
    "        # TODO: Initialize the loss for optimization\n",
    "        self.criterion = nn.CrossEntropyLoss()\n",
    "    \n",
    "        # initialize parameters randomly\n",
    "        torch.manual_seed(1)\n",
    "        for p in self.parameters():\n",
    "            p.data.uniform_(-1e-5, 1e-5)\n",
    "                \n",
    "    @staticmethod\n",
    "    def bag_of_words(vocab_size, seq):\n",
    "        bow = torch.zeros(vocab_size, dtype=float)\n",
    "        for idx in seq:\n",
    "            bow[idx] += 1\n",
    "        bow[1] = 0\n",
    "        # bow[0] = 0\n",
    "        return bow\n",
    "        \n",
    "    def forward(self, text_batch):\n",
    "        # TODO: Calculate the logits (Ux) for the `text_batch`, \n",
    "        #       returning a tensor of size batch_size x num_labels\n",
    "        text_bow_matrix = torch.zeros(text_batch.text.shape[0], self.V)\n",
    "        for idx, text in enumerate(text_batch.text):\n",
    "            text_bow_matrix[idx] = self.bag_of_words(self.V, text)  \n",
    "        \n",
    "        # print(type(text_bow_matrix[0][0].item()))\n",
    "        return self.weights(text_bow_matrix) \n",
    "\n",
    "    def train_all(self, train_iter, val_iter, epochs=8, learning_rate=3e-3):\n",
    "        preds = []\n",
    "        labs = []\n",
    "        # Switch the module to training mode\n",
    "        self.train()\n",
    "        # TODO: Define the optimizer to optimize the parameters\n",
    "        optim = torch.optim.Adam(params=self.parameters(), lr=learning_rate)\n",
    "\n",
    "        best_validation_accuracy = -float('inf')\n",
    "        best_model = None\n",
    "        # Run the optimization for multiple epochs\n",
    "        with tqdm(range(epochs), desc='train', position=0) as pbar:\n",
    "            for epoch in pbar:\n",
    "                c_num = 0\n",
    "                total = 0\n",
    "                running_loss = 0.0\n",
    "\n",
    "                for batch in tqdm(train_iter, desc='batch', leave=False):\n",
    "                    # TODO: set labels, compute logits (Ux in this model), \n",
    "                    #       loss, and update parameters\n",
    "                    \n",
    "                    labels = batch.label\n",
    "                    logits = self.forward(batch)\n",
    "                    # predictions = torch.argmax(torch.argmax(logits, dim=1), dim=1)\n",
    "                    predictions = torch.argmax(logits, dim=1)\n",
    "                    loss = self.criterion(logits, labels)\n",
    "                    labs.append(labels)\n",
    "                    preds.append(predictions)\n",
    "                    #Perform backpropagation to calculate gradients\n",
    "                    loss.backward()\n",
    "\n",
    "                    # Update all parameters\n",
    "                    optim.step()\n",
    "                    \n",
    "                    # Prepare to compute the accuracy\n",
    "                    total += predictions.size(0)\n",
    "                    c_num += (predictions == labels).float().sum().item()        \n",
    "                    running_loss += loss.item() * predictions.size(0)\n",
    "\n",
    "                # Evaluate and track improvements on the validation dataset\n",
    "                validation_accuracy = self.evaluate(val_iter)\n",
    "                if validation_accuracy > best_validation_accuracy:\n",
    "                    best_validation_accuracy = validation_accuracy\n",
    "                    self.best_model = copy.deepcopy(self.state_dict())\n",
    "                epoch_loss = running_loss / total\n",
    "                epoch_acc = c_num / total\n",
    "                pbar.set_postfix(epoch=epoch+1, loss=epoch_loss, train_acc = epoch_acc, val_acc=validation_accuracy)\n",
    "            return labs, preds\n",
    "\n",
    "    def evaluate(self, iterator):\n",
    "        \"\"\"Returns the model's accuracy on a given dataset `iterator`.\"\"\"\n",
    "        self.eval()   # switch the module to evaluation mode\n",
    "        # TODO: Compute accuracy\n",
    "        acc = 0\n",
    "        batch = iter(iterator)\n",
    "        while True:\n",
    "            try:\n",
    "                new_batch = next(batch)\n",
    "                logits = self.forward(new_batch)\n",
    "                y_preds = torch.argmax(logits, dim=1)\n",
    "                y_trues = new_batch.label\n",
    "                for x in range(y_preds.size(0)):\n",
    "                    y_pred = y_preds[x].item()\n",
    "                    y_true = y_trues[x].item()\n",
    "                    acc += y_pred==y_true\n",
    "            except StopIteration:\n",
    "                break\n",
    "        return acc / len(iterator.dataset) * 100"
   ]
  },
  {
   "cell_type": "code",
   "execution_count": 21,
   "id": "5f728d2b",
   "metadata": {
    "colab": {},
    "colab_type": "code"
   },
   "outputs": [
    {
     "data": {
      "application/vnd.jupyter.widget-view+json": {
       "model_id": "9c218bc0809c4eb2a8288756f0ab3942",
       "version_major": 2,
       "version_minor": 0
      },
      "text/plain": [
       "train:   0%|          | 0/8 [00:00<?, ?it/s]"
      ]
     },
     "metadata": {},
     "output_type": "display_data"
    },
    {
     "data": {
      "application/vnd.jupyter.widget-view+json": {
       "model_id": "",
       "version_major": 2,
       "version_minor": 0
      },
      "text/plain": [
       "batch:   0%|          | 0/137 [00:00<?, ?it/s]"
      ]
     },
     "metadata": {},
     "output_type": "display_data"
    },
    {
     "data": {
      "application/vnd.jupyter.widget-view+json": {
       "model_id": "",
       "version_major": 2,
       "version_minor": 0
      },
      "text/plain": [
       "batch:   0%|          | 0/137 [00:00<?, ?it/s]"
      ]
     },
     "metadata": {},
     "output_type": "display_data"
    },
    {
     "data": {
      "application/vnd.jupyter.widget-view+json": {
       "model_id": "",
       "version_major": 2,
       "version_minor": 0
      },
      "text/plain": [
       "batch:   0%|          | 0/137 [00:00<?, ?it/s]"
      ]
     },
     "metadata": {},
     "output_type": "display_data"
    },
    {
     "data": {
      "application/vnd.jupyter.widget-view+json": {
       "model_id": "",
       "version_major": 2,
       "version_minor": 0
      },
      "text/plain": [
       "batch:   0%|          | 0/137 [00:00<?, ?it/s]"
      ]
     },
     "metadata": {},
     "output_type": "display_data"
    },
    {
     "data": {
      "application/vnd.jupyter.widget-view+json": {
       "model_id": "",
       "version_major": 2,
       "version_minor": 0
      },
      "text/plain": [
       "batch:   0%|          | 0/137 [00:00<?, ?it/s]"
      ]
     },
     "metadata": {},
     "output_type": "display_data"
    },
    {
     "data": {
      "application/vnd.jupyter.widget-view+json": {
       "model_id": "",
       "version_major": 2,
       "version_minor": 0
      },
      "text/plain": [
       "batch:   0%|          | 0/137 [00:00<?, ?it/s]"
      ]
     },
     "metadata": {},
     "output_type": "display_data"
    },
    {
     "data": {
      "application/vnd.jupyter.widget-view+json": {
       "model_id": "",
       "version_major": 2,
       "version_minor": 0
      },
      "text/plain": [
       "batch:   0%|          | 0/137 [00:00<?, ?it/s]"
      ]
     },
     "metadata": {},
     "output_type": "display_data"
    },
    {
     "data": {
      "application/vnd.jupyter.widget-view+json": {
       "model_id": "",
       "version_major": 2,
       "version_minor": 0
      },
      "text/plain": [
       "batch:   0%|          | 0/137 [00:00<?, ?it/s]"
      ]
     },
     "metadata": {},
     "output_type": "display_data"
    },
    {
     "name": "stdout",
     "output_type": "stream",
     "text": [
      "Test accuracy: 90.4018\n"
     ]
    }
   ],
   "source": [
    "# Instantiate the logistic regression classifier and run it\n",
    "model = LogisticRegression(TEXT, LABEL).to(device) \n",
    "labs, preds = model.train_all(train_iter, val_iter)\n",
    "model.load_state_dict(model.best_model)\n",
    "test_accuracy = model.evaluate(test_iter)\n",
    "print (f'Test accuracy: {test_accuracy:.4f}')"
   ]
  },
  {
   "cell_type": "markdown",
   "id": "301df81c",
   "metadata": {
    "colab_type": "text"
   },
   "source": [
    "# To Do: Implement a multilayer perceptron\n",
    "\n",
    "## Review of multilayer perceptrons\n",
    "\n",
    "<img src=\"https://github.com/nlp-course/data/raw/master/Resources/multilayer-perceptron-figure.png\" alt=\"multilayer perceptron illustration\" width=\"400\"  align=right />\n",
    "\n",
    "In the last part, you implemented a perceptron, a model that involved a linear calculation (the sum of weights) followed by a nonlinear calculation (the softmax, which converts the summed weight values to probabilities). In a multi-layer perceptron, we take the output of the first perceptron to be the input of a second perceptron (and of course, we could continue on with a third or even more).\n",
    "\n",
    "In this part, you'll implement the forward calculation of a two-layer perceptron, again letting PyTorch handle the backward calculation as well as the optimization of parameters. The first layer will involve a linear summation as before and a **sigmoid** as the nonlinear function. The second will involve a linear summation and a softmax (the latter absorbed, as before, into the loss function). Thus, the difference from the logistic regression implementation is simply the adding of the sigmoid and second linear calculations. See the figure for the structure of the computation. \n",
    "\n"
   ]
  },
  {
   "cell_type": "markdown",
   "id": "6b8bc83f",
   "metadata": {
    "colab_type": "text"
   },
   "source": [
    "## Implement a multilayer perceptron classifier\n",
    "\n",
    "For the implementation, we ask you to implement a two layer perceptron classifier, again as a subclass of the [`torch.nn` module](https://pytorch.org/docs/stable/nn.html). You might reuse quite a lot of the code from logistic regression. As before, you need to implement the following methods:\n",
    "\n",
    "1. `__init__`: An initializer that takes two `torchtext` fields providing descriptions of the text and label aspects of examples, and `hidden_size` specifying the size of the hidden layer (e.g., in the above illustration, `hidden_size` is `D`).\n",
    "\n",
    "    During initialization, you'll want to define two tensors of weights, which serve as the parameters of this model, one for each layer. You'll want to [initialize them randomly](https://pytorch.org/docs/stable/tensors.html#torch.Tensor.uniform_). \n",
    "    \n",
    "    The weights in the first layer are a kind of lookup (as in the previous part), mapping words to a vector of size `hidden_size`. The [`nn.Embedding` module](https://pytorch.org/docs/master/generated/torch.nn.Embedding.html) is a good way to set up and make use of this weight tensor.\n",
    "    \n",
    "    The weights in the second layer define a linear mapping from vectors of size `hidden_size` to vectors of size `num_labels`. The [`nn.Linear` module](https://pytorch.org/docs/master/generated/torch.nn.Linear.html) or [`torch.mm`](https://pytorch.org/docs/master/generated/torch.mm.html) for matrix multiplication may be helpful here.\n",
    "\n",
    "2. `forward`: Given a text batch of size `batch_size X max_length`, the `forward` function returns a tensor of logits of size `batch_size X num_labels`. \n",
    "\n",
    "    That is, for each text $\\vect{x}$ in the batch and each label $c$, you'll be calculating $MLP(bow(\\vect{x}))$ as shown in the illustration above, returning a tensor of these values. Note that the softmax operation is absorbed into [`nn.CrossEntropyLoss`](https://pytorch.org/docs/master/generated/torch.nn.CrossEntropyLoss.html) so you don't need to worry about that.\n",
    "    \n",
    "    For the sigmoid sublayer, you might find [`nn.Sigmoid`](https://pytorch.org/docs/stable/generated/torch.nn.Sigmoid.html) useful.\n",
    "    \n",
    "3. `train_all`: A method that performs training. You might find lab 1-5 useful.\n",
    "\n",
    "4. `evaluate`: A method that takes a test data iterator and evaluates the accuracy of the trained model on the test set.\n",
    "\n",
    "You should expect to achieve at least **91%** accuracy on the ATIS classificiation task. "
   ]
  },
  {
   "cell_type": "code",
   "execution_count": 22,
   "id": "50fec845",
   "metadata": {
    "colab": {},
    "colab_type": "code"
   },
   "outputs": [],
   "source": [
    "class MultiLayerPerceptron(nn.Module):\n",
    "    def __init__ (self, text, label, hidden_size=128): \n",
    "        super().__init__ ()\n",
    "        self.text = text\n",
    "        self.label = label\n",
    "        self.padding_id = text.vocab.stoi[text.pad_token]\n",
    "        self.hidden_size = hidden_size\n",
    "        # Keep the vocabulary sizes available\n",
    "        self.N = len(label.vocab.itos) # num_classes\n",
    "        self.V = len(text.vocab.itos)  # vocab_size\n",
    "        # TODO: Initialize the loss for optimization\n",
    "        self.criterion = nn.CrossEntropyLoss()\n",
    "\n",
    "        # TODO: Create and initialize neural modules\n",
    "        # self.U_ = nn.Embedding(num_embeddings=self.V, embedding_dim=self.hidden_size)\n",
    "        self.U_ = nn.Linear(in_features=self.V, out_features=self.hidden_size)\n",
    "        self.sigmoid = nn.Sigmoid()\n",
    "        self.V_ = nn.Linear(in_features=self.hidden_size, out_features=self.N)\n",
    "        \n",
    "        torch.manual_seed(1)\n",
    "        for p in self.parameters():\n",
    "            p.data.normal_()\n",
    "\n",
    "    @staticmethod\n",
    "    def bag_of_words(vocab_size, seq):\n",
    "        bow = torch.zeros(vocab_size, dtype=float)\n",
    "        for idx in seq:\n",
    "            bow[idx] += 1\n",
    "        bow[1] = 0\n",
    "        # bow[0] = 0\n",
    "        return bow\n",
    "        \n",
    "    def forward(self, text_batch):\n",
    "        # TODO: Calculate the logits (Ux) for the `text_batch`, \n",
    "        #       returning a tensor of size batch_size x num_labels\n",
    "        text_bow_matrix = torch.zeros(text_batch.text.shape[0], self.V)\n",
    "        for idx, text in enumerate(text_batch.text):\n",
    "            text_bow_matrix[idx] = self.bag_of_words(self.V, text)  \n",
    "        y = self.U_(text_bow_matrix)\n",
    "        z = self.sigmoid(y)\n",
    "        \n",
    "        return self.V_(z) \n",
    "  \n",
    "    def train_all(self, train_iter, val_iter, epochs=8, learning_rate=3e-3):\n",
    "        # Switch the module to training mode\n",
    "        self.train()\n",
    "        # TODO: Define the optimizer to optimize the parameters\n",
    "        optim = torch.optim.Adam(params=self.parameters(), lr=learning_rate)\n",
    "\n",
    "        best_validation_accuracy = -float('inf')\n",
    "        best_model = None\n",
    "        # Run the optimization for multiple epochs\n",
    "        with tqdm(range(epochs), desc='train', position=0) as pbar:\n",
    "            for epoch in pbar:\n",
    "                c_num = 0\n",
    "                total = 0\n",
    "                running_loss = 0.0\n",
    "                for batch in tqdm(train_iter, desc='batch', leave=False):\n",
    "                    # TODO: set labels, compute logits (Ux in this model), \n",
    "                    #       loss, predictions, and update parameters\n",
    "\n",
    "                    labels = batch.label\n",
    "                    logits = self.forward(batch)\n",
    "                    # print(f'logits={logits.shape}, labels={labels.shape}')\n",
    "                    loss = self.criterion(logits, labels)\n",
    "                    predictions = torch.argmax(logits, dim=1)\n",
    "\n",
    "                    #Perform backpropagation to calculate gradients\n",
    "                    loss.backward()\n",
    "\n",
    "                    # Update all parameters\n",
    "                    optim.step()\n",
    "\n",
    "                    # Prepare to compute the accuracy\n",
    "                    total += predictions.size(0)\n",
    "                    c_num += (predictions == labels).float().sum().item()        \n",
    "                    running_loss += loss.item() * predictions.size(0)\n",
    "\n",
    "                # Evaluate and track improvements on the validation dataset\n",
    "                validation_accuracy = self.evaluate(val_iter)\n",
    "                if validation_accuracy > best_validation_accuracy:\n",
    "                    best_validation_accuracy = validation_accuracy\n",
    "                    self.best_model = copy.deepcopy(self.state_dict())\n",
    "                epoch_loss = running_loss / total\n",
    "                epoch_acc = c_num / total\n",
    "                pbar.set_postfix(epoch=epoch+1, loss=epoch_loss, train_acc = epoch_acc, val_acc=validation_accuracy)\n",
    "\n",
    "    def evaluate(self, iterator):\n",
    "        \"\"\"Returns the model's accuracy on a given dataset `iterator`.\"\"\"\n",
    "        self.eval()   # switch the module to evaluation mode\n",
    "        # TODO: Compute accuracy\n",
    "        acc = 0\n",
    "        batch = iter(iterator)\n",
    "        while True:\n",
    "            try:\n",
    "                new_batch = next(batch)\n",
    "                logits = self.forward(new_batch)\n",
    "                y_preds = torch.argmax(logits, dim=1)\n",
    "                y_trues = new_batch.label\n",
    "                for x in range(y_preds.size(0)):\n",
    "                    y_pred = y_preds[x].item()\n",
    "                    y_true = y_trues[x].item()\n",
    "                    acc += y_pred==y_true\n",
    "            except StopIteration:\n",
    "                break\n",
    "        return acc / len(iterator.dataset) * 100"
   ]
  },
  {
   "cell_type": "code",
   "execution_count": 29,
   "id": "7d7f40cb",
   "metadata": {
    "colab": {},
    "colab_type": "code"
   },
   "outputs": [
    {
     "data": {
      "application/vnd.jupyter.widget-view+json": {
       "model_id": "24fe275f2c284a938caac9be3eebcfe4",
       "version_major": 2,
       "version_minor": 0
      },
      "text/plain": [
       "train:   0%|          | 0/8 [00:00<?, ?it/s]"
      ]
     },
     "metadata": {},
     "output_type": "display_data"
    },
    {
     "data": {
      "application/vnd.jupyter.widget-view+json": {
       "model_id": "",
       "version_major": 2,
       "version_minor": 0
      },
      "text/plain": [
       "batch:   0%|          | 0/137 [00:00<?, ?it/s]"
      ]
     },
     "metadata": {},
     "output_type": "display_data"
    },
    {
     "data": {
      "application/vnd.jupyter.widget-view+json": {
       "model_id": "",
       "version_major": 2,
       "version_minor": 0
      },
      "text/plain": [
       "batch:   0%|          | 0/137 [00:00<?, ?it/s]"
      ]
     },
     "metadata": {},
     "output_type": "display_data"
    },
    {
     "data": {
      "application/vnd.jupyter.widget-view+json": {
       "model_id": "",
       "version_major": 2,
       "version_minor": 0
      },
      "text/plain": [
       "batch:   0%|          | 0/137 [00:00<?, ?it/s]"
      ]
     },
     "metadata": {},
     "output_type": "display_data"
    },
    {
     "data": {
      "application/vnd.jupyter.widget-view+json": {
       "model_id": "",
       "version_major": 2,
       "version_minor": 0
      },
      "text/plain": [
       "batch:   0%|          | 0/137 [00:00<?, ?it/s]"
      ]
     },
     "metadata": {},
     "output_type": "display_data"
    },
    {
     "data": {
      "application/vnd.jupyter.widget-view+json": {
       "model_id": "",
       "version_major": 2,
       "version_minor": 0
      },
      "text/plain": [
       "batch:   0%|          | 0/137 [00:00<?, ?it/s]"
      ]
     },
     "metadata": {},
     "output_type": "display_data"
    },
    {
     "data": {
      "application/vnd.jupyter.widget-view+json": {
       "model_id": "",
       "version_major": 2,
       "version_minor": 0
      },
      "text/plain": [
       "batch:   0%|          | 0/137 [00:00<?, ?it/s]"
      ]
     },
     "metadata": {},
     "output_type": "display_data"
    },
    {
     "data": {
      "application/vnd.jupyter.widget-view+json": {
       "model_id": "",
       "version_major": 2,
       "version_minor": 0
      },
      "text/plain": [
       "batch:   0%|          | 0/137 [00:00<?, ?it/s]"
      ]
     },
     "metadata": {},
     "output_type": "display_data"
    },
    {
     "data": {
      "application/vnd.jupyter.widget-view+json": {
       "model_id": "",
       "version_major": 2,
       "version_minor": 0
      },
      "text/plain": [
       "batch:   0%|          | 0/137 [00:00<?, ?it/s]"
      ]
     },
     "metadata": {},
     "output_type": "display_data"
    },
    {
     "name": "stdout",
     "output_type": "stream",
     "text": [
      "Test accuracy: 89.9554\n"
     ]
    }
   ],
   "source": [
    "# Instantiate classifier and run it\n",
    "model = MultiLayerPerceptron(TEXT, LABEL).to(device) \n",
    "model.train_all(train_iter, val_iter)\n",
    "model.load_state_dict(model.best_model)\n",
    "test_accuracy = model.evaluate(test_iter)\n",
    "print (f'Test accuracy: {test_accuracy:.4f}')"
   ]
  },
  {
   "cell_type": "markdown",
   "id": "a9bc6f50",
   "metadata": {
    "deletable": false,
    "editable": false
   },
   "source": [
    "<!-- BEGIN QUESTION -->\n",
    "\n",
    "# Lessons learned\n",
    "\n",
    "Take a look at some of the examples that were classified correctly and incorrectly by your best method.\n",
    "\n",
    "**Question:** Do you notice anything about the incorrectly classified examples that might indicate _why_ they were classified incorrectly?\n",
    "\n",
    "<!--\n",
    "BEGIN QUESTION\n",
    "name: open_response_lessons\n",
    "manual: true\n",
    "-->"
   ]
  },
  {
   "cell_type": "markdown",
   "id": "137ba2ed",
   "metadata": {
    "tags": []
   },
   "source": [
    "_First, let's acknowledge that LogisticRegression is our best model here._\n",
    "\n",
    "_We injected some code into the model, to return us the actual labels and predictions of each batch in ```labs``` and ```preds```._\n",
    "\n",
    "_As we can see in the cells below - we calculated for each true and false prediction the frequency of the label at the whole dataset._\n",
    "\n",
    "_We can infer from this, that the labels that were predicted successfully had an average occurence of ~2500, whether the wrong predicted labels had an average occurence of ~600._\n",
    "\n",
    "_So, the selection bias of the dataset had a huge effect of our prediction capabilities._"
   ]
  },
  {
   "cell_type": "code",
   "execution_count": 24,
   "id": "bb4a84b1-ef94-4e82-85bf-ba26f8c90f18",
   "metadata": {},
   "outputs": [
    {
     "name": "stdout",
     "output_type": "stream",
     "text": [
      "32356\n",
      "2676\n"
     ]
    }
   ],
   "source": [
    "falses = []\n",
    "trues = []\n",
    "i = 4\n",
    "for i, l in enumerate(labs):\n",
    "    for idx, t in enumerate(l):\n",
    "        if t != preds[i][idx]:\n",
    "            falses.append(LABEL.vocab.itos[t.item()])\n",
    "        else:\n",
    "            trues.append(LABEL.vocab.itos[t.item()])\n",
    "print(len(trues))\n",
    "print(len(falses))"
   ]
  },
  {
   "cell_type": "code",
   "execution_count": 25,
   "id": "bbe1d5e4-2052-4901-a516-7ee9e4bb2d96",
   "metadata": {},
   "outputs": [],
   "source": [
    "def count(examples, label):\n",
    "    c = 0\n",
    "    for ex in examples:\n",
    "        if ex.label == label:\n",
    "            c+=1\n",
    "        # else:\n",
    "        #     # print(f'label={label}, {LABEL.vocab.stoi[ex.label]}')\n",
    "    return c\n",
    "\n",
    "freq_trues = [count(train_iter.dataset, label) for label in trues]\n",
    "freq_falses = [count(train_iter.dataset, label) for label in falses]"
   ]
  },
  {
   "cell_type": "code",
   "execution_count": 26,
   "id": "e9c7617b-2e97-47a5-ac84-592722623c8a",
   "metadata": {},
   "outputs": [
    {
     "name": "stdout",
     "output_type": "stream",
     "text": [
      "Average freq of correct predictions: 2553.3317468166647\n",
      "Average freq of wrong predictions: 578.9379671150972\n"
     ]
    }
   ],
   "source": [
    "print(f'Average freq of correct predictions: {sum(freq_trues) / len(freq_trues)}')\n",
    "print(f'Average freq of wrong predictions: {sum(freq_falses) / len(freq_falses)}')"
   ]
  },
  {
   "cell_type": "markdown",
   "id": "b5e43bfd",
   "metadata": {
    "deletable": false,
    "editable": false
   },
   "source": [
    "<!-- END QUESTION -->"
   ]
  },
  {
   "cell_type": "markdown",
   "id": "9e82e9ac",
   "metadata": {
    "deletable": false,
    "editable": false
   },
   "source": [
    "<!-- BEGIN QUESTION -->\n",
    "\n",
    "# Debrief\n",
    "\n",
    "**Question:** We're interested in any thoughts you have about this project segment so that we can improve it for later years, and to inform later segments for this year. Please list any issues that arose or comments you have to improve the project segment. Useful things to comment on include the following: \n",
    "\n",
    "* Was the project segment clear or unclear? Which portions?\n",
    "* Were the readings appropriate background for the project segment? \n",
    "* Are there additions or changes you think would make the project segment better?\n",
    "\n",
    "<!--\n",
    "BEGIN QUESTION\n",
    "name: open_response_debrief\n",
    "manual: true\n",
    "-->"
   ]
  },
  {
   "cell_type": "markdown",
   "id": "1e952531",
   "metadata": {},
   "source": [
    "_The project segment was quite clear._\n",
    "\n",
    "_We felt like the explanations for this task about ```nn.Embedding``` were not clear enough for us to use it, as the explanations in the docs were not useful enough for us to get the difference from ```nn.Linear```._\n",
    "\n",
    "_Also, we think that some useful commands to use on the ```iterator.dataset``` could be really helpful, we had to look for examples in this notebook instead, and maybe skipped a few good options._"
   ]
  },
  {
   "cell_type": "markdown",
   "id": "11517171",
   "metadata": {},
   "source": [
    "<!-- END QUESTION -->\n",
    "\n",
    "\n",
    "\n",
    "# Instructions for submission of the project segment\n",
    "\n",
    "This project segment should be submitted to Gradescope at <https://rebrand.ly/project1-submit-code> and <https://rebrand.ly/project1-submit-pdf>, which will be made available some time before the due date.\n",
    "\n",
    "Project segment notebooks are manually graded, not autograded using otter as labs are. (Otter is used within project segment notebooks to synchronize distribution and solution code however.) **We will not run your notebook before grading it.** Instead, we ask that you submit the already freshly run notebook. The best method is to \"restart kernel and run all cells\", allowing time for all cells to be run to completion. You should submit your code to Gradescope at the code submission assignment at <https://rebrand.ly/project1-submit-code>.\n",
    "\n",
    "We also request that you **submit a PDF of the freshly run notebook**. The simplest method is to use \"Export notebook to PDF\", which will render the notebook to PDF via LaTeX. If that doesn't work, the method that seems to be most reliable is to export the notebook as HTML (if you are using Jupyter Notebook, you can do so using `File -> Print Preview`), open the HTML in a browser, and print it to a file. You can then submit the PDF to Gradescope at <https://rebrand.ly/project1-submit-pdf>."
   ]
  },
  {
   "cell_type": "markdown",
   "id": "af44f11f",
   "metadata": {},
   "source": [
    "# End of project segment 1"
   ]
  }
 ],
 "metadata": {
  "accelerator": "GPU",
  "colab": {
   "collapsed_sections": [],
   "include_colab_link": true,
   "name": "project1_classification.ipynb",
   "provenance": [],
   "toc_visible": true
  },
  "kernelspec": {
   "display_name": "Python 3 (ipykernel)",
   "language": "python",
   "name": "python3"
  },
  "language_info": {
   "codemirror_mode": {
    "name": "ipython",
    "version": 3
   },
   "file_extension": ".py",
   "mimetype": "text/x-python",
   "name": "python",
   "nbconvert_exporter": "python",
   "pygments_lexer": "ipython3",
   "version": "3.8.12"
  },
  "title": "CS236299 Project Segment 1: Text Classification"
 },
 "nbformat": 4,
 "nbformat_minor": 5
}
