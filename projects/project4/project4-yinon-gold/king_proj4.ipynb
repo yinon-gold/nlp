{
 "cells": [
  {
   "cell_type": "code",
   "execution_count": null,
   "id": "416da74b",
   "metadata": {
    "colab": {
     "base_uri": "https://localhost:8080/"
    },
    "id": "416da74b",
    "outputId": "640c73b4-cf78-4495-8839-6f95c0fa64e7"
   },
   "outputs": [
    {
     "name": "stdout",
     "output_type": "stream",
     "text": [
      "Mounted at /content/drive\n",
      "Looking in indexes: https://pypi.org/simple, https://us-python.pkg.dev/colab-wheels/public/simple/\n",
      "Requirement already satisfied: nltk in /usr/local/lib/python3.7/dist-packages (from -r requirements.txt (line 1)) (3.7)\n",
      "Collecting cryptography\n",
      "  Downloading cryptography-37.0.4-cp36-abi3-manylinux_2_24_x86_64.whl (4.1 MB)\n",
      "\u001b[K     |████████████████████████████████| 4.1 MB 28.0 MB/s \n",
      "\u001b[?25hCollecting torchtext==0.11.2\n",
      "  Downloading torchtext-0.11.2-cp37-cp37m-manylinux1_x86_64.whl (8.0 MB)\n",
      "\u001b[K     |████████████████████████████████| 8.0 MB 25.9 MB/s \n",
      "\u001b[?25hRequirement already satisfied: torch>=1.9.0 in /usr/local/lib/python3.7/dist-packages (from -r requirements.txt (line 4)) (1.11.0+cu113)\n",
      "Collecting func_timeout\n",
      "  Downloading func_timeout-4.3.5.tar.gz (44 kB)\n",
      "\u001b[K     |████████████████████████████████| 44 kB 2.4 MB/s \n",
      "\u001b[?25hCollecting otter-grader==1.0.0\n",
      "  Downloading otter_grader-1.0.0-py3-none-any.whl (163 kB)\n",
      "\u001b[K     |████████████████████████████████| 163 kB 62.7 MB/s \n",
      "\u001b[?25hCollecting transformers\n",
      "  Downloading transformers-4.20.1-py3-none-any.whl (4.4 MB)\n",
      "\u001b[K     |████████████████████████████████| 4.4 MB 50.2 MB/s \n",
      "\u001b[?25hCollecting wget\n",
      "  Downloading wget-3.2.zip (10 kB)\n",
      "Requirement already satisfied: numpy in /usr/local/lib/python3.7/dist-packages (from torchtext==0.11.2->-r requirements.txt (line 3)) (1.21.6)\n",
      "Requirement already satisfied: tqdm in /usr/local/lib/python3.7/dist-packages (from torchtext==0.11.2->-r requirements.txt (line 3)) (4.64.0)\n",
      "Collecting torch>=1.9.0\n",
      "  Downloading torch-1.10.2-cp37-cp37m-manylinux1_x86_64.whl (881.9 MB)\n",
      "\u001b[K     |██████████████████████████████▎ | 834.1 MB 1.1 MB/s eta 0:00:44tcmalloc: large alloc 1147494400 bytes == 0x3987c000 @  0x7f15ccf55615 0x592b76 0x4df71e 0x59afff 0x515655 0x549576 0x593fce 0x548ae9 0x51566f 0x549576 0x593fce 0x548ae9 0x5127f1 0x598e3b 0x511f68 0x598e3b 0x511f68 0x598e3b 0x511f68 0x4bc98a 0x532e76 0x594b72 0x515600 0x549576 0x593fce 0x548ae9 0x5127f1 0x549576 0x593fce 0x5118f8 0x593dd7\n",
      "\u001b[K     |████████████████████████████████| 881.9 MB 1.9 kB/s \n",
      "\u001b[?25hRequirement already satisfied: requests in /usr/local/lib/python3.7/dist-packages (from torchtext==0.11.2->-r requirements.txt (line 3)) (2.23.0)\n",
      "Requirement already satisfied: typing-extensions in /usr/local/lib/python3.7/dist-packages (from torch>=1.9.0->-r requirements.txt (line 4)) (4.1.1)\n",
      "Collecting docker\n",
      "  Downloading docker-5.0.3-py2.py3-none-any.whl (146 kB)\n",
      "\u001b[K     |████████████████████████████████| 146 kB 59.2 MB/s \n",
      "\u001b[?25hRequirement already satisfied: pandas in /usr/local/lib/python3.7/dist-packages (from otter-grader==1.0.0->-r requirements.txt (line 6)) (1.3.5)\n",
      "Requirement already satisfied: dill in /usr/local/lib/python3.7/dist-packages (from otter-grader==1.0.0->-r requirements.txt (line 6)) (0.3.5.1)\n",
      "Requirement already satisfied: nbformat in /usr/local/lib/python3.7/dist-packages (from otter-grader==1.0.0->-r requirements.txt (line 6)) (5.4.0)\n",
      "Collecting PyPDF2\n",
      "  Downloading PyPDF2-2.5.0-py3-none-any.whl (200 kB)\n",
      "\u001b[K     |████████████████████████████████| 200 kB 37.9 MB/s \n",
      "\u001b[?25hRequirement already satisfied: setuptools in /usr/local/lib/python3.7/dist-packages (from otter-grader==1.0.0->-r requirements.txt (line 6)) (57.4.0)\n",
      "Requirement already satisfied: pyyaml in /usr/local/lib/python3.7/dist-packages (from otter-grader==1.0.0->-r requirements.txt (line 6)) (3.13)\n",
      "Requirement already satisfied: nbconvert in /usr/local/lib/python3.7/dist-packages (from otter-grader==1.0.0->-r requirements.txt (line 6)) (5.6.1)\n",
      "Requirement already satisfied: ipython in /usr/local/lib/python3.7/dist-packages (from otter-grader==1.0.0->-r requirements.txt (line 6)) (5.5.0)\n",
      "Requirement already satisfied: tornado in /usr/local/lib/python3.7/dist-packages (from otter-grader==1.0.0->-r requirements.txt (line 6)) (5.1.1)\n",
      "Requirement already satisfied: jinja2 in /usr/local/lib/python3.7/dist-packages (from otter-grader==1.0.0->-r requirements.txt (line 6)) (2.11.3)\n",
      "Collecting pdfkit\n",
      "  Downloading pdfkit-1.0.0-py3-none-any.whl (12 kB)\n",
      "Requirement already satisfied: joblib in /usr/local/lib/python3.7/dist-packages (from nltk->-r requirements.txt (line 1)) (1.1.0)\n",
      "Requirement already satisfied: regex>=2021.8.3 in /usr/local/lib/python3.7/dist-packages (from nltk->-r requirements.txt (line 1)) (2022.6.2)\n",
      "Requirement already satisfied: click in /usr/local/lib/python3.7/dist-packages (from nltk->-r requirements.txt (line 1)) (7.1.2)\n",
      "Requirement already satisfied: cffi>=1.12 in /usr/local/lib/python3.7/dist-packages (from cryptography->-r requirements.txt (line 2)) (1.15.0)\n",
      "Requirement already satisfied: pycparser in /usr/local/lib/python3.7/dist-packages (from cffi>=1.12->cryptography->-r requirements.txt (line 2)) (2.21)\n",
      "Requirement already satisfied: filelock in /usr/local/lib/python3.7/dist-packages (from transformers->-r requirements.txt (line 7)) (3.7.1)\n",
      "Collecting huggingface-hub<1.0,>=0.1.0\n",
      "  Downloading huggingface_hub-0.8.1-py3-none-any.whl (101 kB)\n",
      "\u001b[K     |████████████████████████████████| 101 kB 13.1 MB/s \n",
      "\u001b[?25hCollecting pyyaml\n",
      "  Downloading PyYAML-6.0-cp37-cp37m-manylinux_2_5_x86_64.manylinux1_x86_64.manylinux_2_12_x86_64.manylinux2010_x86_64.whl (596 kB)\n",
      "\u001b[K     |████████████████████████████████| 596 kB 71.0 MB/s \n",
      "\u001b[?25hCollecting tokenizers!=0.11.3,<0.13,>=0.11.1\n",
      "  Downloading tokenizers-0.12.1-cp37-cp37m-manylinux_2_12_x86_64.manylinux2010_x86_64.whl (6.6 MB)\n",
      "\u001b[K     |████████████████████████████████| 6.6 MB 58.9 MB/s \n",
      "\u001b[?25hRequirement already satisfied: packaging>=20.0 in /usr/local/lib/python3.7/dist-packages (from transformers->-r requirements.txt (line 7)) (21.3)\n",
      "Requirement already satisfied: importlib-metadata in /usr/local/lib/python3.7/dist-packages (from transformers->-r requirements.txt (line 7)) (4.11.4)\n",
      "Requirement already satisfied: pyparsing!=3.0.5,>=2.0.2 in /usr/local/lib/python3.7/dist-packages (from packaging>=20.0->transformers->-r requirements.txt (line 7)) (3.0.9)\n",
      "Collecting websocket-client>=0.32.0\n",
      "  Downloading websocket_client-1.3.3-py3-none-any.whl (54 kB)\n",
      "\u001b[K     |████████████████████████████████| 54 kB 3.4 MB/s \n",
      "\u001b[?25hRequirement already satisfied: chardet<4,>=3.0.2 in /usr/local/lib/python3.7/dist-packages (from requests->torchtext==0.11.2->-r requirements.txt (line 3)) (3.0.4)\n",
      "Requirement already satisfied: urllib3!=1.25.0,!=1.25.1,<1.26,>=1.21.1 in /usr/local/lib/python3.7/dist-packages (from requests->torchtext==0.11.2->-r requirements.txt (line 3)) (1.24.3)\n",
      "Requirement already satisfied: idna<3,>=2.5 in /usr/local/lib/python3.7/dist-packages (from requests->torchtext==0.11.2->-r requirements.txt (line 3)) (2.10)\n",
      "Requirement already satisfied: certifi>=2017.4.17 in /usr/local/lib/python3.7/dist-packages (from requests->torchtext==0.11.2->-r requirements.txt (line 3)) (2022.6.15)\n",
      "Requirement already satisfied: zipp>=0.5 in /usr/local/lib/python3.7/dist-packages (from importlib-metadata->transformers->-r requirements.txt (line 7)) (3.8.0)\n",
      "Requirement already satisfied: pygments in /usr/local/lib/python3.7/dist-packages (from ipython->otter-grader==1.0.0->-r requirements.txt (line 6)) (2.6.1)\n",
      "Requirement already satisfied: prompt-toolkit<2.0.0,>=1.0.4 in /usr/local/lib/python3.7/dist-packages (from ipython->otter-grader==1.0.0->-r requirements.txt (line 6)) (1.0.18)\n",
      "Requirement already satisfied: simplegeneric>0.8 in /usr/local/lib/python3.7/dist-packages (from ipython->otter-grader==1.0.0->-r requirements.txt (line 6)) (0.8.1)\n",
      "Requirement already satisfied: pickleshare in /usr/local/lib/python3.7/dist-packages (from ipython->otter-grader==1.0.0->-r requirements.txt (line 6)) (0.7.5)\n",
      "Requirement already satisfied: traitlets>=4.2 in /usr/local/lib/python3.7/dist-packages (from ipython->otter-grader==1.0.0->-r requirements.txt (line 6)) (5.1.1)\n",
      "Requirement already satisfied: decorator in /usr/local/lib/python3.7/dist-packages (from ipython->otter-grader==1.0.0->-r requirements.txt (line 6)) (4.4.2)\n",
      "Requirement already satisfied: pexpect in /usr/local/lib/python3.7/dist-packages (from ipython->otter-grader==1.0.0->-r requirements.txt (line 6)) (4.8.0)\n",
      "Requirement already satisfied: six>=1.9.0 in /usr/local/lib/python3.7/dist-packages (from prompt-toolkit<2.0.0,>=1.0.4->ipython->otter-grader==1.0.0->-r requirements.txt (line 6)) (1.15.0)\n",
      "Requirement already satisfied: wcwidth in /usr/local/lib/python3.7/dist-packages (from prompt-toolkit<2.0.0,>=1.0.4->ipython->otter-grader==1.0.0->-r requirements.txt (line 6)) (0.2.5)\n",
      "Requirement already satisfied: MarkupSafe>=0.23 in /usr/local/lib/python3.7/dist-packages (from jinja2->otter-grader==1.0.0->-r requirements.txt (line 6)) (2.0.1)\n",
      "Requirement already satisfied: bleach in /usr/local/lib/python3.7/dist-packages (from nbconvert->otter-grader==1.0.0->-r requirements.txt (line 6)) (5.0.0)\n",
      "Requirement already satisfied: testpath in /usr/local/lib/python3.7/dist-packages (from nbconvert->otter-grader==1.0.0->-r requirements.txt (line 6)) (0.6.0)\n",
      "Requirement already satisfied: defusedxml in /usr/local/lib/python3.7/dist-packages (from nbconvert->otter-grader==1.0.0->-r requirements.txt (line 6)) (0.7.1)\n",
      "Requirement already satisfied: jupyter-core in /usr/local/lib/python3.7/dist-packages (from nbconvert->otter-grader==1.0.0->-r requirements.txt (line 6)) (4.10.0)\n",
      "Requirement already satisfied: entrypoints>=0.2.2 in /usr/local/lib/python3.7/dist-packages (from nbconvert->otter-grader==1.0.0->-r requirements.txt (line 6)) (0.4)\n",
      "Requirement already satisfied: pandocfilters>=1.4.1 in /usr/local/lib/python3.7/dist-packages (from nbconvert->otter-grader==1.0.0->-r requirements.txt (line 6)) (1.5.0)\n",
      "Requirement already satisfied: mistune<2,>=0.8.1 in /usr/local/lib/python3.7/dist-packages (from nbconvert->otter-grader==1.0.0->-r requirements.txt (line 6)) (0.8.4)\n",
      "Requirement already satisfied: fastjsonschema in /usr/local/lib/python3.7/dist-packages (from nbformat->otter-grader==1.0.0->-r requirements.txt (line 6)) (2.15.3)\n",
      "Requirement already satisfied: jsonschema>=2.6 in /usr/local/lib/python3.7/dist-packages (from nbformat->otter-grader==1.0.0->-r requirements.txt (line 6)) (4.3.3)\n",
      "Requirement already satisfied: importlib-resources>=1.4.0 in /usr/local/lib/python3.7/dist-packages (from jsonschema>=2.6->nbformat->otter-grader==1.0.0->-r requirements.txt (line 6)) (5.7.1)\n",
      "Requirement already satisfied: pyrsistent!=0.17.0,!=0.17.1,!=0.17.2,>=0.14.0 in /usr/local/lib/python3.7/dist-packages (from jsonschema>=2.6->nbformat->otter-grader==1.0.0->-r requirements.txt (line 6)) (0.18.1)\n",
      "Requirement already satisfied: attrs>=17.4.0 in /usr/local/lib/python3.7/dist-packages (from jsonschema>=2.6->nbformat->otter-grader==1.0.0->-r requirements.txt (line 6)) (21.4.0)\n",
      "Requirement already satisfied: webencodings in /usr/local/lib/python3.7/dist-packages (from bleach->nbconvert->otter-grader==1.0.0->-r requirements.txt (line 6)) (0.5.1)\n",
      "Requirement already satisfied: python-dateutil>=2.7.3 in /usr/local/lib/python3.7/dist-packages (from pandas->otter-grader==1.0.0->-r requirements.txt (line 6)) (2.8.2)\n",
      "Requirement already satisfied: pytz>=2017.3 in /usr/local/lib/python3.7/dist-packages (from pandas->otter-grader==1.0.0->-r requirements.txt (line 6)) (2022.1)\n",
      "Requirement already satisfied: ptyprocess>=0.5 in /usr/local/lib/python3.7/dist-packages (from pexpect->ipython->otter-grader==1.0.0->-r requirements.txt (line 6)) (0.7.0)\n",
      "Building wheels for collected packages: func-timeout, wget\n",
      "  Building wheel for func-timeout (setup.py) ... \u001b[?25l\u001b[?25hdone\n",
      "  Created wheel for func-timeout: filename=func_timeout-4.3.5-py3-none-any.whl size=15098 sha256=cd8eaf46befbd491317b346ee5f0c1237243db646ad1cdba23b0a767cc3d08e2\n",
      "  Stored in directory: /root/.cache/pip/wheels/68/b5/a5/67c4364c354e141f5a1bd3ec568126f77877ab7554cf5af8cb\n",
      "  Building wheel for wget (setup.py) ... \u001b[?25l\u001b[?25hdone\n",
      "  Created wheel for wget: filename=wget-3.2-py3-none-any.whl size=9675 sha256=ba361a5cf7938e52263803723fafbfb26c5b99e8e5f0e574c14a792375a6a83d\n",
      "  Stored in directory: /root/.cache/pip/wheels/a1/b6/7c/0e63e34eb06634181c63adacca38b79ff8f35c37e3c13e3c02\n",
      "Successfully built func-timeout wget\n",
      "Installing collected packages: websocket-client, pyyaml, torch, tokenizers, PyPDF2, pdfkit, huggingface-hub, docker, wget, transformers, torchtext, otter-grader, func-timeout, cryptography\n",
      "  Attempting uninstall: pyyaml\n",
      "    Found existing installation: PyYAML 3.13\n",
      "    Uninstalling PyYAML-3.13:\n",
      "      Successfully uninstalled PyYAML-3.13\n",
      "  Attempting uninstall: torch\n",
      "    Found existing installation: torch 1.11.0+cu113\n",
      "    Uninstalling torch-1.11.0+cu113:\n",
      "      Successfully uninstalled torch-1.11.0+cu113\n",
      "  Attempting uninstall: torchtext\n",
      "    Found existing installation: torchtext 0.12.0\n",
      "    Uninstalling torchtext-0.12.0:\n",
      "      Successfully uninstalled torchtext-0.12.0\n",
      "\u001b[31mERROR: pip's dependency resolver does not currently take into account all the packages that are installed. This behaviour is the source of the following dependency conflicts.\n",
      "torchvision 0.12.0+cu113 requires torch==1.11.0, but you have torch 1.10.2 which is incompatible.\n",
      "torchaudio 0.11.0+cu113 requires torch==1.11.0, but you have torch 1.10.2 which is incompatible.\u001b[0m\n",
      "Successfully installed PyPDF2-2.5.0 cryptography-37.0.4 docker-5.0.3 func-timeout-4.3.5 huggingface-hub-0.8.1 otter-grader-1.0.0 pdfkit-1.0.0 pyyaml-6.0 tokenizers-0.12.1 torch-1.10.2 torchtext-0.11.2 transformers-4.20.1 websocket-client-1.3.3 wget-3.2\n"
     ]
    }
   ],
   "source": [
    "from google.colab import drive\n",
    "drive.mount('/content/drive')\n",
    "# my files are in 'labs/lab0-0'\n",
    "!cp -r /content/drive/MyDrive/Project4/* .\n",
    "!pip install -r requirements.txt\n",
    "# restart the runtime\n",
    "import os\n",
    "os._exit(00)"
   ]
  },
  {
   "cell_type": "code",
   "execution_count": 1,
   "id": "950b8248",
   "metadata": {
    "colab": {
     "base_uri": "https://localhost:8080/"
    },
    "id": "950b8248",
    "outputId": "4e7401ec-48c6-4f4b-dc3b-1ef2a50a8213"
   },
   "outputs": [
    {
     "name": "stdout",
     "output_type": "stream",
     "text": [
      "\n"
     ]
    }
   ],
   "source": [
    "# Please do not change this cell because some hidden tests might depend on it.\n",
    "import os\n",
    "\n",
    "# Otter grader does not handle ! commands well, so we define and use our\n",
    "# own function to execute shell commands.\n",
    "def shell(commands, warn=True):\n",
    "    \"\"\"Executes the string `commands` as a sequence of shell commands.\n",
    "     \n",
    "       Prints the result to stdout and returns the exit status. \n",
    "       Provides a printed warning on non-zero exit status unless `warn` \n",
    "       flag is unset.\n",
    "    \"\"\"\n",
    "    file = os.popen(commands)\n",
    "    print (file.read().rstrip('\\n'))\n",
    "    exit_status = file.close()\n",
    "    if warn and exit_status != None:\n",
    "        print(f\"Completed with errors. Exit status: {exit_status}\\n\")\n",
    "    return exit_status\n",
    "\n",
    "shell(\"\"\"\n",
    "ls requirements.txt >/dev/null 2>&1\n",
    "if [ ! $? = 0 ]; then\n",
    " rm -rf .tmp\n",
    " git clone https://github.com/cs236299-2022-spring/project4.git .tmp\n",
    " mv .tmp/requirements.txt ./\n",
    " rm -rf .tmp\n",
    "fi\n",
    "pip install -q -r requirements.txt\n",
    "\"\"\")"
   ]
  },
  {
   "cell_type": "code",
   "execution_count": 2,
   "id": "a25ef7f2",
   "metadata": {
    "id": "a25ef7f2"
   },
   "outputs": [],
   "source": [
    "# Initialize Otter\n",
    "import otter\n",
    "grader = otter.Notebook()"
   ]
  },
  {
   "cell_type": "raw",
   "id": "d63aa7ef",
   "metadata": {
    "id": "d63aa7ef"
   },
   "source": [
    "%%latex\n",
    "\\newcommand{\\vect}[1]{\\mathbf{#1}}\n",
    "\\newcommand{\\cnt}[1]{\\sharp(#1)}\n",
    "\\newcommand{\\argmax}[1]{\\underset{#1}{\\operatorname{argmax}}}\n",
    "\\newcommand{\\softmax}{\\operatorname{softmax}}\n",
    "\\newcommand{\\Prob}{\\Pr}\n",
    "\\newcommand{\\given}{\\,|\\,}"
   ]
  },
  {
   "cell_type": "markdown",
   "id": "c2557ead",
   "metadata": {
    "id": "c2557ead"
   },
   "source": [
    "$$\n",
    "\\renewcommand{\\vect}[1]{\\mathbf{#1}}\n",
    "\\renewcommand{\\cnt}[1]{\\sharp(#1)}\n",
    "\\renewcommand{\\argmax}[1]{\\underset{#1}{\\operatorname{argmax}}}\n",
    "\\renewcommand{\\softmax}{\\operatorname{softmax}}\n",
    "\\renewcommand{\\Prob}{\\Pr}\n",
    "\\renewcommand{\\given}{\\,|\\,}\n",
    "$$"
   ]
  },
  {
   "cell_type": "markdown",
   "id": "57f766dc",
   "metadata": {
    "id": "57f766dc"
   },
   "source": [
    "# \t236299 - Introduction to Natural Language Processing\n",
    "## Project 4: Semantic Interpretation – Question Answering"
   ]
  },
  {
   "cell_type": "markdown",
   "id": "7cf2a34b",
   "metadata": {
    "id": "7cf2a34b"
   },
   "source": [
    "The goal of semantic parsing is to convert natural language utterances to a meaning representation such as a _logical form_ expression or a _SQL query_. In the previous project segment, you built a parsing system to reconstruct parse trees from the natural-language queries in the ATIS dataset. However, that only solves an intermediary task, not the end-user task of obtaining answers to the queries.\n",
    "\n",
    "In this final project segment, you will go further, building a semantic parsing system to convert English queries to SQL queries, so that by consulting a database you will be able to answer those questions. You will implement both a rule-based approach and an end-to-end sequence-to-sequence (seq2seq) approach. Both algorithms come with their pros and cons, and by the end of this segment you should have a basic understanding of the characteristics of the two approaches. \n",
    "\n",
    "## Goals\n",
    "\n",
    "1. Build a semantic parsing algorithm to convert text to SQL queries based on the syntactic parse trees from the last project.\n",
    "2. Build an attention-based end-to-end seq2seq system to convert text to SQL.\n",
    "3. Improve the attention-based end-to-end seq2seq system with self-attention to convert text to SQL.\n",
    "4. Discuss the pros and cons of the rule-based system and the end-to-end system.\n",
    "5. (Optional) Use the state-of-the-art pretrained transformers for text-to-SQL conversion.\n",
    "\n",
    "This will be an extremely challenging project, so we recommend that you start early."
   ]
  },
  {
   "cell_type": "markdown",
   "id": "d345044b",
   "metadata": {
    "id": "d345044b"
   },
   "source": [
    "# Setup"
   ]
  },
  {
   "cell_type": "code",
   "execution_count": 56,
   "id": "5e6883c2",
   "metadata": {
    "id": "5e6883c2"
   },
   "outputs": [],
   "source": [
    "import copy\n",
    "import datetime\n",
    "import math\n",
    "import re\n",
    "import sys\n",
    "import warnings\n",
    "\n",
    "import wget\n",
    "import nltk\n",
    "import sqlite3\n",
    "import torch\n",
    "import torch.nn as nn\n",
    "import torchtext.legacy as tt\n",
    "\n",
    "from cryptography.fernet import Fernet\n",
    "from func_timeout import func_set_timeout\n",
    "from torch.nn.utils.rnn import pack_padded_sequence as pack\n",
    "from torch.nn.utils.rnn import pad_packed_sequence as unpack\n",
    "from tqdm import tqdm\n",
    "from transformers import BartTokenizer, BartForConditionalGeneration"
   ]
  },
  {
   "cell_type": "code",
   "execution_count": 57,
   "id": "b9311107",
   "metadata": {
    "colab": {
     "base_uri": "https://localhost:8080/"
    },
    "id": "b9311107",
    "outputId": "5df66d1d-4373-468c-d0ac-6802efe80764"
   },
   "outputs": [
    {
     "name": "stdout",
     "output_type": "stream",
     "text": [
      "cuda\n"
     ]
    }
   ],
   "source": [
    "# Set random seeds\n",
    "seed = 1234\n",
    "torch.manual_seed(seed)\n",
    "# Set timeout for executing SQL\n",
    "TIMEOUT = 3 # seconds\n",
    "\n",
    "# GPU check: Set runtime type to use GPU where available\n",
    "device = torch.device(\"cuda\" if torch.cuda.is_available() else \"cpu\")\n",
    "print (device)"
   ]
  },
  {
   "cell_type": "code",
   "execution_count": 58,
   "id": "8fe1c8d5",
   "metadata": {
    "colab": {
     "base_uri": "https://localhost:8080/",
     "height": 35
    },
    "id": "8fe1c8d5",
    "outputId": "8cd24fe0-4a92-4514-a987-a7ab74e10894"
   },
   "outputs": [
    {
     "data": {
      "application/vnd.google.colaboratory.intrinsic+json": {
       "type": "string"
      },
      "text/plain": [
       "'data//atis_sqlite (1).db'"
      ]
     },
     "execution_count": 58,
     "metadata": {},
     "output_type": "execute_result"
    }
   ],
   "source": [
    "## Download needed scripts and data\n",
    "os.makedirs('data', exist_ok=True)\n",
    "os.makedirs('scripts', exist_ok=True)\n",
    "source_url = \"https://raw.githubusercontent.com/nlp-236299/data/master\"\n",
    "\n",
    "# Grammar to augment for this segment\n",
    "if not os.path.isfile('data/grammar'):\n",
    "  wget.download(f\"{source_url}/ATIS/grammar_distrib4.crypt\", out=\"data/\")\n",
    "\n",
    "  # Decrypt the grammar file\n",
    "  key = b'bfksTY2BJ5VKKK9xZb1PDDLaGkdu7KCDFYfVePSEfGY='\n",
    "  fernet = Fernet(key)\n",
    "  with open('./data/grammar_distrib4.crypt', 'rb') as f:\n",
    "    restored = Fernet(key).decrypt(f.read())\n",
    "  with open('./data/grammar', 'wb') as f:\n",
    "    f.write(restored)\n",
    "\n",
    "# Download scripts and ATIS database\n",
    "wget.download(f\"{source_url}/scripts/trees/transform.py\", out=\"scripts/\")\n",
    "wget.download(f\"{source_url}/ATIS/atis_sqlite.db\", out=\"data/\")"
   ]
  },
  {
   "cell_type": "code",
   "execution_count": 59,
   "id": "26b54859",
   "metadata": {
    "id": "26b54859"
   },
   "outputs": [],
   "source": [
    "# Import downloaded scripts for parsing augmented grammars\n",
    "sys.path.insert(1, './scripts')\n",
    "import transform as xform"
   ]
  },
  {
   "cell_type": "markdown",
   "id": "7ae67727",
   "metadata": {
    "id": "7ae67727"
   },
   "source": [
    "# Semantically augmented grammars\n",
    "\n",
    "In the first part of this project segment, you'll be implementing a rule-based system for semantic interpretation of sentences. Before jumping into using such a system on the ATIS dataset – we'll get to that soon enough – let's first work with some trivial examples to get things going.\n",
    "\n",
    "The fundamental idea of rule-based semantic interpretation is the rule of compositionality, that *the meaning of a constituent is a function of the meanings of its immediate subconstituents and the syntactic rule that combined them*. This leads to an infrastructure for specifying semantic interpretation in which each syntactic rule in a grammar (in our case, a context-free grammar) is associated with a semantic rule that applies to the meanings associated with the elements on the right-hand side of the rule.\n",
    "\n",
    "## Example: arithmetic expressions\n",
    "\n",
    "As a first example, let's consider an augmented grammar for arithmetic expressions, familiar from lab 3-1. We again use the function `xform.parse_augmented_grammar` to parse the augmented grammar. You can read more about it in the file `scripts/transform.py`."
   ]
  },
  {
   "cell_type": "code",
   "execution_count": 60,
   "id": "ed34d375",
   "metadata": {
    "id": "ed34d375"
   },
   "outputs": [],
   "source": [
    "arithmetic_grammar, arithmetic_augmentations = xform.parse_augmented_grammar(\n",
    "    \"\"\"\n",
    "    ## Sample grammar for arithmetic expressions\n",
    "    \n",
    "    S -> NUM                              : lambda Num: Num\n",
    "       | S OP S                           : lambda S1, Op, S2: Op(S1, S2)\n",
    "\n",
    "    OP -> ADD                             : lambda Op: Op\n",
    "        | SUB \n",
    "        | MULT\n",
    "        | DIV\n",
    "\n",
    "    NUM -> 'zero'                         : lambda: 0\n",
    "         | 'one'                          : lambda: 1\n",
    "         | 'two'                          : lambda: 2\n",
    "         | 'three'                        : lambda: 3\n",
    "         | 'four'                         : lambda: 4\n",
    "         | 'five'                         : lambda: 5\n",
    "         | 'six'                          : lambda: 6\n",
    "         | 'seven'                        : lambda: 7\n",
    "         | 'eight'                        : lambda: 8\n",
    "         | 'nine'                         : lambda: 9\n",
    "         | 'ten'                          : lambda: 10\n",
    "\n",
    "    ADD -> 'plus' | 'added' 'to'          : lambda: lambda x, y: x + y\n",
    "    SUB -> 'minus'                        : lambda: lambda x, y: x - y\n",
    "    MULT -> 'times' | 'multiplied' 'by'   : lambda: lambda x, y: x * y\n",
    "    DIV -> 'divided' 'by'                 : lambda: lambda x, y: x / y\n",
    "    \"\"\"\n",
    ")"
   ]
  },
  {
   "cell_type": "markdown",
   "id": "1d6098df",
   "metadata": {
    "id": "1d6098df"
   },
   "source": [
    "Recall that in this grammar specification format, rules that are not explicitly provided with an augmentation (like all the `OP` rules after the first `OP -> ADD`) are associated with the textually most recent one (`lambda Op: Op`).\n",
    "\n",
    "The `parse_augmented_grammar` function returns both an NLTK grammar and a dictionary that maps from productions in the grammar to their associated augmentations. Let's examine the returned grammar."
   ]
  },
  {
   "cell_type": "code",
   "execution_count": 61,
   "id": "8fb4a8dc",
   "metadata": {
    "colab": {
     "base_uri": "https://localhost:8080/"
    },
    "id": "8fb4a8dc",
    "outputId": "4207dc7b-b802-45a7-e9c4-8f48e43c34c2"
   },
   "outputs": [
    {
     "name": "stdout",
     "output_type": "stream",
     "text": [
      "S -> NUM                      <function <lambda> at 0x7f6bb05229e0>\n",
      "S -> S OP S                   <function <lambda> at 0x7f6bb0522dd0>\n",
      "OP -> ADD                     <function <lambda> at 0x7f6bb0522170>\n",
      "OP -> SUB                     <function <lambda> at 0x7f6bb0522b00>\n",
      "OP -> MULT                    <function <lambda> at 0x7f6bb0522ef0>\n",
      "OP -> DIV                     <function <lambda> at 0x7f6bb06a9cb0>\n",
      "NUM -> 'zero'                 <function <lambda> at 0x7f6bb06a9ef0>\n",
      "NUM -> 'one'                  <function <lambda> at 0x7f6bb06a9d40>\n",
      "NUM -> 'two'                  <function <lambda> at 0x7f6bb06a9b00>\n",
      "NUM -> 'three'                <function <lambda> at 0x7f6bb06a99e0>\n",
      "NUM -> 'four'                 <function <lambda> at 0x7f6bb06a98c0>\n",
      "NUM -> 'five'                 <function <lambda> at 0x7f6bb06a97a0>\n",
      "NUM -> 'six'                  <function <lambda> at 0x7f6bb06a9680>\n",
      "NUM -> 'seven'                <function <lambda> at 0x7f6bb06a9560>\n",
      "NUM -> 'eight'                <function <lambda> at 0x7f6bb06a9440>\n",
      "NUM -> 'nine'                 <function <lambda> at 0x7f6bb06a9320>\n",
      "NUM -> 'ten'                  <function <lambda> at 0x7f6bb06a9200>\n",
      "ADD -> 'plus'                 <function <lambda> at 0x7f6bb06a9050>\n",
      "ADD -> 'added' 'to'           <function <lambda> at 0x7f6bb0911f80>\n",
      "SUB -> 'minus'                <function <lambda> at 0x7f6bb0911dd0>\n",
      "MULT -> 'times'               <function <lambda> at 0x7f6bb0911c20>\n",
      "MULT -> 'multiplied' 'by'     <function <lambda> at 0x7f6bb0911a70>\n",
      "DIV -> 'divided' 'by'         <function <lambda> at 0x7f6bb09118c0>\n"
     ]
    }
   ],
   "source": [
    "for production in arithmetic_grammar.productions():\n",
    "  print(f\"{repr(production):25}     {arithmetic_augmentations[production]}\")"
   ]
  },
  {
   "cell_type": "markdown",
   "id": "355ed6c4",
   "metadata": {
    "id": "355ed6c4"
   },
   "source": [
    "We can parse with the grammar using one of the built-in NLTK parsers."
   ]
  },
  {
   "cell_type": "code",
   "execution_count": 62,
   "id": "0b04e6b2",
   "metadata": {
    "colab": {
     "base_uri": "https://localhost:8080/"
    },
    "id": "0b04e6b2",
    "outputId": "8299a868-0643-4a70-8a80-51de75badeb9"
   },
   "outputs": [
    {
     "name": "stdout",
     "output_type": "stream",
     "text": [
      "            S            \n",
      "        ____|_________    \n",
      "       S         |    |  \n",
      "   ____|____     |    |   \n",
      "  S    OP   S    OP   S  \n",
      "  |    |    |    |    |   \n",
      " NUM  ADD  NUM  MULT NUM \n",
      "  |    |    |    |    |   \n",
      "three plus one times four\n",
      "\n",
      "            S            \n",
      "   _________|____         \n",
      "  |    |         S       \n",
      "  |    |     ____|____    \n",
      "  S    OP   S    OP   S  \n",
      "  |    |    |    |    |   \n",
      " NUM  ADD  NUM  MULT NUM \n",
      "  |    |    |    |    |   \n",
      "three plus one times four\n",
      "\n"
     ]
    }
   ],
   "source": [
    "arithmetic_parser = nltk.parse.BottomUpChartParser(arithmetic_grammar)\n",
    "parses = [p for p in arithmetic_parser.parse('three plus one times four'.split())]\n",
    "for parse in parses:\n",
    "  parse.pretty_print()"
   ]
  },
  {
   "cell_type": "markdown",
   "id": "68c38950",
   "metadata": {
    "id": "68c38950"
   },
   "source": [
    "Now let's turn to the augmentations. They can be arbitrary Python functions applied to the semantic representations associated with the right-hand-side nonterminals, returning the semantic representation of the left-hand side. To interpret the semantic representation of the entire sentence (at the root of the parse tree), we can use the following pseudo-code:\n",
    "```\n",
    "to interpret a tree:\n",
    "  interpret each of the nonterminal-rooted subtrees\n",
    "  find the augmentation associated with the root production of the tree\n",
    "    (it should be a function of as many arguments as there are nonterminals on the right-hand side)\n",
    "  return the result of applying the augmentation to the subtree values\n",
    "```\n",
    "(The base case of this recursion occurs when the number of nonterminal-rooted subtrees is zero, that is, a rule all of whose right-hand side elements are terminals.)\n",
    "\n",
    "Suppose we had such a function, call it `interpret`. How would it operate on, for instance, the tree `(S (S (NUM three)) (OP (ADD plus)) (S (NUM one)))`?\n",
    "\n",
    "```\n",
    "interpret (S (S (NUM three)) (OP (ADD plus)) (S (NUM one)))\n",
    "    |->interpret (S (NUM three))\n",
    "    |      |->interpret (NUM three)\n",
    "    |      |      |->(no subconstituents to evaluate)\n",
    "    |      |      |->apply the augmentation for the rule NUM -> three to the empty set of values\n",
    "    |      |      |      (lambda: 3) () ==> 3\n",
    "    |      |      \\==> 3\n",
    "    |      |->apply the augmentation for the rule S -> NUM to the value 3\n",
    "    |      |      (lambda NUM: NUM)(3) ==> 3\n",
    "    |      \\==> 3\n",
    "    |->interpret (OP (ADD plus)) \n",
    "    |      |...\n",
    "    |      \\==> lambda x, y: x + y\n",
    "    |->interpret (S (NUM one))\n",
    "    |      |...\n",
    "    |      \\==> 1\n",
    "    |->apply the augmentation for the rule S -> S OP S to the values 3, (lambda x, y: x + y), and 1\n",
    "    |      (lambda S1, Op, S2: Op(S1, S2))(3, (lambda x, y: x + y), 1) ==> 4\n",
    "    \\==> 4\n",
    "```\n",
    "\n",
    "Thus, the string \"three plus one\" is semantically interpreted as the value 4.\n",
    "\n",
    "We provide the `interpret` function to carry out this recursive process, copied over from lab 4-2:"
   ]
  },
  {
   "cell_type": "code",
   "execution_count": 63,
   "id": "99104630",
   "metadata": {
    "id": "99104630"
   },
   "outputs": [],
   "source": [
    "def interpret(tree, augmentations):\n",
    "  syntactic_rule = tree.productions()[0]\n",
    "  semantic_rule = augmentations[syntactic_rule]\n",
    "  child_meanings = [interpret(child, augmentations) \n",
    "                    for child in tree \n",
    "                    if isinstance(child, nltk.Tree)]\n",
    "  return semantic_rule(*child_meanings)"
   ]
  },
  {
   "cell_type": "markdown",
   "id": "622fb2dc",
   "metadata": {
    "id": "622fb2dc"
   },
   "source": [
    "Now we should be able to evaluate the arithmetic example from above."
   ]
  },
  {
   "cell_type": "code",
   "execution_count": 64,
   "id": "855a5c99",
   "metadata": {
    "colab": {
     "base_uri": "https://localhost:8080/"
    },
    "id": "855a5c99",
    "outputId": "aa01e5f3-c464-4e54-df79-355e722bf885"
   },
   "outputs": [
    {
     "data": {
      "text/plain": [
       "16"
      ]
     },
     "execution_count": 64,
     "metadata": {},
     "output_type": "execute_result"
    }
   ],
   "source": [
    "interpret(parses[0], arithmetic_augmentations)"
   ]
  },
  {
   "cell_type": "markdown",
   "id": "6f348bc8",
   "metadata": {
    "id": "6f348bc8"
   },
   "source": [
    "And we can even write a function that parses and interprets a string. We'll have it evaluate each of the possible parses and print the results."
   ]
  },
  {
   "cell_type": "code",
   "execution_count": 65,
   "id": "dd784592",
   "metadata": {
    "id": "dd784592"
   },
   "outputs": [],
   "source": [
    "def parse_and_interpret(string, grammar, augmentations):\n",
    "  parser = nltk.parse.BottomUpChartParser(grammar)\n",
    "  parses = parser.parse(string.split())\n",
    "  for parse in parses:\n",
    "    parse.pretty_print()\n",
    "    print(parse, \"==>\", interpret(parse, augmentations))"
   ]
  },
  {
   "cell_type": "code",
   "execution_count": 66,
   "id": "66a97c1c",
   "metadata": {
    "colab": {
     "base_uri": "https://localhost:8080/"
    },
    "id": "66a97c1c",
    "outputId": "68ece5a1-9125-4947-ea14-331e9e00b950"
   },
   "outputs": [
    {
     "name": "stdout",
     "output_type": "stream",
     "text": [
      "            S            \n",
      "        ____|_________    \n",
      "       S         |    |  \n",
      "   ____|____     |    |   \n",
      "  S    OP   S    OP   S  \n",
      "  |    |    |    |    |   \n",
      " NUM  ADD  NUM  MULT NUM \n",
      "  |    |    |    |    |   \n",
      "three plus one times four\n",
      "\n",
      "(S\n",
      "  (S (S (NUM three)) (OP (ADD plus)) (S (NUM one)))\n",
      "  (OP (MULT times))\n",
      "  (S (NUM four))) ==> 16\n",
      "            S            \n",
      "   _________|____         \n",
      "  |    |         S       \n",
      "  |    |     ____|____    \n",
      "  S    OP   S    OP   S  \n",
      "  |    |    |    |    |   \n",
      " NUM  ADD  NUM  MULT NUM \n",
      "  |    |    |    |    |   \n",
      "three plus one times four\n",
      "\n",
      "(S\n",
      "  (S (NUM three))\n",
      "  (OP (ADD plus))\n",
      "  (S (S (NUM one)) (OP (MULT times)) (S (NUM four)))) ==> 7\n"
     ]
    }
   ],
   "source": [
    "parse_and_interpret(\"three plus one times four\", arithmetic_grammar, arithmetic_augmentations)"
   ]
  },
  {
   "cell_type": "markdown",
   "id": "6231db03",
   "metadata": {
    "id": "6231db03"
   },
   "source": [
    "Since the string is syntactically ambiguous according to the grammar, it is semantically ambiguous as well."
   ]
  },
  {
   "cell_type": "markdown",
   "id": "f065c35f",
   "metadata": {
    "id": "f065c35f"
   },
   "source": [
    "## Some grammar specification conveniences\n",
    "\n",
    "Before going on, it will be useful to have a few more conveniences in writing augmentations for rules. First, since the augmentations are arbitrary Python expressions, they can be built from and make use of other functions. For instance, you'll notice that many of the augmentations at the leaves of the tree took no arguments and returned a constant. We can define a function `constant` that returns a function that ignores its arguments and returns a particular value."
   ]
  },
  {
   "cell_type": "code",
   "execution_count": 67,
   "id": "8b8b3fea",
   "metadata": {
    "id": "8b8b3fea"
   },
   "outputs": [],
   "source": [
    "def constant(value):\n",
    "  \"\"\"Return `value`, ignoring any arguments\"\"\"\n",
    "  return lambda *args: value"
   ]
  },
  {
   "cell_type": "markdown",
   "id": "72a031be",
   "metadata": {
    "id": "72a031be"
   },
   "source": [
    "Similarly, several of the augmentations are functions that just return their first argument. Again, we can define a generic form `first` of such a function:"
   ]
  },
  {
   "cell_type": "code",
   "execution_count": 68,
   "id": "103a6d09",
   "metadata": {
    "id": "103a6d09"
   },
   "outputs": [],
   "source": [
    "def first(*args):\n",
    "  \"\"\"Return the value of the first (and perhaps only) subconstituent, \n",
    "     ignoring any others\"\"\"  \n",
    "  return args[0]"
   ]
  },
  {
   "cell_type": "markdown",
   "id": "0a433f17",
   "metadata": {
    "id": "0a433f17"
   },
   "source": [
    "We can now rewrite the grammar above to take advantage of these shortcuts. \n",
    "\n",
    "> In the call to `parse_augmented_grammar` below, we pass in the global environment, extracted via a `globals()` function call, via the named argument `globals`. This allows the `parse_augmented_grammar` function to make use of the global bindings for `constant`, `first`, and the like when evaluating the augmentation expressions to their values. You can check out the code in `transform.py` to see how the passed in `globals` bindings are used. To help understand what's going on, see what happens if you don't include the `globals=globals()`."
   ]
  },
  {
   "cell_type": "code",
   "execution_count": 69,
   "id": "6450c6e3",
   "metadata": {
    "id": "6450c6e3"
   },
   "outputs": [],
   "source": [
    "arithmetic_grammar_2, arithmetic_augmentations_2 = xform.parse_augmented_grammar(\n",
    "    \"\"\"\n",
    "    ## Sample grammar for arithmetic expressions\n",
    "    \n",
    "    S -> NUM                              : first\n",
    "       | S OP S                           : lambda S1, Op, S2: Op(S1, S2)\n",
    "\n",
    "    OP -> ADD                             : first\n",
    "       | SUB \n",
    "       | MULT\n",
    "       | DIV\n",
    "\n",
    "    NUM -> 'zero'                         : constant(0)\n",
    "         | 'one'                          : constant(1)\n",
    "         | 'two'                          : constant(2)\n",
    "         | 'three'                        : constant(3)\n",
    "         | 'four'                         : constant(4)\n",
    "         | 'five'                         : constant(5)\n",
    "         | 'six'                          : constant(6)\n",
    "         | 'seven'                        : constant(7)\n",
    "         | 'eight'                        : constant(8)\n",
    "         | 'nine'                         : constant(9)\n",
    "         | 'ten'                          : constant(10)\n",
    "\n",
    "    ADD -> 'plus' | 'added' 'to'          : constant(lambda x, y: x + y)\n",
    "    SUB -> 'minus'                        : constant(lambda x, y: x - y)\n",
    "    MULT -> 'times' | 'multiplied' 'by'   : constant(lambda x, y: x * y)\n",
    "    DIV -> 'divided' 'by'                 : constant(lambda x, y: x / y)\n",
    "    \"\"\",\n",
    "    globals=globals())"
   ]
  },
  {
   "cell_type": "markdown",
   "id": "1e01f958",
   "metadata": {
    "id": "1e01f958"
   },
   "source": [
    "Finally, it might make our lives easier to write a template of augmentations whose instantiation depends on the right-hand side of the rule. \n",
    "\n",
    "We use a reserved keyword `_RHS` to denote the right-hand side of the syntactic rule, which will be replaced by a **list** of the right-hand-side strings. For example, an augmentation `numeric_template(_RHS)` would be as if written as `numeric_template(['zero'])` when the rule is `NUM -> 'zero'`, and `numeric_template(['one'])` when the rule is `NUM -> 'one'`. The details of how this works can be found at [`scripts/transform.py`](https://github.com/nlp-236299/data/blob/master/scripts/trees/transform.py).\n",
    "\n",
    "This would allow us to use a single template function, for example,"
   ]
  },
  {
   "cell_type": "code",
   "execution_count": 70,
   "id": "a910940e",
   "metadata": {
    "id": "a910940e"
   },
   "outputs": [],
   "source": [
    "def numeric_template(rhs):\n",
    "  \"\"\"Ignore the subphrase meanings and lookup the first right-hand-side symbol \n",
    "     as a number\"\"\"\n",
    "  return constant({'zero':0, 'one':1, 'two':2, 'three':3, 'four':4, 'five':5,\n",
    "          'six':6, 'seven':7, 'eight':8, 'nine':9, 'ten':10}[rhs[0]])"
   ]
  },
  {
   "cell_type": "markdown",
   "id": "7c49ac69",
   "metadata": {
    "id": "7c49ac69"
   },
   "source": [
    "and then further simplify the grammar specification:"
   ]
  },
  {
   "cell_type": "code",
   "execution_count": 71,
   "id": "be55160f",
   "metadata": {
    "id": "be55160f"
   },
   "outputs": [],
   "source": [
    "arithmetic_grammar_3, arithmetic_augmentations_3 = xform.parse_augmented_grammar(\n",
    "    \"\"\"\n",
    "    ## Sample grammar for arithmetic expressions\n",
    "    \n",
    "    S -> NUM                              : first\n",
    "       | S OP S                           : lambda S1, Op, S2: Op(S1, S2)\n",
    "\n",
    "    OP -> ADD                             : first\n",
    "       | SUB\n",
    "       | MULT\n",
    "       | DIV\n",
    "\n",
    "    NUM -> 'zero'  | 'one'   | 'two'      : numeric_template(_RHS)\n",
    "         | 'three' | 'four'  | 'five'\n",
    "         | 'six'   | 'seven' | 'eight'\n",
    "         | 'nine'  | 'ten'\n",
    "\n",
    "    ADD -> 'plus' | 'added' 'to'          : constant(lambda x, y: x + y)\n",
    "    SUB -> 'minus'                        : constant(lambda x, y: x - y)\n",
    "    MULT -> 'times' | 'multiplied' 'by'   : constant(lambda x, y: x * y)\n",
    "    DIV -> 'divided' 'by'                 : constant(lambda x, y: x / y)\n",
    "    \"\"\",\n",
    "    globals=globals())"
   ]
  },
  {
   "cell_type": "code",
   "execution_count": 72,
   "id": "1b1267d2",
   "metadata": {
    "colab": {
     "base_uri": "https://localhost:8080/"
    },
    "id": "1b1267d2",
    "outputId": "1a5c685c-fa04-4de2-852a-1a8e048d4751"
   },
   "outputs": [
    {
     "name": "stdout",
     "output_type": "stream",
     "text": [
      "       S                 \n",
      "  _____|______________    \n",
      " S           OP       S  \n",
      " |           |        |   \n",
      "NUM         DIV      NUM \n",
      " |      _____|___     |   \n",
      "six divided      by three\n",
      "\n",
      "(S (S (NUM six)) (OP (DIV divided by)) (S (NUM three))) ==> 2.0\n"
     ]
    }
   ],
   "source": [
    "parse_and_interpret(\"six divided by three\", arithmetic_grammar_3, arithmetic_augmentations_3)"
   ]
  },
  {
   "cell_type": "markdown",
   "id": "7610d6de",
   "metadata": {
    "id": "7610d6de"
   },
   "source": [
    "## Example: _Green Eggs and Ham_ revisited\n",
    "\n",
    "This stuff is tricky, so it's useful to see more examples before jumping in the deep end. In this simple GEaH fragment grammar, we use a larger set of auxiliary functions to build the augmentations."
   ]
  },
  {
   "cell_type": "code",
   "execution_count": 73,
   "id": "14e7a796",
   "metadata": {
    "id": "14e7a796"
   },
   "outputs": [],
   "source": [
    "def forward(F, A):\n",
    "  \"\"\"Forward application: Return the application of the first \n",
    "     argument to the second\"\"\"\n",
    "  return F(A)\n",
    "\n",
    "def backward(A, F):\n",
    "  \"\"\"Backward application: Return the application of the second \n",
    "     argument to the first\"\"\"\n",
    "  return F(A)\n",
    "\n",
    "def second(*args):\n",
    "  \"\"\"Return the value of the second subconstituent, ignoring any others\"\"\"\n",
    "  return args[1]\n",
    "\n",
    "def ignore(*args):\n",
    "  \"\"\"Return `None`, ignoring everything about the constituent. (Good as a\n",
    "     placeholder until a better augmentation can be devised.)\"\"\"\n",
    "  return None"
   ]
  },
  {
   "cell_type": "markdown",
   "id": "1335b23d",
   "metadata": {
    "id": "1335b23d"
   },
   "source": [
    "Using these, we can build and test the grammar."
   ]
  },
  {
   "cell_type": "code",
   "execution_count": 74,
   "id": "7defaca8",
   "metadata": {
    "id": "7defaca8"
   },
   "outputs": [],
   "source": [
    "geah_grammar_spec = \"\"\"\n",
    "  ## Productions\n",
    "  S -> NP VP            : backward\n",
    "  VP -> V NP            : forward\n",
    "\n",
    "  ## Lexicon\n",
    "  V -> 'likes'          : constant(lambda Object: lambda Subject: f\"like({Subject}, {Object})\")\n",
    "  NP -> 'Sam' | 'sam'   : constant(_RHS[0])\n",
    "  NP -> 'ham'\n",
    "  NP -> 'eggs'\n",
    "\"\"\""
   ]
  },
  {
   "cell_type": "code",
   "execution_count": 75,
   "id": "931fea18",
   "metadata": {
    "id": "931fea18"
   },
   "outputs": [],
   "source": [
    "geah_grammar, geah_augmentations = xform.parse_augmented_grammar(geah_grammar_spec, \n",
    "                                                                 globals=globals())"
   ]
  },
  {
   "cell_type": "code",
   "execution_count": 76,
   "id": "75d6b0b6",
   "metadata": {
    "colab": {
     "base_uri": "https://localhost:8080/"
    },
    "id": "75d6b0b6",
    "outputId": "ba0434de-50fc-4edd-8161-6e4df93ffd2c"
   },
   "outputs": [
    {
     "name": "stdout",
     "output_type": "stream",
     "text": [
      "      S          \n",
      "  ____|____       \n",
      " |         VP    \n",
      " |     ____|___   \n",
      " NP   V        NP\n",
      " |    |        |  \n",
      "Sam likes     ham\n",
      "\n",
      "(S (NP Sam) (VP (V likes) (NP ham))) ==> like(Sam, ham)\n"
     ]
    }
   ],
   "source": [
    "parse_and_interpret(\"Sam likes ham\", geah_grammar, geah_augmentations)"
   ]
  },
  {
   "cell_type": "markdown",
   "id": "37c6846d",
   "metadata": {
    "id": "37c6846d"
   },
   "source": [
    "# Semantics of ATIS queries\n",
    "\n",
    "Now you're in a good position to understand and add augmentations to a more comprehensive grammar, say, one that parses ATIS queries and generates SQL queries.\n",
    "\n",
    "In preparation for that, we need to load the ATIS data, both NL and SQL queries."
   ]
  },
  {
   "cell_type": "markdown",
   "id": "93384b7d",
   "metadata": {
    "id": "93384b7d"
   },
   "source": [
    "## Loading and preprocessing the corpus\n",
    "\n",
    "To simplify things a bit, we'll only consider ATIS queries whose question type (remember that from project segment 1?) is `flight_id`. We download training, development, and test splits for this subset of the ATIS corpus, including corresponding SQL queries."
   ]
  },
  {
   "cell_type": "code",
   "execution_count": 77,
   "id": "4f51262c",
   "metadata": {
    "colab": {
     "base_uri": "https://localhost:8080/",
     "height": 35
    },
    "id": "4f51262c",
    "outputId": "b3eb9275-a2a1-44ab-dcf6-5eaa2067b4fb"
   },
   "outputs": [
    {
     "data": {
      "application/vnd.google.colaboratory.intrinsic+json": {
       "type": "string"
      },
      "text/plain": [
       "'data//train_flightid (1).sql'"
      ]
     },
     "execution_count": 77,
     "metadata": {},
     "output_type": "execute_result"
    }
   ],
   "source": [
    "# Acquire the datasets - training, development, and test splits of the \n",
    "# ATIS queries and corresponding SQL queries\n",
    "wget.download(f\"{source_url}/ATIS/test_flightid.nl\", out=\"data/\")\n",
    "wget.download(f\"{source_url}/ATIS/test_flightid.sql\", out=\"data/\")\n",
    "wget.download(f\"{source_url}/ATIS/dev_flightid.nl\", out=\"data/\")\n",
    "wget.download(f\"{source_url}/ATIS/dev_flightid.sql\", out=\"data/\")\n",
    "wget.download(f\"{source_url}/ATIS/train_flightid.nl\", out=\"data/\")\n",
    "wget.download(f\"{source_url}/ATIS/train_flightid.sql\", out=\"data/\")"
   ]
  },
  {
   "cell_type": "markdown",
   "id": "e87c15b5",
   "metadata": {
    "id": "e87c15b5"
   },
   "source": [
    "Let's take a look at the data: the NL queries are in `.nl` files, and the SQL queries are in `.sql` files."
   ]
  },
  {
   "cell_type": "code",
   "execution_count": 78,
   "id": "46cf3d34",
   "metadata": {
    "colab": {
     "base_uri": "https://localhost:8080/"
    },
    "id": "46cf3d34",
    "outputId": "7078fe66-139a-4fda-e9b0-a920906a603f"
   },
   "outputs": [
    {
     "name": "stdout",
     "output_type": "stream",
     "text": [
      "what flights are available tomorrow from denver to philadelphia\n",
      "SELECT DISTINCT flight_1.flight_id FROM flight flight_1 , airport_service airport_service_1 , city city_1 , airport_service airport_service_2 , city city_2 , days days_1 , date_day date_day_1 WHERE flight_1.from_airport = airport_service_1.airport_code AND airport_service_1.city_code = city_1.city_code AND city_1.city_name = 'DENVER' AND ( flight_1.to_airport = airport_service_2.airport_code AND airport_service_2.city_code = city_2.city_code AND city_2.city_name = 'PHILADELPHIA' AND flight_1.flight_days = days_1.days_code AND days_1.day_name = date_day_1.day_name AND date_day_1.year = 1991 AND date_day_1.month_number = 1 AND date_day_1.day_number = 20 )\n"
     ]
    }
   ],
   "source": [
    "shell(\"head -1 data/dev_flightid.nl\")\n",
    "shell(\"head -1 data/dev_flightid.sql\")"
   ]
  },
  {
   "cell_type": "markdown",
   "id": "2ec9ba80",
   "metadata": {
    "id": "2ec9ba80"
   },
   "source": [
    "## Corpus preprocessing"
   ]
  },
  {
   "cell_type": "markdown",
   "id": "8489fbcf",
   "metadata": {
    "id": "8489fbcf"
   },
   "source": [
    "We'll use `torchtext` to process the data. We use two `Field`s: `SRC` for the questions, and `TGT` for the SQL queries. We'll use the tokenizer from project segment 3."
   ]
  },
  {
   "cell_type": "code",
   "execution_count": 79,
   "id": "f9ad968f",
   "metadata": {
    "colab": {
     "base_uri": "https://localhost:8080/"
    },
    "id": "f9ad968f",
    "outputId": "7b3f59b5-b6c3-4e3f-df33-318a29817efe"
   },
   "outputs": [
    {
     "name": "stdout",
     "output_type": "stream",
     "text": [
      "['are', 'there', 'any', 'first-class', 'flights', 'from', 'st.', 'louis', 'at', '11', 'pm', 'for', 'less', 'than', '$3.50', '?']\n"
     ]
    }
   ],
   "source": [
    "## Tokenizer\n",
    "tokenizer = nltk.tokenize.RegexpTokenizer('\\d+|st\\.|[\\w-]+|\\$[\\d\\.]+|\\S+')\n",
    "def tokenize(string):\n",
    "  return tokenizer.tokenize(string.lower())\n",
    "\n",
    "## Demonstrating the tokenizer\n",
    "## Note especially the handling of `\"11pm\"` and hyphenated words.\n",
    "print(tokenize(\"Are there any first-class flights from St. Louis at 11pm for less than $3.50?\"))"
   ]
  },
  {
   "cell_type": "code",
   "execution_count": 80,
   "id": "22431b3b",
   "metadata": {
    "id": "22431b3b"
   },
   "outputs": [],
   "source": [
    "SRC = tt.data.Field(include_lengths=True,         # include lengths\n",
    "                    batch_first=False,            # batches will be max_len x batch_size\n",
    "                    tokenize=tokenize,            # use our tokenizer\n",
    "                   ) \n",
    "TGT = tt.data.Field(include_lengths=False,\n",
    "                    batch_first=False,            # batches will be max_len x batch_size\n",
    "                    tokenize=lambda x: x.split(), # use split to tokenize\n",
    "                    init_token=\"<bos>\",           # prepend <bos>\n",
    "                    eos_token=\"<eos>\")            # append <eos>\n",
    "fields = [('src', SRC), ('tgt', TGT)]"
   ]
  },
  {
   "cell_type": "markdown",
   "id": "f9053b3a",
   "metadata": {
    "id": "f9053b3a"
   },
   "source": [
    "> Note that we specified `batch_first=False` (as in lab 4-4), so that the returned batched tensors would be of size `max_length x batch_size`, which facilitates seq2seq implementation.\n",
    "\n",
    "Now, we load the data using `torchtext`. We use the `TranslationDataset` class here because our task is essentially a translation task: \"translating\" questions into the corresponding SQL queries. Therefore, we also refer to the questions as the _source_ side (`SRC`) and the SQL queries as the _target_ side (`TGT`)."
   ]
  },
  {
   "cell_type": "code",
   "execution_count": 81,
   "id": "596106b2",
   "metadata": {
    "colab": {
     "base_uri": "https://localhost:8080/"
    },
    "id": "596106b2",
    "outputId": "61c2db03-06aa-438d-f8f2-b9a2a31069d7"
   },
   "outputs": [
    {
     "name": "stdout",
     "output_type": "stream",
     "text": [
      "Size of English vocab: 421\n",
      "Most common English words: [('to', 3478), ('from', 3019), ('flights', 2094), ('the', 1550), ('on', 1230), ('me', 973), ('flight', 972), ('show', 845), ('what', 833), ('boston', 813)]\n",
      "\n",
      "Size of SQL vocab: 392\n",
      "Most common SQL words: [('=', 38876), ('AND', 36564), (',', 22772), ('airport_service', 8314), ('city', 8313), ('(', 6432), (')', 6432), ('flight_1.flight_id', 4536), ('flight', 4221), ('SELECT', 4178)]\n",
      "\n",
      "Index for start of sequence token: 2\n",
      "Index for end of sequence token: 3\n"
     ]
    }
   ],
   "source": [
    "# Make splits for data\n",
    "train_data, val_data, test_data = tt.datasets.TranslationDataset.splits(\n",
    "    ('_flightid.nl', '_flightid.sql'), fields, path='./data/',\n",
    "    train='train', validation='dev', test='test')\n",
    "\n",
    "MIN_FREQ = 3\n",
    "SRC.build_vocab(train_data.src, min_freq=MIN_FREQ)\n",
    "TGT.build_vocab(train_data.tgt, min_freq=MIN_FREQ)\n",
    "\n",
    "print (f\"Size of English vocab: {len(SRC.vocab)}\")\n",
    "print (f\"Most common English words: {SRC.vocab.freqs.most_common(10)}\\n\")\n",
    "\n",
    "print (f\"Size of SQL vocab: {len(TGT.vocab)}\")\n",
    "print (f\"Most common SQL words: {TGT.vocab.freqs.most_common(10)}\\n\")\n",
    "\n",
    "print (f\"Index for start of sequence token: {TGT.vocab.stoi[TGT.init_token]}\")\n",
    "print (f\"Index for end of sequence token: {TGT.vocab.stoi[TGT.eos_token]}\")"
   ]
  },
  {
   "cell_type": "markdown",
   "id": "ae99d64d",
   "metadata": {
    "id": "ae99d64d"
   },
   "source": [
    "Next, we batch our data to facilitate processing on a GPU. Batching is a bit tricky because the source and target will typically be of different lengths. Fortunately, `torchtext` allows us to pass in a `sort_key` function. By sorting on length, we can minimize the amount of padding on the source side, but since there is still some padding, we need to handle them with [`pack`](https://pytorch.org/docs/stable/generated/torch.nn.utils.rnn.pack_padded_sequence.html#torch.nn.utils.rnn.pack_padded_sequence) and [`unpack`](https://pytorch.org/docs/stable/generated/torch.nn.utils.rnn.pad_packed_sequence.html) later on in the seq2seq part (as in lab 4-5). "
   ]
  },
  {
   "cell_type": "code",
   "execution_count": 82,
   "id": "b67bbe04",
   "metadata": {
    "id": "b67bbe04"
   },
   "outputs": [],
   "source": [
    "BATCH_SIZE = 16 # batch size for training/validation\n",
    "TEST_BATCH_SIZE = 1 # batch size for test, we use 1 to make beam search implementation easier\n",
    "\n",
    "train_iter, val_iter = tt.data.BucketIterator.splits((train_data, val_data),\n",
    "                                                     batch_size=BATCH_SIZE, \n",
    "                                                     device=device,\n",
    "                                                     repeat=False, \n",
    "                                                     sort_key=lambda x: len(x.src), \n",
    "                                                     sort_within_batch=True)\n",
    "test_iter = tt.data.BucketIterator(test_data, \n",
    "                                   batch_size=TEST_BATCH_SIZE, \n",
    "                                   device=device,\n",
    "                                   repeat=False, \n",
    "                                   sort=False, \n",
    "                                   train=False)"
   ]
  },
  {
   "cell_type": "markdown",
   "id": "9f4b3ac6",
   "metadata": {
    "id": "9f4b3ac6"
   },
   "source": [
    "Let's look at a single batch from one of these iterators."
   ]
  },
  {
   "cell_type": "code",
   "execution_count": 83,
   "id": "b54608c0",
   "metadata": {
    "colab": {
     "base_uri": "https://localhost:8080/"
    },
    "id": "b54608c0",
    "outputId": "d443c91a-6056-43f5-dd4d-580b5bddc112"
   },
   "outputs": [
    {
     "name": "stdout",
     "output_type": "stream",
     "text": [
      "Size of text batch: torch.Size([7, 16])\n",
      "Third sentence in batch: tensor([21,  4,  3, 85,  2, 64, 73], device='cuda:0')\n",
      "Length of the third sentence in batch: 7\n",
      "Converted back to string: all flights from miami to new york\n",
      "Size of sql batch: torch.Size([99, 16])\n",
      "Third SQL in batch: tensor([  2,  14,  31,  11,  13,  12,  16,   6,   7,  22,   6,   8,  23,   6,\n",
      "          7,  29,   6,   8,  30,  15,  21,   4,  18,   5,  19,   4,  17,   5,\n",
      "         20,   4, 128,   5,  24,   4,  25,   5,  26,   4,  27,   5,  28,   4,\n",
      "        116, 122,   3,   1,   1,   1,   1,   1,   1,   1,   1,   1,   1,   1,\n",
      "          1,   1,   1,   1,   1,   1,   1,   1,   1,   1,   1,   1,   1,   1,\n",
      "          1,   1,   1,   1,   1,   1,   1,   1,   1,   1,   1,   1,   1,   1,\n",
      "          1,   1,   1,   1,   1,   1,   1,   1,   1,   1,   1,   1,   1,   1,\n",
      "          1], device='cuda:0')\n",
      "Converted back to string: <bos> SELECT DISTINCT flight_1.flight_id FROM flight flight_1 , airport_service airport_service_1 , city city_1 , airport_service airport_service_2 , city city_2 WHERE flight_1.from_airport = airport_service_1.airport_code AND airport_service_1.city_code = city_1.city_code AND city_1.city_name = 'MIAMI' AND flight_1.to_airport = airport_service_2.airport_code AND airport_service_2.city_code = city_2.city_code AND city_2.city_name = 'NEW YORK' <eos> <pad> <pad> <pad> <pad> <pad> <pad> <pad> <pad> <pad> <pad> <pad> <pad> <pad> <pad> <pad> <pad> <pad> <pad> <pad> <pad> <pad> <pad> <pad> <pad> <pad> <pad> <pad> <pad> <pad> <pad> <pad> <pad> <pad> <pad> <pad> <pad> <pad> <pad> <pad> <pad> <pad> <pad> <pad> <pad> <pad> <pad> <pad> <pad> <pad> <pad> <pad> <pad> <pad> <pad>\n"
     ]
    }
   ],
   "source": [
    "batch = next(iter(train_iter))\n",
    "train_batch_text, train_batch_text_lengths = batch.src\n",
    "print (f\"Size of text batch: {train_batch_text.shape}\")\n",
    "print (f\"Third sentence in batch: {train_batch_text[:, 2]}\")\n",
    "print (f\"Length of the third sentence in batch: {train_batch_text_lengths[2]}\")\n",
    "print (f\"Converted back to string: {' '.join([SRC.vocab.itos[i] for i in train_batch_text[:, 2]])}\")\n",
    "\n",
    "train_batch_sql = batch.tgt\n",
    "print (f\"Size of sql batch: {train_batch_sql.shape}\")\n",
    "print (f\"Third SQL in batch: {train_batch_sql[:, 2]}\")\n",
    "print (f\"Converted back to string: {' '.join([TGT.vocab.itos[i] for i in train_batch_sql[:, 2]])}\")"
   ]
  },
  {
   "cell_type": "markdown",
   "id": "87362e88",
   "metadata": {
    "id": "87362e88"
   },
   "source": [
    "Alternatively, we can directly iterate over the raw examples:"
   ]
  },
  {
   "cell_type": "code",
   "execution_count": 84,
   "id": "51eec2bf",
   "metadata": {
    "colab": {
     "base_uri": "https://localhost:8080/"
    },
    "id": "51eec2bf",
    "outputId": "f92bb34e-5eec-45b7-a85a-28dc5109bed2"
   },
   "outputs": [
    {
     "name": "stdout",
     "output_type": "stream",
     "text": [
      "Question: list all the flights that arrive at general mitchell international from various cities\n",
      "\n",
      "SQL: SELECT DISTINCT flight_1.flight_id FROM flight flight_1 , airport airport_1 , airport_service airport_service_1 , city city_1 WHERE flight_1.to_airport = airport_1.airport_code AND airport_1.airport_code = 'MKE' AND flight_1.from_airport = airport_service_1.airport_code AND airport_service_1.city_code = city_1.city_code AND 1 = 1\n"
     ]
    }
   ],
   "source": [
    "for example in train_iter.dataset[:1]:\n",
    "  train_text_1 = ' '.join(example.src) # detokenized question\n",
    "  train_sql_1 = ' '.join(example.tgt)  # detokenized sql\n",
    "  print (f\"Question: {train_text_1}\\n\")\n",
    "  print (f\"SQL: {train_sql_1}\")"
   ]
  },
  {
   "cell_type": "markdown",
   "id": "fd104480",
   "metadata": {
    "id": "fd104480"
   },
   "source": [
    "## Establishing a SQL database for evaluating ATIS queries\n",
    "\n",
    "The output of our systems will be SQL queries. How should we determine if the generated queries are correct? We can't merely compare against the gold SQL queries, since there are many ways to implement a SQL query that answers any given NL query.\n",
    "\n",
    "Instead, we will execute the queries – both the predicted SQL query and the gold SQL query – on an actual database, and verify that the returned responses are the same. For that purpose, we need a SQL database server to use. We'll set one up here, using the [Python `sqlite3` module](https://docs.python.org/3.8/library/sqlite3.html)."
   ]
  },
  {
   "cell_type": "code",
   "execution_count": 85,
   "id": "1de75894",
   "metadata": {
    "id": "1de75894"
   },
   "outputs": [],
   "source": [
    "@func_set_timeout(TIMEOUT)\n",
    "def execute_sql(sql):\n",
    "  conn = sqlite3.connect('data/atis_sqlite.db')  # establish the DB based on the downloaded data\n",
    "  c = conn.cursor()                              # build a \"cursor\"\n",
    "  c.execute(sql)\n",
    "  results = list(c.fetchall())\n",
    "  c.close()\n",
    "  conn.close()\n",
    "  return results"
   ]
  },
  {
   "cell_type": "markdown",
   "id": "b276ef58",
   "metadata": {
    "id": "b276ef58"
   },
   "source": [
    "To run a query, we use the cursor's `execute` function, and retrieve the results with `fetchall`. Let's get all the flights that arrive at General Mitchell International – the query `train_sql_1` above. There's a lot, so we'll just print out the first few."
   ]
  },
  {
   "cell_type": "code",
   "execution_count": 86,
   "id": "9c5786e3",
   "metadata": {
    "colab": {
     "base_uri": "https://localhost:8080/"
    },
    "id": "9c5786e3",
    "outputId": "e38dfad3-5e25-42f7-ffb6-b7dc0e3a6a92"
   },
   "outputs": [
    {
     "name": "stdout",
     "output_type": "stream",
     "text": [
      "\n",
      "Executing: SELECT DISTINCT flight_1.flight_id FROM flight flight_1 , airport airport_1 , airport_service airport_service_1 , city city_1 WHERE flight_1.to_airport = airport_1.airport_code AND airport_1.airport_code = 'MKE' AND flight_1.from_airport = airport_service_1.airport_code AND airport_service_1.city_code = city_1.city_code AND 1 = 1\n",
      "\n",
      "Result: 534 entries starting with\n",
      "\n",
      "[(107929,), (107930,), (107931,), (107932,), (107933,), (107934,), (107935,), (107936,), (107937,), (107938,)]\n",
      "\n"
     ]
    }
   ],
   "source": [
    "predicted_ret = execute_sql(train_sql_1)\n",
    "\n",
    "print(f\"\"\"\n",
    "Executing: {train_sql_1}\n",
    "\n",
    "Result: {len(predicted_ret)} entries starting with\n",
    "\n",
    "{predicted_ret[:10]}\n",
    "\"\"\")"
   ]
  },
  {
   "cell_type": "markdown",
   "id": "5033bff7",
   "metadata": {
    "id": "5033bff7"
   },
   "source": [
    "For your reference, the SQL database we are using has a database schema described at https://github.com/jkkummerfeld/text2sql-data/blob/master/data/atis-schema.csv, and is consistent with the SQL queries provided in the various `.sql` files loaded above."
   ]
  },
  {
   "cell_type": "markdown",
   "id": "fd23f820",
   "metadata": {
    "id": "fd23f820"
   },
   "source": [
    "# Rule-based parsing and interpretation of ATIS queries\n",
    "\n",
    "First, you will implement a rule-based semantic parser using a grammar like the one you completed in the third project segment. We've placed an initial grammar in the file `data/grammar`.\n",
    "In addition to the helper functions defined above (`constant`, `first`, etc.), it makes use of some other simple functions. We've included those below, but you can (and almost certainly should) augment this set with others that you define as you build out the full set of augmentations.\n",
    "\n",
    "<!--\n",
    "BEGIN QUESTION\n",
    "name: helper_functions\n",
    "-->"
   ]
  },
  {
   "cell_type": "code",
   "execution_count": 87,
   "id": "c3c8f0f5",
   "metadata": {
    "id": "c3c8f0f5"
   },
   "outputs": [],
   "source": [
    "def upper(term):\n",
    "  return '\"' + term.upper() + '\"'\n",
    "\n",
    "def weekday(day):\n",
    "  return f\"flight.flight_days IN (SELECT days.days_code FROM days WHERE days.day_name = '{day.upper()}')\"\n",
    "\n",
    "def month_name(month):\n",
    "  return {'JANUARY' : 1,\n",
    "          'FEBRUARY' : 2,\n",
    "          'MARCH' : 3,\n",
    "          'APRIL' : 4,\n",
    "          'MAY' : 5,\n",
    "          'JUNE' : 6,\n",
    "          'JULY' : 7,\n",
    "          'AUGUST' : 8,\n",
    "          'SEPTEMBER' : 9,\n",
    "          'OCTOBER' : 10,\n",
    "          'NOVEMBER' : 11,\n",
    "          'DECEMBER' : 12}[month.upper()]\n",
    "\n",
    "def airports_from_airport_name(airport_name):\n",
    "  return f\"(SELECT airport.airport_code FROM airport WHERE airport.airport_name = {upper(airport_name)})\"\n",
    "\n",
    "def airports_from_city(city):\n",
    "  return f\"\"\"\n",
    "    (SELECT airport_service.airport_code FROM airport_service WHERE airport_service.city_code IN\n",
    "      (SELECT city.city_code FROM city WHERE city.city_name = {upper(city)}))\n",
    "  \"\"\"\n",
    "\n",
    "def null_condition(*args, **kwargs):\n",
    "  return 1\n",
    "\n",
    "def depart_around(time):\n",
    "  return f\"\"\"\n",
    "    flight.departure_time >= {add_delta(miltime(time), -15).strftime('%H%M')}\n",
    "    AND flight.departure_time <= {add_delta(miltime(time), 15).strftime('%H%M')}\n",
    "    \"\"\".strip()\n",
    "\n",
    "def add_delta(tme, delta):\n",
    "    # transform to a full datetime first\n",
    "    return (datetime.datetime.combine(datetime.date.today(), tme) + \n",
    "            datetime.timedelta(minutes=delta)).time()\n",
    "\n",
    "def miltime(minutes):\n",
    "  return datetime.time(hour=int(minutes/100), minute=(minutes % 100))\n",
    "\n",
    "\n",
    "# MY FUNCTIONS\n",
    "\n",
    "def meals(meal): \n",
    "    return f\"\"\"\n",
    "    flight_id in (\n",
    "    select flight_id\n",
    "    from flight\n",
    "    where flight.meal_code in (select meal_code\n",
    "                               from food_service\n",
    "                               where meal_description = {upper(meal)}))\n",
    "\n",
    "    \"\"\"\n",
    "def any_meals(meal):\n",
    "    return f\"\"\"\n",
    "    flight_id in (\n",
    "    select flight_id\n",
    "    from flight\n",
    "    where flight.meal_code in (select meal_code\n",
    "                               from food_service\n",
    "                               where meal_description <> null))\n",
    "\n",
    "    \"\"\"\n",
    "    \n",
    "def round_trip():\n",
    "    return f\"\"\"\n",
    "    flight.flight_id in\n",
    "        (select flight_rt.flight_id\n",
    "        from fare fare_rt, flight flight_rt, flight_fare flight_fare_rt\n",
    "        where flight_rt.flight_id = flight_fare_rt.flight_id\n",
    "        AND fare_rt.fare_id = flight_fare_rt.fare_id\n",
    "        AND fare.ROUND_TRIP_REQUIRED = 'YES')\n",
    "    \"\"\"\n",
    "def one_way():\n",
    "    return f\"\"\"\n",
    "    flight.flight_id in\n",
    "        (select flight_rt.flight_id\n",
    "        from fare fare_rt, flight flight_rt, flight_fare flight_fare_rt\n",
    "        where flight_rt.flight_id = flight_fare_rt.flight_id\n",
    "        AND fare_rt.fare_id = flight_fare_rt.fare_id\n",
    "        AND fare.ROUND_TRIP_REQUIRED = 'NO')\n",
    "    \"\"\"\n",
    "\n",
    "def flight_type(flight_type):\n",
    "    if \"economy\" in flight_type:\n",
    "        cond = \"fair_basis.class_type = 'COACH'\"\n",
    "    else:\n",
    "        cond = \"fair_basis.class_type = 'FIRST'\"\n",
    "    \n",
    "    return f\"\"\"\n",
    "    flight.flight_id in\n",
    "        (select flight_rt.flight_id\n",
    "        from fare fare_rt, flight flight_rt, flight_fare flight_fare_rt\n",
    "        where flight_rt.flight_id = flight_fare_rt.flight_id\n",
    "        AND fare_rt.fare_id = flight_fare_rt.fare_id\n",
    "        AND {cond})\n",
    "    \"\"\"\n",
    "    \n",
    "    \n",
    "def flight_date(day,month,year):\n",
    "    cond = \"\"\n",
    "    if year != -1:\n",
    "        cond += f\"date_day.year = {year}\"\n",
    "    else:\n",
    "        cond += f\"date_day.year = 1991 \"\n",
    "        if month != -1:\n",
    "            cond += f\"AND date_day.month_number = {month}\"\n",
    "        else:\n",
    "            if day == -1:\n",
    "                return \"\"\n",
    "            else:\n",
    "                cond += f\" AND date_day.day_number = {day}\"\n",
    "    return f\"\"\"\n",
    "      flight.flight_days IN (\n",
    "      SELECT days.days_code FROM days WHERE days.day_name IN(\n",
    "          SELECT \n",
    "            date_day.day_name \n",
    "          FROM \n",
    "            date_day \n",
    "          WHERE {cond}\n",
    "\n",
    "    ))\n",
    "  \"\"\"\n"
   ]
  },
  {
   "cell_type": "markdown",
   "id": "ef45571a",
   "metadata": {
    "id": "ef45571a"
   },
   "source": [
    "We can build a parser with the augmented grammar:"
   ]
  },
  {
   "cell_type": "code",
   "execution_count": 88,
   "id": "3ba42b3a",
   "metadata": {
    "id": "3ba42b3a"
   },
   "outputs": [],
   "source": [
    "atis_grammar, atis_augmentations = xform.read_augmented_grammar('data/grammar', globals=globals())\n",
    "atis_parser = nltk.parse.BottomUpChartParser(atis_grammar)"
   ]
  },
  {
   "cell_type": "markdown",
   "id": "f4645008",
   "metadata": {
    "id": "f4645008"
   },
   "source": [
    "We'll define a function to return a parse tree for a string according to the ATIS grammar (if available)."
   ]
  },
  {
   "cell_type": "code",
   "execution_count": 89,
   "id": "4cc626cd",
   "metadata": {
    "id": "4cc626cd"
   },
   "outputs": [],
   "source": [
    "def parse_tree(sentence):\n",
    "  \"\"\"Parse a sentence and return the parse tree, or None if failure.\"\"\"\n",
    "  try:\n",
    "    parses = list(atis_parser.parse(tokenize(sentence)))\n",
    "    if len(parses) == 0:\n",
    "      return None\n",
    "    else:\n",
    "      return parses[0]\n",
    "  except:\n",
    "    return None"
   ]
  },
  {
   "cell_type": "markdown",
   "id": "34c97e0e",
   "metadata": {
    "id": "34c97e0e"
   },
   "source": [
    "We can check the overall coverage of this grammar on the training set by using the `parse_tree` function to determine if a parse is available. The grammar that we provide should get about a 40% coverage of the training set."
   ]
  },
  {
   "cell_type": "code",
   "execution_count": 90,
   "id": "184f8699",
   "metadata": {
    "colab": {
     "base_uri": "https://localhost:8080/"
    },
    "id": "184f8699",
    "outputId": "cff2c097-0190-4796-d393-906a8aa94f91"
   },
   "outputs": [
    {
     "name": "stderr",
     "output_type": "stream",
     "text": [
      "100%|██████████| 3651/3651 [00:15<00:00, 232.09it/s]"
     ]
    },
    {
     "name": "stdout",
     "output_type": "stream",
     "text": [
      "\n",
      "Parsed 1609 of 3651 (44.07%)\n"
     ]
    },
    {
     "name": "stderr",
     "output_type": "stream",
     "text": [
      "\n"
     ]
    }
   ],
   "source": [
    "# Check coverage on training set\n",
    "parsed = 0\n",
    "with open(\"data/train_flightid.nl\") as train:\n",
    "  examples = train.readlines()[:]\n",
    "for sentence in tqdm(examples):\n",
    "  if parse_tree(sentence):\n",
    "    parsed += 1\n",
    "  else:\n",
    "    next\n",
    "\n",
    "print(f\"\\nParsed {parsed} of {len(examples)} ({parsed*100/(len(examples)):.2f}%)\")"
   ]
  },
  {
   "cell_type": "markdown",
   "id": "67844ce9",
   "metadata": {
    "id": "67844ce9"
   },
   "source": [
    "## Goal 1: Construct SQL queries from a parse tree and evaluate the results"
   ]
  },
  {
   "cell_type": "markdown",
   "id": "ee888162",
   "metadata": {
    "id": "ee888162"
   },
   "source": [
    "It's time to turn to the first major part of this project segment, implementing a rule-based semantic parsing system to answer flight-ID-type ATIS queries.\n",
    "\n",
    "Recall that in rule-based semantic parsing, each syntactic rule is associated with a semantic composition rule. The grammar we've provided has semantic augmentations for some of the low-level phrases – cities, airports, times, airlines – but not the higher level syntactic types. You'll be adding those. \n",
    "\n",
    "In the ATIS grammar that we provide, as with the earlier toy grammars, the augmentation for a rule with $n$ nonterminals and $m$ terminals on the right-hand side is assumed to be called with $n$ positional arguments (the values for the corresponding children). The `interpret` function you've already defined should therefore work well with this grammar.\n",
    "\n",
    "Let's run through one way that a semantic derivation might proceed, for the sample query \"flights to boston\":"
   ]
  },
  {
   "cell_type": "code",
   "execution_count": 91,
   "id": "a684dccb",
   "metadata": {
    "colab": {
     "base_uri": "https://localhost:8080/"
    },
    "id": "a684dccb",
    "outputId": "01901d2e-ec7a-42c2-8647-359e44bc1f8b"
   },
   "outputs": [
    {
     "name": "stdout",
     "output_type": "stream",
     "text": [
      "['flights', 'to', 'boston']\n",
      "                S                         \n",
      "                |                          \n",
      "            NP_FLIGHT                     \n",
      "                |                          \n",
      "            NOM_FLIGHT                    \n",
      "                |                          \n",
      "             N_FLIGHT                     \n",
      "      __________|_________                 \n",
      "     |                    PP              \n",
      "     |                    |                \n",
      "     |                 PP_PLACE           \n",
      "     |           _________|_________       \n",
      "  N_FLIGHT      |                N_PLACE  \n",
      "     |          |                   |      \n",
      "TERM_FLIGHT  P_PLACE            TERM_PLACE\n",
      "     |          |                   |      \n",
      "  flights       to                boston  \n",
      "\n"
     ]
    }
   ],
   "source": [
    "sample_query = \"flights to boston\"\n",
    "print(tokenize(sample_query))\n",
    "sample_tree = parse_tree(sample_query)\n",
    "sample_tree.pretty_print()"
   ]
  },
  {
   "cell_type": "markdown",
   "id": "1a0d63a4",
   "metadata": {
    "id": "1a0d63a4"
   },
   "source": [
    "Given a sentence, we first construct its parse tree using the syntactic rules, then compose the corresponding semantic rules bottom-up, until eventually we arrive at the root node with a finished SQL statement. For this query, we will go through what the possible meaning representations for the subconstituents of \"flights to boston\" might be. But this is just one way of doing things; other ways are possible, and you should feel free to experiment.\n",
    "\n",
    "Working from bottom up:\n",
    "\n",
    "1. The `TERM_PLACE` phrase \"boston\" uses the composition function template `constant(airports_from_city(' '.join(_RHS)))`, which will be instantiated as `constant(airports_from_city(' '.join(['boston'])))` (recall that `_RHS` is replaced by the right-hand side of the rule). The meaning of `TERM_PLACE` will be the SQL snippet\n",
    "```\n",
    "SELECT airport_service.airport_code \n",
    "FROM airport_service \n",
    "WHERE airport_service.city_code IN\n",
    "    (SELECT city.city_code \n",
    "     FROM city \n",
    "     WHERE city.city_name = \"BOSTON\")\n",
    "```\n",
    "(This query generates a list of all of the airports in Boston.)\n",
    "\n",
    "2. The `N_PLACE` phrase \"boston\" can have the same meaning as the `TERM_PLACE`.\n",
    "\n",
    "3. The `P_PLACE` phrase \"to\" might be associated with a function that maps a SQL query for a list of airports to a SQL condition that holds of flights that go to one of those airports, i.e., `flight.to_airport IN (...)`.\n",
    "\n",
    "4. The `PP_PLACE` phrase \"to boston\" might apply the `P_PLACE` meaning to the `TERM_PLACE` meaning, thus generating a SQL condition that holds of flights that go to one of the Boston airports:\n",
    "```\n",
    "flight.to_airport IN\n",
    "    (SELECT airport_service.airport_code \n",
    "     FROM airport_service \n",
    "     WHERE airport_service.city_code IN\n",
    "         (SELECT city.city_code \n",
    "          FROM city \n",
    "          WHERE city.city_name = \"BOSTON\"))\n",
    "```\n",
    "\n",
    "5. The `PP` phrase \"to Boston\" can again get its meaning from the `PP_PLACE`.\n",
    "\n",
    "6. The `TERM_FLIGHT` phrase \"flights\" might also return a condition on flights, this time the \"null condition\", represented by the SQL truth value `1`. Ditto for the `N_FLIGHT` phrase \"flights\".\n",
    "\n",
    "7. The `N_FLIGHT` phrase \"flights to boston\" can conjoin the two conditions, yielding the SQL condition\n",
    "```\n",
    "flight.to_airport IN\n",
    "    (SELECT airport_service.airport_code \n",
    "     FROM airport_service \n",
    "     WHERE airport_service.city_code IN\n",
    "         (SELECT city.city_code \n",
    "          FROM city \n",
    "          WHERE city.city_name = \"BOSTON\"))\n",
    "AND 1\n",
    "```\n",
    "which can be inherited by the `NOM_FLIGHT` and `NP_FLIGHT` phrases.\n",
    "\n",
    "8. The `S` phrase \"flights to boston\" can use the condition provided by the `NP_FLIGHT` phrase to select all flights satisfying the condition with a SQL query like\n",
    "```\n",
    "SELECT DISTINCT flight.flight_id\n",
    "FROM flight\n",
    "WHERE flight.to_airport IN\n",
    "        (SELECT airport_service.airport_code \n",
    "         FROM airport_service \n",
    "         WHERE airport_service.city_code IN\n",
    "             (SELECT city.city_code \n",
    "              FROM city \n",
    "              WHERE city.city_name = \"BOSTON\"))\n",
    "      AND 1\n",
    "```\n",
    "\n",
    "This SQL query is then taken to be a representation of the meaning for the NL query \"flights to boston\", and can be executed against the ATIS database to retrieve the requested flights."
   ]
  },
  {
   "cell_type": "markdown",
   "id": "0b44a5b8",
   "metadata": {
    "id": "0b44a5b8"
   },
   "source": [
    "Now, it's your turn to add augmentations to `data/grammar` to make this example work. The augmentations that we have provided for the grammar make use of a set of auxiliary functions that we defined above. You should feel free to add your own auxiliary functions that you make use of in the grammar."
   ]
  },
  {
   "cell_type": "code",
   "execution_count": 92,
   "id": "4dee1c62",
   "metadata": {
    "colab": {
     "base_uri": "https://localhost:8080/"
    },
    "id": "4dee1c62",
    "outputId": "bdf8dab6-5f8c-47e2-a5f1-0f497975e5ae"
   },
   "outputs": [
    {
     "name": "stdout",
     "output_type": "stream",
     "text": [
      "Predicted SQL:\n",
      "\n",
      " SELECT DISTINCT flight.flight_id FROM flight WHERE (1 AND flight.to_airport IN \n",
      "    (SELECT airport_service.airport_code FROM airport_service WHERE airport_service.city_code IN\n",
      "      (SELECT city.city_code FROM city WHERE city.city_name = \"BOSTON\"))\n",
      "  ) \n",
      "\n"
     ]
    }
   ],
   "source": [
    "#TODO: add augmentations to `data/grammar` to make this example work\n",
    "atis_grammar, atis_augmentations = xform.read_augmented_grammar('data/grammar', globals=globals())\n",
    "atis_parser = nltk.parse.BottomUpChartParser(atis_grammar)\n",
    "predicted_sql = interpret(sample_tree, atis_augmentations)\n",
    "print(\"Predicted SQL:\\n\\n\", predicted_sql, \"\\n\")"
   ]
  },
  {
   "cell_type": "markdown",
   "id": "51d5a690",
   "metadata": {
    "id": "51d5a690"
   },
   "source": [
    "#### Verification on some examples\n",
    "\n",
    "With a rule-based semantic parsing system, we can generate SQL queries given questions, and then execute those queries on a SQL database to answer the given questions. To evaluate the performance of the system, we compare the returned results against the results of executing the ground truth queries.\n",
    "\n",
    "We provide a function `verify` to compare the results from our generated SQL to the ground truth SQL. It should be useful for testing individual queries."
   ]
  },
  {
   "cell_type": "code",
   "execution_count": 93,
   "id": "497bc442",
   "metadata": {
    "id": "497bc442"
   },
   "outputs": [],
   "source": [
    "def verify(predicted_sql, gold_sql, silent=True):\n",
    "  \"\"\"\n",
    "  Compare the correctness of the generated SQL by executing on the \n",
    "  ATIS database and comparing the returned results.\n",
    "  Arguments:\n",
    "      predicted_sql: the predicted SQL query\n",
    "      gold_sql: the reference SQL query to compare against\n",
    "      silent: print outputs or not\n",
    "  Returns: True if the returned results are the same, otherwise False\n",
    "  \"\"\"\n",
    "  # Execute predicted SQL\n",
    "  try:\n",
    "    predicted_result = execute_sql(predicted_sql)\n",
    "  except BaseException as e:\n",
    "    if not silent:\n",
    "      print(f\"predicted sql exec failed: {e}\")\n",
    "    return False\n",
    "  if not silent:\n",
    "    print(\"Predicted DB result:\\n\\n\", predicted_result[:10], \"\\n\")\n",
    "\n",
    "  # Execute gold SQL\n",
    "  try:\n",
    "    gold_result = execute_sql(gold_sql)\n",
    "  except BaseException as e:\n",
    "    if not silent:\n",
    "      print(f\"gold sql exec failed: {e}\")\n",
    "    return False\n",
    "  if not silent:\n",
    "    print(\"Gold DB result:\\n\\n\", gold_result[:10], \"\\n\")\n",
    "  \n",
    "  # Verify correctness\n",
    "  if gold_result == predicted_result:\n",
    "    return True"
   ]
  },
  {
   "cell_type": "markdown",
   "id": "caf469c0",
   "metadata": {
    "id": "caf469c0"
   },
   "source": [
    "Let's try this methodology on a simple example: \"flights from phoenix to milwaukee\". we provide it along with the gold SQL query."
   ]
  },
  {
   "cell_type": "code",
   "execution_count": 94,
   "id": "57db3e51",
   "metadata": {
    "id": "57db3e51"
   },
   "outputs": [],
   "source": [
    "def rule_based_trial(sentence, gold_sql):\n",
    "  print(\"Sentence: \", sentence, \"\\n\")\n",
    "  tree = parse_tree(sentence)\n",
    "  print(\"Parse:\\n\\n\")\n",
    "  tree.pretty_print()\n",
    "\n",
    "  predicted_sql = interpret(tree, atis_augmentations)\n",
    "  print(\"Predicted SQL:\\n\\n\", predicted_sql, \"\\n\")\n",
    "\n",
    "  if verify(predicted_sql, gold_sql, silent=False):\n",
    "    print ('Correct!')\n",
    "  else:\n",
    "    print ('Incorrect!')"
   ]
  },
  {
   "cell_type": "code",
   "execution_count": 95,
   "id": "e274f3e3",
   "metadata": {
    "id": "e274f3e3"
   },
   "outputs": [],
   "source": [
    "# Run this cell to reload augmentations after you make changes to `data/grammar`\n",
    "atis_grammar, atis_augmentations = xform.read_augmented_grammar('data/grammar', globals=globals())\n",
    "atis_parser = nltk.parse.BottomUpChartParser(atis_grammar)"
   ]
  },
  {
   "cell_type": "code",
   "execution_count": 96,
   "id": "0f9d2e96",
   "metadata": {
    "colab": {
     "base_uri": "https://localhost:8080/"
    },
    "id": "0f9d2e96",
    "outputId": "0573a1c5-0043-45a0-d98c-0617e9f29a85"
   },
   "outputs": [
    {
     "name": "stdout",
     "output_type": "stream",
     "text": [
      "Sentence:  flights from phoenix to milwaukee \n",
      "\n",
      "Parse:\n",
      "\n",
      "\n",
      "                                  S                                 \n",
      "                                  |                                  \n",
      "                              NP_FLIGHT                             \n",
      "                                  |                                  \n",
      "                              NOM_FLIGHT                            \n",
      "                                  |                                  \n",
      "                               N_FLIGHT                             \n",
      "                __________________|_________________                 \n",
      "            N_FLIGHT                                |               \n",
      "      _________|________                            |                \n",
      "     |                  PP                          PP              \n",
      "     |                  |                           |                \n",
      "     |               PP_PLACE                    PP_PLACE           \n",
      "     |          ________|_________           _______|_________       \n",
      "  N_FLIGHT     |               N_PLACE      |              N_PLACE  \n",
      "     |         |                  |         |                 |      \n",
      "TERM_FLIGHT P_PLACE           TERM_PLACE P_PLACE          TERM_PLACE\n",
      "     |         |                  |         |                 |      \n",
      "  flights     from             phoenix      to            milwaukee \n",
      "\n",
      "Predicted SQL:\n",
      "\n",
      " SELECT DISTINCT flight.flight_id FROM flight WHERE ((1 AND flight.from_airport IN \n",
      "    (SELECT airport_service.airport_code FROM airport_service WHERE airport_service.city_code IN\n",
      "      (SELECT city.city_code FROM city WHERE city.city_name = \"PHOENIX\"))\n",
      "  ) AND flight.to_airport IN \n",
      "    (SELECT airport_service.airport_code FROM airport_service WHERE airport_service.city_code IN\n",
      "      (SELECT city.city_code FROM city WHERE city.city_name = \"MILWAUKEE\"))\n",
      "  ) \n",
      "\n",
      "Predicted DB result:\n",
      "\n",
      " [(108086,), (108087,), (301763,), (301764,), (301765,), (301766,), (302323,), (304881,), (310619,), (310620,)] \n",
      "\n",
      "Gold DB result:\n",
      "\n",
      " [(108086,), (108087,), (301763,), (301764,), (301765,), (301766,), (302323,), (304881,), (310619,), (310620,)] \n",
      "\n",
      "Correct!\n"
     ]
    }
   ],
   "source": [
    "#TODO: add augmentations to `data/grammar` to make this example work\n",
    "# Example 1\n",
    "example_1 = 'flights from phoenix to milwaukee'\n",
    "gold_sql_1 = \"\"\"\n",
    "  SELECT DISTINCT flight_1.flight_id \n",
    "  FROM flight flight_1 , \n",
    "       airport_service airport_service_1 , \n",
    "       city city_1 , \n",
    "       airport_service airport_service_2 , \n",
    "       city city_2 \n",
    "  WHERE flight_1.from_airport = airport_service_1.airport_code \n",
    "        AND airport_service_1.city_code = city_1.city_code \n",
    "        AND city_1.city_name = 'PHOENIX' \n",
    "        AND flight_1.to_airport = airport_service_2.airport_code \n",
    "        AND airport_service_2.city_code = city_2.city_code \n",
    "        AND city_2.city_name = 'MILWAUKEE'\n",
    "  \"\"\"\n",
    "\n",
    "rule_based_trial(example_1, gold_sql_1)"
   ]
  },
  {
   "cell_type": "markdown",
   "id": "f9e90898",
   "metadata": {
    "id": "f9e90898"
   },
   "source": [
    "To make development faster, we recommend starting with a few examples before running the full evaluation script. We've taken some examples from the ATIS dataset including the gold SQL queries that they provided. Of course, yours (and those of the project segment solution set) may differ."
   ]
  },
  {
   "cell_type": "code",
   "execution_count": 97,
   "id": "2af3beb4",
   "metadata": {
    "colab": {
     "base_uri": "https://localhost:8080/"
    },
    "id": "2af3beb4",
    "outputId": "a78a66cf-1439-4cf6-f1e7-79bfaf2589ae"
   },
   "outputs": [
    {
     "name": "stdout",
     "output_type": "stream",
     "text": [
      "Sentence:  i would like a united flight \n",
      "\n",
      "Parse:\n",
      "\n",
      "\n",
      "                                                 S                                                                      \n",
      "                                     ____________|____________________________________________________                   \n",
      "                                    |                                                             NP_FLIGHT             \n",
      "                                    |                                                                 |                  \n",
      "                                PREIGNORE                                                         NOM_FLIGHT            \n",
      "        ____________________________|____________                                          ___________|___________       \n",
      "       |                                     PREIGNORE                                   ADJ                      |     \n",
      "       |                _________________________|____________                            |                       |      \n",
      "       |               |                                  PREIGNORE                  ADJ_AIRLINE              NOM_FLIGHT\n",
      "       |               |                          ____________|____________               |                       |      \n",
      "       |               |                         |                     PREIGNORE     TERM_AIRLINE              N_FLIGHT \n",
      "       |               |                         |                         |              |                       |      \n",
      "PREIGNORESYMBOL PREIGNORESYMBOL           PREIGNORESYMBOL           PREIGNORESYMBOL TERM_AIRBRAND            TERM_FLIGHT\n",
      "       |               |                         |                         |              |                       |      \n",
      "       i             would                      like                       a            united                  flight  \n",
      "\n",
      "Predicted SQL:\n",
      "\n",
      " SELECT DISTINCT flight.flight_id FROM flight WHERE 1 AND flight.airline_code = 'UA' \n",
      "\n",
      "Predicted DB result:\n",
      "\n",
      " [(100094,), (100099,), (100145,), (100158,), (100164,), (100167,), (100169,), (100203,), (100204,), (100296,)] \n",
      "\n",
      "Gold DB result:\n",
      "\n",
      " [(100094,), (100099,), (100145,), (100158,), (100164,), (100167,), (100169,), (100203,), (100204,), (100296,)] \n",
      "\n",
      "Correct!\n"
     ]
    }
   ],
   "source": [
    "#TODO: add augmentations to `data/grammar` to make this example work\n",
    "# Example 2\n",
    "example_2 = 'i would like a united flight'\n",
    "gold_sql_2 = \"\"\"\n",
    "  SELECT DISTINCT flight_1.flight_id\n",
    "  FROM flight flight_1 \n",
    "  WHERE flight_1.airline_code = 'UA'\n",
    "  \"\"\"\n",
    "\n",
    "rule_based_trial(example_2, gold_sql_2)"
   ]
  },
  {
   "cell_type": "code",
   "execution_count": 98,
   "id": "03c0406b",
   "metadata": {
    "colab": {
     "base_uri": "https://localhost:8080/"
    },
    "id": "03c0406b",
    "outputId": "18b308a0-860a-4eb9-e21e-b5e11d0e08fc"
   },
   "outputs": [
    {
     "name": "stdout",
     "output_type": "stream",
     "text": [
      "Sentence:  i would like a flight between boston and dallas \n",
      "\n",
      "Parse:\n",
      "\n",
      "\n",
      "                                                                                         S                                               \n",
      "                                     ____________________________________________________|__________                                      \n",
      "                                    |                                                           NP_FLIGHT                                \n",
      "                                    |                                                               |                                     \n",
      "                                    |                                                           NOM_FLIGHT                               \n",
      "                                    |                                                               |                                     \n",
      "                                PREIGNORE                                                        N_FLIGHT                                \n",
      "        ____________________________|____________                                         __________|_________                            \n",
      "       |                                     PREIGNORE                                   |                    PP                         \n",
      "       |                _________________________|____________                           |                    |                           \n",
      "       |               |                                  PREIGNORE                      |                 PP_PLACE                      \n",
      "       |               |                          ____________|____________              |           _________|____________________       \n",
      "       |               |                         |                     PREIGNORE      N_FLIGHT      |         |      N_PLACE    N_PLACE  \n",
      "       |               |                         |                         |             |          |         |         |          |      \n",
      "PREIGNORESYMBOL PREIGNORESYMBOL           PREIGNORESYMBOL           PREIGNORESYMBOL TERM_FLIGHT     |         |     TERM_PLACE TERM_PLACE\n",
      "       |               |                         |                         |             |          |         |         |          |      \n",
      "       i             would                      like                       a           flight    between     and      boston     dallas  \n",
      "\n",
      "Predicted SQL:\n",
      "\n",
      " SELECT DISTINCT flight.flight_id FROM flight WHERE (1 AND flight.from_airport IN \n",
      "    (SELECT airport_service.airport_code FROM airport_service WHERE airport_service.city_code IN\n",
      "      (SELECT city.city_code FROM city WHERE city.city_name = \"BOSTON\"))\n",
      "   AND flight.to_airport IN \n",
      "    (SELECT airport_service.airport_code FROM airport_service WHERE airport_service.city_code IN\n",
      "      (SELECT city.city_code FROM city WHERE city.city_name = \"DALLAS\"))\n",
      "  ) \n",
      "\n",
      "Predicted DB result:\n",
      "\n",
      " [(103171,), (103172,), (103173,), (103174,), (103175,), (103176,), (103177,), (103178,), (103179,), (103180,)] \n",
      "\n",
      "Gold DB result:\n",
      "\n",
      " [(103171,), (103172,), (103173,), (103174,), (103175,), (103176,), (103177,), (103178,), (103179,), (103180,)] \n",
      "\n",
      "Correct!\n"
     ]
    }
   ],
   "source": [
    "#TODO: add augmentations to `data/grammar` to make this example work\n",
    "# Example 3\n",
    "example_3 = 'i would like a flight between boston and dallas'\n",
    "gold_sql_3 = \"\"\"\n",
    "  SELECT DISTINCT flight_1.flight_id \n",
    "  FROM flight flight_1 , \n",
    "       airport_service airport_service_1 , \n",
    "       city city_1 , \n",
    "       airport_service airport_service_2 , \n",
    "       city city_2 \n",
    "  WHERE flight_1.from_airport = airport_service_1.airport_code \n",
    "        AND airport_service_1.city_code = city_1.city_code \n",
    "        AND city_1.city_name = 'BOSTON' \n",
    "        AND flight_1.to_airport = airport_service_2.airport_code \n",
    "        AND airport_service_2.city_code = city_2.city_code \n",
    "        AND city_2.city_name = 'DALLAS'\n",
    "  \"\"\"\n",
    "\n",
    "# Note that the parse tree might appear wrong: instead of\n",
    "# `PP_PLACE -> 'between' N_PLACE 'and' N_PLACE`, the tree appears to be\n",
    "# `PP_PLACE -> 'between' 'and' N_PLACE N_PLACE`. But it's only a visualization\n",
    "# error of tree.pretty_print() and you should assume that the production is\n",
    "# `PP_PLACE -> 'between' N_PLACE 'and' N_PLACE` (you can verify by printing out\n",
    "# all productions).\n",
    "rule_based_trial(example_3, gold_sql_3)"
   ]
  },
  {
   "cell_type": "code",
   "execution_count": 99,
   "id": "18f27e89",
   "metadata": {
    "colab": {
     "base_uri": "https://localhost:8080/"
    },
    "id": "18f27e89",
    "outputId": "c1c27f10-761d-4746-e0a2-65e7fb649de5"
   },
   "outputs": [
    {
     "name": "stdout",
     "output_type": "stream",
     "text": [
      "Sentence:  show me the united flights from denver to baltimore \n",
      "\n",
      "Parse:\n",
      "\n",
      "\n",
      "                                                                             S                                                                \n",
      "                        _____________________________________________________|__________                                                       \n",
      "                       |                                                            NP_FLIGHT                                                 \n",
      "                       |                                                                |                                                      \n",
      "                       |                                                            NOM_FLIGHT                                                \n",
      "                       |                                         _______________________|___________________                                   \n",
      "                       |                                        |                                       NOM_FLIGHT                            \n",
      "                       |                                        |                                           |                                  \n",
      "                       |                                        |                                        N_FLIGHT                             \n",
      "                       |                                        |                        ___________________|_________________                 \n",
      "                       |                                        |                    N_FLIGHT                                 |               \n",
      "                       |                                        |             __________|_________                            |                \n",
      "                   PREIGNORE                                   ADJ           |                    PP                          PP              \n",
      "        _______________|____________                            |            |                    |                           |                \n",
      "       |                        PREIGNORE                  ADJ_AIRLINE       |                 PP_PLACE                    PP_PLACE           \n",
      "       |                ____________|____________               |            |           _________|_________           _______|_________       \n",
      "       |               |                     PREIGNORE     TERM_AIRLINE   N_FLIGHT      |                N_PLACE      |              N_PLACE  \n",
      "       |               |                         |              |            |          |                   |         |                 |      \n",
      "PREIGNORESYMBOL PREIGNORESYMBOL           PREIGNORESYMBOL TERM_AIRBRAND TERM_FLIGHT  P_PLACE            TERM_PLACE P_PLACE          TERM_PLACE\n",
      "       |               |                         |              |            |          |                   |         |                 |      \n",
      "      show             me                       the           united      flights      from               denver      to            baltimore \n",
      "\n",
      "Predicted SQL:\n",
      "\n",
      " SELECT DISTINCT flight.flight_id FROM flight WHERE ((1 AND flight.from_airport IN \n",
      "    (SELECT airport_service.airport_code FROM airport_service WHERE airport_service.city_code IN\n",
      "      (SELECT city.city_code FROM city WHERE city.city_name = \"DENVER\"))\n",
      "  ) AND flight.to_airport IN \n",
      "    (SELECT airport_service.airport_code FROM airport_service WHERE airport_service.city_code IN\n",
      "      (SELECT city.city_code FROM city WHERE city.city_name = \"BALTIMORE\"))\n",
      "  ) AND flight.airline_code = 'UA' \n",
      "\n",
      "Predicted DB result:\n",
      "\n",
      " [(101231,), (101233,), (305983,)] \n",
      "\n",
      "Gold DB result:\n",
      "\n",
      " [(101231,), (101233,), (305983,)] \n",
      "\n",
      "Correct!\n"
     ]
    }
   ],
   "source": [
    "#TODO: add augmentations to `data/grammar` to make this example work\n",
    "# Example 4\n",
    "example_4 = 'show me the united flights from denver to baltimore'\n",
    "gold_sql_4 = \"\"\"\n",
    "  SELECT DISTINCT flight_1.flight_id \n",
    "  FROM flight flight_1 , \n",
    "       airport_service airport_service_1 , \n",
    "       city city_1 , \n",
    "       airport_service airport_service_2 , \n",
    "       city city_2 \n",
    "  WHERE flight_1.airline_code = 'UA' \n",
    "        AND ( flight_1.from_airport = airport_service_1.airport_code \n",
    "              AND airport_service_1.city_code = city_1.city_code \n",
    "              AND city_1.city_name = 'DENVER' \n",
    "              AND flight_1.to_airport = airport_service_2.airport_code \n",
    "              AND airport_service_2.city_code = city_2.city_code \n",
    "              AND city_2.city_name = 'BALTIMORE' )\n",
    "\n",
    "  \"\"\"\n",
    "\n",
    "rule_based_trial(example_4, gold_sql_4)"
   ]
  },
  {
   "cell_type": "code",
   "execution_count": 100,
   "id": "a4e06de0",
   "metadata": {
    "colab": {
     "base_uri": "https://localhost:8080/"
    },
    "id": "a4e06de0",
    "outputId": "bd2d9f91-5a30-4d5e-877a-5fd23e36c0e5"
   },
   "outputs": [
    {
     "name": "stdout",
     "output_type": "stream",
     "text": [
      "Sentence:  show flights from cleveland to miami that arrive before 4pm \n",
      "\n",
      "Parse:\n",
      "\n",
      "\n",
      "                               S                                                                                                         \n",
      "        _______________________|______________________________________________                                                            \n",
      "       |                                                                  NP_FLIGHT                                                      \n",
      "       |                                                                      |                                                           \n",
      "       |                                                                  NOM_FLIGHT                                                     \n",
      "       |                                                                      |                                                           \n",
      "       |                                                                   N_FLIGHT                                                      \n",
      "       |                                           ___________________________|_____________________                                      \n",
      "       |                                       N_FLIGHT                                             |                                    \n",
      "       |                        __________________|_________________                                |                                     \n",
      "       |                    N_FLIGHT                                |                               PP                                   \n",
      "       |              _________|________                            |                               |                                     \n",
      "       |             |                  PP                          PP                           PP_TIME                                 \n",
      "       |             |                  |                           |                        _______|__________________                   \n",
      "       |             |               PP_PLACE                    PP_PLACE                   |                       NP_TIME              \n",
      "       |             |          ________|_________           _______|_________              |                          |                  \n",
      "   PREIGNORE      N_FLIGHT     |               N_PLACE      |              N_PLACE          |                      TERM_TIME             \n",
      "       |             |         |                  |         |                 |             |                 _________|__________        \n",
      "PREIGNORESYMBOL TERM_FLIGHT P_PLACE           TERM_PLACE P_PLACE          TERM_PLACE      P_TIME         TERM_TIME           TERM_TIMEMOD\n",
      "       |             |         |                  |         |                 |        _____|_______         |                    |       \n",
      "      show        flights     from            cleveland     to              miami    that arrive  before     4                    pm     \n",
      "\n",
      "Predicted SQL:\n",
      "\n",
      " SELECT DISTINCT flight.flight_id FROM flight WHERE (((1 AND flight.from_airport IN \n",
      "    (SELECT airport_service.airport_code FROM airport_service WHERE airport_service.city_code IN\n",
      "      (SELECT city.city_code FROM city WHERE city.city_name = \"CLEVELAND\"))\n",
      "  ) AND flight.to_airport IN \n",
      "    (SELECT airport_service.airport_code FROM airport_service WHERE airport_service.city_code IN\n",
      "      (SELECT city.city_code FROM city WHERE city.city_name = \"MIAMI\"))\n",
      "  ) AND flight.arrival_time <= 1600) \n",
      "\n",
      "Predicted DB result:\n",
      "\n",
      " [(107698,), (301117,)] \n",
      "\n",
      "Gold DB result:\n",
      "\n",
      " [(107698,), (301117,)] \n",
      "\n",
      "Correct!\n"
     ]
    }
   ],
   "source": [
    "#TODO: add augmentations to `data/grammar` to make this example work\n",
    "# Example 5\n",
    "example_5 = 'show flights from cleveland to miami that arrive before 4pm'\n",
    "gold_sql_5 = \"\"\"\n",
    "  SELECT DISTINCT flight_1.flight_id \n",
    "  FROM flight flight_1 , \n",
    "       airport_service airport_service_1 , \n",
    "       city city_1 , \n",
    "       airport_service airport_service_2 , \n",
    "       city city_2 \n",
    "  WHERE flight_1.from_airport = airport_service_1.airport_code \n",
    "        AND airport_service_1.city_code = city_1.city_code \n",
    "        AND city_1.city_name = 'CLEVELAND' \n",
    "        AND ( flight_1.to_airport = airport_service_2.airport_code \n",
    "              AND airport_service_2.city_code = city_2.city_code \n",
    "              AND city_2.city_name = 'MIAMI' \n",
    "              AND flight_1.arrival_time < 1600 )\n",
    "  \"\"\"\n",
    "\n",
    "rule_based_trial(example_5, gold_sql_5)"
   ]
  },
  {
   "cell_type": "code",
   "execution_count": 101,
   "id": "4aa401d5",
   "metadata": {
    "colab": {
     "base_uri": "https://localhost:8080/"
    },
    "id": "4aa401d5",
    "outputId": "2af735bb-8849-42b1-ea39-1bc6b3ae1df2"
   },
   "outputs": [
    {
     "name": "stdout",
     "output_type": "stream",
     "text": [
      "Sentence:  okay how about a flight on sunday from tampa to charlotte \n",
      "\n",
      "Parse:\n",
      "\n",
      "\n",
      "                                                                                                   S                                                                                    \n",
      "                                     ______________________________________________________________|______________________________                                                       \n",
      "                                    |                                                                                         NP_FLIGHT                                                 \n",
      "                                    |                                                                                             |                                                      \n",
      "                                    |                                                                                         NOM_FLIGHT                                                \n",
      "                                    |                                                                                             |                                                      \n",
      "                                    |                                                                                          N_FLIGHT                                                 \n",
      "                                    |                                                                                  ___________|_____________________________________                 \n",
      "                                    |                                                                              N_FLIGHT                                             |               \n",
      "                                    |                                                               __________________|_____________________                            |                \n",
      "                                PREIGNORE                                                       N_FLIGHT                                    |                           |               \n",
      "        ____________________________|____________                                         _________|________                                |                           |                \n",
      "       |                                     PREIGNORE                                   |                  PP                              PP                          PP              \n",
      "       |                _________________________|____________                           |                  |                               |                           |                \n",
      "       |               |                                  PREIGNORE                      |               PP_DATE                         PP_PLACE                    PP_PLACE           \n",
      "       |               |                          ____________|____________              |          ________|_________             _________|_________           _______|_________       \n",
      "       |               |                         |                     PREIGNORE      N_FLIGHT     |               NP_DATE        |                N_PLACE      |              N_PLACE  \n",
      "       |               |                         |                         |             |         |                  |           |                   |         |                 |      \n",
      "PREIGNORESYMBOL PREIGNORESYMBOL           PREIGNORESYMBOL           PREIGNORESYMBOL TERM_FLIGHT  P_DATE          TERM_WEEKDAY  P_PLACE            TERM_PLACE P_PLACE          TERM_PLACE\n",
      "       |               |                         |                         |             |         |                  |           |                   |         |                 |      \n",
      "      okay            how                      about                       a           flight      on               sunday       from               tampa       to            charlotte \n",
      "\n",
      "Predicted SQL:\n",
      "\n",
      " SELECT DISTINCT flight.flight_id FROM flight WHERE (((1 AND flight.flight_days IN (SELECT days.days_code FROM days WHERE days.day_name = 'SUNDAY')) AND flight.from_airport IN \n",
      "    (SELECT airport_service.airport_code FROM airport_service WHERE airport_service.city_code IN\n",
      "      (SELECT city.city_code FROM city WHERE city.city_name = \"TAMPA\"))\n",
      "  ) AND flight.to_airport IN \n",
      "    (SELECT airport_service.airport_code FROM airport_service WHERE airport_service.city_code IN\n",
      "      (SELECT city.city_code FROM city WHERE city.city_name = \"CHARLOTTE\"))\n",
      "  ) \n",
      "\n",
      "Predicted DB result:\n",
      "\n",
      " [(101860,), (101861,), (101862,), (101863,), (101864,), (101865,), (305231,)] \n",
      "\n",
      "Gold DB result:\n",
      "\n",
      " [(101860,), (101861,), (101862,), (101863,), (101864,), (101865,), (305231,)] \n",
      "\n",
      "Correct!\n"
     ]
    }
   ],
   "source": [
    "#TODO: add augmentations to `data/grammar` to make this example work\n",
    "# Example 6\n",
    "example_6 = 'okay how about a flight on sunday from tampa to charlotte'\n",
    "gold_sql_6 = \"\"\"\n",
    "  SELECT DISTINCT flight_1.flight_id \n",
    "  FROM flight flight_1 , \n",
    "       airport_service airport_service_1 , \n",
    "       city city_1 , \n",
    "       airport_service airport_service_2 , \n",
    "       city city_2 , \n",
    "       days days_1 , \n",
    "       date_day date_day_1 \n",
    "  WHERE flight_1.from_airport = airport_service_1.airport_code \n",
    "        AND airport_service_1.city_code = city_1.city_code \n",
    "        AND city_1.city_name = 'TAMPA' \n",
    "        AND ( flight_1.to_airport = airport_service_2.airport_code \n",
    "              AND airport_service_2.city_code = city_2.city_code \n",
    "              AND city_2.city_name = 'CHARLOTTE' \n",
    "              AND flight_1.flight_days = days_1.days_code \n",
    "              AND days_1.day_name = date_day_1.day_name \n",
    "              AND date_day_1.year = 1991 \n",
    "              AND date_day_1.month_number = 8 \n",
    "              AND date_day_1.day_number = 27 )\n",
    "  \"\"\"\n",
    "\n",
    "# You might notice that the gold answer above used the exact date, which is\n",
    "# not easily implementable. A more implementable way (generated by the project \n",
    "# segment 4 solution code) is:\n",
    "gold_sql_6b = \"\"\"\n",
    "  SELECT DISTINCT flight.flight_id \n",
    "  FROM flight \n",
    "  WHERE ((((1 \n",
    "            AND flight.flight_days IN (SELECT days.days_code \n",
    "                                       FROM days \n",
    "                                       WHERE days.day_name = 'SUNDAY')\n",
    "            ) \n",
    "           AND flight.from_airport IN (SELECT airport_service.airport_code \n",
    "                                       FROM airport_service \n",
    "                                       WHERE airport_service.city_code IN (SELECT city.city_code \n",
    "                                                                           FROM city \n",
    "                                                                           WHERE city.city_name = \"TAMPA\"))) \n",
    "          AND flight.to_airport IN (SELECT airport_service.airport_code \n",
    "                                    FROM airport_service \n",
    "                                    WHERE airport_service.city_code IN (SELECT city.city_code \n",
    "                                                                        FROM city \n",
    "                                                                        WHERE city.city_name = \"CHARLOTTE\")))) \n",
    "  \"\"\"\n",
    "\n",
    "rule_based_trial(example_6, gold_sql_6b)"
   ]
  },
  {
   "cell_type": "code",
   "execution_count": 102,
   "id": "10256866",
   "metadata": {
    "colab": {
     "base_uri": "https://localhost:8080/"
    },
    "id": "10256866",
    "outputId": "54ae41e3-0b07-4924-dccd-de312a2be404"
   },
   "outputs": [
    {
     "name": "stdout",
     "output_type": "stream",
     "text": [
      "Sentence:  list all flights going from boston to atlanta that leaves before 7 am on thursday \n",
      "\n",
      "Parse:\n",
      "\n",
      "\n",
      "                                  S                                                                                                                                                  \n",
      "        __________________________|_____________________________________________________                                                                                              \n",
      "       |                                                                            NP_FLIGHT                                                                                        \n",
      "       |          ______________________________________________________________________|__________                                                                                   \n",
      "       |         |                                                                             NOM_FLIGHT                                                                            \n",
      "       |         |                                                                                 |                                                                                  \n",
      "       |         |                                                                              N_FLIGHT                                                                             \n",
      "       |         |                                                                       __________|________________________________________________________________                  \n",
      "       |         |                                                                   N_FLIGHT                                                                       |                \n",
      "       |         |                                 _____________________________________|___________________________                                                |                 \n",
      "       |         |                             N_FLIGHT                                                             |                                               |                \n",
      "       |         |                        ________|___________________________                                      |                                               |                 \n",
      "       |         |                    N_FLIGHT                                |                                     PP                                              |                \n",
      "       |         |        _______________|________                            |                                     |                                               |                 \n",
      "       |         |       |                        PP                          PP                                 PP_TIME                                            PP               \n",
      "       |         |       |                        |                           |                              _______|__________________                             |                 \n",
      "       |         |       |                     PP_PLACE                    PP_PLACE                         |                       NP_TIME                      PP_DATE             \n",
      "       |         |       |                ________|_________           _______|_________                    |                          |                     _______|_________        \n",
      "   PREIGNORE     |    N_FLIGHT           |               N_PLACE      |              N_PLACE                |                      TERM_TIME                |              NP_DATE   \n",
      "       |         |       |               |                  |         |                 |                   |                 _________|__________          |                 |       \n",
      "PREIGNORESYMBOL DET TERM_FLIGHT       P_PLACE           TERM_PLACE P_PLACE          TERM_PLACE            P_TIME         TERM_TIME           TERM_TIMEMOD P_DATE         TERM_WEEKDAY\n",
      "       |         |       |         ______|________          |         |                 |           ________|_______         |                    |         |                 |       \n",
      "      list      all   flights   going            from     boston      to             atlanta      that    leaves  before     7                    am        on             thursday  \n",
      "\n",
      "Predicted SQL:\n",
      "\n",
      " SELECT DISTINCT flight.flight_id FROM flight WHERE ((((1 AND flight.from_airport IN \n",
      "    (SELECT airport_service.airport_code FROM airport_service WHERE airport_service.city_code IN\n",
      "      (SELECT city.city_code FROM city WHERE city.city_name = \"BOSTON\"))\n",
      "  ) AND flight.to_airport IN \n",
      "    (SELECT airport_service.airport_code FROM airport_service WHERE airport_service.city_code IN\n",
      "      (SELECT city.city_code FROM city WHERE city.city_name = \"ATLANTA\"))\n",
      "  ) AND flight.departure_time <= 700) AND flight.flight_days IN (SELECT days.days_code FROM days WHERE days.day_name = 'THURSDAY')) \n",
      "\n",
      "Predicted DB result:\n",
      "\n",
      " [(100014,)] \n",
      "\n",
      "Gold DB result:\n",
      "\n",
      " [(100014,)] \n",
      "\n",
      "Correct!\n"
     ]
    }
   ],
   "source": [
    "#TODO: add augmentations to `data/grammar` to make this example work\n",
    "# Example 7\n",
    "example_7 = 'list all flights going from boston to atlanta that leaves before 7 am on thursday'\n",
    "gold_sql_7 = \"\"\"\n",
    "  SELECT DISTINCT flight_1.flight_id \n",
    "  FROM flight flight_1 , \n",
    "       airport_service airport_service_1 , \n",
    "       city city_1 , \n",
    "       airport_service airport_service_2 , \n",
    "       city city_2 , \n",
    "       days days_1 , \n",
    "       date_day date_day_1 \n",
    "  WHERE flight_1.from_airport = airport_service_1.airport_code \n",
    "        AND airport_service_1.city_code = city_1.city_code \n",
    "        AND city_1.city_name = 'BOSTON' \n",
    "        AND ( flight_1.to_airport = airport_service_2.airport_code \n",
    "              AND airport_service_2.city_code = city_2.city_code \n",
    "              AND city_2.city_name = 'ATLANTA' \n",
    "              AND ( flight_1.flight_days = days_1.days_code \n",
    "                    AND days_1.day_name = date_day_1.day_name \n",
    "                    AND date_day_1.year = 1991 \n",
    "                    AND date_day_1.month_number = 5 \n",
    "                    AND date_day_1.day_number = 24 \n",
    "                    AND flight_1.departure_time < 700 ) )\n",
    "  \"\"\"\n",
    "\n",
    "# Again, the gold answer above used the exact date, as opposed to the \n",
    "# following approach:\n",
    "gold_sql_7b = \"\"\"\n",
    "  SELECT DISTINCT flight.flight_id \n",
    "  FROM flight \n",
    "  WHERE ((1 \n",
    "          AND ((((1 \n",
    "                  AND flight.from_airport IN (SELECT airport_service.airport_code \n",
    "                                              FROM airport_service \n",
    "                                              WHERE airport_service.city_code IN (SELECT city.city_code \n",
    "                                                                                  FROM city \n",
    "                                                                                  WHERE city.city_name = \"BOSTON\")))\n",
    "                 AND flight.to_airport IN (SELECT airport_service.airport_code \n",
    "                                           FROM airport_service\n",
    "                                           WHERE airport_service.city_code IN (SELECT city.city_code \n",
    "                                                                               FROM city \n",
    "                                                                               WHERE city.city_name = \"ATLANTA\"))) \n",
    "                AND flight.departure_time <= 0700) \n",
    "               AND flight.flight_days IN (SELECT days.days_code \n",
    "                                          FROM days \n",
    "                                          WHERE days.day_name = 'THURSDAY')))) \n",
    "  \"\"\"\n",
    "\n",
    "rule_based_trial(example_7, gold_sql_7b)"
   ]
  },
  {
   "cell_type": "code",
   "execution_count": 103,
   "id": "b4a869db",
   "metadata": {
    "colab": {
     "base_uri": "https://localhost:8080/"
    },
    "id": "b4a869db",
    "outputId": "5064019b-3fa1-4928-da4a-5fbb042ec360"
   },
   "outputs": [
    {
     "name": "stdout",
     "output_type": "stream",
     "text": [
      "Sentence:  list the flights from dallas to san francisco on american airlines \n",
      "\n",
      "Parse:\n",
      "\n",
      "\n",
      "                                                                                      S                                                                                         \n",
      "                     _________________________________________________________________|________                                                                                  \n",
      "                    |                                                                      NP_FLIGHT                                                                            \n",
      "                    |                                                                          |                                                                                 \n",
      "                    |                                                                      NOM_FLIGHT                                                                           \n",
      "                    |                                                                          |                                                                                 \n",
      "                    |                                                                       N_FLIGHT                                                                            \n",
      "                    |                                                        __________________|___________________________________________                                      \n",
      "                    |                                                    N_FLIGHT                                                          |                                    \n",
      "                    |                                     __________________|__________________                                            |                                     \n",
      "                    |                                 N_FLIGHT                                 |                                           |                                    \n",
      "                    |                           _________|________                             |                                           |                                     \n",
      "                    |                          |                  PP                           PP                                          PP                                   \n",
      "                    |                          |                  |                            |                                           |                                     \n",
      "                PREIGNORE                      |               PP_PLACE                     PP_PLACE                                   PP_AIRLINE                               \n",
      "        ____________|____________              |          ________|_________           ________|__________                      ___________|____________                         \n",
      "       |                     PREIGNORE      N_FLIGHT     |               N_PLACE      |                N_PLACE                 |                   TERM_AIRLINE                 \n",
      "       |                         |             |         |                  |         |                   |                    |            ____________|______________          \n",
      "PREIGNORESYMBOL           PREIGNORESYMBOL TERM_FLIGHT P_PLACE           TERM_PLACE P_PLACE            TERM_PLACE           P_AIRLINE TERM_AIRBRAND              TERM_AIRBRANDTYP\n",
      "       |                         |             |         |                  |         |                   |                    |           |                           E        \n",
      "       |                         |             |         |                  |         |         __________|__________          |           |                           |         \n",
      "      list                      the         flights     from              dallas      to      san                francisco     on       american                    airlines    \n",
      "\n",
      "Predicted SQL:\n",
      "\n",
      " SELECT DISTINCT flight.flight_id FROM flight WHERE (((1 AND flight.from_airport IN \n",
      "    (SELECT airport_service.airport_code FROM airport_service WHERE airport_service.city_code IN\n",
      "      (SELECT city.city_code FROM city WHERE city.city_name = \"DALLAS\"))\n",
      "  ) AND flight.to_airport IN \n",
      "    (SELECT airport_service.airport_code FROM airport_service WHERE airport_service.city_code IN\n",
      "      (SELECT city.city_code FROM city WHERE city.city_name = \"SAN FRANCISCO\"))\n",
      "  ) AND flight.airline_code = 'AA') \n",
      "\n",
      "Predicted DB result:\n",
      "\n",
      " [(108452,), (108454,), (108456,), (111083,), (111085,), (111086,), (111090,), (111091,), (111092,), (111094,)] \n",
      "\n",
      "Gold DB result:\n",
      "\n",
      " [(108452,), (108454,), (108456,), (111083,), (111085,), (111086,), (111090,), (111091,), (111092,), (111094,)] \n",
      "\n",
      "Correct!\n"
     ]
    }
   ],
   "source": [
    "#TODO: add augmentations to `data/grammar` to make this example work\n",
    "# Example 8\n",
    "example_8 = 'list the flights from dallas to san francisco on american airlines'\n",
    "gold_sql_8 = \"\"\"\n",
    "  SELECT DISTINCT flight_1.flight_id \n",
    "  FROM flight flight_1 , \n",
    "       airport_service airport_service_1 , \n",
    "       city city_1 , \n",
    "       airport_service airport_service_2 , \n",
    "       city city_2 \n",
    "  WHERE flight_1.airline_code = 'AA' \n",
    "        AND ( flight_1.from_airport = airport_service_1.airport_code \n",
    "              AND airport_service_1.city_code = city_1.city_code \n",
    "              AND city_1.city_name = 'DALLAS' \n",
    "              AND flight_1.to_airport = airport_service_2.airport_code \n",
    "              AND airport_service_2.city_code = city_2.city_code \n",
    "              AND city_2.city_name = 'SAN FRANCISCO' )\n",
    "  \"\"\"\n",
    "\n",
    "rule_based_trial(example_8, gold_sql_8)"
   ]
  },
  {
   "cell_type": "markdown",
   "id": "aedfdaee",
   "metadata": {
    "id": "aedfdaee"
   },
   "source": [
    "### Systematic evaluation on a test set\n",
    "\n",
    "We can perform a more systematic evaluation by checking the accuracy of the queries on an entire test set for which we have gold queries. The `evaluate` function below does just this, calculating precision, recall, and F1 metrics for the test set. It takes as argument a \"predictor\" function, which maps token sequences to predicted SQL queries. We've provided a predictor function for the rule-based model in the next cell (and a predictor for the seq2seq system below when we get to that system).\n",
    "\n",
    "The rule-based system does not generate predictions for all queries; many queries won't parse. The precision and recall metrics take this into account in measuring the efficacy of the method. The recall metric captures what proportion of _all of the test examples_ for which the system generates a correct query. The precision metric captures what proportion of _all of the test examples for which a prediction is generated_ for which the system generates a correct query. (Recall that F1 is just the geometric mean of precision and recall.)\n",
    "\n",
    "Once you've made some progress on adding augmentations to the grammar, you can evaluate your progress by seeing if the precision and recall have improved. For reference, the solution code achieves precision of about 66% and recall of about 28% for an F1 of 39%."
   ]
  },
  {
   "cell_type": "code",
   "execution_count": 104,
   "id": "25de63bb",
   "metadata": {
    "id": "25de63bb"
   },
   "outputs": [],
   "source": [
    "def evaluate(predictor, dataset, num_examples=0, silent=True):\n",
    "  \"\"\"Evaluate accuracy of `predictor` by executing predictions on a\n",
    "  SQL database and comparing returned results against those of gold queries.\n",
    "  \n",
    "  Arguments:\n",
    "      predictor:    a function that maps a token sequence (provided by torchtext)\n",
    "                    to a predicted SQL query string\n",
    "      dataset:      the dataset of token sequences and gold SQL queries\n",
    "      num_examples: number of examples from `dataset` to use; all of\n",
    "                    them if 0\n",
    "      silent: if set to False, will print out logs\n",
    "  Returns: precision, recall, and F1 score\n",
    "  \"\"\"\n",
    "  # Prepare to count results\n",
    "  if num_examples <= 0:\n",
    "    num_examples = len(dataset)\n",
    "  example_count = 0\n",
    "  predicted_count = 0\n",
    "  correct = 0\n",
    "  incorrect = 0\n",
    "\n",
    "  # Process the examples from the dataset\n",
    "  for example in tqdm(dataset[:num_examples]):\n",
    "    example_count += 1\n",
    "    # obtain query SQL\n",
    "    predicted_sql = predictor(example.src)\n",
    "    if predicted_sql == None:\n",
    "      continue\n",
    "    predicted_count += 1\n",
    "    # obtain gold SQL\n",
    "    gold_sql = ' '.join(example.tgt)\n",
    "\n",
    "    # check that they're compatible\n",
    "    if verify(predicted_sql, gold_sql):\n",
    "      correct += 1\n",
    "    else:\n",
    "      incorrect += 1\n",
    "   \n",
    "  # Compute and return precision, recall, F1\n",
    "  precision = correct / predicted_count if predicted_count > 0 else 0\n",
    "  recall = correct / example_count\n",
    "  f1 = (2 * precision * recall) / (precision + recall) if precision + recall > 0 else 0\n",
    "  return precision, recall, f1"
   ]
  },
  {
   "cell_type": "code",
   "execution_count": 105,
   "id": "e33dfba3",
   "metadata": {
    "id": "e33dfba3"
   },
   "outputs": [],
   "source": [
    "def rule_based_predictor(tokens):\n",
    "  query = ' '.join(tokens)    # detokenized query\n",
    "  tree = parse_tree(query)\n",
    "  if tree is None:\n",
    "    return None\n",
    "  try:\n",
    "    predicted_sql = interpret(tree, atis_augmentations)\n",
    "  except Exception as err:\n",
    "    return None\n",
    "  return predicted_sql"
   ]
  },
  {
   "cell_type": "code",
   "execution_count": 106,
   "id": "e2ffe5c7",
   "metadata": {
    "colab": {
     "base_uri": "https://localhost:8080/"
    },
    "id": "e2ffe5c7",
    "outputId": "3f4dca41-55b3-4d01-e643-d07b28309514"
   },
   "outputs": [
    {
     "name": "stderr",
     "output_type": "stream",
     "text": [
      "100%|██████████| 332/332 [00:01<00:00, 211.89it/s]"
     ]
    },
    {
     "name": "stdout",
     "output_type": "stream",
     "text": [
      "precision: 0.81\n",
      "recall:    0.26\n",
      "F1:        0.40\n"
     ]
    },
    {
     "name": "stderr",
     "output_type": "stream",
     "text": [
      "\n"
     ]
    }
   ],
   "source": [
    "precision, recall, f1 = evaluate(rule_based_predictor, test_iter.dataset, num_examples=0)\n",
    "print(f\"precision: {precision:3.2f}\")\n",
    "print(f\"recall:    {recall:3.2f}\")\n",
    "print(f\"F1:        {f1:3.2f}\")"
   ]
  },
  {
   "cell_type": "markdown",
   "id": "fa1e29bf",
   "metadata": {
    "id": "fa1e29bf"
   },
   "source": [
    "# End-to-End Seq2Seq Model"
   ]
  },
  {
   "cell_type": "markdown",
   "id": "3040c18c",
   "metadata": {
    "id": "3040c18c"
   },
   "source": [
    "In this part, you will implement a seq2seq model **with attention mechanism** to directly learn the translation from NL query to SQL. You might find labs 4-4 and 4-5 particularly helpful, as the primary difference here is that we are using a different dataset.\n",
    "\n",
    "**Note:** We recommend using GPUs to train the model in this part (one way to get GPUs is to use [Google Colab](https://colab.research.google.com) and clicking Menu -> Runtime -> Change runtime type -> GPU), as we need to use a very large model to solve the task well. For development we recommend starting with a smaller model and training for only 1 epoch."
   ]
  },
  {
   "cell_type": "markdown",
   "id": "70cc14a7",
   "metadata": {
    "id": "70cc14a7"
   },
   "source": [
    "## Goal 2: Implement a seq2seq model (with attention)"
   ]
  },
  {
   "cell_type": "markdown",
   "id": "edce39ff",
   "metadata": {
    "id": "edce39ff"
   },
   "source": [
    "In lab 4-5, you implemented a neural encoder-decoder model with attention. That model was used to convert English number phrases to numbers, but one of the biggest advantages of neural models is that we can easily apply them to different tasks (such as machine translation and document summarization) by using different training datasets.\n",
    "\n",
    "<img src=\"https://github.com/nlp-236299/data/raw/master/img/encoderdecoder_attn_1layer.png\" alt=\"encoder-decoder-attn illustration\" />\n",
    "\n",
    "Implement the class `AttnEncoderDecoder` to convert natural language queries into SQL statements. You may find that you can reuse most of the code you wrote for lab 4-5. A reasonable way to proceed is to implement the following methods:\n",
    "\n",
    "* **Model**\n",
    "\n",
    "    1. `__init__`: an initializer where you create network modules.\n",
    "\n",
    "    2. `forward`: given source word ids of size `(max_src_len, batch_size)`, source lengths of size `(batch_size)` and decoder input target word ids `(max_tgt_len, batch_size)`, returns logits `(max_tgt_len, batch_size, V_tgt)`. For better modularity you might want to implement it by implementing two functions `forward_encoder` and `forward_decoder`.\n",
    "\n",
    "* **Optimization**\n",
    "\n",
    "    3. `train_all`: compute loss on training data, compute gradients, and update model parameters to minimize the loss.\n",
    "\n",
    "    4. `evaluate_ppl`: evaluate the current model's perplexity on a given dataset iterator, we use the perplexity value on the validation set to select the best model.\n",
    "\n",
    "* **Decoding**\n",
    "\n",
    "    5. `predict`: Generates the target sequence given a list of source tokens using beam search decoding. Note that here you can assume the batch size to be 1 for simplicity. "
   ]
  },
  {
   "cell_type": "code",
   "execution_count": null,
   "id": "f48b358e",
   "metadata": {
    "id": "f48b358e"
   },
   "outputs": [],
   "source": [
    "class AttnEncoderDecoder(nn.Module):\n",
    "    def __init__(self, src_field, tgt_field, hidden_size=64, layers=3):\n",
    "        \"\"\"\n",
    "        Initializer. Creates network modules and loss function.\n",
    "        Arguments:\n",
    "        src_field: src field\n",
    "        tgt_field: tgt field\n",
    "        hidden_size: hidden layer size of both encoder and decoder\n",
    "        layers: number of layers of both encoder and decoder\n",
    "        \"\"\"\n",
    "        super().__init__()\n",
    "        self.src_field = src_field\n",
    "        self.tgt_field = tgt_field\n",
    "\n",
    "        self.V_src = len(src_field.vocab.itos)\n",
    "        self.V_tgt = len(tgt_field.vocab.itos)\n",
    "\n",
    "        self.padding_id_src = src_field.vocab.stoi[src_field.pad_token]\n",
    "        self.padding_id_tgt = tgt_field.vocab.stoi[tgt_field.pad_token]\n",
    "        self.bos_id = tgt_field.vocab.stoi[tgt_field.init_token]\n",
    "        self.eos_id = tgt_field.vocab.stoi[tgt_field.eos_token]\n",
    "\n",
    "        self.embedding_size = hidden_size\n",
    "        self.hidden_size = hidden_size\n",
    "        self.layers = layers\n",
    "\n",
    "        self.word_embeddings_src = nn.Embedding(self.V_src, self.embedding_size)\n",
    "        self.word_embeddings_tgt = nn.Embedding(self.V_tgt, self.embedding_size)\n",
    "\n",
    "        self.encoder_rnn = nn.LSTM(\n",
    "            input_size = self.embedding_size,\n",
    "            hidden_size = hidden_size // 2, # to match decoder hidden size\n",
    "            num_layers = layers,\n",
    "            bidirectional = True # bidirectional encoder\n",
    "        )\n",
    "        self.decoder_rnn = nn.LSTM(\n",
    "            input_size = self.embedding_size,\n",
    "            hidden_size = hidden_size,\n",
    "            num_layers = layers,\n",
    "            bidirectional = False # unidirectional decoder\n",
    "        )\n",
    "\n",
    "        self.hidden2output = nn.Linear(2*hidden_size, self.V_tgt) #\n",
    "        \n",
    "\n",
    "        self.loss_function = nn.CrossEntropyLoss(reduction='sum',ignore_index=self.padding_id_tgt)\n",
    "\n",
    "    def forward_encoder(self, src, src_lengths):\n",
    "        src_embeddings = self.word_embeddings_src(src) \n",
    "        src_lengths = src_lengths.tolist()\n",
    "        packed_src = pack(src_embeddings, src_lengths)\n",
    "        all_states, final_state = self.encoder_rnn(packed_src)\n",
    "        memory_bank, _ = unpack(all_states)\n",
    "        h, c = final_state\n",
    "\n",
    "    \n",
    "        def reshape_hidden_state(s):\n",
    "            s = s.reshape(2, self.layers, -1, self.hidden_size // 2) \n",
    "            s = s.transpose(0, 1).transpose(1, 2) \n",
    "            s = s.reshape(self.layers, -1, self.hidden_size) #\n",
    "            return s\n",
    "        \n",
    "        final_state = (reshape_hidden_state(h), reshape_hidden_state(c))\n",
    "        memory_bank = memory_bank \n",
    "        final_state = final_state \n",
    "        context = None\n",
    "        return memory_bank, (final_state, context)\n",
    "    \n",
    "    def forward_decoder(self, encoder_final_state, tgt_in, memory_bank, src_mask):\n",
    "        max_tgt_length = tgt_in.size(0)\n",
    "        # Initialize decoder state, note that it's a tuple (state, context) here\n",
    "        decoder_states = encoder_final_state\n",
    "        all_logits = []\n",
    "        for i in range(max_tgt_length):\n",
    "            logits, decoder_states, attn = self.forward_decoder_incrementally(decoder_states, tgt_in[i], memory_bank, src_mask, normalize=False)\n",
    "            all_logits.append(logits) # list of bsz, vocab_tgt\n",
    "        all_logits = torch.stack(all_logits, 0) # tgt_len, bsz, vocab_tgt\n",
    "        return all_logits\n",
    "    \n",
    "    def forward(self, src, src_lengths, tgt_in):\n",
    "        src_mask = src.ne(self.padding_id_src) # max_src_len, bsz\n",
    "        memory_bank, encoder_final_state = self.forward_encoder(src, src_lengths)\n",
    "        # Forward decoder\n",
    "        logits = self.forward_decoder(encoder_final_state, tgt_in, memory_bank, src_mask)\n",
    "        return logits\n",
    "    \n",
    "    def forward_decoder_incrementally(self, prev_decoder_states, tgt_in_onestep, memory_bank, src_mask, normalize=True):\n",
    "        prev_decoder_state, prev_context = prev_decoder_states\n",
    "        decoder_input = self.word_embeddings_tgt(tgt_in_onestep) \n",
    "        if prev_context is not None:\n",
    "            decoder_input = decoder_input + prev_context\n",
    "        decoder_input = decoder_input.unsqueeze(0) # 1, bsz, embedding_size\n",
    "        output, decoder_state = self.decoder_rnn(decoder_input, prev_decoder_state)\n",
    "        q = output \n",
    "        k = memory_bank \n",
    "        v = memory_bank\n",
    "        mask = src_mask.transpose(0, 1).unsqueeze(1)\n",
    "        attn, context = attention(q, k, v, mask=mask)\n",
    "        context = context.squeeze(0) \n",
    "        attn = attn.squeeze(1) \n",
    "        output = output.squeeze(0)\n",
    "        outputs = torch.cat([output, context], 1)\n",
    "        logits = self.hidden2output(outputs)\n",
    "        decoder_states = (decoder_state, context)\n",
    "        if normalize:\n",
    "            logits = torch.log_softmax(logits, dim=-1)\n",
    "        return logits, decoder_states, attn\n",
    "    \n",
    "    def evaluate_ppl(self, iterator):\n",
    "        \"\"\"Returns the model's perplexity on a given dataset `iterator`.\"\"\"\n",
    "        self.eval()\n",
    "        total_loss = 0\n",
    "        total_words = 0\n",
    "        for batch in iterator:\n",
    "            src, src_lengths = batch.src\n",
    "            tgt = batch.tgt \n",
    "            tgt_in = tgt[:-1] \n",
    "            tgt_out = tgt[1:] \n",
    "            logits = self.forward(src, src_lengths, tgt_in)\n",
    "            loss = self.loss_function(logits.view(-1, self.V_tgt), tgt_out.view(-1))\n",
    "            total_loss += loss.item()\n",
    "            total_words += tgt_out.ne(self.padding_id_tgt).float().sum().item()\n",
    "        return math.exp(total_loss/total_words)\n",
    "\n",
    "    def train_all(self, train_iter, val_iter, epochs=10, learning_rate=0.001):\n",
    "        self.train()\n",
    "        optim = torch.optim.Adam(self.parameters(), lr=learning_rate)\n",
    "        best_validation_ppl = float('inf')\n",
    "        best_model = None\n",
    "        for epoch in range(epochs):\n",
    "            total_words = 0\n",
    "            total_loss = 0.0\n",
    "            for batch in tqdm(train_iter):\n",
    "                self.zero_grad()\n",
    "                src, src_lengths = batch.src \n",
    "                tgt = batch.tgt \n",
    "                tgt_in = tgt[:-1] \n",
    "                tgt_out = tgt[1:] \n",
    "                bsz = tgt.size(1)\n",
    "                logits = self.forward(src, src_lengths, tgt_in)\n",
    "                loss = self.loss_function(logits.view(-1, self.V_tgt), tgt_out.view(-1))\n",
    "                num_tgt_words = tgt_out.ne(self.padding_id_tgt).float().sum().item()\n",
    "                total_words += num_tgt_words\n",
    "                total_loss += loss.item()\n",
    "                loss.div(bsz).backward()\n",
    "                optim.step()\n",
    "            validation_ppl = self.evaluate_ppl(val_iter)\n",
    "            self.train()\n",
    "            if validation_ppl < best_validation_ppl:\n",
    "                best_validation_ppl = validation_ppl\n",
    "                self.best_model = copy.deepcopy(self.state_dict())\n",
    "            epoch_loss = total_loss / total_words\n",
    "            print (f'Epoch: {epoch} Training Perplexity: {math.exp(epoch_loss):.4f} 'f'Validation Perplexity: {validation_ppl:.4f}')\n",
    "    \n",
    "    def predict(self, tokens, K=1, max_T=400):\n",
    "        beam_searcher = BeamSearcher(self)\n",
    "        tokens = torch.tensor([self.src_field.vocab.stoi[token] for token in tokens]).int().unsqueeze(1).cuda()\n",
    "        tokens_length = torch.tensor([len(tokens)]).cuda()\n",
    "        pred, _ = beam_searcher.beam_search(tokens, tokens_length, K, max_T)\n",
    "        pred = ' '.join([self.tgt_field.vocab.itos[prediction] for prediction in pred if self.tgt_field.vocab.itos[prediction] not in ['<eos>','<bos>']])\n",
    "        return pred\n"
   ]
  },
  {
   "cell_type": "code",
   "execution_count": null,
   "id": "04de42e3",
   "metadata": {
    "id": "04de42e3"
   },
   "outputs": [],
   "source": [
    "def attention(batched_Q, batched_K, batched_V, mask=None):\n",
    "\n",
    "    # Check sizes\n",
    "    D = batched_Q.size(-1)\n",
    "    bsz = batched_Q.size(1)\n",
    "    q_len = batched_Q.size(0)\n",
    "    k_len = batched_K.size(0)\n",
    "    assert batched_K.size(-1) == D and batched_V.size(-1) == D\n",
    "    assert batched_K.size(1) == bsz and batched_V.size(1) == bsz\n",
    "    assert batched_V.size(0) == k_len\n",
    "    if mask is not None:\n",
    "        assert mask.size() == torch.Size([bsz, q_len, k_len])\n",
    "    q = batched_Q.transpose(0, 1) # bsz, q_len, hidden\n",
    "    k = batched_K.transpose(0, 1).transpose(1, 2) # bsz, hidden, k_len\n",
    "    scores = torch.bmm(q, k) # bsz, q_len, k_len\n",
    "\n",
    "    if mask is not None:\n",
    "        scores = scores.masked_fill(mask == False, -float('inf'))\n",
    "    batched_A = torch.softmax(scores, dim=-1) # bsz, q_len, k_len\n",
    "    batched_C = torch.bmm(batched_A, batched_V.transpose(0, 1)) # bsz, q_len, D\n",
    "    batched_C = batched_C.transpose(0, 1) # q_len, bsz, D\n",
    "    batched_A = batched_A\n",
    "    batched_C = batched_C \n",
    "    assert torch.all(torch.isclose(batched_A.sum(-1),\n",
    "\n",
    "    torch.ones(bsz, q_len).to(device)))\n",
    "\n",
    "    return batched_A, batched_C\n",
    "\n",
    "\n",
    "MAX_T = 15\n",
    "class Beam():\n",
    "    def __init__(self, decoder_state, tokens, score):\n",
    "        self.decoder_state = decoder_state\n",
    "        self.tokens = tokens\n",
    "        self.score = score\n",
    "    \n",
    "\n",
    "class BeamSearcher():\n",
    "    def __init__(self, model):\n",
    "        self.model = model\n",
    "        self.bos_id = model.bos_id\n",
    "        self.eos_id = model.eos_id\n",
    "        self.padding_id_src = model.padding_id_src\n",
    "        self.V = model.V_tgt\n",
    "\n",
    "    def beam_search(self, src, src_lengths, K, max_T=MAX_T):\n",
    "        finished = []\n",
    "        all_attns = []\n",
    "        # Initialize the beam\n",
    "        self.model.eval()\n",
    "        memory_bank, encoder_final_state = self.model.forward_encoder(src,src_lengths)\n",
    "        memory_bank = memory_bank \n",
    "        encoder_final_state = encoder_final_state \n",
    "        init_beam = Beam(encoder_final_state, [torch.LongTensor(1).fill_(self.bos_id).to(device)], 0) \n",
    "        beams = [init_beam]\n",
    "        with torch.no_grad():\n",
    "            for t in range(max_T): # main body of search over time steps\n",
    "                # Expand each beam by all possible tokens y_{t+1}\n",
    "                all_total_scores = []\n",
    "                for beam in beams:\n",
    "                    y_1_to_t, score, decoder_state = beam.tokens, beam.score, beam.decoder_state\n",
    "                    y_t = y_1_to_t[-1]\n",
    "                    src_mask = src.ne(self.padding_id_src)\n",
    "                    logits, decoder_state, attn = self.model.forward_decoder_incrementally(decoder_state, y_t, memory_bank, src_mask, normalize=True) \n",
    "                    logits = logits \n",
    "                    decoder_state = decoder_state \n",
    "                    attn = attn \n",
    "                    total_scores = logits + score\n",
    "                    all_total_scores.append(total_scores)\n",
    "                    all_attns.append(attn) \n",
    "                    beam.decoder_state = decoder_state \n",
    "                all_total_scores = torch.stack(all_total_scores) \n",
    "                all_scores_flattened = all_total_scores.view(-1)\n",
    "                topk_scores, topk_ids = all_scores_flattened.topk(K, 0)\n",
    "                beam_ids = topk_ids.div(self.V, rounding_mode='floor')\n",
    "                next_tokens = topk_ids - beam_ids * self.V\n",
    "                new_beams = []\n",
    "                for k in range(K):\n",
    "                    beam_id = beam_ids[k] \n",
    "                    y_t_plus_1 = next_tokens[k]\n",
    "                    score = topk_scores[k]\n",
    "                    beam = beams[beam_id]\n",
    "                    decoder_state = beam.decoder_state\n",
    "                    y_1_to_t = beam.tokens\n",
    "                    new_beam = Beam(decoder_state, y_1_to_t + [y_t_plus_1], score) \n",
    "                    new_beams.append(new_beam)\n",
    "                beams = new_beams\n",
    "                new_beams = []\n",
    "                for beam in beams:\n",
    "                    if beam.tokens[-1] == self.eos_id:\n",
    "                        finished.append(beam)\n",
    "                    else:\n",
    "                        new_beams.append(beam)\n",
    "                beams = new_beams\n",
    "                if len(beams) == 0:\n",
    "                    break\n",
    "\n",
    "        if len(finished) > 0:\n",
    "            finished = sorted(finished, key=lambda beam: -beam.score)\n",
    "            return finished[0].tokens, all_attns\n",
    "        else: \n",
    "            return beams[0].tokens, all_attns"
   ]
  },
  {
   "cell_type": "markdown",
   "id": "b3ff6c4a",
   "metadata": {
    "id": "b3ff6c4a"
   },
   "source": [
    "We provide the recommended hyperparameters for the final model in the script below, but you are free to tune the hyperparameters or change any part of the provided code. \n",
    "\n",
    ">For quick debugging, we recommend starting with smaller models (by using a very small `hidden_size`), and only a single epoch. If the model runs smoothly, then you can train the full model on GPUs."
   ]
  },
  {
   "cell_type": "code",
   "execution_count": null,
   "id": "579f35f5",
   "metadata": {
    "colab": {
     "base_uri": "https://localhost:8080/"
    },
    "id": "579f35f5",
    "outputId": "3fc4d49e-eeb0-4343-8e87-a3de44cf9600"
   },
   "outputs": [
    {
     "name": "stderr",
     "output_type": "stream",
     "text": [
      "100%|██████████| 229/229 [01:17<00:00,  2.96it/s]\n"
     ]
    },
    {
     "name": "stdout",
     "output_type": "stream",
     "text": [
      "Epoch: 0 Training Perplexity: 4.1562 Validation Perplexity: 1.7590\n"
     ]
    },
    {
     "name": "stderr",
     "output_type": "stream",
     "text": [
      "100%|██████████| 229/229 [01:16<00:00,  2.97it/s]\n"
     ]
    },
    {
     "name": "stdout",
     "output_type": "stream",
     "text": [
      "Epoch: 1 Training Perplexity: 1.4937 Validation Perplexity: 1.4007\n"
     ]
    },
    {
     "name": "stderr",
     "output_type": "stream",
     "text": [
      "100%|██████████| 229/229 [01:19<00:00,  2.87it/s]\n"
     ]
    },
    {
     "name": "stdout",
     "output_type": "stream",
     "text": [
      "Epoch: 2 Training Perplexity: 1.3047 Validation Perplexity: 1.2931\n"
     ]
    },
    {
     "name": "stderr",
     "output_type": "stream",
     "text": [
      "100%|██████████| 229/229 [01:18<00:00,  2.94it/s]\n"
     ]
    },
    {
     "name": "stdout",
     "output_type": "stream",
     "text": [
      "Epoch: 3 Training Perplexity: 1.2203 Validation Perplexity: 1.2322\n"
     ]
    },
    {
     "name": "stderr",
     "output_type": "stream",
     "text": [
      "100%|██████████| 229/229 [01:16<00:00,  2.98it/s]\n"
     ]
    },
    {
     "name": "stdout",
     "output_type": "stream",
     "text": [
      "Epoch: 4 Training Perplexity: 1.1697 Validation Perplexity: 1.1906\n"
     ]
    },
    {
     "name": "stderr",
     "output_type": "stream",
     "text": [
      "100%|██████████| 229/229 [01:16<00:00,  2.99it/s]\n"
     ]
    },
    {
     "name": "stdout",
     "output_type": "stream",
     "text": [
      "Epoch: 5 Training Perplexity: 1.1363 Validation Perplexity: 1.1620\n"
     ]
    },
    {
     "name": "stderr",
     "output_type": "stream",
     "text": [
      "100%|██████████| 229/229 [01:19<00:00,  2.88it/s]\n"
     ]
    },
    {
     "name": "stdout",
     "output_type": "stream",
     "text": [
      "Epoch: 6 Training Perplexity: 1.1114 Validation Perplexity: 1.1609\n"
     ]
    },
    {
     "name": "stderr",
     "output_type": "stream",
     "text": [
      "100%|██████████| 229/229 [01:17<00:00,  2.97it/s]\n"
     ]
    },
    {
     "name": "stdout",
     "output_type": "stream",
     "text": [
      "Epoch: 7 Training Perplexity: 1.0961 Validation Perplexity: 1.1352\n"
     ]
    },
    {
     "name": "stderr",
     "output_type": "stream",
     "text": [
      "100%|██████████| 229/229 [01:17<00:00,  2.95it/s]\n"
     ]
    },
    {
     "name": "stdout",
     "output_type": "stream",
     "text": [
      "Epoch: 8 Training Perplexity: 1.0783 Validation Perplexity: 1.1219\n"
     ]
    },
    {
     "name": "stderr",
     "output_type": "stream",
     "text": [
      "100%|██████████| 229/229 [01:17<00:00,  2.97it/s]\n"
     ]
    },
    {
     "name": "stdout",
     "output_type": "stream",
     "text": [
      "Epoch: 9 Training Perplexity: 1.0658 Validation Perplexity: 1.1176\n"
     ]
    },
    {
     "name": "stderr",
     "output_type": "stream",
     "text": [
      "100%|██████████| 229/229 [01:18<00:00,  2.93it/s]\n"
     ]
    },
    {
     "name": "stdout",
     "output_type": "stream",
     "text": [
      "Epoch: 10 Training Perplexity: 1.0574 Validation Perplexity: 1.1126\n"
     ]
    },
    {
     "name": "stderr",
     "output_type": "stream",
     "text": [
      "100%|██████████| 229/229 [01:16<00:00,  2.98it/s]\n"
     ]
    },
    {
     "name": "stdout",
     "output_type": "stream",
     "text": [
      "Epoch: 11 Training Perplexity: 1.0505 Validation Perplexity: 1.1174\n"
     ]
    },
    {
     "name": "stderr",
     "output_type": "stream",
     "text": [
      "100%|██████████| 229/229 [01:17<00:00,  2.95it/s]\n"
     ]
    },
    {
     "name": "stdout",
     "output_type": "stream",
     "text": [
      "Epoch: 12 Training Perplexity: 1.0444 Validation Perplexity: 1.1047\n"
     ]
    },
    {
     "name": "stderr",
     "output_type": "stream",
     "text": [
      "100%|██████████| 229/229 [01:16<00:00,  2.98it/s]\n"
     ]
    },
    {
     "name": "stdout",
     "output_type": "stream",
     "text": [
      "Epoch: 13 Training Perplexity: 1.0381 Validation Perplexity: 1.1057\n"
     ]
    },
    {
     "name": "stderr",
     "output_type": "stream",
     "text": [
      "100%|██████████| 229/229 [01:17<00:00,  2.95it/s]\n"
     ]
    },
    {
     "name": "stdout",
     "output_type": "stream",
     "text": [
      "Epoch: 14 Training Perplexity: 1.0319 Validation Perplexity: 1.1051\n"
     ]
    },
    {
     "name": "stderr",
     "output_type": "stream",
     "text": [
      "100%|██████████| 229/229 [01:17<00:00,  2.97it/s]\n"
     ]
    },
    {
     "name": "stdout",
     "output_type": "stream",
     "text": [
      "Epoch: 15 Training Perplexity: 1.0283 Validation Perplexity: 1.1035\n"
     ]
    },
    {
     "name": "stderr",
     "output_type": "stream",
     "text": [
      "100%|██████████| 229/229 [01:16<00:00,  2.99it/s]\n"
     ]
    },
    {
     "name": "stdout",
     "output_type": "stream",
     "text": [
      "Epoch: 16 Training Perplexity: 1.0240 Validation Perplexity: 1.0947\n"
     ]
    },
    {
     "name": "stderr",
     "output_type": "stream",
     "text": [
      "100%|██████████| 229/229 [01:17<00:00,  2.97it/s]\n"
     ]
    },
    {
     "name": "stdout",
     "output_type": "stream",
     "text": [
      "Epoch: 17 Training Perplexity: 1.0230 Validation Perplexity: 1.1108\n"
     ]
    },
    {
     "name": "stderr",
     "output_type": "stream",
     "text": [
      "100%|██████████| 229/229 [01:17<00:00,  2.95it/s]\n"
     ]
    },
    {
     "name": "stdout",
     "output_type": "stream",
     "text": [
      "Epoch: 18 Training Perplexity: 1.0271 Validation Perplexity: 1.0949\n"
     ]
    },
    {
     "name": "stderr",
     "output_type": "stream",
     "text": [
      "100%|██████████| 229/229 [01:17<00:00,  2.97it/s]\n"
     ]
    },
    {
     "name": "stdout",
     "output_type": "stream",
     "text": [
      "Epoch: 19 Training Perplexity: 1.0183 Validation Perplexity: 1.0932\n"
     ]
    },
    {
     "name": "stderr",
     "output_type": "stream",
     "text": [
      "100%|██████████| 229/229 [01:16<00:00,  2.99it/s]\n"
     ]
    },
    {
     "name": "stdout",
     "output_type": "stream",
     "text": [
      "Epoch: 20 Training Perplexity: 1.0149 Validation Perplexity: 1.0967\n"
     ]
    },
    {
     "name": "stderr",
     "output_type": "stream",
     "text": [
      "100%|██████████| 229/229 [01:15<00:00,  3.03it/s]\n"
     ]
    },
    {
     "name": "stdout",
     "output_type": "stream",
     "text": [
      "Epoch: 21 Training Perplexity: 1.0142 Validation Perplexity: 1.0904\n"
     ]
    },
    {
     "name": "stderr",
     "output_type": "stream",
     "text": [
      "100%|██████████| 229/229 [01:17<00:00,  2.95it/s]\n"
     ]
    },
    {
     "name": "stdout",
     "output_type": "stream",
     "text": [
      "Epoch: 22 Training Perplexity: 1.0118 Validation Perplexity: 1.0970\n"
     ]
    },
    {
     "name": "stderr",
     "output_type": "stream",
     "text": [
      "100%|██████████| 229/229 [01:16<00:00,  2.98it/s]\n"
     ]
    },
    {
     "name": "stdout",
     "output_type": "stream",
     "text": [
      "Epoch: 23 Training Perplexity: 1.0124 Validation Perplexity: 1.0995\n"
     ]
    },
    {
     "name": "stderr",
     "output_type": "stream",
     "text": [
      "100%|██████████| 229/229 [01:16<00:00,  2.99it/s]\n"
     ]
    },
    {
     "name": "stdout",
     "output_type": "stream",
     "text": [
      "Epoch: 24 Training Perplexity: 1.0113 Validation Perplexity: 1.0951\n"
     ]
    },
    {
     "name": "stderr",
     "output_type": "stream",
     "text": [
      "100%|██████████| 229/229 [01:16<00:00,  2.99it/s]\n"
     ]
    },
    {
     "name": "stdout",
     "output_type": "stream",
     "text": [
      "Epoch: 25 Training Perplexity: 1.0112 Validation Perplexity: 1.0915\n"
     ]
    },
    {
     "name": "stderr",
     "output_type": "stream",
     "text": [
      "100%|██████████| 229/229 [01:17<00:00,  2.97it/s]\n"
     ]
    },
    {
     "name": "stdout",
     "output_type": "stream",
     "text": [
      "Epoch: 26 Training Perplexity: 1.0089 Validation Perplexity: 1.0961\n"
     ]
    },
    {
     "name": "stderr",
     "output_type": "stream",
     "text": [
      "100%|██████████| 229/229 [01:16<00:00,  2.98it/s]\n"
     ]
    },
    {
     "name": "stdout",
     "output_type": "stream",
     "text": [
      "Epoch: 27 Training Perplexity: 1.0074 Validation Perplexity: 1.0934\n"
     ]
    },
    {
     "name": "stderr",
     "output_type": "stream",
     "text": [
      "100%|██████████| 229/229 [01:18<00:00,  2.93it/s]\n"
     ]
    },
    {
     "name": "stdout",
     "output_type": "stream",
     "text": [
      "Epoch: 28 Training Perplexity: 1.0056 Validation Perplexity: 1.0969\n"
     ]
    },
    {
     "name": "stderr",
     "output_type": "stream",
     "text": [
      "100%|██████████| 229/229 [01:16<00:00,  2.99it/s]\n"
     ]
    },
    {
     "name": "stdout",
     "output_type": "stream",
     "text": [
      "Epoch: 29 Training Perplexity: 1.0050 Validation Perplexity: 1.0964\n"
     ]
    },
    {
     "name": "stderr",
     "output_type": "stream",
     "text": [
      "100%|██████████| 229/229 [01:15<00:00,  3.03it/s]\n"
     ]
    },
    {
     "name": "stdout",
     "output_type": "stream",
     "text": [
      "Epoch: 30 Training Perplexity: 1.0059 Validation Perplexity: 1.1149\n"
     ]
    },
    {
     "name": "stderr",
     "output_type": "stream",
     "text": [
      "100%|██████████| 229/229 [01:17<00:00,  2.97it/s]\n"
     ]
    },
    {
     "name": "stdout",
     "output_type": "stream",
     "text": [
      "Epoch: 31 Training Perplexity: 1.0105 Validation Perplexity: 1.0991\n"
     ]
    },
    {
     "name": "stderr",
     "output_type": "stream",
     "text": [
      "100%|██████████| 229/229 [01:17<00:00,  2.96it/s]\n"
     ]
    },
    {
     "name": "stdout",
     "output_type": "stream",
     "text": [
      "Epoch: 32 Training Perplexity: 1.0070 Validation Perplexity: 1.1042\n"
     ]
    },
    {
     "name": "stderr",
     "output_type": "stream",
     "text": [
      "100%|██████████| 229/229 [01:15<00:00,  3.03it/s]\n"
     ]
    },
    {
     "name": "stdout",
     "output_type": "stream",
     "text": [
      "Epoch: 33 Training Perplexity: 1.0063 Validation Perplexity: 1.0961\n"
     ]
    },
    {
     "name": "stderr",
     "output_type": "stream",
     "text": [
      "100%|██████████| 229/229 [01:17<00:00,  2.96it/s]\n"
     ]
    },
    {
     "name": "stdout",
     "output_type": "stream",
     "text": [
      "Epoch: 34 Training Perplexity: 1.0043 Validation Perplexity: 1.0937\n"
     ]
    },
    {
     "name": "stderr",
     "output_type": "stream",
     "text": [
      "100%|██████████| 229/229 [01:16<00:00,  2.98it/s]\n"
     ]
    },
    {
     "name": "stdout",
     "output_type": "stream",
     "text": [
      "Epoch: 35 Training Perplexity: 1.0033 Validation Perplexity: 1.0958\n"
     ]
    },
    {
     "name": "stderr",
     "output_type": "stream",
     "text": [
      "100%|██████████| 229/229 [01:15<00:00,  3.03it/s]\n"
     ]
    },
    {
     "name": "stdout",
     "output_type": "stream",
     "text": [
      "Epoch: 36 Training Perplexity: 1.0025 Validation Perplexity: 1.0996\n"
     ]
    },
    {
     "name": "stderr",
     "output_type": "stream",
     "text": [
      "100%|██████████| 229/229 [01:17<00:00,  2.96it/s]\n"
     ]
    },
    {
     "name": "stdout",
     "output_type": "stream",
     "text": [
      "Epoch: 37 Training Perplexity: 1.0025 Validation Perplexity: 1.0979\n"
     ]
    },
    {
     "name": "stderr",
     "output_type": "stream",
     "text": [
      "100%|██████████| 229/229 [01:17<00:00,  2.97it/s]\n"
     ]
    },
    {
     "name": "stdout",
     "output_type": "stream",
     "text": [
      "Epoch: 38 Training Perplexity: 1.0075 Validation Perplexity: 1.1028\n"
     ]
    },
    {
     "name": "stderr",
     "output_type": "stream",
     "text": [
      "100%|██████████| 229/229 [01:17<00:00,  2.97it/s]\n"
     ]
    },
    {
     "name": "stdout",
     "output_type": "stream",
     "text": [
      "Epoch: 39 Training Perplexity: 1.0110 Validation Perplexity: 1.1009\n"
     ]
    },
    {
     "name": "stderr",
     "output_type": "stream",
     "text": [
      "100%|██████████| 229/229 [01:18<00:00,  2.93it/s]\n"
     ]
    },
    {
     "name": "stdout",
     "output_type": "stream",
     "text": [
      "Epoch: 40 Training Perplexity: 1.0074 Validation Perplexity: 1.1047\n"
     ]
    },
    {
     "name": "stderr",
     "output_type": "stream",
     "text": [
      "100%|██████████| 229/229 [01:17<00:00,  2.96it/s]\n"
     ]
    },
    {
     "name": "stdout",
     "output_type": "stream",
     "text": [
      "Epoch: 41 Training Perplexity: 1.0048 Validation Perplexity: 1.1000\n"
     ]
    },
    {
     "name": "stderr",
     "output_type": "stream",
     "text": [
      "100%|██████████| 229/229 [01:16<00:00,  2.98it/s]\n"
     ]
    },
    {
     "name": "stdout",
     "output_type": "stream",
     "text": [
      "Epoch: 42 Training Perplexity: 1.0031 Validation Perplexity: 1.1172\n"
     ]
    },
    {
     "name": "stderr",
     "output_type": "stream",
     "text": [
      "100%|██████████| 229/229 [01:16<00:00,  2.98it/s]\n"
     ]
    },
    {
     "name": "stdout",
     "output_type": "stream",
     "text": [
      "Epoch: 43 Training Perplexity: 1.0038 Validation Perplexity: 1.1003\n"
     ]
    },
    {
     "name": "stderr",
     "output_type": "stream",
     "text": [
      "100%|██████████| 229/229 [01:15<00:00,  3.02it/s]\n"
     ]
    },
    {
     "name": "stdout",
     "output_type": "stream",
     "text": [
      "Epoch: 44 Training Perplexity: 1.0028 Validation Perplexity: 1.1002\n"
     ]
    },
    {
     "name": "stderr",
     "output_type": "stream",
     "text": [
      "100%|██████████| 229/229 [01:16<00:00,  2.99it/s]\n"
     ]
    },
    {
     "name": "stdout",
     "output_type": "stream",
     "text": [
      "Epoch: 45 Training Perplexity: 1.0018 Validation Perplexity: 1.1026\n"
     ]
    },
    {
     "name": "stderr",
     "output_type": "stream",
     "text": [
      "100%|██████████| 229/229 [01:16<00:00,  3.01it/s]\n"
     ]
    },
    {
     "name": "stdout",
     "output_type": "stream",
     "text": [
      "Epoch: 46 Training Perplexity: 1.0019 Validation Perplexity: 1.1004\n"
     ]
    },
    {
     "name": "stderr",
     "output_type": "stream",
     "text": [
      "100%|██████████| 229/229 [01:17<00:00,  2.96it/s]\n"
     ]
    },
    {
     "name": "stdout",
     "output_type": "stream",
     "text": [
      "Epoch: 47 Training Perplexity: 1.0037 Validation Perplexity: 1.1033\n"
     ]
    },
    {
     "name": "stderr",
     "output_type": "stream",
     "text": [
      "100%|██████████| 229/229 [01:16<00:00,  2.99it/s]\n"
     ]
    },
    {
     "name": "stdout",
     "output_type": "stream",
     "text": [
      "Epoch: 48 Training Perplexity: 1.0070 Validation Perplexity: 1.1089\n"
     ]
    },
    {
     "name": "stderr",
     "output_type": "stream",
     "text": [
      "100%|██████████| 229/229 [01:15<00:00,  3.01it/s]\n"
     ]
    },
    {
     "name": "stdout",
     "output_type": "stream",
     "text": [
      "Epoch: 49 Training Perplexity: 1.0067 Validation Perplexity: 1.1031\n",
      "Validation perplexity: 1.090\n"
     ]
    }
   ],
   "source": [
    "EPOCHS = 50 # epochs; we recommend starting with a smaller number like 1\n",
    "LEARNING_RATE = 1e-4 # learning rate\n",
    "\n",
    "# Instantiate and train classifier\n",
    "model = AttnEncoderDecoder(SRC, TGT,\n",
    "  hidden_size    = 1024,\n",
    "  layers         = 1,\n",
    ").to(device)\n",
    "\n",
    "model.train_all(train_iter, val_iter, epochs=EPOCHS, learning_rate=LEARNING_RATE)\n",
    "model.load_state_dict(model.best_model)\n",
    "\n",
    "# Evaluate model performance, the expected value should be < 1.2\n",
    "print (f'Validation perplexity: {model.evaluate_ppl(val_iter):.3f}')"
   ]
  },
  {
   "cell_type": "markdown",
   "id": "03ee437f",
   "metadata": {
    "id": "03ee437f"
   },
   "source": [
    "With a trained model, we can convert questions to SQL statements. We recommend making sure that the model can generate at least reasonable results on the examples from before, before evaluating on the full test set."
   ]
  },
  {
   "cell_type": "code",
   "execution_count": null,
   "id": "dccc5761",
   "metadata": {
    "id": "dccc5761"
   },
   "outputs": [],
   "source": [
    "def seq2seq_trial(sentence, gold_sql):\n",
    "  print(\"Sentence: \", sentence, \"\\n\")\n",
    "  tokens = tokenize(sentence)\n",
    "  predicted_sql = model.predict(tokens, K=1, max_T=400)\n",
    "  print(\"Predicted SQL:\\n\\n\", predicted_sql, \"\\n\")\n",
    "\n",
    "  if verify(predicted_sql, gold_sql, silent=False):\n",
    "    print ('Correct!')\n",
    "  else:\n",
    "    print ('Incorrect!')"
   ]
  },
  {
   "cell_type": "code",
   "execution_count": null,
   "id": "7114b61b",
   "metadata": {
    "colab": {
     "base_uri": "https://localhost:8080/"
    },
    "id": "7114b61b",
    "outputId": "f030d1c8-23c5-42ed-ec6e-23df14584ed0"
   },
   "outputs": [
    {
     "name": "stdout",
     "output_type": "stream",
     "text": [
      "Sentence:  flights from phoenix to milwaukee \n",
      "\n",
      "Predicted SQL:\n",
      "\n",
      " SELECT DISTINCT flight_1.flight_id FROM flight flight_1 , airport_service airport_service_1 , city city_1 , airport_service airport_service_2 , city city_2 WHERE flight_1.from_airport = airport_service_1.airport_code AND airport_service_1.city_code = city_1.city_code AND city_1.city_name = 'PHOENIX' AND flight_1.to_airport = airport_service_2.airport_code AND airport_service_2.city_code = city_2.city_code AND city_2.city_name = 'MILWAUKEE' \n",
      "\n",
      "Predicted DB result:\n",
      "\n",
      " [(108086,), (108087,), (301763,), (301764,), (301765,), (301766,), (302323,), (304881,), (310619,), (310620,)] \n",
      "\n",
      "Gold DB result:\n",
      "\n",
      " [(108086,), (108087,), (301763,), (301764,), (301765,), (301766,), (302323,), (304881,), (310619,), (310620,)] \n",
      "\n",
      "Correct!\n"
     ]
    }
   ],
   "source": [
    "seq2seq_trial(example_1, gold_sql_1)"
   ]
  },
  {
   "cell_type": "code",
   "execution_count": null,
   "id": "8c13fcf3",
   "metadata": {
    "colab": {
     "base_uri": "https://localhost:8080/"
    },
    "id": "8c13fcf3",
    "outputId": "10edd985-1a62-4deb-dc35-d4462f798602"
   },
   "outputs": [
    {
     "name": "stdout",
     "output_type": "stream",
     "text": [
      "Sentence:  i would like a united flight \n",
      "\n",
      "Predicted SQL:\n",
      "\n",
      " SELECT DISTINCT flight_1.flight_id FROM flight flight_1 , airport_service airport_service_1 , city city_1 WHERE flight_1.airline_code = 'UA' AND ( flight_1.from_airport = airport_service_1.airport_code AND airport_service_1.city_code = city_1.city_code AND city_1.city_name = 'DENVER' AND flight_1.to_airport = airport_service_2.airport_code AND airport_service_2.city_code = city_2.city_code AND city_2.city_name = 'DENVER' ) \n",
      "\n",
      "predicted sql exec failed: no such column: airport_service_2.airport_code\n",
      "Incorrect!\n"
     ]
    }
   ],
   "source": [
    "seq2seq_trial(example_2, gold_sql_2)"
   ]
  },
  {
   "cell_type": "code",
   "execution_count": null,
   "id": "cabdfeae",
   "metadata": {
    "colab": {
     "base_uri": "https://localhost:8080/"
    },
    "id": "cabdfeae",
    "outputId": "9d826282-09b3-40b1-f571-b8de0824a3a1"
   },
   "outputs": [
    {
     "name": "stdout",
     "output_type": "stream",
     "text": [
      "Sentence:  i would like a flight between boston and dallas \n",
      "\n",
      "Predicted SQL:\n",
      "\n",
      " SELECT DISTINCT flight_1.flight_id FROM flight flight_1 , airport_service airport_service_1 , city city_1 , airport_service airport_service_2 , city city_2 WHERE flight_1.from_airport = airport_service_1.airport_code AND airport_service_1.city_code = city_1.city_code AND city_1.city_name = 'BOSTON' AND flight_1.to_airport = airport_service_2.airport_code AND airport_service_2.city_code = city_2.city_code AND city_2.city_name = 'DALLAS' \n",
      "\n",
      "Predicted DB result:\n",
      "\n",
      " [(103171,), (103172,), (103173,), (103174,), (103175,), (103176,), (103177,), (103178,), (103179,), (103180,)] \n",
      "\n",
      "Gold DB result:\n",
      "\n",
      " [(103171,), (103172,), (103173,), (103174,), (103175,), (103176,), (103177,), (103178,), (103179,), (103180,)] \n",
      "\n",
      "Correct!\n"
     ]
    }
   ],
   "source": [
    "seq2seq_trial(example_3, gold_sql_3)"
   ]
  },
  {
   "cell_type": "code",
   "execution_count": null,
   "id": "560b218c",
   "metadata": {
    "colab": {
     "base_uri": "https://localhost:8080/"
    },
    "id": "560b218c",
    "outputId": "82b36454-bb87-41f1-9591-7231bec12c6f"
   },
   "outputs": [
    {
     "name": "stdout",
     "output_type": "stream",
     "text": [
      "Sentence:  show me the united flights from denver to baltimore \n",
      "\n",
      "Predicted SQL:\n",
      "\n",
      " SELECT DISTINCT flight_1.flight_id FROM flight flight_1 , airport_service airport_service_1 , city city_1 , airport_service airport_service_2 , city city_2 WHERE flight_1.airline_code = 'UA' AND ( flight_1.from_airport = airport_service_1.airport_code AND airport_service_1.city_code = city_1.city_code AND city_1.city_name = 'DENVER' AND flight_1.to_airport = airport_service_2.airport_code AND airport_service_2.city_code = city_2.city_code AND city_2.city_name = 'BALTIMORE' ) \n",
      "\n",
      "Predicted DB result:\n",
      "\n",
      " [(101231,), (101233,), (305983,)] \n",
      "\n",
      "Gold DB result:\n",
      "\n",
      " [(101231,), (101233,), (305983,)] \n",
      "\n",
      "Correct!\n"
     ]
    }
   ],
   "source": [
    "seq2seq_trial(example_4, gold_sql_4)"
   ]
  },
  {
   "cell_type": "code",
   "execution_count": null,
   "id": "069d8ba3",
   "metadata": {
    "colab": {
     "base_uri": "https://localhost:8080/"
    },
    "id": "069d8ba3",
    "outputId": "1a852de6-67ff-4b63-8631-fb1df1b884c4"
   },
   "outputs": [
    {
     "name": "stdout",
     "output_type": "stream",
     "text": [
      "Sentence:  show flights from cleveland to miami that arrive before 4pm \n",
      "\n",
      "Predicted SQL:\n",
      "\n",
      " SELECT DISTINCT flight_1.flight_id FROM flight flight_1 , airport_service airport_service_1 , city city_1 , airport_service airport_service_2 , city city_2 WHERE flight_1.from_airport = airport_service_1.airport_code AND airport_service_1.city_code = city_1.city_code AND city_1.city_name = 'CLEVELAND' AND ( flight_1.to_airport = airport_service_2.airport_code AND airport_service_2.city_code = city_2.city_code AND city_2.city_name = 'MIAMI' AND flight_1.arrival_time < 1600 ) \n",
      "\n",
      "Predicted DB result:\n",
      "\n",
      " [(107698,), (301117,)] \n",
      "\n",
      "Gold DB result:\n",
      "\n",
      " [(107698,), (301117,)] \n",
      "\n",
      "Correct!\n"
     ]
    }
   ],
   "source": [
    "seq2seq_trial(example_5, gold_sql_5)"
   ]
  },
  {
   "cell_type": "code",
   "execution_count": null,
   "id": "d042abfe",
   "metadata": {
    "colab": {
     "base_uri": "https://localhost:8080/"
    },
    "id": "d042abfe",
    "outputId": "56eb84d6-db19-4f7f-f8d5-44c1433a8491"
   },
   "outputs": [
    {
     "name": "stdout",
     "output_type": "stream",
     "text": [
      "Sentence:  okay how about a flight on sunday from tampa to charlotte \n",
      "\n",
      "Predicted SQL:\n",
      "\n",
      " SELECT DISTINCT flight_1.flight_id FROM flight flight_1 , airport_service airport_service_1 , city city_1 , airport_service airport_service_2 , city city_2 , days days_1 , date_day date_day_1 WHERE flight_1.from_airport = airport_service_1.airport_code AND airport_service_1.city_code = city_1.city_code AND city_1.city_name = 'TAMPA' AND ( flight_1.to_airport = airport_service_2.airport_code AND airport_service_2.city_code = city_2.city_code AND city_2.city_name = 'CHARLOTTE' AND flight_1.flight_days = days_1.days_code AND days_1.day_name = date_day_1.day_name AND date_day_1.year = 1991 AND date_day_1.month_number = 8 AND date_day_1.day_number = 27 ) \n",
      "\n",
      "Predicted DB result:\n",
      "\n",
      " [(101860,), (101861,), (101862,), (101863,), (101864,), (101865,), (305231,)] \n",
      "\n",
      "Gold DB result:\n",
      "\n",
      " [(101860,), (101861,), (101862,), (101863,), (101864,), (101865,), (305231,)] \n",
      "\n",
      "Correct!\n"
     ]
    }
   ],
   "source": [
    "seq2seq_trial(example_6, gold_sql_6b)"
   ]
  },
  {
   "cell_type": "code",
   "execution_count": null,
   "id": "3ef3fed0",
   "metadata": {
    "colab": {
     "base_uri": "https://localhost:8080/"
    },
    "id": "3ef3fed0",
    "outputId": "a934586a-3f9c-4fd6-fcd0-243513c601ff"
   },
   "outputs": [
    {
     "name": "stdout",
     "output_type": "stream",
     "text": [
      "Sentence:  list all flights going from boston to atlanta that leaves before 7 am on thursday \n",
      "\n",
      "Predicted SQL:\n",
      "\n",
      " SELECT DISTINCT flight_1.flight_id FROM flight flight_1 , airport_service airport_service_1 , city city_1 , airport_service airport_service_2 , city city_2 , days days_1 , date_day date_day_1 WHERE flight_1.from_airport = airport_service_1.airport_code AND airport_service_1.city_code = city_1.city_code AND city_1.city_name = 'BOSTON' AND ( flight_1.to_airport = airport_service_2.airport_code AND airport_service_2.city_code = city_2.city_code AND city_2.city_name = 'ATLANTA' AND ( flight_1.flight_days = days_1.days_code AND days_1.day_name = date_day_1.day_name AND date_day_1.year = 1991 AND date_day_1.month_number = 5 AND date_day_1.day_number = 24 AND flight_1.departure_time < 700 ) ) \n",
      "\n",
      "Predicted DB result:\n",
      "\n",
      " [(100014,)] \n",
      "\n",
      "Gold DB result:\n",
      "\n",
      " [(100014,)] \n",
      "\n",
      "Correct!\n"
     ]
    }
   ],
   "source": [
    "seq2seq_trial(example_7, gold_sql_7b)"
   ]
  },
  {
   "cell_type": "code",
   "execution_count": null,
   "id": "5f3719f9",
   "metadata": {
    "colab": {
     "base_uri": "https://localhost:8080/"
    },
    "id": "5f3719f9",
    "outputId": "cb39dfdc-b2a8-4cc9-a3dd-a6872c30669f"
   },
   "outputs": [
    {
     "name": "stdout",
     "output_type": "stream",
     "text": [
      "Sentence:  list the flights from dallas to san francisco on american airlines \n",
      "\n",
      "Predicted SQL:\n",
      "\n",
      " SELECT DISTINCT flight_1.flight_id FROM flight flight_1 , airport_service airport_service_1 , city city_1 , airport_service airport_service_2 , city city_2 WHERE flight_1.airline_code = 'AA' AND ( flight_1.from_airport = airport_service_1.airport_code AND airport_service_1.city_code = city_1.city_code AND city_1.city_name = 'DALLAS' AND flight_1.to_airport = airport_service_2.airport_code AND airport_service_2.city_code = city_2.city_code AND city_2.city_name = 'SAN FRANCISCO' ) \n",
      "\n",
      "Predicted DB result:\n",
      "\n",
      " [(108452,), (108454,), (108456,), (111083,), (111085,), (111086,), (111090,), (111091,), (111092,), (111094,)] \n",
      "\n",
      "Gold DB result:\n",
      "\n",
      " [(108452,), (108454,), (108456,), (111083,), (111085,), (111086,), (111090,), (111091,), (111092,), (111094,)] \n",
      "\n",
      "Correct!\n"
     ]
    }
   ],
   "source": [
    "seq2seq_trial(example_8, gold_sql_8)"
   ]
  },
  {
   "cell_type": "markdown",
   "id": "6a5ee90c",
   "metadata": {
    "id": "6a5ee90c"
   },
   "source": [
    "### Evaluation\n",
    "\n",
    "Now we are ready to run the full evaluation. A proper implementation should reach more than 35% precision/recall/F1."
   ]
  },
  {
   "cell_type": "code",
   "execution_count": null,
   "id": "2fb44bbf",
   "metadata": {
    "id": "2fb44bbf"
   },
   "outputs": [],
   "source": [
    "def seq2seq_predictor(tokens):\n",
    "  prediction = model.predict(tokens, K=1, max_T=400)\n",
    "  return prediction"
   ]
  },
  {
   "cell_type": "code",
   "execution_count": null,
   "id": "5e8a2323",
   "metadata": {
    "colab": {
     "base_uri": "https://localhost:8080/"
    },
    "id": "5e8a2323",
    "outputId": "d966c407-0f40-4330-f669-2b197c93a4d5"
   },
   "outputs": [
    {
     "name": "stderr",
     "output_type": "stream",
     "text": [
      "100%|██████████| 332/332 [01:22<00:00,  4.05it/s]"
     ]
    },
    {
     "name": "stdout",
     "output_type": "stream",
     "text": [
      "precision: 0.43\n",
      "recall:    0.43\n",
      "F1:        0.43\n"
     ]
    },
    {
     "name": "stderr",
     "output_type": "stream",
     "text": [
      "\n"
     ]
    }
   ],
   "source": [
    "precision, recall, f1 = evaluate(seq2seq_predictor, test_iter.dataset, num_examples=0)\n",
    "print(f\"precision: {precision:3.2f}\")\n",
    "print(f\"recall:    {recall:3.2f}\")\n",
    "print(f\"F1:        {f1:3.2f}\")"
   ]
  },
  {
   "cell_type": "markdown",
   "id": "f59bab43",
   "metadata": {
    "id": "f59bab43"
   },
   "source": [
    "## Goal 3: Implement a seq2seq model (with cross attention and self attention)\n",
    "\n",
    "In the previous section, you have implemented a seq2seq model with attention. The attention mechanism used in that section is usually referred to as \"cross-attention\", as at each decoding step, the decoder attends to encoder outputs, enabling a dynamic view on the encoder side as decoding proceeds.\n",
    "\n",
    "Similarly, we can have a dynamic view on the decoder side as well as decoding proceeds, i.e., the decoder attends to decoder outputs at previous steps. This is called \"self attention\", and has been found very useful in modern neural architectures such as transformers.\n",
    "\n",
    "Augment the seq2seq model you implemented before with a decoder self-attention mechanism as class `AttnEncoderDecoder2`. A model diagram can be found below:\n",
    "\n",
    "\n",
    "<img src=\"https://github.com/nlp-236299/data/raw/master/img/encoderdecoder_attn_selfattn.png\" alt=\"encoder-decoder-attn-with-selfattn illustration\" />\n",
    "\n",
    "At each decoding step, the decoder LSTM first produces an output state $o_t$, then it attends to all previous output states $o_1, \\ldots, o_{t-1}$ (decoder self-attention). You need to special case the first decoding step to not perform self-attention, as there are no previous decoder states. The attention result is added to $o_t$ itself and the sum is used as $q_t$ to attend to the encoder side (encoder-decoder cross-attention). The rest of the model is the same as encoder-decoder with attention.\n"
   ]
  },
  {
   "cell_type": "code",
   "execution_count": 107,
   "id": "65ec5d9d",
   "metadata": {
    "id": "65ec5d9d"
   },
   "outputs": [],
   "source": [
    "#TODO - implement the `AttnEncoderDecoder2` class.\n",
    "class AttnEncoderDecoder2(nn.Module):\n",
    "    def __init__(self, src_field, tgt_field, hidden_size=64, layers=3):\n",
    "        \"\"\"\n",
    "        Initializer. Creates network modules and loss function.\n",
    "        Arguments:\n",
    "        src_field: src field\n",
    "        tgt_field: tgt field\n",
    "        hidden_size: hidden layer size of both encoder and decoder\n",
    "        layers: number of layers of both encoder and decoder\n",
    "        \"\"\"\n",
    "        super().__init__()\n",
    "        self.src_field = src_field\n",
    "        self.tgt_field = tgt_field\n",
    "\n",
    "        self.V_src = len(src_field.vocab.itos)\n",
    "        self.V_tgt = len(tgt_field.vocab.itos)\n",
    "\n",
    "        self.padding_id_src = src_field.vocab.stoi[src_field.pad_token]\n",
    "        self.padding_id_tgt = tgt_field.vocab.stoi[tgt_field.pad_token]\n",
    "        self.bos_id = tgt_field.vocab.stoi[tgt_field.init_token]\n",
    "        self.eos_id = tgt_field.vocab.stoi[tgt_field.eos_token]\n",
    "\n",
    "        self.embedding_size = hidden_size\n",
    "        self.hidden_size = hidden_size\n",
    "        self.layers = layers\n",
    "\n",
    "        self.word_embeddings_src = nn.Embedding(self.V_src, self.embedding_size)\n",
    "        self.word_embeddings_tgt = nn.Embedding(self.V_tgt, self.embedding_size)\n",
    "\n",
    "        self.encoder_rnn = nn.LSTM(\n",
    "            input_size = self.embedding_size,\n",
    "            hidden_size = hidden_size // 2, # to match decoder hidden size\n",
    "            num_layers = layers,\n",
    "            bidirectional = True # bidirectional encoder\n",
    "        )\n",
    "        self.decoder_rnn = nn.LSTM(\n",
    "            input_size = self.embedding_size,\n",
    "            hidden_size = hidden_size,\n",
    "            num_layers = layers,\n",
    "            bidirectional = False # unidirectional decoder\n",
    "        )\n",
    "\n",
    "        self.hidden2output = nn.Linear(2*hidden_size, self.V_tgt) #\n",
    "        self.loss_function = nn.CrossEntropyLoss(reduction='sum',ignore_index=self.padding_id_tgt)\n",
    "\n",
    "    def forward_encoder(self, src, src_lengths):\n",
    "        src_embeddings = self.word_embeddings_src(src) \n",
    "        src_lengths = src_lengths.tolist()\n",
    "        packed_src = pack(src_embeddings, src_lengths)\n",
    "        all_states, final_state = self.encoder_rnn(packed_src)\n",
    "        memory_bank, _ = unpack(all_states)\n",
    "        h, c = final_state\n",
    "\n",
    "    \n",
    "        def reshape_hidden_state(s):\n",
    "            s = s.reshape(2, self.layers, -1, self.hidden_size // 2) \n",
    "            s = s.transpose(0, 1).transpose(1, 2) \n",
    "            s = s.reshape(self.layers, -1, self.hidden_size) #\n",
    "            return s\n",
    "        \n",
    "        final_state = (reshape_hidden_state(h), reshape_hidden_state(c))\n",
    "        memory_bank = memory_bank \n",
    "        final_state = final_state \n",
    "        context = None\n",
    "        return memory_bank, (final_state, context)\n",
    "    \n",
    "    def forward_decoder(self, encoder_final_state, tgt_in, memory_bank, src_mask):\n",
    "        max_tgt_length = tgt_in.size(0)\n",
    "        # Initialize decoder state, note that it's a tuple (state, context) here\n",
    "        decoder_states = encoder_final_state\n",
    "        all_logits = []\n",
    "        self_att = None\n",
    "        for i in range(max_tgt_length):\n",
    "            logits, decoder_states, attn, self_att = self.forward_decoder_incrementally(\n",
    "                decoder_states, tgt_in[i], memory_bank, src_mask, self_att, normalize=False)\n",
    "            all_logits.append(logits) # list of bsz, vocab_tgt\n",
    "        all_logits = torch.stack(all_logits, 0) # tgt_len, bsz, vocab_tgt\n",
    "        return all_logits\n",
    "    \n",
    "    def forward(self, src, src_lengths, tgt_in):\n",
    "        src_mask = src.ne(self.padding_id_src) # max_src_len, bsz\n",
    "        memory_bank, encoder_final_state = self.forward_encoder(src, src_lengths)\n",
    "        # Forward decoder\n",
    "        logits = self.forward_decoder(encoder_final_state, tgt_in, memory_bank, src_mask)\n",
    "        return logits\n",
    "    \n",
    "    def forward_decoder_incrementally(self, prev_decoder_states, tgt_in_onestep, memory_bank, \n",
    "                                      src_mask, self_att, normalize=True):\n",
    "\n",
    "        prev_decoder_state, prev_context = prev_decoder_states\n",
    "        decoder_input = self.word_embeddings_tgt(tgt_in_onestep) \n",
    "        if prev_context is not None:\n",
    "            decoder_input = decoder_input + prev_context\n",
    "        decoder_input = decoder_input.unsqueeze(0) # 1, bsz, embedding_size\n",
    "        output, decoder_state = self.decoder_rnn(decoder_input, prev_decoder_state)\n",
    "\n",
    "\n",
    "        if prev_context is not None:\n",
    "            self_att = torch.cat([self_att, output], 0) \n",
    "            batch_a, batch_c = attention(output, self_att, self_att)\n",
    "            q = output + batch_c\n",
    "        else:\n",
    "            self_att = output\n",
    "            q = output \n",
    "\n",
    "        k = memory_bank \n",
    "        v = memory_bank\n",
    "        mask = src_mask.transpose(0, 1).unsqueeze(1)\n",
    "        attn, context = attention(q, k, v, mask=mask)\n",
    "        context = context.squeeze(0) \n",
    "        attn = attn.squeeze(1) \n",
    "\n",
    "        output = output.squeeze(0)\n",
    "        outputs = torch.cat([output, context], 1)\n",
    "\n",
    "        logits = self.hidden2output(outputs)\n",
    "\n",
    "        decoder_states = (decoder_state, context)\n",
    "        if normalize:\n",
    "            logits = torch.log_softmax(logits, dim=-1)\n",
    "        return logits, decoder_states, attn, self_att\n",
    "    \n",
    "    def evaluate_ppl(self, iterator):\n",
    "        \"\"\"Returns the model's perplexity on a given dataset `iterator`.\"\"\"\n",
    "        self.eval()\n",
    "        total_loss = 0\n",
    "        total_words = 0\n",
    "        for batch in iterator:\n",
    "            src, src_lengths = batch.src\n",
    "            tgt = batch.tgt \n",
    "            tgt_in = tgt[:-1] \n",
    "            tgt_out = tgt[1:] \n",
    "            logits = self.forward(src, src_lengths, tgt_in)\n",
    "            loss = self.loss_function(logits.view(-1, self.V_tgt), tgt_out.view(-1))\n",
    "            total_loss += loss.item()\n",
    "            total_words += tgt_out.ne(self.padding_id_tgt).float().sum().item()\n",
    "        return math.exp(total_loss/total_words)\n",
    "\n",
    "    def train_all(self, train_iter, val_iter, epochs=10, learning_rate=0.001):\n",
    "        self.train()\n",
    "        optim = torch.optim.Adam(self.parameters(), lr=learning_rate)\n",
    "        best_validation_ppl = float('inf')\n",
    "        best_model = None\n",
    "        for epoch in range(epochs):\n",
    "            total_words = 0\n",
    "            total_loss = 0.0\n",
    "            for batch in tqdm(train_iter):\n",
    "                self.zero_grad()\n",
    "                src, src_lengths = batch.src \n",
    "                tgt = batch.tgt \n",
    "                tgt_in = tgt[:-1] \n",
    "                tgt_out = tgt[1:] \n",
    "                bsz = tgt.size(1)\n",
    "                logits = self.forward(src, src_lengths, tgt_in)\n",
    "                loss = self.loss_function(logits.view(-1, self.V_tgt), tgt_out.view(-1))\n",
    "                num_tgt_words = tgt_out.ne(self.padding_id_tgt).float().sum().item()\n",
    "                total_words += num_tgt_words\n",
    "                total_loss += loss.item()\n",
    "                loss.div(bsz).backward()\n",
    "                optim.step()\n",
    "            validation_ppl = self.evaluate_ppl(val_iter)\n",
    "            self.train()\n",
    "            if validation_ppl < best_validation_ppl:\n",
    "                best_validation_ppl = validation_ppl\n",
    "                self.best_model = copy.deepcopy(self.state_dict())\n",
    "            epoch_loss = total_loss / total_words\n",
    "            print (f'Epoch: {epoch} Training Perplexity: {math.exp(epoch_loss):.4f} 'f'Validation Perplexity: {validation_ppl:.4f}')\n",
    "    \n",
    "    def predict(self, tokens, K=1, max_T=400):\n",
    "        beam_searcher = BeamSearcher(self)\n",
    "        tokens = torch.tensor([self.src_field.vocab.stoi[token] for token in tokens]).int().unsqueeze(1).cuda()\n",
    "        tokens_length = torch.tensor([len(tokens)]).cuda()\n",
    "        pred, _ = beam_searcher.beam_search(tokens, tokens_length, K, max_T)\n",
    "        pred = ' '.join([self.tgt_field.vocab.itos[prediction] for prediction in pred if self.tgt_field.vocab.itos[prediction] not in ['<eos>','<bos>']])\n",
    "        return pred\n"
   ]
  },
  {
   "cell_type": "code",
   "execution_count": 108,
   "id": "a38ff080",
   "metadata": {
    "id": "a38ff080"
   },
   "outputs": [],
   "source": [
    "def attention(batched_Q, batched_K, batched_V, mask=None):\n",
    "\n",
    "    # Check sizes\n",
    "    D = batched_Q.size(-1)\n",
    "    bsz = batched_Q.size(1)\n",
    "    q_len = batched_Q.size(0)\n",
    "    k_len = batched_K.size(0)\n",
    "    assert batched_K.size(-1) == D and batched_V.size(-1) == D\n",
    "    assert batched_K.size(1) == bsz and batched_V.size(1) == bsz\n",
    "    assert batched_V.size(0) == k_len\n",
    "    if mask is not None:\n",
    "        assert mask.size() == torch.Size([bsz, q_len, k_len])\n",
    "    q = batched_Q.transpose(0, 1) # bsz, q_len, hidden\n",
    "    k = batched_K.transpose(0, 1).transpose(1, 2) # bsz, hidden, k_len\n",
    "    scores = torch.bmm(q, k) # bsz, q_len, k_len\n",
    "\n",
    "    if mask is not None:\n",
    "        scores = scores.masked_fill(mask == False, -float('inf'))\n",
    "    batched_A = torch.softmax(scores, dim=-1) # bsz, q_len, k_len\n",
    "    batched_C = torch.bmm(batched_A, batched_V.transpose(0, 1)) # bsz, q_len, D\n",
    "    batched_C = batched_C.transpose(0, 1) # q_len, bsz, D\n",
    "    batched_A = batched_A\n",
    "    batched_C = batched_C \n",
    "    assert torch.all(torch.isclose(batched_A.sum(-1),\n",
    "\n",
    "    torch.ones(bsz, q_len).to(device)))\n",
    "\n",
    "    return batched_A, batched_C\n",
    "\n",
    "\n",
    "MAX_T = 15\n",
    "class Beam():\n",
    "    def __init__(self, decoder_state, tokens, score):\n",
    "        self.decoder_state = decoder_state\n",
    "        self.tokens = tokens\n",
    "        self.score = score\n",
    "    \n",
    "\n",
    "class BeamSearcher():\n",
    "    def __init__(self, model):\n",
    "        self.model = model\n",
    "        self.bos_id = model.bos_id\n",
    "        self.eos_id = model.eos_id\n",
    "        self.padding_id_src = model.padding_id_src\n",
    "        self.V = model.V_tgt\n",
    "\n",
    "    def beam_search(self, src, src_lengths, K, max_T=MAX_T):\n",
    "        finished = []\n",
    "        all_attns = []\n",
    "        # Initialize the beam\n",
    "        self.model.eval()\n",
    "        memory_bank, encoder_final_state = self.model.forward_encoder(src,src_lengths)\n",
    "        memory_bank = memory_bank \n",
    "        encoder_final_state = encoder_final_state \n",
    "        init_beam = Beam(encoder_final_state, [torch.LongTensor(1).fill_(self.bos_id).to(device)], 0) \n",
    "        beams = [init_beam]\n",
    "        with torch.no_grad():\n",
    "            self_att = None\n",
    "            for t in range(max_T): # main body of search over time steps\n",
    "                # Expand each beam by all possible tokens y_{t+1}\n",
    "                all_total_scores = []\n",
    "                for beam in beams:\n",
    "                    y_1_to_t, score, decoder_state = beam.tokens, beam.score, beam.decoder_state\n",
    "                    y_t = y_1_to_t[-1]\n",
    "                    src_mask = src.ne(self.padding_id_src)\n",
    "                    logits, decoder_state, attn, self_att = self.model.forward_decoder_incrementally(decoder_state, y_t, memory_bank, src_mask, self_att, normalize=True) \n",
    "                    logits = logits \n",
    "                    decoder_state = decoder_state \n",
    "                    attn = attn \n",
    "                    total_scores = logits + score\n",
    "                    all_total_scores.append(total_scores)\n",
    "                    all_attns.append(attn) \n",
    "                    beam.decoder_state = decoder_state \n",
    "                all_total_scores = torch.stack(all_total_scores) \n",
    "                all_scores_flattened = all_total_scores.view(-1)\n",
    "                topk_scores, topk_ids = all_scores_flattened.topk(K, 0)\n",
    "                beam_ids = topk_ids.div(self.V, rounding_mode='floor')\n",
    "                next_tokens = topk_ids - beam_ids * self.V\n",
    "                new_beams = []\n",
    "                for k in range(K):\n",
    "                    beam_id = beam_ids[k] # which beam it comes from\n",
    "                    y_t_plus_1 = next_tokens[k] # which y_{t+1}\n",
    "                    score = topk_scores[k]\n",
    "                    beam = beams[beam_id]\n",
    "                    decoder_state = beam.decoder_state\n",
    "                    y_1_to_t = beam.tokens\n",
    "                    new_beam = Beam(decoder_state, y_1_to_t + [y_t_plus_1], score) \n",
    "                    new_beams.append(new_beam)\n",
    "                beams = new_beams\n",
    "\n",
    "                new_beams = []\n",
    "                for beam in beams:\n",
    "                    if beam.tokens[-1] == self.eos_id:\n",
    "                        finished.append(beam)\n",
    "                    else:\n",
    "                        new_beams.append(beam)\n",
    "                beams = new_beams\n",
    "     \n",
    "                if len(beams) == 0:\n",
    "                    break\n",
    "        # Return the best hypothesis\n",
    "        if len(finished) > 0:\n",
    "            finished = sorted(finished, key=lambda beam: -beam.score)\n",
    "            return finished[0].tokens, all_attns\n",
    "        else: # when nothing is finished, return an unfinished hypothesis\n",
    "            return beams[0].tokens, all_attns"
   ]
  },
  {
   "cell_type": "code",
   "execution_count": 109,
   "id": "b8fd7bb0",
   "metadata": {
    "colab": {
     "base_uri": "https://localhost:8080/"
    },
    "id": "b8fd7bb0",
    "outputId": "d37ef491-ae63-4391-953a-5a1856fe3428"
   },
   "outputs": [
    {
     "name": "stderr",
     "output_type": "stream",
     "text": [
      "100%|██████████| 229/229 [01:48<00:00,  2.11it/s]\n"
     ]
    },
    {
     "name": "stdout",
     "output_type": "stream",
     "text": [
      "Epoch: 0 Training Perplexity: 4.4192 Validation Perplexity: 1.7703\n"
     ]
    },
    {
     "name": "stderr",
     "output_type": "stream",
     "text": [
      "100%|██████████| 229/229 [01:47<00:00,  2.14it/s]\n"
     ]
    },
    {
     "name": "stdout",
     "output_type": "stream",
     "text": [
      "Epoch: 1 Training Perplexity: 1.4978 Validation Perplexity: 1.3956\n"
     ]
    },
    {
     "name": "stderr",
     "output_type": "stream",
     "text": [
      "100%|██████████| 229/229 [01:46<00:00,  2.15it/s]\n"
     ]
    },
    {
     "name": "stdout",
     "output_type": "stream",
     "text": [
      "Epoch: 2 Training Perplexity: 1.3037 Validation Perplexity: 1.2890\n"
     ]
    },
    {
     "name": "stderr",
     "output_type": "stream",
     "text": [
      "100%|██████████| 229/229 [01:48<00:00,  2.12it/s]\n"
     ]
    },
    {
     "name": "stdout",
     "output_type": "stream",
     "text": [
      "Epoch: 3 Training Perplexity: 1.2254 Validation Perplexity: 1.2335\n"
     ]
    },
    {
     "name": "stderr",
     "output_type": "stream",
     "text": [
      "100%|██████████| 229/229 [01:45<00:00,  2.16it/s]\n"
     ]
    },
    {
     "name": "stdout",
     "output_type": "stream",
     "text": [
      "Epoch: 4 Training Perplexity: 1.1772 Validation Perplexity: 1.1931\n"
     ]
    },
    {
     "name": "stderr",
     "output_type": "stream",
     "text": [
      "100%|██████████| 229/229 [01:47<00:00,  2.14it/s]\n"
     ]
    },
    {
     "name": "stdout",
     "output_type": "stream",
     "text": [
      "Epoch: 5 Training Perplexity: 1.1473 Validation Perplexity: 1.1743\n"
     ]
    },
    {
     "name": "stderr",
     "output_type": "stream",
     "text": [
      "100%|██████████| 229/229 [01:45<00:00,  2.17it/s]\n"
     ]
    },
    {
     "name": "stdout",
     "output_type": "stream",
     "text": [
      "Epoch: 6 Training Perplexity: 1.1287 Validation Perplexity: 1.1540\n"
     ]
    },
    {
     "name": "stderr",
     "output_type": "stream",
     "text": [
      "100%|██████████| 229/229 [01:46<00:00,  2.16it/s]\n"
     ]
    },
    {
     "name": "stdout",
     "output_type": "stream",
     "text": [
      "Epoch: 7 Training Perplexity: 1.1099 Validation Perplexity: 1.1424\n"
     ]
    },
    {
     "name": "stderr",
     "output_type": "stream",
     "text": [
      "100%|██████████| 229/229 [01:45<00:00,  2.16it/s]\n"
     ]
    },
    {
     "name": "stdout",
     "output_type": "stream",
     "text": [
      "Epoch: 8 Training Perplexity: 1.0942 Validation Perplexity: 1.1281\n"
     ]
    },
    {
     "name": "stderr",
     "output_type": "stream",
     "text": [
      "100%|██████████| 229/229 [01:46<00:00,  2.15it/s]\n"
     ]
    },
    {
     "name": "stdout",
     "output_type": "stream",
     "text": [
      "Epoch: 9 Training Perplexity: 1.0828 Validation Perplexity: 1.1225\n"
     ]
    },
    {
     "name": "stderr",
     "output_type": "stream",
     "text": [
      "100%|██████████| 229/229 [01:46<00:00,  2.15it/s]\n"
     ]
    },
    {
     "name": "stdout",
     "output_type": "stream",
     "text": [
      "Epoch: 10 Training Perplexity: 1.0748 Validation Perplexity: 1.1158\n"
     ]
    },
    {
     "name": "stderr",
     "output_type": "stream",
     "text": [
      "100%|██████████| 229/229 [01:46<00:00,  2.14it/s]\n"
     ]
    },
    {
     "name": "stdout",
     "output_type": "stream",
     "text": [
      "Epoch: 11 Training Perplexity: 1.0650 Validation Perplexity: 1.1051\n"
     ]
    },
    {
     "name": "stderr",
     "output_type": "stream",
     "text": [
      "100%|██████████| 229/229 [01:46<00:00,  2.15it/s]\n"
     ]
    },
    {
     "name": "stdout",
     "output_type": "stream",
     "text": [
      "Epoch: 12 Training Perplexity: 1.0580 Validation Perplexity: 1.1050\n"
     ]
    },
    {
     "name": "stderr",
     "output_type": "stream",
     "text": [
      "100%|██████████| 229/229 [01:45<00:00,  2.17it/s]\n"
     ]
    },
    {
     "name": "stdout",
     "output_type": "stream",
     "text": [
      "Epoch: 13 Training Perplexity: 1.0509 Validation Perplexity: 1.1136\n"
     ]
    },
    {
     "name": "stderr",
     "output_type": "stream",
     "text": [
      "100%|██████████| 229/229 [01:46<00:00,  2.16it/s]\n"
     ]
    },
    {
     "name": "stdout",
     "output_type": "stream",
     "text": [
      "Epoch: 14 Training Perplexity: 1.0473 Validation Perplexity: 1.0976\n"
     ]
    },
    {
     "name": "stderr",
     "output_type": "stream",
     "text": [
      "100%|██████████| 229/229 [01:46<00:00,  2.14it/s]\n"
     ]
    },
    {
     "name": "stdout",
     "output_type": "stream",
     "text": [
      "Epoch: 15 Training Perplexity: 1.0418 Validation Perplexity: 1.0905\n"
     ]
    },
    {
     "name": "stderr",
     "output_type": "stream",
     "text": [
      "100%|██████████| 229/229 [01:45<00:00,  2.18it/s]\n"
     ]
    },
    {
     "name": "stdout",
     "output_type": "stream",
     "text": [
      "Epoch: 16 Training Perplexity: 1.0366 Validation Perplexity: 1.0946\n"
     ]
    },
    {
     "name": "stderr",
     "output_type": "stream",
     "text": [
      "100%|██████████| 229/229 [01:46<00:00,  2.16it/s]\n"
     ]
    },
    {
     "name": "stdout",
     "output_type": "stream",
     "text": [
      "Epoch: 17 Training Perplexity: 1.0368 Validation Perplexity: 1.0929\n"
     ]
    },
    {
     "name": "stderr",
     "output_type": "stream",
     "text": [
      "100%|██████████| 229/229 [01:46<00:00,  2.15it/s]\n"
     ]
    },
    {
     "name": "stdout",
     "output_type": "stream",
     "text": [
      "Epoch: 18 Training Perplexity: 1.0326 Validation Perplexity: 1.0954\n"
     ]
    },
    {
     "name": "stderr",
     "output_type": "stream",
     "text": [
      "100%|██████████| 229/229 [01:46<00:00,  2.15it/s]\n"
     ]
    },
    {
     "name": "stdout",
     "output_type": "stream",
     "text": [
      "Epoch: 19 Training Perplexity: 1.0281 Validation Perplexity: 1.0886\n"
     ]
    },
    {
     "name": "stderr",
     "output_type": "stream",
     "text": [
      "100%|██████████| 229/229 [01:46<00:00,  2.15it/s]\n"
     ]
    },
    {
     "name": "stdout",
     "output_type": "stream",
     "text": [
      "Epoch: 20 Training Perplexity: 1.0226 Validation Perplexity: 1.0880\n"
     ]
    },
    {
     "name": "stderr",
     "output_type": "stream",
     "text": [
      "100%|██████████| 229/229 [01:44<00:00,  2.18it/s]\n"
     ]
    },
    {
     "name": "stdout",
     "output_type": "stream",
     "text": [
      "Epoch: 21 Training Perplexity: 1.0269 Validation Perplexity: 1.0897\n"
     ]
    },
    {
     "name": "stderr",
     "output_type": "stream",
     "text": [
      "100%|██████████| 229/229 [01:48<00:00,  2.12it/s]\n"
     ]
    },
    {
     "name": "stdout",
     "output_type": "stream",
     "text": [
      "Epoch: 22 Training Perplexity: 1.0233 Validation Perplexity: 1.0894\n"
     ]
    },
    {
     "name": "stderr",
     "output_type": "stream",
     "text": [
      "100%|██████████| 229/229 [01:45<00:00,  2.17it/s]\n"
     ]
    },
    {
     "name": "stdout",
     "output_type": "stream",
     "text": [
      "Epoch: 23 Training Perplexity: 1.0201 Validation Perplexity: 1.0841\n"
     ]
    },
    {
     "name": "stderr",
     "output_type": "stream",
     "text": [
      "100%|██████████| 229/229 [01:47<00:00,  2.13it/s]\n"
     ]
    },
    {
     "name": "stdout",
     "output_type": "stream",
     "text": [
      "Epoch: 24 Training Perplexity: 1.0183 Validation Perplexity: 1.0851\n"
     ]
    },
    {
     "name": "stderr",
     "output_type": "stream",
     "text": [
      "100%|██████████| 229/229 [01:46<00:00,  2.15it/s]\n"
     ]
    },
    {
     "name": "stdout",
     "output_type": "stream",
     "text": [
      "Epoch: 25 Training Perplexity: 1.0155 Validation Perplexity: 1.0855\n"
     ]
    },
    {
     "name": "stderr",
     "output_type": "stream",
     "text": [
      "100%|██████████| 229/229 [01:45<00:00,  2.18it/s]\n"
     ]
    },
    {
     "name": "stdout",
     "output_type": "stream",
     "text": [
      "Epoch: 26 Training Perplexity: 1.0162 Validation Perplexity: 1.0871\n"
     ]
    },
    {
     "name": "stderr",
     "output_type": "stream",
     "text": [
      "100%|██████████| 229/229 [01:45<00:00,  2.18it/s]\n"
     ]
    },
    {
     "name": "stdout",
     "output_type": "stream",
     "text": [
      "Epoch: 27 Training Perplexity: 1.0128 Validation Perplexity: 1.0871\n"
     ]
    },
    {
     "name": "stderr",
     "output_type": "stream",
     "text": [
      "100%|██████████| 229/229 [01:45<00:00,  2.16it/s]\n"
     ]
    },
    {
     "name": "stdout",
     "output_type": "stream",
     "text": [
      "Epoch: 28 Training Perplexity: 1.0130 Validation Perplexity: 1.0844\n"
     ]
    },
    {
     "name": "stderr",
     "output_type": "stream",
     "text": [
      "100%|██████████| 229/229 [01:47<00:00,  2.13it/s]\n"
     ]
    },
    {
     "name": "stdout",
     "output_type": "stream",
     "text": [
      "Epoch: 29 Training Perplexity: 1.0113 Validation Perplexity: 1.0872\n"
     ]
    },
    {
     "name": "stderr",
     "output_type": "stream",
     "text": [
      "100%|██████████| 229/229 [01:45<00:00,  2.17it/s]\n"
     ]
    },
    {
     "name": "stdout",
     "output_type": "stream",
     "text": [
      "Epoch: 30 Training Perplexity: 1.0108 Validation Perplexity: 1.1150\n"
     ]
    },
    {
     "name": "stderr",
     "output_type": "stream",
     "text": [
      "100%|██████████| 229/229 [01:46<00:00,  2.16it/s]\n"
     ]
    },
    {
     "name": "stdout",
     "output_type": "stream",
     "text": [
      "Epoch: 31 Training Perplexity: 1.0137 Validation Perplexity: 1.0849\n"
     ]
    },
    {
     "name": "stderr",
     "output_type": "stream",
     "text": [
      "100%|██████████| 229/229 [01:47<00:00,  2.13it/s]\n"
     ]
    },
    {
     "name": "stdout",
     "output_type": "stream",
     "text": [
      "Epoch: 32 Training Perplexity: 1.0092 Validation Perplexity: 1.0875\n"
     ]
    },
    {
     "name": "stderr",
     "output_type": "stream",
     "text": [
      "100%|██████████| 229/229 [01:45<00:00,  2.18it/s]\n"
     ]
    },
    {
     "name": "stdout",
     "output_type": "stream",
     "text": [
      "Epoch: 33 Training Perplexity: 1.0093 Validation Perplexity: 1.0891\n"
     ]
    },
    {
     "name": "stderr",
     "output_type": "stream",
     "text": [
      "100%|██████████| 229/229 [01:46<00:00,  2.14it/s]\n"
     ]
    },
    {
     "name": "stdout",
     "output_type": "stream",
     "text": [
      "Epoch: 34 Training Perplexity: 1.0083 Validation Perplexity: 1.0851\n"
     ]
    },
    {
     "name": "stderr",
     "output_type": "stream",
     "text": [
      "100%|██████████| 229/229 [01:45<00:00,  2.17it/s]\n"
     ]
    },
    {
     "name": "stdout",
     "output_type": "stream",
     "text": [
      "Epoch: 35 Training Perplexity: 1.0071 Validation Perplexity: 1.0894\n"
     ]
    },
    {
     "name": "stderr",
     "output_type": "stream",
     "text": [
      "100%|██████████| 229/229 [01:46<00:00,  2.15it/s]\n"
     ]
    },
    {
     "name": "stdout",
     "output_type": "stream",
     "text": [
      "Epoch: 36 Training Perplexity: 1.0070 Validation Perplexity: 1.0921\n"
     ]
    },
    {
     "name": "stderr",
     "output_type": "stream",
     "text": [
      "100%|██████████| 229/229 [01:47<00:00,  2.13it/s]\n"
     ]
    },
    {
     "name": "stdout",
     "output_type": "stream",
     "text": [
      "Epoch: 37 Training Perplexity: 1.0083 Validation Perplexity: 1.0901\n"
     ]
    },
    {
     "name": "stderr",
     "output_type": "stream",
     "text": [
      "100%|██████████| 229/229 [01:46<00:00,  2.15it/s]\n"
     ]
    },
    {
     "name": "stdout",
     "output_type": "stream",
     "text": [
      "Epoch: 38 Training Perplexity: 1.0067 Validation Perplexity: 1.0969\n"
     ]
    },
    {
     "name": "stderr",
     "output_type": "stream",
     "text": [
      "100%|██████████| 229/229 [01:46<00:00,  2.14it/s]\n"
     ]
    },
    {
     "name": "stdout",
     "output_type": "stream",
     "text": [
      "Epoch: 39 Training Perplexity: 1.0089 Validation Perplexity: 1.0879\n"
     ]
    },
    {
     "name": "stderr",
     "output_type": "stream",
     "text": [
      "100%|██████████| 229/229 [01:46<00:00,  2.16it/s]\n"
     ]
    },
    {
     "name": "stdout",
     "output_type": "stream",
     "text": [
      "Epoch: 40 Training Perplexity: 1.0059 Validation Perplexity: 1.0881\n"
     ]
    },
    {
     "name": "stderr",
     "output_type": "stream",
     "text": [
      "100%|██████████| 229/229 [01:46<00:00,  2.16it/s]\n"
     ]
    },
    {
     "name": "stdout",
     "output_type": "stream",
     "text": [
      "Epoch: 41 Training Perplexity: 1.0039 Validation Perplexity: 1.0893\n"
     ]
    },
    {
     "name": "stderr",
     "output_type": "stream",
     "text": [
      "100%|██████████| 229/229 [01:45<00:00,  2.17it/s]\n"
     ]
    },
    {
     "name": "stdout",
     "output_type": "stream",
     "text": [
      "Epoch: 42 Training Perplexity: 1.0039 Validation Perplexity: 1.0915\n"
     ]
    },
    {
     "name": "stderr",
     "output_type": "stream",
     "text": [
      "100%|██████████| 229/229 [01:45<00:00,  2.16it/s]\n"
     ]
    },
    {
     "name": "stdout",
     "output_type": "stream",
     "text": [
      "Epoch: 43 Training Perplexity: 1.0061 Validation Perplexity: 1.0921\n"
     ]
    },
    {
     "name": "stderr",
     "output_type": "stream",
     "text": [
      "100%|██████████| 229/229 [01:45<00:00,  2.17it/s]\n"
     ]
    },
    {
     "name": "stdout",
     "output_type": "stream",
     "text": [
      "Epoch: 44 Training Perplexity: 1.0053 Validation Perplexity: 1.0968\n"
     ]
    },
    {
     "name": "stderr",
     "output_type": "stream",
     "text": [
      "100%|██████████| 229/229 [01:47<00:00,  2.14it/s]\n"
     ]
    },
    {
     "name": "stdout",
     "output_type": "stream",
     "text": [
      "Epoch: 45 Training Perplexity: 1.0053 Validation Perplexity: 1.0960\n"
     ]
    },
    {
     "name": "stderr",
     "output_type": "stream",
     "text": [
      "100%|██████████| 229/229 [01:44<00:00,  2.18it/s]\n"
     ]
    },
    {
     "name": "stdout",
     "output_type": "stream",
     "text": [
      "Epoch: 46 Training Perplexity: 1.0057 Validation Perplexity: 1.0949\n"
     ]
    },
    {
     "name": "stderr",
     "output_type": "stream",
     "text": [
      "100%|██████████| 229/229 [01:45<00:00,  2.16it/s]\n"
     ]
    },
    {
     "name": "stdout",
     "output_type": "stream",
     "text": [
      "Epoch: 47 Training Perplexity: 1.0045 Validation Perplexity: 1.0937\n"
     ]
    },
    {
     "name": "stderr",
     "output_type": "stream",
     "text": [
      "100%|██████████| 229/229 [01:46<00:00,  2.15it/s]\n"
     ]
    },
    {
     "name": "stdout",
     "output_type": "stream",
     "text": [
      "Epoch: 48 Training Perplexity: 1.0040 Validation Perplexity: 1.0968\n"
     ]
    },
    {
     "name": "stderr",
     "output_type": "stream",
     "text": [
      "100%|██████████| 229/229 [01:46<00:00,  2.16it/s]\n"
     ]
    },
    {
     "name": "stdout",
     "output_type": "stream",
     "text": [
      "Epoch: 49 Training Perplexity: 1.0049 Validation Perplexity: 1.0933\n",
      "Validation perplexity: 1.084\n"
     ]
    }
   ],
   "source": [
    "EPOCHS = 50 # epochs, we recommend starting with a smaller number like 1\n",
    "LEARNING_RATE = 1e-4 # learning rate\n",
    "\n",
    "# Instantiate and train classifier\n",
    "model2 = AttnEncoderDecoder2(SRC, TGT,\n",
    "  hidden_size    = 1024,\n",
    "  layers         = 1,\n",
    ").to(device)\n",
    "\n",
    "model2.train_all(train_iter, val_iter, epochs=EPOCHS, learning_rate=LEARNING_RATE)\n",
    "model2.load_state_dict(model2.best_model)\n",
    "\n",
    "# Evaluate model performance, the expected value should be < 1.2\n",
    "print (f'Validation perplexity: {model2.evaluate_ppl(val_iter):.3f}')"
   ]
  },
  {
   "cell_type": "markdown",
   "id": "c4e8d235",
   "metadata": {
    "id": "c4e8d235"
   },
   "source": [
    "### Evaluation\n",
    "\n",
    "Now we are ready to run the full evaluation. A proper implementation should reach more than 35% precision/recall/F1."
   ]
  },
  {
   "cell_type": "code",
   "execution_count": 110,
   "id": "817f3005",
   "metadata": {
    "id": "817f3005"
   },
   "outputs": [],
   "source": [
    "def seq2seq_predictor2(tokens):\n",
    "  prediction = model2.predict(tokens, K=1, max_T=400)\n",
    "  return prediction"
   ]
  },
  {
   "cell_type": "code",
   "execution_count": 111,
   "id": "76f6ee2a",
   "metadata": {
    "colab": {
     "base_uri": "https://localhost:8080/"
    },
    "id": "76f6ee2a",
    "outputId": "6535017d-6bfb-4f28-aacb-e8ac60e97673"
   },
   "outputs": [
    {
     "name": "stderr",
     "output_type": "stream",
     "text": [
      "100%|██████████| 332/332 [01:10<00:00,  4.71it/s]"
     ]
    },
    {
     "name": "stdout",
     "output_type": "stream",
     "text": [
      "precision: 0.44\n",
      "recall:    0.44\n",
      "F1:        0.44\n"
     ]
    },
    {
     "name": "stderr",
     "output_type": "stream",
     "text": [
      "\n"
     ]
    }
   ],
   "source": [
    "precision, recall, f1 = evaluate(seq2seq_predictor2, test_iter.dataset, num_examples=0)\n",
    "print(f\"precision: {precision:3.2f}\")\n",
    "print(f\"recall:    {recall:3.2f}\")\n",
    "print(f\"F1:        {f1:3.2f}\")"
   ]
  },
  {
   "cell_type": "markdown",
   "id": "5779ee92",
   "metadata": {
    "id": "5779ee92"
   },
   "source": [
    "## Goal 4: Use state-of-the-art pretrained transformers\n",
    "\n",
    "\n",
    "The most recent breakthrough in natural-language processing stems from the use of pretrained transformer models. For example, you might have heard of pretrained transformers such as [GPT-3](https://arxiv.org/abs/2005.14165) and [BERT](https://arxiv.org/abs/1810.04805). (BERT is already used in [Google search](https://searchengineland.com/google-bert-used-on-almost-every-english-query-342193).) These models are usually trained on vast amounts of text data using variants of language modeling objectives, and researchers have found that finetuning them on downstream tasks usually results in better performance as compared to training a model from scratch.\n",
    "\n",
    "In the previous part, you implemented an LSTM-based sequence-to-sequence approach. To \"upgrade\" the model to be a state-of-the-art pretrained transformer only requires minor modifications.\n",
    "\n",
    "The pretrained model that we will use is [BART](https://arxiv.org/abs/1910.13461), which uses a bidirectional transformer encoder and a unidirectional transformer decoder, as illustrated in the below diagram (image courtesy https://arxiv.org/pdf/1910.13461):\n",
    "\n",
    "<img src=\"https://raw.githubusercontent.com/nlp-236299/data/master/img/bart_architecture.png\" alt=\"encoder-decoder illustration\" />\n",
    "\n",
    "We can see that this model is strikingly similar to the LSTM-based encoder-decoder model we've been using. The only difference is that they use transformers instead of LSTMs. Therefore, we only need to change the modeling parts of the code, as we will see later."
   ]
  },
  {
   "cell_type": "markdown",
   "id": "398e9d94",
   "metadata": {
    "id": "398e9d94"
   },
   "source": [
    "First, we download and load the pretrained BART model from the [transformers](https://github.com/huggingface/transformers) package by Huggingface. Note that we also need to use the \"tokenizer\" of BART, which is actually a combination of a tokenizer and a mapping from strings to word ids."
   ]
  },
  {
   "cell_type": "code",
   "execution_count": 112,
   "id": "5b698532",
   "metadata": {
    "colab": {
     "base_uri": "https://localhost:8080/",
     "height": 145,
     "referenced_widgets": [
      "a4b966e9fecb409abc793da97bc1bbd5",
      "8f029f0f1d0a40b8bdd6e7bf4f61240c",
      "e8576d7700db497996108c85b14ff829",
      "fe2ee41273794047849b82ffccf35fb6",
      "0d784e134a9747d4ada47c66bea022df",
      "c9290d6579d54d35ab8ff2c6354cbd36",
      "2620399d189045438f333a581419381f",
      "79b05cf646b34db883cf02e1eec454ab",
      "27fc92e5119c469cae7157743dfba669",
      "1e1a0417a9724f34a1dfee838947f827",
      "92ed55845aba45e6978e203395502d5d",
      "33b2f20155774e49ade187c9f38f2e54",
      "a9f06e281ed84bf58a41ba62da3e6651",
      "138db77e47e34a6b9c57bda254346192",
      "36d4beb5242246dca3864f398cc57077",
      "90ee4bac3c914fc795af2d9adeeb2f6b",
      "f606d9909fa24f03b3bcf8f611b32e7e",
      "65cc167d72d3450d8d3251f65c96cd30",
      "8426c3055d274fe38e47d113c38c9ab7",
      "1a896e9d1d83431db711143342514ba5",
      "bc10116db90f4784a78a55e4a021caab",
      "bd6a4e9640dc4e779cf3aa56378aeee1",
      "360bfa8bbc8246df8ee6b860d2fd2ec2",
      "baaadc9fe3d2449692933a4f0488c8ed",
      "9f1a8e0d9d8e40e8b6007efc96c2f00d",
      "04a984e461b249a38623677ec8af7456",
      "4feb35f584a14c39880dbf4b682da947",
      "0635acef418e448a8d39104a5d84f5e3",
      "d86726fc41c94b5f99e23f35e07f7e5f",
      "4334452f956d41a5bfc4ccbce6a0188e",
      "aba4d60e3e6e4fca868aa4e0c101312c",
      "c0f07d4b400046a0b46ee554bbc2b2f4",
      "02eec25edaf54a4a98be9d141bf56ebe",
      "e39dbe295b0b4999a89ea34ce6e90323",
      "239321d57b1049d9b808ba869c04ec9a",
      "0bccedf2ef3944ab8c8304eb1d3735e6",
      "27b6281638314e618e945970341494ce",
      "53506a43954f4d61ba610211bf3b3e68",
      "097a087a921740e9bd466b5425a1e545",
      "98ca52478c85491ab9badbe016e4a2b9",
      "d3a0c1333f97461daff5555d42ec4308",
      "31b4a51233214e5e8e729694e1dce9ae",
      "9c5d6d1e08064331866c3cd2f8754ca2",
      "746c306c81ca40359f3e4c3ae89b8dd4"
     ]
    },
    "id": "5b698532",
    "outputId": "5fcd7bd6-e716-4a2f-d7fe-b7cad9d92839"
   },
   "outputs": [
    {
     "data": {
      "application/vnd.jupyter.widget-view+json": {
       "model_id": "a4b966e9fecb409abc793da97bc1bbd5",
       "version_major": 2,
       "version_minor": 0
      },
      "text/plain": [
       "Downloading:   0%|          | 0.00/1.68k [00:00<?, ?B/s]"
      ]
     },
     "metadata": {},
     "output_type": "display_data"
    },
    {
     "data": {
      "application/vnd.jupyter.widget-view+json": {
       "model_id": "33b2f20155774e49ade187c9f38f2e54",
       "version_major": 2,
       "version_minor": 0
      },
      "text/plain": [
       "Downloading:   0%|          | 0.00/532M [00:00<?, ?B/s]"
      ]
     },
     "metadata": {},
     "output_type": "display_data"
    },
    {
     "data": {
      "application/vnd.jupyter.widget-view+json": {
       "model_id": "360bfa8bbc8246df8ee6b860d2fd2ec2",
       "version_major": 2,
       "version_minor": 0
      },
      "text/plain": [
       "Downloading:   0%|          | 0.00/878k [00:00<?, ?B/s]"
      ]
     },
     "metadata": {},
     "output_type": "display_data"
    },
    {
     "data": {
      "application/vnd.jupyter.widget-view+json": {
       "model_id": "e39dbe295b0b4999a89ea34ce6e90323",
       "version_major": 2,
       "version_minor": 0
      },
      "text/plain": [
       "Downloading:   0%|          | 0.00/446k [00:00<?, ?B/s]"
      ]
     },
     "metadata": {},
     "output_type": "display_data"
    }
   ],
   "source": [
    "pretrained_bart = BartForConditionalGeneration.from_pretrained('facebook/bart-base')\n",
    "bart_tokenizer = BartTokenizer.from_pretrained('facebook/bart-base')"
   ]
  },
  {
   "cell_type": "markdown",
   "id": "a3bf668a",
   "metadata": {
    "id": "a3bf668a"
   },
   "source": [
    "Below we demonstrate how to use BART's tokenizer to convert a sentence to a list of word ids, and vice versa."
   ]
  },
  {
   "cell_type": "code",
   "execution_count": 113,
   "id": "9a8c9ea8",
   "metadata": {
    "colab": {
     "base_uri": "https://localhost:8080/"
    },
    "id": "9a8c9ea8",
    "outputId": "44d88503-7e7d-4f04-924e-76c0efc35299"
   },
   "outputs": [
    {
     "name": "stdout",
     "output_type": "stream",
     "text": [
      "tokenized: [0, 13755, 89, 143, 78, 12, 4684, 4871, 31, 312, 4, 3217, 23, 365, 1685, 13, 540, 87, 68, 246, 4, 1096, 116, 2]\n",
      "detokenized: Are there any first-class flights from St. Louis at 11pm for less than $3.50?\n"
     ]
    }
   ],
   "source": [
    "# BART uses a predefined \"tokenizer\", which directly maps a sentence \n",
    "# to a list of ids\n",
    "def bart_tokenize(string):\n",
    "  return bart_tokenizer(string)['input_ids'][:1024] # BART model can process at most 1024 tokens\n",
    "\n",
    "def bart_detokenize(token_ids):\n",
    "    return bart_tokenizer.decode(token_ids, skip_special_tokens=True)\n",
    "\n",
    "## Demonstrating the tokenizer\n",
    "question = 'Are there any first-class flights from St. Louis at 11pm for less than $3.50?'\n",
    "\n",
    "tokenized_question = bart_tokenize(question)\n",
    "print('tokenized:', tokenized_question)\n",
    "\n",
    "detokenized_question = bart_detokenize(tokenized_question)\n",
    "print('detokenized:', detokenized_question)"
   ]
  },
  {
   "cell_type": "markdown",
   "id": "5f599aab",
   "metadata": {
    "id": "5f599aab"
   },
   "source": [
    "We need to reprocess the data using our new tokenizer. Note that here we set `batch_first` to `True`, since that's the expected input shape of the transformers package."
   ]
  },
  {
   "cell_type": "code",
   "execution_count": 114,
   "id": "dcdc0c81",
   "metadata": {
    "colab": {
     "base_uri": "https://localhost:8080/"
    },
    "id": "dcdc0c81",
    "outputId": "7d845a4a-6d6e-4bba-c60d-d6d64f90a323"
   },
   "outputs": [
    {
     "name": "stderr",
     "output_type": "stream",
     "text": [
      "Token indices sequence length is longer than the specified maximum sequence length for this model (1135 > 1024). Running this sequence through the model will result in indexing errors\n"
     ]
    }
   ],
   "source": [
    "SRC_BART = tt.data.Field(include_lengths=True,   # include lengths\n",
    "                         batch_first=True,       # batches will be batch_size x max_len\n",
    "                         tokenize=bart_tokenize, # use bart tokenizer\n",
    "                         use_vocab=False,        # bart tokenizer already converts to int ids\n",
    "                         pad_token=bart_tokenizer.pad_token_id\n",
    "                        ) \n",
    "TGT_BART = tt.data.Field(include_lengths=False,\n",
    "                         batch_first=True,       # batches will be batch_size x max_len\n",
    "                         tokenize=bart_tokenize, # use bart tokenizer\n",
    "                         use_vocab=False,        # bart tokenizer already converts to int ids\n",
    "                         pad_token=bart_tokenizer.pad_token_id\n",
    "                        )\n",
    "fields_bart = [('src', SRC_BART), ('tgt', TGT_BART)]\n",
    "\n",
    "# Make splits for data\n",
    "train_data_bart, val_data_bart, test_data_bart = tt.datasets.TranslationDataset.splits(\n",
    "    ('_flightid.nl', '_flightid.sql'), fields_bart, path='./data/',\n",
    "    train='train', validation='dev', test='test')\n",
    "\n",
    "BATCH_SIZE = 1 # batch size for training/validation\n",
    "TEST_BATCH_SIZE = 1 # batch size for test, we use 1 to make beam search implementation easier\n",
    "\n",
    "train_iter_bart, val_iter_bart = tt.data.BucketIterator.splits((train_data_bart, val_data_bart),\n",
    "                                                     batch_size=BATCH_SIZE, \n",
    "                                                     device=device,\n",
    "                                                     repeat=False, \n",
    "                                                     sort_key=lambda x: len(x.src), \n",
    "                                                     sort_within_batch=True)\n",
    "test_iter_bart = tt.data.BucketIterator(test_data_bart, \n",
    "                                   batch_size=1, \n",
    "                                   device=device,\n",
    "                                   repeat=False, \n",
    "                                   sort=False, \n",
    "                                   train=False)"
   ]
  },
  {
   "cell_type": "markdown",
   "id": "5fae57a7",
   "metadata": {
    "id": "5fae57a7"
   },
   "source": [
    "Let's take a look at the batch. Note that the shape of the batch is `batch_size x max_len`, instead of `max_len x batch_size` as in the previous part."
   ]
  },
  {
   "cell_type": "code",
   "execution_count": 115,
   "id": "b83fb1f1",
   "metadata": {
    "colab": {
     "base_uri": "https://localhost:8080/"
    },
    "id": "b83fb1f1",
    "outputId": "7ef444b6-b71e-4818-b28e-079f5f37f609"
   },
   "outputs": [
    {
     "name": "stdout",
     "output_type": "stream",
     "text": [
      "Size of text batch: torch.Size([1, 11])\n",
      "First sentence in batch: tensor([    0,  8458,    70,  4871,    31, 26012, 42377,     7,   842, 19598,\n",
      "            2], device='cuda:0')\n",
      "Length of the third sentence in batch: 11\n",
      "Converted back to string: list all flights from memphis to seattle\n",
      "Size of sql batch: torch.Size([1, 151])\n",
      "First sql in batch: tensor([    0, 49179,   211, 11595,  2444,  7164,  2524,  1215,   134,     4,\n",
      "        15801,  1215,   808, 11974,  2524,  2524,  1215,   134,  2156,  3062,\n",
      "         1215, 11131,  3062,  1215, 11131,  1215,   134,  2156,   343,   343,\n",
      "         1215,   134,  2156,  3062,  1215, 11131,  3062,  1215, 11131,  1215,\n",
      "          176,  2156,   343,   343,  1215,   176, 29919,  2524,  1215,   134,\n",
      "            4,  7761,  1215,  2456,  3427,  5457,  3062,  1215, 11131,  1215,\n",
      "          134,     4,  2456,  3427,  1215, 20414,  4248,  3062,  1215, 11131,\n",
      "         1215,   134,     4, 14853,  1215, 20414,  5457,   343,  1215,   134,\n",
      "            4, 14853,  1215, 20414,  4248,   343,  1215,   134,     4, 14853,\n",
      "         1215, 13650,  5457,   128,   448,  5330,  7561,  1729,   108,  4248,\n",
      "         2524,  1215,   134,     4,   560,  1215,  2456,  3427,  5457,  3062,\n",
      "         1215, 11131,  1215,   176,     4,  2456,  3427,  1215, 20414,  4248,\n",
      "         3062,  1215, 11131,  1215,   176,     4, 14853,  1215, 20414,  5457,\n",
      "          343,  1215,   176,     4, 14853,  1215, 20414,  4248,   343,  1215,\n",
      "          176,     4, 14853,  1215, 13650,  5457,   128,  3388, 26816,   108,\n",
      "            2], device='cuda:0')\n",
      "Converted back to string: SELECT DISTINCT flight_1.flight_id FROM flight flight_1, airport_service airport_service_1, city city_1, airport_service airport_service_2, city city_2 WHERE flight_1.from_airport = airport_service_1.airport_code AND airport_service_1.city_code = city_1.city_code AND city_1.city_name = 'MEMPHIS' AND flight_1.to_airport = airport_service_2.airport_code AND airport_service_2.city_code = city_2.city_code AND city_2.city_name = 'SEATTLE'\n"
     ]
    }
   ],
   "source": [
    "batch = next(iter(train_iter_bart))\n",
    "train_batch_text, train_batch_text_lengths = batch.src\n",
    "print (f\"Size of text batch: {train_batch_text.shape}\")\n",
    "print (f\"First sentence in batch: {train_batch_text[0]}\")\n",
    "print (f\"Length of the third sentence in batch: {train_batch_text_lengths[0]}\")\n",
    "print (f\"Converted back to string: {bart_detokenize(train_batch_text[0])}\")\n",
    "\n",
    "train_batch_sql = batch.tgt\n",
    "print (f\"Size of sql batch: {train_batch_sql.shape}\")\n",
    "print (f\"First sql in batch: {train_batch_sql[0]}\")\n",
    "print (f\"Converted back to string: {bart_detokenize(train_batch_sql[0])}\")"
   ]
  },
  {
   "cell_type": "markdown",
   "id": "36743d25",
   "metadata": {
    "id": "36743d25"
   },
   "source": [
    "Now we are ready to implement the BART-based approach for the text-to-SQL conversion problem. In the below `BART` class, we have provided the constructer `__init__`, the `forward` function, and the `predict` function. Your job is to implement the main optimization `train_all`, and `evaluate_ppl` for evaluating validation perplexity for model selection.\n",
    "\n",
    "> Hint: you can use almost the same `train_all` and `evaluate_ppl` function you implemented before, but here a major difference is that due to setting `batch_first=True`, the batched source/target tensors are of size `batch_size x max_len`, as opposed to `max_len x batch_size` in the LSTM-based approach, and you need to make changes in `train_all` and `evaluate_ppl` accordingly."
   ]
  },
  {
   "cell_type": "code",
   "execution_count": 118,
   "id": "8bb56b85",
   "metadata": {
    "id": "8bb56b85"
   },
   "outputs": [],
   "source": [
    "#TODO - finish implementing the `BART` class.\n",
    "class BART(nn.Module):\n",
    "    def __init__(self, tokenizer, pretrained_bart):\n",
    "        \"\"\"\n",
    "        Initializer. Creates network modules and loss function.\n",
    "        Arguments:\n",
    "            tokenizer: BART tokenizer\n",
    "            pretrained_bart: pretrained BART\n",
    "        \"\"\"\n",
    "        super(BART, self).__init__()\n",
    "        \n",
    "        self.V_tgt = len(tokenizer)\n",
    "        \n",
    "        # Get special word ids\n",
    "        self.padding_id_tgt = tokenizer.pad_token_id\n",
    "\n",
    "        # Create essential modules\n",
    "        self.bart = pretrained_bart\n",
    "\n",
    "        # Create loss function\n",
    "        self.loss_function = nn.CrossEntropyLoss(reduction=\"sum\", \n",
    "                                                ignore_index=self.padding_id_tgt)\n",
    "\n",
    "    def forward(self, src, src_lengths, tgt_in):\n",
    "        \"\"\"\n",
    "        Performs forward computation, returns logits.\n",
    "        Arguments:\n",
    "            src: src batch of size (batch_size, max_src_len)\n",
    "            src_lengths: src lengths of size (batch_size)\n",
    "            tgt_in:  a tensor of size (tgt_len, bsz)\n",
    "        \"\"\"\n",
    "        # BART assumes inputs to be batch-first\n",
    "        # This single function is forwarding both encoder and decoder (w/ cross attn),\n",
    "        # using `input_ids` as encoder inputs, and `decoder_input_ids`\n",
    "        # as decoder inputs.\n",
    "        logits = self.bart(input_ids=src, \n",
    "                          decoder_input_ids=tgt_in,\n",
    "                          use_cache=False\n",
    "                          ).logits\n",
    "        return logits\n",
    "\n",
    "    def evaluate_ppl(self, iterator):\n",
    "        \"\"\"Returns the model's perplexity on a given dataset `iterator`.\"\"\"\n",
    "        self.eval()\n",
    "        total_loss = 0\n",
    "        total_words = 0\n",
    "        for batch in iterator:\n",
    "            src, src_lengths = batch.src\n",
    "            tgt = batch.tgt \n",
    "            bsz = tgt.size(0)\n",
    "            add_bos = torch.zeros(bsz,1).int().cuda()\n",
    "            tgt_in = torch.cat([add_bos,tgt[:,:-1]], dim=1)\n",
    "            tgt_out = tgt\n",
    "            logits = self(src, src_lengths, tgt_in)\n",
    "            loss = self.loss_function(logits.view(-1, self.V_tgt), tgt.view(-1))\n",
    "            total_loss += loss.item()\n",
    "            total_words += tgt.ne(self.padding_id_tgt).float().sum().item()\n",
    "        return math.exp(total_loss/total_words)\n",
    "\n",
    "    def train_all(self, train_iter, val_iter, epochs=10, learning_rate=0.001):\n",
    "        \"\"\"Train the model.\"\"\"\n",
    "        #TODO - implement this function\n",
    "        self.train()\n",
    "        optim = torch.optim.Adam(self.parameters(), lr=learning_rate)\n",
    "        best_validation_ppl = float('inf')\n",
    "        best_model = None\n",
    "        for epoch in range(epochs):\n",
    "            total_words = 0\n",
    "            total_loss = 0.0\n",
    "            for batch in tqdm(train_iter):\n",
    "                self.zero_grad()\n",
    "                src, src_lengths = batch.src \n",
    "                tgt = batch.tgt \n",
    "                bsz = tgt.size(0)\n",
    "                add_bos = torch.zeros(bsz,1).int().cuda()\n",
    "                tgt_in = torch.cat([add_bos,tgt[:,:-1]], dim=1)\n",
    "                tgt_out = tgt\n",
    "                logits = self(src, src_lengths, tgt_in)\n",
    "                loss = self.loss_function(logits.view(-1, self.V_tgt), tgt.view(-1))\n",
    "                num_tgt_words = tgt.ne(self.padding_id_tgt).float().sum().item()\n",
    "                total_words += num_tgt_words\n",
    "                total_loss += loss.item()\n",
    "                loss.div(bsz).backward()\n",
    "                optim.step()\n",
    "            validation_ppl = self.evaluate_ppl(val_iter)\n",
    "            self.train()\n",
    "            if validation_ppl < best_validation_ppl:\n",
    "                best_validation_ppl = validation_ppl\n",
    "                self.best_model = copy.deepcopy(self.state_dict())\n",
    "            epoch_loss = total_loss / total_words\n",
    "            print (f'Epoch: {epoch} Training Perplexity: {math.exp(epoch_loss):.4f} 'f'Validation Perplexity: {validation_ppl:.4f}')\n",
    "\n",
    "    def predict(self, tokens, K=1, max_T=400):\n",
    "      \"\"\"\n",
    "      Generates the target sequence given the source sequence using beam search decoding. \n",
    "      Note that for simplicity, we only use batch size 1.\n",
    "      Arguments:\n",
    "          tokens: a list of strings, the source sentence.\n",
    "          max_T: at most proceed this many steps of decoding\n",
    "      Returns: \n",
    "          a string of the generated target sentence.\n",
    "      \"\"\"\n",
    "      string = ' '.join(tokens) # first convert to a string\n",
    "      # Tokenize and map to a list of word ids\n",
    "      inputs = torch.LongTensor(bart_tokenize(string)).to(device).view(1, -1)\n",
    "      # The `transformers` package provides built-in beam search support\n",
    "      prediction = self.bart.generate(inputs, \n",
    "                                      num_beams=K, \n",
    "                                      max_length=max_T, \n",
    "                                      early_stopping=True, \n",
    "                                      no_repeat_ngram_size=0,\n",
    "                                      decoder_start_token_id=0, \n",
    "                                      use_cache=True)[0]\n",
    "      return bart_detokenize(prediction)"
   ]
  },
  {
   "cell_type": "markdown",
   "id": "70fbe888",
   "metadata": {
    "id": "70fbe888"
   },
   "source": [
    "The code below will kick off training, and evaluate the validation perplexity. You should expect to see a value very close to 1."
   ]
  },
  {
   "cell_type": "code",
   "execution_count": null,
   "id": "adc28ae6",
   "metadata": {
    "colab": {
     "base_uri": "https://localhost:8080/"
    },
    "id": "adc28ae6",
    "outputId": "94157a1c-5620-4d3d-ffc3-03eae7a59a8b"
   },
   "outputs": [
    {
     "name": "stderr",
     "output_type": "stream",
     "text": [
      "100%|██████████| 3651/3651 [07:06<00:00,  8.55it/s]\n"
     ]
    },
    {
     "name": "stdout",
     "output_type": "stream",
     "text": [
      "Epoch: 0 Training Perplexity: 1.0795 Validation Perplexity: 1.0406\n"
     ]
    },
    {
     "name": "stderr",
     "output_type": "stream",
     "text": [
      "100%|██████████| 3651/3651 [07:07<00:00,  8.54it/s]\n"
     ]
    },
    {
     "name": "stdout",
     "output_type": "stream",
     "text": [
      "Epoch: 1 Training Perplexity: 1.0476 Validation Perplexity: 1.0312\n"
     ]
    },
    {
     "name": "stderr",
     "output_type": "stream",
     "text": [
      "100%|██████████| 3651/3651 [07:07<00:00,  8.54it/s]\n"
     ]
    },
    {
     "name": "stdout",
     "output_type": "stream",
     "text": [
      "Epoch: 2 Training Perplexity: 1.0332 Validation Perplexity: 1.0247\n"
     ]
    },
    {
     "name": "stderr",
     "output_type": "stream",
     "text": [
      " 97%|█████████▋| 3541/3651 [06:54<00:12,  8.83it/s]"
     ]
    }
   ],
   "source": [
    "EPOCHS = 5 # epochs, we recommend starting with a smaller number like 1\n",
    "LEARNING_RATE = 1e-5 # learning rate\n",
    "\n",
    "# Instantiate and train classifier\n",
    "bart_model = BART(bart_tokenizer,\n",
    "                 pretrained_bart\n",
    ").to(device)\n",
    "\n",
    "bart_model.train_all(train_iter_bart, val_iter_bart, epochs=EPOCHS, learning_rate=LEARNING_RATE)\n",
    "bart_model.load_state_dict(bart_model.best_model)\n",
    "\n",
    "# Evaluate model performance, the expected value should be < 1.2\n",
    "print (f'Validation perplexity: {bart_model.evaluate_ppl(val_iter_bart):.3f}')"
   ]
  },
  {
   "cell_type": "markdown",
   "id": "bf2f687c",
   "metadata": {
    "id": "bf2f687c"
   },
   "source": [
    "As before, make sure that your model is making reasonable predictions on a few examples before evaluating on the entire test set."
   ]
  },
  {
   "cell_type": "code",
   "execution_count": null,
   "id": "cd03a058",
   "metadata": {
    "id": "cd03a058"
   },
   "outputs": [],
   "source": [
    "def bart_trial(sentence, gold_sql):\n",
    "  print(\"Sentence: \", sentence, \"\\n\")\n",
    "  tokens = tokenize(sentence)\n",
    "\n",
    "  predicted_sql = bart_model.predict(tokens, K=1, max_T=300)\n",
    "  print(\"Predicted SQL:\\n\\n\", predicted_sql, \"\\n\")\n",
    "\n",
    "  if verify(predicted_sql, gold_sql, silent=False):\n",
    "    print ('Correct!')\n",
    "  else:\n",
    "    print ('Incorrect!')"
   ]
  },
  {
   "cell_type": "code",
   "execution_count": null,
   "id": "f0904585",
   "metadata": {
    "id": "f0904585"
   },
   "outputs": [],
   "source": [
    "bart_trial(example_1, gold_sql_1)"
   ]
  },
  {
   "cell_type": "code",
   "execution_count": null,
   "id": "98226b84",
   "metadata": {
    "id": "98226b84"
   },
   "outputs": [],
   "source": [
    "bart_trial(example_2, gold_sql_2)"
   ]
  },
  {
   "cell_type": "code",
   "execution_count": null,
   "id": "1ebdfbab",
   "metadata": {
    "id": "1ebdfbab"
   },
   "outputs": [],
   "source": [
    "bart_trial(example_3, gold_sql_3)"
   ]
  },
  {
   "cell_type": "code",
   "execution_count": null,
   "id": "60969ae1",
   "metadata": {
    "id": "60969ae1"
   },
   "outputs": [],
   "source": [
    "bart_trial(example_4, gold_sql_4)"
   ]
  },
  {
   "cell_type": "code",
   "execution_count": null,
   "id": "6652a685",
   "metadata": {
    "id": "6652a685"
   },
   "outputs": [],
   "source": [
    "bart_trial(example_5, gold_sql_5)"
   ]
  },
  {
   "cell_type": "code",
   "execution_count": null,
   "id": "ab965fec",
   "metadata": {
    "id": "ab965fec"
   },
   "outputs": [],
   "source": [
    "bart_trial(example_6, gold_sql_6b)"
   ]
  },
  {
   "cell_type": "code",
   "execution_count": null,
   "id": "d3380769",
   "metadata": {
    "id": "d3380769"
   },
   "outputs": [],
   "source": [
    "bart_trial(example_7, gold_sql_7b)"
   ]
  },
  {
   "cell_type": "code",
   "execution_count": null,
   "id": "1578c156",
   "metadata": {
    "id": "1578c156"
   },
   "outputs": [],
   "source": [
    "bart_trial(example_8, gold_sql_8)"
   ]
  },
  {
   "cell_type": "markdown",
   "id": "2b834df3",
   "metadata": {
    "id": "2b834df3"
   },
   "source": [
    "### Evaluation"
   ]
  },
  {
   "cell_type": "markdown",
   "id": "d30379f2",
   "metadata": {
    "id": "d30379f2"
   },
   "source": [
    "The code below will evaluate on the entire test set. You should expect to see precision/recall/F1 greater than 40%."
   ]
  },
  {
   "cell_type": "code",
   "execution_count": null,
   "id": "e5899692",
   "metadata": {
    "id": "e5899692"
   },
   "outputs": [],
   "source": [
    "def seq2seq_predictor_bart(tokens):\n",
    "  prediction = bart_model.predict(tokens, K=4, max_T=400)\n",
    "  return prediction"
   ]
  },
  {
   "cell_type": "code",
   "execution_count": null,
   "id": "c7fd28e5",
   "metadata": {
    "id": "c7fd28e5"
   },
   "outputs": [],
   "source": [
    "precision, recall, f1 = evaluate(seq2seq_predictor_bart, test_iter.dataset, num_examples=0)\n",
    "print(f\"precision: {precision:3.2f}\")\n",
    "print(f\"recall:    {recall:3.2f}\")\n",
    "print(f\"F1:        {f1:3.2f}\")"
   ]
  },
  {
   "cell_type": "markdown",
   "id": "49ba0a4b",
   "metadata": {
    "id": "49ba0a4b"
   },
   "source": [
    "# Discussion"
   ]
  },
  {
   "cell_type": "markdown",
   "id": "0039ef57",
   "metadata": {
    "id": "0039ef57"
   },
   "source": [
    "<!-- BEGIN QUESTION -->\n",
    "\n",
    "## Goal 5: Compare the pros and cons of rule-based and neural approaches.\n",
    "\n",
    "Compare the pros and cons of the rule-based approach and the neural approaches with relevant examples from your experiments above. Concerning the accuracy, which approach would you choose to be used in a product? Explain.\n",
    "<!--\n",
    "BEGIN QUESTION\n",
    "name: open_response_comp\n",
    "manual: true\n",
    "-->"
   ]
  },
  {
   "cell_type": "markdown",
   "id": "b13fa555",
   "metadata": {
    "id": "b13fa555"
   },
   "source": [
    "## Goal 5: Answer\n",
    "*   In Rule based approached it is not mandatory to have a dataset. However, in neural approaches it is mandatory. We can use this advantage in cases where we are starting with no data set or a very small one to slowly build one.\n",
    "\n",
    "*   In Rule based approaches we can utilize our domain knowledge to synthesize better grammar and augmentations and therefore improve the quality, in neural approaches there is no way to apply Domain knowledge. For example, as humans we know the proper syntax of SQL and can therefore define our set of rules that will always result in a valid SQL query as opposed to neural approaches which do not guarantee that all the time.\n",
    "\n",
    "*   In Rule based approaches we need to do the tedious task of manually create a grammar its augmentation and its rules which is prone to human error. In neural approaches we do need to create a grammar and its rules.\n",
    "\n",
    "*   In rule-based approaches some sentences cannot be parsed since it does not have a mechanism to handle sentences with grammar that does not follow the defined rules. In neural approaches this problem is not as prominent since our prediction method does not follow a specific grammar and augmentation so given an input, we can almost always predict something.\n",
    "For example:<br><br>\n",
    "“I’d like to try flying on United Airlines” <br><br>\n",
    "this sentence would not be parsed using the rule based approach since “flying on” cannot be derived from the grammar in any way. However a neural approach could attempt to learn how to process this sentence thanks to its generalizing power.\n",
    "\n",
    "*   In rule based its harder to generalize because to do so we need to add more rules sophisticated rules while neural approaches do not require any effort on our side.\n",
    "\n",
    "\n",
    "Our choice in model for a product would obviously depend on the product, some products care more about precision rather then recall, and in that case we would choose the rule based approach.\n",
    "\n",
    "If we are considering the product to be a \"chatbot\" which returns answers based on free text such as demonstrated in the project, we would prefer a model who maximizes both recall **and** precision, therefor we would choose the BERT model, since it has the maximum F1 score. Additionally, as mentioned above, neural approached have much better generalizing power, and that is a desired quality to add to your product. "
   ]
  },
  {
   "cell_type": "markdown",
   "id": "7b69db02",
   "metadata": {
    "id": "7b69db02"
   },
   "source": [
    "<!-- END QUESTION -->\n",
    "\n",
    "<!-- BEGIN QUESTION -->\n",
    "\n",
    "# Debrief\n",
    "\n",
    "**Question:** We're interested in any thoughts you have about this project segment so that we can improve it for later years, and to inform later segments for this year. Please list any issues that arose or comments you have to improve the project segment. Useful things to comment on might include the following: \n",
    "\n",
    "* Was the project segment clear or unclear? Which portions?\n",
    "* Were the readings appropriate background for the project segment? \n",
    "* Are there additions or changes you think would make the project segment better?\n",
    "\n",
    "<!--\n",
    "BEGIN QUESTION\n",
    "name: open_response_debrief\n",
    "manual: true\n",
    "-->\n",
    "\n",
    "but you should comment on whatever aspects you found especially positive or negative."
   ]
  },
  {
   "cell_type": "markdown",
   "id": "03051645",
   "metadata": {
    "id": "03051645"
   },
   "source": [
    "The project was not clear. Much of the code was to be copied from lab 4-5 but that created confusion as to what was expected of us.<br>\n",
    "In addition, putting this topic of attention and transformers in the end of the course gives us little time to process and comprehend such a heavy and important topic.\n"
   ]
  },
  {
   "cell_type": "markdown",
   "id": "6ed02a6a",
   "metadata": {
    "id": "6ed02a6a"
   },
   "source": [
    "<!-- END QUESTION -->\n",
    "\n",
    "\n",
    "\n",
    "# Instructions for submission of the project segment\n",
    "\n",
    "This project segment should be submitted to Gradescope at <https://rebrand.ly/project4-submit-code> and <https://rebrand.ly/project4-submit-pdf>, which will be made available some time before the due date.\n",
    "\n",
    "Project segment notebooks are manually graded, not autograded using otter as labs are. (Otter is used within project segment notebooks to synchronize distribution and solution code however.) **We will not run your notebook before grading it.** Instead, we ask that you submit the already freshly run notebook. The best method is to \"restart kernel and run all cells\", allowing time for all cells to be run to completion. You should submit your code to Gradescope at the code submission assignment at <https://rebrand.ly/project4-submit-code>. Make sure that you are also submitting your `data/grammar` file as part of your solution code as well.\n",
    "\n",
    "We also request that you **submit a PDF of the freshly run notebook**. The simplest method is to use \"Export notebook to PDF\", which will render the notebook to PDF via LaTeX. If that doesn't work, the method that seems to be most reliable is to export the notebook as HTML (if you are using Jupyter Notebook, you can do so using `File -> Print Preview`), open the HTML in a browser, and print it to a file. Then make sure to add the file to your git commit. Please name the file the same name as this notebook, but with a `.pdf` extension. (Conveniently, the methods just described will use that name by default.) You can then perform a git commit and push and submit the commit to Gradescope at <https://rebrand.ly/project4-submit-pdf>."
   ]
  },
  {
   "cell_type": "markdown",
   "id": "3f0d9f46",
   "metadata": {
    "id": "3f0d9f46"
   },
   "source": [
    "# End of project segment 4"
   ]
  }
 ],
 "metadata": {
  "accelerator": "GPU",
  "celltoolbar": "Tags",
  "colab": {
   "collapsed_sections": [
    "7cf2a34b",
    "6ed02a6a",
    "3f0d9f46"
   ],
   "name": "project4_semantics (2).ipynb",
   "provenance": []
  },
  "kernelspec": {
   "display_name": "Python 3 (ipykernel)",
   "language": "python",
   "name": "python3"
  },
  "language_info": {
   "codemirror_mode": {
    "name": "ipython",
    "version": 3
   },
   "file_extension": ".py",
   "mimetype": "text/x-python",
   "name": "python",
   "nbconvert_exporter": "python",
   "pygments_lexer": "ipython3",
   "version": "3.8.12"
  },
  "title": "CS236299 Project Segment 4: Semantic Interpretation – Question Answering",
  "widgets": {
   "application/vnd.jupyter.widget-state+json": {
    "02eec25edaf54a4a98be9d141bf56ebe": {
     "model_module": "@jupyter-widgets/controls",
     "model_module_version": "1.5.0",
     "model_name": "DescriptionStyleModel",
     "state": {
      "_model_module": "@jupyter-widgets/controls",
      "_model_module_version": "1.5.0",
      "_model_name": "DescriptionStyleModel",
      "_view_count": null,
      "_view_module": "@jupyter-widgets/base",
      "_view_module_version": "1.2.0",
      "_view_name": "StyleView",
      "description_width": ""
     }
    },
    "04a984e461b249a38623677ec8af7456": {
     "model_module": "@jupyter-widgets/controls",
     "model_module_version": "1.5.0",
     "model_name": "HTMLModel",
     "state": {
      "_dom_classes": [],
      "_model_module": "@jupyter-widgets/controls",
      "_model_module_version": "1.5.0",
      "_model_name": "HTMLModel",
      "_view_count": null,
      "_view_module": "@jupyter-widgets/controls",
      "_view_module_version": "1.5.0",
      "_view_name": "HTMLView",
      "description": "",
      "description_tooltip": null,
      "layout": "IPY_MODEL_c0f07d4b400046a0b46ee554bbc2b2f4",
      "placeholder": "​",
      "style": "IPY_MODEL_02eec25edaf54a4a98be9d141bf56ebe",
      "value": " 878k/878k [00:01&lt;00:00, 1.05MB/s]"
     }
    },
    "0635acef418e448a8d39104a5d84f5e3": {
     "model_module": "@jupyter-widgets/base",
     "model_module_version": "1.2.0",
     "model_name": "LayoutModel",
     "state": {
      "_model_module": "@jupyter-widgets/base",
      "_model_module_version": "1.2.0",
      "_model_name": "LayoutModel",
      "_view_count": null,
      "_view_module": "@jupyter-widgets/base",
      "_view_module_version": "1.2.0",
      "_view_name": "LayoutView",
      "align_content": null,
      "align_items": null,
      "align_self": null,
      "border": null,
      "bottom": null,
      "display": null,
      "flex": null,
      "flex_flow": null,
      "grid_area": null,
      "grid_auto_columns": null,
      "grid_auto_flow": null,
      "grid_auto_rows": null,
      "grid_column": null,
      "grid_gap": null,
      "grid_row": null,
      "grid_template_areas": null,
      "grid_template_columns": null,
      "grid_template_rows": null,
      "height": null,
      "justify_content": null,
      "justify_items": null,
      "left": null,
      "margin": null,
      "max_height": null,
      "max_width": null,
      "min_height": null,
      "min_width": null,
      "object_fit": null,
      "object_position": null,
      "order": null,
      "overflow": null,
      "overflow_x": null,
      "overflow_y": null,
      "padding": null,
      "right": null,
      "top": null,
      "visibility": null,
      "width": null
     }
    },
    "097a087a921740e9bd466b5425a1e545": {
     "model_module": "@jupyter-widgets/base",
     "model_module_version": "1.2.0",
     "model_name": "LayoutModel",
     "state": {
      "_model_module": "@jupyter-widgets/base",
      "_model_module_version": "1.2.0",
      "_model_name": "LayoutModel",
      "_view_count": null,
      "_view_module": "@jupyter-widgets/base",
      "_view_module_version": "1.2.0",
      "_view_name": "LayoutView",
      "align_content": null,
      "align_items": null,
      "align_self": null,
      "border": null,
      "bottom": null,
      "display": null,
      "flex": null,
      "flex_flow": null,
      "grid_area": null,
      "grid_auto_columns": null,
      "grid_auto_flow": null,
      "grid_auto_rows": null,
      "grid_column": null,
      "grid_gap": null,
      "grid_row": null,
      "grid_template_areas": null,
      "grid_template_columns": null,
      "grid_template_rows": null,
      "height": null,
      "justify_content": null,
      "justify_items": null,
      "left": null,
      "margin": null,
      "max_height": null,
      "max_width": null,
      "min_height": null,
      "min_width": null,
      "object_fit": null,
      "object_position": null,
      "order": null,
      "overflow": null,
      "overflow_x": null,
      "overflow_y": null,
      "padding": null,
      "right": null,
      "top": null,
      "visibility": null,
      "width": null
     }
    },
    "0bccedf2ef3944ab8c8304eb1d3735e6": {
     "model_module": "@jupyter-widgets/controls",
     "model_module_version": "1.5.0",
     "model_name": "FloatProgressModel",
     "state": {
      "_dom_classes": [],
      "_model_module": "@jupyter-widgets/controls",
      "_model_module_version": "1.5.0",
      "_model_name": "FloatProgressModel",
      "_view_count": null,
      "_view_module": "@jupyter-widgets/controls",
      "_view_module_version": "1.5.0",
      "_view_name": "ProgressView",
      "bar_style": "success",
      "description": "",
      "description_tooltip": null,
      "layout": "IPY_MODEL_d3a0c1333f97461daff5555d42ec4308",
      "max": 456318,
      "min": 0,
      "orientation": "horizontal",
      "style": "IPY_MODEL_31b4a51233214e5e8e729694e1dce9ae",
      "value": 456318
     }
    },
    "0d784e134a9747d4ada47c66bea022df": {
     "model_module": "@jupyter-widgets/base",
     "model_module_version": "1.2.0",
     "model_name": "LayoutModel",
     "state": {
      "_model_module": "@jupyter-widgets/base",
      "_model_module_version": "1.2.0",
      "_model_name": "LayoutModel",
      "_view_count": null,
      "_view_module": "@jupyter-widgets/base",
      "_view_module_version": "1.2.0",
      "_view_name": "LayoutView",
      "align_content": null,
      "align_items": null,
      "align_self": null,
      "border": null,
      "bottom": null,
      "display": null,
      "flex": null,
      "flex_flow": null,
      "grid_area": null,
      "grid_auto_columns": null,
      "grid_auto_flow": null,
      "grid_auto_rows": null,
      "grid_column": null,
      "grid_gap": null,
      "grid_row": null,
      "grid_template_areas": null,
      "grid_template_columns": null,
      "grid_template_rows": null,
      "height": null,
      "justify_content": null,
      "justify_items": null,
      "left": null,
      "margin": null,
      "max_height": null,
      "max_width": null,
      "min_height": null,
      "min_width": null,
      "object_fit": null,
      "object_position": null,
      "order": null,
      "overflow": null,
      "overflow_x": null,
      "overflow_y": null,
      "padding": null,
      "right": null,
      "top": null,
      "visibility": null,
      "width": null
     }
    },
    "138db77e47e34a6b9c57bda254346192": {
     "model_module": "@jupyter-widgets/controls",
     "model_module_version": "1.5.0",
     "model_name": "FloatProgressModel",
     "state": {
      "_dom_classes": [],
      "_model_module": "@jupyter-widgets/controls",
      "_model_module_version": "1.5.0",
      "_model_name": "FloatProgressModel",
      "_view_count": null,
      "_view_module": "@jupyter-widgets/controls",
      "_view_module_version": "1.5.0",
      "_view_name": "ProgressView",
      "bar_style": "success",
      "description": "",
      "description_tooltip": null,
      "layout": "IPY_MODEL_8426c3055d274fe38e47d113c38c9ab7",
      "max": 557771387,
      "min": 0,
      "orientation": "horizontal",
      "style": "IPY_MODEL_1a896e9d1d83431db711143342514ba5",
      "value": 557771387
     }
    },
    "1a896e9d1d83431db711143342514ba5": {
     "model_module": "@jupyter-widgets/controls",
     "model_module_version": "1.5.0",
     "model_name": "ProgressStyleModel",
     "state": {
      "_model_module": "@jupyter-widgets/controls",
      "_model_module_version": "1.5.0",
      "_model_name": "ProgressStyleModel",
      "_view_count": null,
      "_view_module": "@jupyter-widgets/base",
      "_view_module_version": "1.2.0",
      "_view_name": "StyleView",
      "bar_color": null,
      "description_width": ""
     }
    },
    "1e1a0417a9724f34a1dfee838947f827": {
     "model_module": "@jupyter-widgets/base",
     "model_module_version": "1.2.0",
     "model_name": "LayoutModel",
     "state": {
      "_model_module": "@jupyter-widgets/base",
      "_model_module_version": "1.2.0",
      "_model_name": "LayoutModel",
      "_view_count": null,
      "_view_module": "@jupyter-widgets/base",
      "_view_module_version": "1.2.0",
      "_view_name": "LayoutView",
      "align_content": null,
      "align_items": null,
      "align_self": null,
      "border": null,
      "bottom": null,
      "display": null,
      "flex": null,
      "flex_flow": null,
      "grid_area": null,
      "grid_auto_columns": null,
      "grid_auto_flow": null,
      "grid_auto_rows": null,
      "grid_column": null,
      "grid_gap": null,
      "grid_row": null,
      "grid_template_areas": null,
      "grid_template_columns": null,
      "grid_template_rows": null,
      "height": null,
      "justify_content": null,
      "justify_items": null,
      "left": null,
      "margin": null,
      "max_height": null,
      "max_width": null,
      "min_height": null,
      "min_width": null,
      "object_fit": null,
      "object_position": null,
      "order": null,
      "overflow": null,
      "overflow_x": null,
      "overflow_y": null,
      "padding": null,
      "right": null,
      "top": null,
      "visibility": null,
      "width": null
     }
    },
    "239321d57b1049d9b808ba869c04ec9a": {
     "model_module": "@jupyter-widgets/controls",
     "model_module_version": "1.5.0",
     "model_name": "HTMLModel",
     "state": {
      "_dom_classes": [],
      "_model_module": "@jupyter-widgets/controls",
      "_model_module_version": "1.5.0",
      "_model_name": "HTMLModel",
      "_view_count": null,
      "_view_module": "@jupyter-widgets/controls",
      "_view_module_version": "1.5.0",
      "_view_name": "HTMLView",
      "description": "",
      "description_tooltip": null,
      "layout": "IPY_MODEL_097a087a921740e9bd466b5425a1e545",
      "placeholder": "​",
      "style": "IPY_MODEL_98ca52478c85491ab9badbe016e4a2b9",
      "value": "Downloading: 100%"
     }
    },
    "2620399d189045438f333a581419381f": {
     "model_module": "@jupyter-widgets/controls",
     "model_module_version": "1.5.0",
     "model_name": "DescriptionStyleModel",
     "state": {
      "_model_module": "@jupyter-widgets/controls",
      "_model_module_version": "1.5.0",
      "_model_name": "DescriptionStyleModel",
      "_view_count": null,
      "_view_module": "@jupyter-widgets/base",
      "_view_module_version": "1.2.0",
      "_view_name": "StyleView",
      "description_width": ""
     }
    },
    "27b6281638314e618e945970341494ce": {
     "model_module": "@jupyter-widgets/controls",
     "model_module_version": "1.5.0",
     "model_name": "HTMLModel",
     "state": {
      "_dom_classes": [],
      "_model_module": "@jupyter-widgets/controls",
      "_model_module_version": "1.5.0",
      "_model_name": "HTMLModel",
      "_view_count": null,
      "_view_module": "@jupyter-widgets/controls",
      "_view_module_version": "1.5.0",
      "_view_name": "HTMLView",
      "description": "",
      "description_tooltip": null,
      "layout": "IPY_MODEL_9c5d6d1e08064331866c3cd2f8754ca2",
      "placeholder": "​",
      "style": "IPY_MODEL_746c306c81ca40359f3e4c3ae89b8dd4",
      "value": " 446k/446k [00:01&lt;00:00, 495kB/s]"
     }
    },
    "27fc92e5119c469cae7157743dfba669": {
     "model_module": "@jupyter-widgets/controls",
     "model_module_version": "1.5.0",
     "model_name": "ProgressStyleModel",
     "state": {
      "_model_module": "@jupyter-widgets/controls",
      "_model_module_version": "1.5.0",
      "_model_name": "ProgressStyleModel",
      "_view_count": null,
      "_view_module": "@jupyter-widgets/base",
      "_view_module_version": "1.2.0",
      "_view_name": "StyleView",
      "bar_color": null,
      "description_width": ""
     }
    },
    "31b4a51233214e5e8e729694e1dce9ae": {
     "model_module": "@jupyter-widgets/controls",
     "model_module_version": "1.5.0",
     "model_name": "ProgressStyleModel",
     "state": {
      "_model_module": "@jupyter-widgets/controls",
      "_model_module_version": "1.5.0",
      "_model_name": "ProgressStyleModel",
      "_view_count": null,
      "_view_module": "@jupyter-widgets/base",
      "_view_module_version": "1.2.0",
      "_view_name": "StyleView",
      "bar_color": null,
      "description_width": ""
     }
    },
    "33b2f20155774e49ade187c9f38f2e54": {
     "model_module": "@jupyter-widgets/controls",
     "model_module_version": "1.5.0",
     "model_name": "HBoxModel",
     "state": {
      "_dom_classes": [],
      "_model_module": "@jupyter-widgets/controls",
      "_model_module_version": "1.5.0",
      "_model_name": "HBoxModel",
      "_view_count": null,
      "_view_module": "@jupyter-widgets/controls",
      "_view_module_version": "1.5.0",
      "_view_name": "HBoxView",
      "box_style": "",
      "children": [
       "IPY_MODEL_a9f06e281ed84bf58a41ba62da3e6651",
       "IPY_MODEL_138db77e47e34a6b9c57bda254346192",
       "IPY_MODEL_36d4beb5242246dca3864f398cc57077"
      ],
      "layout": "IPY_MODEL_90ee4bac3c914fc795af2d9adeeb2f6b"
     }
    },
    "360bfa8bbc8246df8ee6b860d2fd2ec2": {
     "model_module": "@jupyter-widgets/controls",
     "model_module_version": "1.5.0",
     "model_name": "HBoxModel",
     "state": {
      "_dom_classes": [],
      "_model_module": "@jupyter-widgets/controls",
      "_model_module_version": "1.5.0",
      "_model_name": "HBoxModel",
      "_view_count": null,
      "_view_module": "@jupyter-widgets/controls",
      "_view_module_version": "1.5.0",
      "_view_name": "HBoxView",
      "box_style": "",
      "children": [
       "IPY_MODEL_baaadc9fe3d2449692933a4f0488c8ed",
       "IPY_MODEL_9f1a8e0d9d8e40e8b6007efc96c2f00d",
       "IPY_MODEL_04a984e461b249a38623677ec8af7456"
      ],
      "layout": "IPY_MODEL_4feb35f584a14c39880dbf4b682da947"
     }
    },
    "36d4beb5242246dca3864f398cc57077": {
     "model_module": "@jupyter-widgets/controls",
     "model_module_version": "1.5.0",
     "model_name": "HTMLModel",
     "state": {
      "_dom_classes": [],
      "_model_module": "@jupyter-widgets/controls",
      "_model_module_version": "1.5.0",
      "_model_name": "HTMLModel",
      "_view_count": null,
      "_view_module": "@jupyter-widgets/controls",
      "_view_module_version": "1.5.0",
      "_view_name": "HTMLView",
      "description": "",
      "description_tooltip": null,
      "layout": "IPY_MODEL_bc10116db90f4784a78a55e4a021caab",
      "placeholder": "​",
      "style": "IPY_MODEL_bd6a4e9640dc4e779cf3aa56378aeee1",
      "value": " 532M/532M [00:09&lt;00:00, 63.8MB/s]"
     }
    },
    "4334452f956d41a5bfc4ccbce6a0188e": {
     "model_module": "@jupyter-widgets/base",
     "model_module_version": "1.2.0",
     "model_name": "LayoutModel",
     "state": {
      "_model_module": "@jupyter-widgets/base",
      "_model_module_version": "1.2.0",
      "_model_name": "LayoutModel",
      "_view_count": null,
      "_view_module": "@jupyter-widgets/base",
      "_view_module_version": "1.2.0",
      "_view_name": "LayoutView",
      "align_content": null,
      "align_items": null,
      "align_self": null,
      "border": null,
      "bottom": null,
      "display": null,
      "flex": null,
      "flex_flow": null,
      "grid_area": null,
      "grid_auto_columns": null,
      "grid_auto_flow": null,
      "grid_auto_rows": null,
      "grid_column": null,
      "grid_gap": null,
      "grid_row": null,
      "grid_template_areas": null,
      "grid_template_columns": null,
      "grid_template_rows": null,
      "height": null,
      "justify_content": null,
      "justify_items": null,
      "left": null,
      "margin": null,
      "max_height": null,
      "max_width": null,
      "min_height": null,
      "min_width": null,
      "object_fit": null,
      "object_position": null,
      "order": null,
      "overflow": null,
      "overflow_x": null,
      "overflow_y": null,
      "padding": null,
      "right": null,
      "top": null,
      "visibility": null,
      "width": null
     }
    },
    "4feb35f584a14c39880dbf4b682da947": {
     "model_module": "@jupyter-widgets/base",
     "model_module_version": "1.2.0",
     "model_name": "LayoutModel",
     "state": {
      "_model_module": "@jupyter-widgets/base",
      "_model_module_version": "1.2.0",
      "_model_name": "LayoutModel",
      "_view_count": null,
      "_view_module": "@jupyter-widgets/base",
      "_view_module_version": "1.2.0",
      "_view_name": "LayoutView",
      "align_content": null,
      "align_items": null,
      "align_self": null,
      "border": null,
      "bottom": null,
      "display": null,
      "flex": null,
      "flex_flow": null,
      "grid_area": null,
      "grid_auto_columns": null,
      "grid_auto_flow": null,
      "grid_auto_rows": null,
      "grid_column": null,
      "grid_gap": null,
      "grid_row": null,
      "grid_template_areas": null,
      "grid_template_columns": null,
      "grid_template_rows": null,
      "height": null,
      "justify_content": null,
      "justify_items": null,
      "left": null,
      "margin": null,
      "max_height": null,
      "max_width": null,
      "min_height": null,
      "min_width": null,
      "object_fit": null,
      "object_position": null,
      "order": null,
      "overflow": null,
      "overflow_x": null,
      "overflow_y": null,
      "padding": null,
      "right": null,
      "top": null,
      "visibility": null,
      "width": null
     }
    },
    "53506a43954f4d61ba610211bf3b3e68": {
     "model_module": "@jupyter-widgets/base",
     "model_module_version": "1.2.0",
     "model_name": "LayoutModel",
     "state": {
      "_model_module": "@jupyter-widgets/base",
      "_model_module_version": "1.2.0",
      "_model_name": "LayoutModel",
      "_view_count": null,
      "_view_module": "@jupyter-widgets/base",
      "_view_module_version": "1.2.0",
      "_view_name": "LayoutView",
      "align_content": null,
      "align_items": null,
      "align_self": null,
      "border": null,
      "bottom": null,
      "display": null,
      "flex": null,
      "flex_flow": null,
      "grid_area": null,
      "grid_auto_columns": null,
      "grid_auto_flow": null,
      "grid_auto_rows": null,
      "grid_column": null,
      "grid_gap": null,
      "grid_row": null,
      "grid_template_areas": null,
      "grid_template_columns": null,
      "grid_template_rows": null,
      "height": null,
      "justify_content": null,
      "justify_items": null,
      "left": null,
      "margin": null,
      "max_height": null,
      "max_width": null,
      "min_height": null,
      "min_width": null,
      "object_fit": null,
      "object_position": null,
      "order": null,
      "overflow": null,
      "overflow_x": null,
      "overflow_y": null,
      "padding": null,
      "right": null,
      "top": null,
      "visibility": null,
      "width": null
     }
    },
    "65cc167d72d3450d8d3251f65c96cd30": {
     "model_module": "@jupyter-widgets/controls",
     "model_module_version": "1.5.0",
     "model_name": "DescriptionStyleModel",
     "state": {
      "_model_module": "@jupyter-widgets/controls",
      "_model_module_version": "1.5.0",
      "_model_name": "DescriptionStyleModel",
      "_view_count": null,
      "_view_module": "@jupyter-widgets/base",
      "_view_module_version": "1.2.0",
      "_view_name": "StyleView",
      "description_width": ""
     }
    },
    "746c306c81ca40359f3e4c3ae89b8dd4": {
     "model_module": "@jupyter-widgets/controls",
     "model_module_version": "1.5.0",
     "model_name": "DescriptionStyleModel",
     "state": {
      "_model_module": "@jupyter-widgets/controls",
      "_model_module_version": "1.5.0",
      "_model_name": "DescriptionStyleModel",
      "_view_count": null,
      "_view_module": "@jupyter-widgets/base",
      "_view_module_version": "1.2.0",
      "_view_name": "StyleView",
      "description_width": ""
     }
    },
    "79b05cf646b34db883cf02e1eec454ab": {
     "model_module": "@jupyter-widgets/base",
     "model_module_version": "1.2.0",
     "model_name": "LayoutModel",
     "state": {
      "_model_module": "@jupyter-widgets/base",
      "_model_module_version": "1.2.0",
      "_model_name": "LayoutModel",
      "_view_count": null,
      "_view_module": "@jupyter-widgets/base",
      "_view_module_version": "1.2.0",
      "_view_name": "LayoutView",
      "align_content": null,
      "align_items": null,
      "align_self": null,
      "border": null,
      "bottom": null,
      "display": null,
      "flex": null,
      "flex_flow": null,
      "grid_area": null,
      "grid_auto_columns": null,
      "grid_auto_flow": null,
      "grid_auto_rows": null,
      "grid_column": null,
      "grid_gap": null,
      "grid_row": null,
      "grid_template_areas": null,
      "grid_template_columns": null,
      "grid_template_rows": null,
      "height": null,
      "justify_content": null,
      "justify_items": null,
      "left": null,
      "margin": null,
      "max_height": null,
      "max_width": null,
      "min_height": null,
      "min_width": null,
      "object_fit": null,
      "object_position": null,
      "order": null,
      "overflow": null,
      "overflow_x": null,
      "overflow_y": null,
      "padding": null,
      "right": null,
      "top": null,
      "visibility": null,
      "width": null
     }
    },
    "8426c3055d274fe38e47d113c38c9ab7": {
     "model_module": "@jupyter-widgets/base",
     "model_module_version": "1.2.0",
     "model_name": "LayoutModel",
     "state": {
      "_model_module": "@jupyter-widgets/base",
      "_model_module_version": "1.2.0",
      "_model_name": "LayoutModel",
      "_view_count": null,
      "_view_module": "@jupyter-widgets/base",
      "_view_module_version": "1.2.0",
      "_view_name": "LayoutView",
      "align_content": null,
      "align_items": null,
      "align_self": null,
      "border": null,
      "bottom": null,
      "display": null,
      "flex": null,
      "flex_flow": null,
      "grid_area": null,
      "grid_auto_columns": null,
      "grid_auto_flow": null,
      "grid_auto_rows": null,
      "grid_column": null,
      "grid_gap": null,
      "grid_row": null,
      "grid_template_areas": null,
      "grid_template_columns": null,
      "grid_template_rows": null,
      "height": null,
      "justify_content": null,
      "justify_items": null,
      "left": null,
      "margin": null,
      "max_height": null,
      "max_width": null,
      "min_height": null,
      "min_width": null,
      "object_fit": null,
      "object_position": null,
      "order": null,
      "overflow": null,
      "overflow_x": null,
      "overflow_y": null,
      "padding": null,
      "right": null,
      "top": null,
      "visibility": null,
      "width": null
     }
    },
    "8f029f0f1d0a40b8bdd6e7bf4f61240c": {
     "model_module": "@jupyter-widgets/controls",
     "model_module_version": "1.5.0",
     "model_name": "HTMLModel",
     "state": {
      "_dom_classes": [],
      "_model_module": "@jupyter-widgets/controls",
      "_model_module_version": "1.5.0",
      "_model_name": "HTMLModel",
      "_view_count": null,
      "_view_module": "@jupyter-widgets/controls",
      "_view_module_version": "1.5.0",
      "_view_name": "HTMLView",
      "description": "",
      "description_tooltip": null,
      "layout": "IPY_MODEL_c9290d6579d54d35ab8ff2c6354cbd36",
      "placeholder": "​",
      "style": "IPY_MODEL_2620399d189045438f333a581419381f",
      "value": "Downloading: 100%"
     }
    },
    "90ee4bac3c914fc795af2d9adeeb2f6b": {
     "model_module": "@jupyter-widgets/base",
     "model_module_version": "1.2.0",
     "model_name": "LayoutModel",
     "state": {
      "_model_module": "@jupyter-widgets/base",
      "_model_module_version": "1.2.0",
      "_model_name": "LayoutModel",
      "_view_count": null,
      "_view_module": "@jupyter-widgets/base",
      "_view_module_version": "1.2.0",
      "_view_name": "LayoutView",
      "align_content": null,
      "align_items": null,
      "align_self": null,
      "border": null,
      "bottom": null,
      "display": null,
      "flex": null,
      "flex_flow": null,
      "grid_area": null,
      "grid_auto_columns": null,
      "grid_auto_flow": null,
      "grid_auto_rows": null,
      "grid_column": null,
      "grid_gap": null,
      "grid_row": null,
      "grid_template_areas": null,
      "grid_template_columns": null,
      "grid_template_rows": null,
      "height": null,
      "justify_content": null,
      "justify_items": null,
      "left": null,
      "margin": null,
      "max_height": null,
      "max_width": null,
      "min_height": null,
      "min_width": null,
      "object_fit": null,
      "object_position": null,
      "order": null,
      "overflow": null,
      "overflow_x": null,
      "overflow_y": null,
      "padding": null,
      "right": null,
      "top": null,
      "visibility": null,
      "width": null
     }
    },
    "92ed55845aba45e6978e203395502d5d": {
     "model_module": "@jupyter-widgets/controls",
     "model_module_version": "1.5.0",
     "model_name": "DescriptionStyleModel",
     "state": {
      "_model_module": "@jupyter-widgets/controls",
      "_model_module_version": "1.5.0",
      "_model_name": "DescriptionStyleModel",
      "_view_count": null,
      "_view_module": "@jupyter-widgets/base",
      "_view_module_version": "1.2.0",
      "_view_name": "StyleView",
      "description_width": ""
     }
    },
    "98ca52478c85491ab9badbe016e4a2b9": {
     "model_module": "@jupyter-widgets/controls",
     "model_module_version": "1.5.0",
     "model_name": "DescriptionStyleModel",
     "state": {
      "_model_module": "@jupyter-widgets/controls",
      "_model_module_version": "1.5.0",
      "_model_name": "DescriptionStyleModel",
      "_view_count": null,
      "_view_module": "@jupyter-widgets/base",
      "_view_module_version": "1.2.0",
      "_view_name": "StyleView",
      "description_width": ""
     }
    },
    "9c5d6d1e08064331866c3cd2f8754ca2": {
     "model_module": "@jupyter-widgets/base",
     "model_module_version": "1.2.0",
     "model_name": "LayoutModel",
     "state": {
      "_model_module": "@jupyter-widgets/base",
      "_model_module_version": "1.2.0",
      "_model_name": "LayoutModel",
      "_view_count": null,
      "_view_module": "@jupyter-widgets/base",
      "_view_module_version": "1.2.0",
      "_view_name": "LayoutView",
      "align_content": null,
      "align_items": null,
      "align_self": null,
      "border": null,
      "bottom": null,
      "display": null,
      "flex": null,
      "flex_flow": null,
      "grid_area": null,
      "grid_auto_columns": null,
      "grid_auto_flow": null,
      "grid_auto_rows": null,
      "grid_column": null,
      "grid_gap": null,
      "grid_row": null,
      "grid_template_areas": null,
      "grid_template_columns": null,
      "grid_template_rows": null,
      "height": null,
      "justify_content": null,
      "justify_items": null,
      "left": null,
      "margin": null,
      "max_height": null,
      "max_width": null,
      "min_height": null,
      "min_width": null,
      "object_fit": null,
      "object_position": null,
      "order": null,
      "overflow": null,
      "overflow_x": null,
      "overflow_y": null,
      "padding": null,
      "right": null,
      "top": null,
      "visibility": null,
      "width": null
     }
    },
    "9f1a8e0d9d8e40e8b6007efc96c2f00d": {
     "model_module": "@jupyter-widgets/controls",
     "model_module_version": "1.5.0",
     "model_name": "FloatProgressModel",
     "state": {
      "_dom_classes": [],
      "_model_module": "@jupyter-widgets/controls",
      "_model_module_version": "1.5.0",
      "_model_name": "FloatProgressModel",
      "_view_count": null,
      "_view_module": "@jupyter-widgets/controls",
      "_view_module_version": "1.5.0",
      "_view_name": "ProgressView",
      "bar_style": "success",
      "description": "",
      "description_tooltip": null,
      "layout": "IPY_MODEL_4334452f956d41a5bfc4ccbce6a0188e",
      "max": 898823,
      "min": 0,
      "orientation": "horizontal",
      "style": "IPY_MODEL_aba4d60e3e6e4fca868aa4e0c101312c",
      "value": 898823
     }
    },
    "a4b966e9fecb409abc793da97bc1bbd5": {
     "model_module": "@jupyter-widgets/controls",
     "model_module_version": "1.5.0",
     "model_name": "HBoxModel",
     "state": {
      "_dom_classes": [],
      "_model_module": "@jupyter-widgets/controls",
      "_model_module_version": "1.5.0",
      "_model_name": "HBoxModel",
      "_view_count": null,
      "_view_module": "@jupyter-widgets/controls",
      "_view_module_version": "1.5.0",
      "_view_name": "HBoxView",
      "box_style": "",
      "children": [
       "IPY_MODEL_8f029f0f1d0a40b8bdd6e7bf4f61240c",
       "IPY_MODEL_e8576d7700db497996108c85b14ff829",
       "IPY_MODEL_fe2ee41273794047849b82ffccf35fb6"
      ],
      "layout": "IPY_MODEL_0d784e134a9747d4ada47c66bea022df"
     }
    },
    "a9f06e281ed84bf58a41ba62da3e6651": {
     "model_module": "@jupyter-widgets/controls",
     "model_module_version": "1.5.0",
     "model_name": "HTMLModel",
     "state": {
      "_dom_classes": [],
      "_model_module": "@jupyter-widgets/controls",
      "_model_module_version": "1.5.0",
      "_model_name": "HTMLModel",
      "_view_count": null,
      "_view_module": "@jupyter-widgets/controls",
      "_view_module_version": "1.5.0",
      "_view_name": "HTMLView",
      "description": "",
      "description_tooltip": null,
      "layout": "IPY_MODEL_f606d9909fa24f03b3bcf8f611b32e7e",
      "placeholder": "​",
      "style": "IPY_MODEL_65cc167d72d3450d8d3251f65c96cd30",
      "value": "Downloading: 100%"
     }
    },
    "aba4d60e3e6e4fca868aa4e0c101312c": {
     "model_module": "@jupyter-widgets/controls",
     "model_module_version": "1.5.0",
     "model_name": "ProgressStyleModel",
     "state": {
      "_model_module": "@jupyter-widgets/controls",
      "_model_module_version": "1.5.0",
      "_model_name": "ProgressStyleModel",
      "_view_count": null,
      "_view_module": "@jupyter-widgets/base",
      "_view_module_version": "1.2.0",
      "_view_name": "StyleView",
      "bar_color": null,
      "description_width": ""
     }
    },
    "baaadc9fe3d2449692933a4f0488c8ed": {
     "model_module": "@jupyter-widgets/controls",
     "model_module_version": "1.5.0",
     "model_name": "HTMLModel",
     "state": {
      "_dom_classes": [],
      "_model_module": "@jupyter-widgets/controls",
      "_model_module_version": "1.5.0",
      "_model_name": "HTMLModel",
      "_view_count": null,
      "_view_module": "@jupyter-widgets/controls",
      "_view_module_version": "1.5.0",
      "_view_name": "HTMLView",
      "description": "",
      "description_tooltip": null,
      "layout": "IPY_MODEL_0635acef418e448a8d39104a5d84f5e3",
      "placeholder": "​",
      "style": "IPY_MODEL_d86726fc41c94b5f99e23f35e07f7e5f",
      "value": "Downloading: 100%"
     }
    },
    "bc10116db90f4784a78a55e4a021caab": {
     "model_module": "@jupyter-widgets/base",
     "model_module_version": "1.2.0",
     "model_name": "LayoutModel",
     "state": {
      "_model_module": "@jupyter-widgets/base",
      "_model_module_version": "1.2.0",
      "_model_name": "LayoutModel",
      "_view_count": null,
      "_view_module": "@jupyter-widgets/base",
      "_view_module_version": "1.2.0",
      "_view_name": "LayoutView",
      "align_content": null,
      "align_items": null,
      "align_self": null,
      "border": null,
      "bottom": null,
      "display": null,
      "flex": null,
      "flex_flow": null,
      "grid_area": null,
      "grid_auto_columns": null,
      "grid_auto_flow": null,
      "grid_auto_rows": null,
      "grid_column": null,
      "grid_gap": null,
      "grid_row": null,
      "grid_template_areas": null,
      "grid_template_columns": null,
      "grid_template_rows": null,
      "height": null,
      "justify_content": null,
      "justify_items": null,
      "left": null,
      "margin": null,
      "max_height": null,
      "max_width": null,
      "min_height": null,
      "min_width": null,
      "object_fit": null,
      "object_position": null,
      "order": null,
      "overflow": null,
      "overflow_x": null,
      "overflow_y": null,
      "padding": null,
      "right": null,
      "top": null,
      "visibility": null,
      "width": null
     }
    },
    "bd6a4e9640dc4e779cf3aa56378aeee1": {
     "model_module": "@jupyter-widgets/controls",
     "model_module_version": "1.5.0",
     "model_name": "DescriptionStyleModel",
     "state": {
      "_model_module": "@jupyter-widgets/controls",
      "_model_module_version": "1.5.0",
      "_model_name": "DescriptionStyleModel",
      "_view_count": null,
      "_view_module": "@jupyter-widgets/base",
      "_view_module_version": "1.2.0",
      "_view_name": "StyleView",
      "description_width": ""
     }
    },
    "c0f07d4b400046a0b46ee554bbc2b2f4": {
     "model_module": "@jupyter-widgets/base",
     "model_module_version": "1.2.0",
     "model_name": "LayoutModel",
     "state": {
      "_model_module": "@jupyter-widgets/base",
      "_model_module_version": "1.2.0",
      "_model_name": "LayoutModel",
      "_view_count": null,
      "_view_module": "@jupyter-widgets/base",
      "_view_module_version": "1.2.0",
      "_view_name": "LayoutView",
      "align_content": null,
      "align_items": null,
      "align_self": null,
      "border": null,
      "bottom": null,
      "display": null,
      "flex": null,
      "flex_flow": null,
      "grid_area": null,
      "grid_auto_columns": null,
      "grid_auto_flow": null,
      "grid_auto_rows": null,
      "grid_column": null,
      "grid_gap": null,
      "grid_row": null,
      "grid_template_areas": null,
      "grid_template_columns": null,
      "grid_template_rows": null,
      "height": null,
      "justify_content": null,
      "justify_items": null,
      "left": null,
      "margin": null,
      "max_height": null,
      "max_width": null,
      "min_height": null,
      "min_width": null,
      "object_fit": null,
      "object_position": null,
      "order": null,
      "overflow": null,
      "overflow_x": null,
      "overflow_y": null,
      "padding": null,
      "right": null,
      "top": null,
      "visibility": null,
      "width": null
     }
    },
    "c9290d6579d54d35ab8ff2c6354cbd36": {
     "model_module": "@jupyter-widgets/base",
     "model_module_version": "1.2.0",
     "model_name": "LayoutModel",
     "state": {
      "_model_module": "@jupyter-widgets/base",
      "_model_module_version": "1.2.0",
      "_model_name": "LayoutModel",
      "_view_count": null,
      "_view_module": "@jupyter-widgets/base",
      "_view_module_version": "1.2.0",
      "_view_name": "LayoutView",
      "align_content": null,
      "align_items": null,
      "align_self": null,
      "border": null,
      "bottom": null,
      "display": null,
      "flex": null,
      "flex_flow": null,
      "grid_area": null,
      "grid_auto_columns": null,
      "grid_auto_flow": null,
      "grid_auto_rows": null,
      "grid_column": null,
      "grid_gap": null,
      "grid_row": null,
      "grid_template_areas": null,
      "grid_template_columns": null,
      "grid_template_rows": null,
      "height": null,
      "justify_content": null,
      "justify_items": null,
      "left": null,
      "margin": null,
      "max_height": null,
      "max_width": null,
      "min_height": null,
      "min_width": null,
      "object_fit": null,
      "object_position": null,
      "order": null,
      "overflow": null,
      "overflow_x": null,
      "overflow_y": null,
      "padding": null,
      "right": null,
      "top": null,
      "visibility": null,
      "width": null
     }
    },
    "d3a0c1333f97461daff5555d42ec4308": {
     "model_module": "@jupyter-widgets/base",
     "model_module_version": "1.2.0",
     "model_name": "LayoutModel",
     "state": {
      "_model_module": "@jupyter-widgets/base",
      "_model_module_version": "1.2.0",
      "_model_name": "LayoutModel",
      "_view_count": null,
      "_view_module": "@jupyter-widgets/base",
      "_view_module_version": "1.2.0",
      "_view_name": "LayoutView",
      "align_content": null,
      "align_items": null,
      "align_self": null,
      "border": null,
      "bottom": null,
      "display": null,
      "flex": null,
      "flex_flow": null,
      "grid_area": null,
      "grid_auto_columns": null,
      "grid_auto_flow": null,
      "grid_auto_rows": null,
      "grid_column": null,
      "grid_gap": null,
      "grid_row": null,
      "grid_template_areas": null,
      "grid_template_columns": null,
      "grid_template_rows": null,
      "height": null,
      "justify_content": null,
      "justify_items": null,
      "left": null,
      "margin": null,
      "max_height": null,
      "max_width": null,
      "min_height": null,
      "min_width": null,
      "object_fit": null,
      "object_position": null,
      "order": null,
      "overflow": null,
      "overflow_x": null,
      "overflow_y": null,
      "padding": null,
      "right": null,
      "top": null,
      "visibility": null,
      "width": null
     }
    },
    "d86726fc41c94b5f99e23f35e07f7e5f": {
     "model_module": "@jupyter-widgets/controls",
     "model_module_version": "1.5.0",
     "model_name": "DescriptionStyleModel",
     "state": {
      "_model_module": "@jupyter-widgets/controls",
      "_model_module_version": "1.5.0",
      "_model_name": "DescriptionStyleModel",
      "_view_count": null,
      "_view_module": "@jupyter-widgets/base",
      "_view_module_version": "1.2.0",
      "_view_name": "StyleView",
      "description_width": ""
     }
    },
    "e39dbe295b0b4999a89ea34ce6e90323": {
     "model_module": "@jupyter-widgets/controls",
     "model_module_version": "1.5.0",
     "model_name": "HBoxModel",
     "state": {
      "_dom_classes": [],
      "_model_module": "@jupyter-widgets/controls",
      "_model_module_version": "1.5.0",
      "_model_name": "HBoxModel",
      "_view_count": null,
      "_view_module": "@jupyter-widgets/controls",
      "_view_module_version": "1.5.0",
      "_view_name": "HBoxView",
      "box_style": "",
      "children": [
       "IPY_MODEL_239321d57b1049d9b808ba869c04ec9a",
       "IPY_MODEL_0bccedf2ef3944ab8c8304eb1d3735e6",
       "IPY_MODEL_27b6281638314e618e945970341494ce"
      ],
      "layout": "IPY_MODEL_53506a43954f4d61ba610211bf3b3e68"
     }
    },
    "e8576d7700db497996108c85b14ff829": {
     "model_module": "@jupyter-widgets/controls",
     "model_module_version": "1.5.0",
     "model_name": "FloatProgressModel",
     "state": {
      "_dom_classes": [],
      "_model_module": "@jupyter-widgets/controls",
      "_model_module_version": "1.5.0",
      "_model_name": "FloatProgressModel",
      "_view_count": null,
      "_view_module": "@jupyter-widgets/controls",
      "_view_module_version": "1.5.0",
      "_view_name": "ProgressView",
      "bar_style": "success",
      "description": "",
      "description_tooltip": null,
      "layout": "IPY_MODEL_79b05cf646b34db883cf02e1eec454ab",
      "max": 1716,
      "min": 0,
      "orientation": "horizontal",
      "style": "IPY_MODEL_27fc92e5119c469cae7157743dfba669",
      "value": 1716
     }
    },
    "f606d9909fa24f03b3bcf8f611b32e7e": {
     "model_module": "@jupyter-widgets/base",
     "model_module_version": "1.2.0",
     "model_name": "LayoutModel",
     "state": {
      "_model_module": "@jupyter-widgets/base",
      "_model_module_version": "1.2.0",
      "_model_name": "LayoutModel",
      "_view_count": null,
      "_view_module": "@jupyter-widgets/base",
      "_view_module_version": "1.2.0",
      "_view_name": "LayoutView",
      "align_content": null,
      "align_items": null,
      "align_self": null,
      "border": null,
      "bottom": null,
      "display": null,
      "flex": null,
      "flex_flow": null,
      "grid_area": null,
      "grid_auto_columns": null,
      "grid_auto_flow": null,
      "grid_auto_rows": null,
      "grid_column": null,
      "grid_gap": null,
      "grid_row": null,
      "grid_template_areas": null,
      "grid_template_columns": null,
      "grid_template_rows": null,
      "height": null,
      "justify_content": null,
      "justify_items": null,
      "left": null,
      "margin": null,
      "max_height": null,
      "max_width": null,
      "min_height": null,
      "min_width": null,
      "object_fit": null,
      "object_position": null,
      "order": null,
      "overflow": null,
      "overflow_x": null,
      "overflow_y": null,
      "padding": null,
      "right": null,
      "top": null,
      "visibility": null,
      "width": null
     }
    },
    "fe2ee41273794047849b82ffccf35fb6": {
     "model_module": "@jupyter-widgets/controls",
     "model_module_version": "1.5.0",
     "model_name": "HTMLModel",
     "state": {
      "_dom_classes": [],
      "_model_module": "@jupyter-widgets/controls",
      "_model_module_version": "1.5.0",
      "_model_name": "HTMLModel",
      "_view_count": null,
      "_view_module": "@jupyter-widgets/controls",
      "_view_module_version": "1.5.0",
      "_view_name": "HTMLView",
      "description": "",
      "description_tooltip": null,
      "layout": "IPY_MODEL_1e1a0417a9724f34a1dfee838947f827",
      "placeholder": "​",
      "style": "IPY_MODEL_92ed55845aba45e6978e203395502d5d",
      "value": " 1.68k/1.68k [00:00&lt;00:00, 54.1kB/s]"
     }
    }
   }
  }
 },
 "nbformat": 4,
 "nbformat_minor": 5
}
