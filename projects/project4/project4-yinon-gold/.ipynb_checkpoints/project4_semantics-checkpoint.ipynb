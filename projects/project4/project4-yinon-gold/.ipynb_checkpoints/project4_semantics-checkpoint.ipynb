{
 "cells": [
  {
   "cell_type": "code",
   "execution_count": 82,
   "id": "20b8ffe7",
   "metadata": {
    "deletable": false,
    "editable": false,
    "tags": []
   },
   "outputs": [
    {
     "name": "stdout",
     "output_type": "stream",
     "text": [
      "\n"
     ]
    }
   ],
   "source": [
    "# Please do not change this cell because some hidden tests might depend on it.\n",
    "import os\n",
    "\n",
    "# Otter grader does not handle ! commands well, so we define and use our\n",
    "# own function to execute shell commands.\n",
    "def shell(commands, warn=True):\n",
    "    \"\"\"Executes the string `commands` as a sequence of shell commands.\n",
    "     \n",
    "       Prints the result to stdout and returns the exit status. \n",
    "       Provides a printed warning on non-zero exit status unless `warn` \n",
    "       flag is unset.\n",
    "    \"\"\"\n",
    "    file = os.popen(commands)\n",
    "    print (file.read().rstrip('\\n'))\n",
    "    exit_status = file.close()\n",
    "    if warn and exit_status != None:\n",
    "        print(f\"Completed with errors. Exit status: {exit_status}\\n\")\n",
    "    return exit_status\n",
    "\n",
    "shell(\"\"\"\n",
    "ls requirements.txt >/dev/null 2>&1\n",
    "if [ ! $? = 0 ]; then\n",
    " rm -rf .tmp\n",
    " git clone https://github.com/cs236299-2022-spring/project4.git .tmp\n",
    " mv .tmp/requirements.txt ./\n",
    " rm -rf .tmp\n",
    "fi\n",
    "pip install -q -r requirements.txt\n",
    "\"\"\")"
   ]
  },
  {
   "cell_type": "code",
   "execution_count": 83,
   "id": "30a05905",
   "metadata": {
    "deletable": false,
    "editable": false
   },
   "outputs": [],
   "source": [
    "# Initialize Otter\n",
    "import otter\n",
    "grader = otter.Notebook()"
   ]
  },
  {
   "cell_type": "raw",
   "id": "d63aa7ef",
   "metadata": {
    "tags": []
   },
   "source": [
    "%%latex\n",
    "\\newcommand{\\vect}[1]{\\mathbf{#1}}\n",
    "\\newcommand{\\cnt}[1]{\\sharp(#1)}\n",
    "\\newcommand{\\argmax}[1]{\\underset{#1}{\\operatorname{argmax}}}\n",
    "\\newcommand{\\softmax}{\\operatorname{softmax}}\n",
    "\\newcommand{\\Prob}{\\Pr}\n",
    "\\newcommand{\\given}{\\,|\\,}"
   ]
  },
  {
   "cell_type": "markdown",
   "id": "c2557ead",
   "metadata": {
    "tags": []
   },
   "source": [
    "$$\n",
    "\\renewcommand{\\vect}[1]{\\mathbf{#1}}\n",
    "\\renewcommand{\\cnt}[1]{\\sharp(#1)}\n",
    "\\renewcommand{\\argmax}[1]{\\underset{#1}{\\operatorname{argmax}}}\n",
    "\\renewcommand{\\softmax}{\\operatorname{softmax}}\n",
    "\\renewcommand{\\Prob}{\\Pr}\n",
    "\\renewcommand{\\given}{\\,|\\,}\n",
    "$$"
   ]
  },
  {
   "cell_type": "markdown",
   "id": "57f766dc",
   "metadata": {
    "tags": [
     "remove_for_latex"
    ]
   },
   "source": [
    "# \t236299 - Introduction to Natural Language Processing\n",
    "## Project 4: Semantic Interpretation – Question Answering"
   ]
  },
  {
   "cell_type": "markdown",
   "id": "7cf2a34b",
   "metadata": {
    "id": "qyLRFIJ0pWug"
   },
   "source": [
    "The goal of semantic parsing is to convert natural language utterances to a meaning representation such as a _logical form_ expression or a _SQL query_. In the previous project segment, you built a parsing system to reconstruct parse trees from the natural-language queries in the ATIS dataset. However, that only solves an intermediary task, not the end-user task of obtaining answers to the queries.\n",
    "\n",
    "In this final project segment, you will go further, building a semantic parsing system to convert English queries to SQL queries, so that by consulting a database you will be able to answer those questions. You will implement both a rule-based approach and an end-to-end sequence-to-sequence (seq2seq) approach. Both algorithms come with their pros and cons, and by the end of this segment you should have a basic understanding of the characteristics of the two approaches. \n",
    "\n",
    "## Goals\n",
    "\n",
    "1. Build a semantic parsing algorithm to convert text to SQL queries based on the syntactic parse trees from the last project.\n",
    "2. Build an attention-based end-to-end seq2seq system to convert text to SQL.\n",
    "3. Improve the attention-based end-to-end seq2seq system with self-attention to convert text to SQL.\n",
    "4. Discuss the pros and cons of the rule-based system and the end-to-end system.\n",
    "5. (Optional) Use the state-of-the-art pretrained transformers for text-to-SQL conversion.\n",
    "\n",
    "This will be an extremely challenging project, so we recommend that you start early."
   ]
  },
  {
   "cell_type": "markdown",
   "id": "d345044b",
   "metadata": {
    "id": "IZC1IGmoujpw"
   },
   "source": [
    "# Setup"
   ]
  },
  {
   "cell_type": "code",
   "execution_count": 84,
   "id": "5e6883c2",
   "metadata": {
    "id": "KKoO7UWR2I7I"
   },
   "outputs": [],
   "source": [
    "import copy\n",
    "import datetime\n",
    "import math\n",
    "import re\n",
    "import sys\n",
    "import warnings\n",
    "\n",
    "import wget\n",
    "import nltk\n",
    "import sqlite3\n",
    "import torch\n",
    "import torch.nn as nn\n",
    "import torchtext.legacy as tt\n",
    "\n",
    "from cryptography.fernet import Fernet\n",
    "from func_timeout import func_set_timeout\n",
    "from torch.nn.utils.rnn import pack_padded_sequence as pack\n",
    "from torch.nn.utils.rnn import pad_packed_sequence as unpack\n",
    "from tqdm import tqdm\n",
    "from transformers import BartTokenizer, BartForConditionalGeneration"
   ]
  },
  {
   "cell_type": "code",
   "execution_count": 85,
   "id": "b9311107",
   "metadata": {
    "colab": {
     "base_uri": "https://localhost:8080/"
    },
    "outputId": "dd870d00-ed05-4986-ba6a-7d3855709ff8"
   },
   "outputs": [
    {
     "name": "stdout",
     "output_type": "stream",
     "text": [
      "cpu\n"
     ]
    }
   ],
   "source": [
    "# Set random seeds\n",
    "seed = 1234\n",
    "torch.manual_seed(seed)\n",
    "# Set timeout for executing SQL\n",
    "TIMEOUT = 3 # seconds\n",
    "\n",
    "# GPU check: Set runtime type to use GPU where available\n",
    "device = torch.device(\"cuda\" if torch.cuda.is_available() else \"cpu\")\n",
    "print (device)"
   ]
  },
  {
   "cell_type": "code",
   "execution_count": 86,
   "id": "8fe1c8d5",
   "metadata": {
    "colab": {
     "base_uri": "https://localhost:8080/",
     "height": 91
    },
    "outputId": "ee04be09-88fc-4ab9-fc0c-59f20d8bf210"
   },
   "outputs": [
    {
     "name": "stdout",
     "output_type": "stream",
     "text": [
      "100% [........................................................................] 16404480 / 16404480"
     ]
    },
    {
     "data": {
      "text/plain": [
       "'data//atis_sqlite (1).db'"
      ]
     },
     "execution_count": 86,
     "metadata": {},
     "output_type": "execute_result"
    }
   ],
   "source": [
    "## Download needed scripts and data\n",
    "os.makedirs('data', exist_ok=True)\n",
    "os.makedirs('scripts', exist_ok=True)\n",
    "source_url = \"https://raw.githubusercontent.com/nlp-236299/data/master\"\n",
    "\n",
    "# Grammar to augment for this segment\n",
    "if not os.path.isfile('data/grammar'):\n",
    "  wget.download(f\"{source_url}/ATIS/grammar_distrib4.crypt\", out=\"data/\")\n",
    "\n",
    "  # Decrypt the grammar file\n",
    "  key = b'bfksTY2BJ5VKKK9xZb1PDDLaGkdu7KCDFYfVePSEfGY='\n",
    "  fernet = Fernet(key)\n",
    "  with open('./data/grammar_distrib4.crypt', 'rb') as f:\n",
    "    restored = Fernet(key).decrypt(f.read())\n",
    "  with open('./data/grammar', 'wb') as f:\n",
    "    f.write(restored)\n",
    "\n",
    "# Download scripts and ATIS database\n",
    "wget.download(f\"{source_url}/scripts/trees/transform.py\", out=\"scripts/\")\n",
    "wget.download(f\"{source_url}/ATIS/atis_sqlite.db\", out=\"data/\")"
   ]
  },
  {
   "cell_type": "code",
   "execution_count": 87,
   "id": "26b54859",
   "metadata": {
    "id": "0rIXNNMX2I7O"
   },
   "outputs": [],
   "source": [
    "# Import downloaded scripts for parsing augmented grammars\n",
    "sys.path.insert(1, './scripts')\n",
    "import transform as xform"
   ]
  },
  {
   "cell_type": "markdown",
   "id": "7ae67727",
   "metadata": {
    "id": "CFyzRZfk2I7P"
   },
   "source": [
    "# Semantically augmented grammars\n",
    "\n",
    "In the first part of this project segment, you'll be implementing a rule-based system for semantic interpretation of sentences. Before jumping into using such a system on the ATIS dataset – we'll get to that soon enough – let's first work with some trivial examples to get things going.\n",
    "\n",
    "The fundamental idea of rule-based semantic interpretation is the rule of compositionality, that *the meaning of a constituent is a function of the meanings of its immediate subconstituents and the syntactic rule that combined them*. This leads to an infrastructure for specifying semantic interpretation in which each syntactic rule in a grammar (in our case, a context-free grammar) is associated with a semantic rule that applies to the meanings associated with the elements on the right-hand side of the rule.\n",
    "\n",
    "## Example: arithmetic expressions\n",
    "\n",
    "As a first example, let's consider an augmented grammar for arithmetic expressions, familiar from lab 3-1. We again use the function `xform.parse_augmented_grammar` to parse the augmented grammar. You can read more about it in the file `scripts/transform.py`."
   ]
  },
  {
   "cell_type": "code",
   "execution_count": 88,
   "id": "ed34d375",
   "metadata": {
    "id": "KSMzkIrN2I7Q"
   },
   "outputs": [],
   "source": [
    "arithmetic_grammar, arithmetic_augmentations = xform.parse_augmented_grammar(\n",
    "    \"\"\"\n",
    "    ## Sample grammar for arithmetic expressions\n",
    "    \n",
    "    S -> NUM                              : lambda Num: Num\n",
    "       | S OP S                           : lambda S1, Op, S2: Op(S1, S2)\n",
    "\n",
    "    OP -> ADD                             : lambda Op: Op\n",
    "        | SUB \n",
    "        | MULT\n",
    "        | DIV\n",
    "\n",
    "    NUM -> 'zero'                         : lambda: 0\n",
    "         | 'one'                          : lambda: 1\n",
    "         | 'two'                          : lambda: 2\n",
    "         | 'three'                        : lambda: 3\n",
    "         | 'four'                         : lambda: 4\n",
    "         | 'five'                         : lambda: 5\n",
    "         | 'six'                          : lambda: 6\n",
    "         | 'seven'                        : lambda: 7\n",
    "         | 'eight'                        : lambda: 8\n",
    "         | 'nine'                         : lambda: 9\n",
    "         | 'ten'                          : lambda: 10\n",
    "\n",
    "    ADD -> 'plus' | 'added' 'to'          : lambda: lambda x, y: x + y\n",
    "    SUB -> 'minus'                        : lambda: lambda x, y: x - y\n",
    "    MULT -> 'times' | 'multiplied' 'by'   : lambda: lambda x, y: x * y\n",
    "    DIV -> 'divided' 'by'                 : lambda: lambda x, y: x / y\n",
    "    \"\"\"\n",
    ")"
   ]
  },
  {
   "cell_type": "markdown",
   "id": "1d6098df",
   "metadata": {
    "id": "H7YT2yLQ2I7Q"
   },
   "source": [
    "Recall that in this grammar specification format, rules that are not explicitly provided with an augmentation (like all the `OP` rules after the first `OP -> ADD`) are associated with the textually most recent one (`lambda Op: Op`).\n",
    "\n",
    "The `parse_augmented_grammar` function returns both an NLTK grammar and a dictionary that maps from productions in the grammar to their associated augmentations. Let's examine the returned grammar."
   ]
  },
  {
   "cell_type": "code",
   "execution_count": 89,
   "id": "8fb4a8dc",
   "metadata": {
    "colab": {
     "base_uri": "https://localhost:8080/"
    },
    "outputId": "4cf0273f-9fe3-4455-e1c7-b1b0a13b8718"
   },
   "outputs": [
    {
     "name": "stdout",
     "output_type": "stream",
     "text": [
      "S -> NUM                      <function <lambda> at 0x7fc0993c7790>\n",
      "S -> S OP S                   <function <lambda> at 0x7fc0993c7430>\n",
      "OP -> ADD                     <function <lambda> at 0x7fc0993ea280>\n",
      "OP -> SUB                     <function <lambda> at 0x7fc0993ea670>\n",
      "OP -> MULT                    <function <lambda> at 0x7fc0993eab80>\n",
      "OP -> DIV                     <function <lambda> at 0x7fc0993ea9d0>\n",
      "NUM -> 'zero'                 <function <lambda> at 0x7fc0993ea430>\n",
      "NUM -> 'one'                  <function <lambda> at 0x7fc0993eaaf0>\n",
      "NUM -> 'two'                  <function <lambda> at 0x7fc0993ea310>\n",
      "NUM -> 'three'                <function <lambda> at 0x7fc0993eac10>\n",
      "NUM -> 'four'                 <function <lambda> at 0x7fc0993eaca0>\n",
      "NUM -> 'five'                 <function <lambda> at 0x7fc0993ead30>\n",
      "NUM -> 'six'                  <function <lambda> at 0x7fc0993eadc0>\n",
      "NUM -> 'seven'                <function <lambda> at 0x7fc0993eae50>\n",
      "NUM -> 'eight'                <function <lambda> at 0x7fc0993eaee0>\n",
      "NUM -> 'nine'                 <function <lambda> at 0x7fc0993eaf70>\n",
      "NUM -> 'ten'                  <function <lambda> at 0x7fc0993fb040>\n",
      "ADD -> 'plus'                 <function <lambda> at 0x7fc0993fb0d0>\n",
      "ADD -> 'added' 'to'           <function <lambda> at 0x7fc0993fb160>\n",
      "SUB -> 'minus'                <function <lambda> at 0x7fc0993fb1f0>\n",
      "MULT -> 'times'               <function <lambda> at 0x7fc0993fb280>\n",
      "MULT -> 'multiplied' 'by'     <function <lambda> at 0x7fc0993fb310>\n",
      "DIV -> 'divided' 'by'         <function <lambda> at 0x7fc0993fb3a0>\n"
     ]
    }
   ],
   "source": [
    "for production in arithmetic_grammar.productions():\n",
    "  print(f\"{repr(production):25}     {arithmetic_augmentations[production]}\")"
   ]
  },
  {
   "cell_type": "markdown",
   "id": "355ed6c4",
   "metadata": {
    "id": "xj3C8Qa22I7R"
   },
   "source": [
    "We can parse with the grammar using one of the built-in NLTK parsers."
   ]
  },
  {
   "cell_type": "code",
   "execution_count": 90,
   "id": "0b04e6b2",
   "metadata": {
    "colab": {
     "base_uri": "https://localhost:8080/"
    },
    "outputId": "6b122d16-0f3f-4f66-9185-9dd210787f54"
   },
   "outputs": [
    {
     "name": "stdout",
     "output_type": "stream",
     "text": [
      "            S            \n",
      "        ____|_________    \n",
      "       S         |    |  \n",
      "   ____|____     |    |   \n",
      "  S    OP   S    OP   S  \n",
      "  |    |    |    |    |   \n",
      " NUM  ADD  NUM  MULT NUM \n",
      "  |    |    |    |    |   \n",
      "three plus one times four\n",
      "\n",
      "            S            \n",
      "   _________|____         \n",
      "  |    |         S       \n",
      "  |    |     ____|____    \n",
      "  S    OP   S    OP   S  \n",
      "  |    |    |    |    |   \n",
      " NUM  ADD  NUM  MULT NUM \n",
      "  |    |    |    |    |   \n",
      "three plus one times four\n",
      "\n"
     ]
    }
   ],
   "source": [
    "arithmetic_parser = nltk.parse.BottomUpChartParser(arithmetic_grammar)\n",
    "parses = [p for p in arithmetic_parser.parse('three plus one times four'.split())]\n",
    "for parse in parses:\n",
    "  parse.pretty_print()"
   ]
  },
  {
   "cell_type": "markdown",
   "id": "68c38950",
   "metadata": {
    "id": "vWrW3XKq2I7S"
   },
   "source": [
    "Now let's turn to the augmentations. They can be arbitrary Python functions applied to the semantic representations associated with the right-hand-side nonterminals, returning the semantic representation of the left-hand side. To interpret the semantic representation of the entire sentence (at the root of the parse tree), we can use the following pseudo-code:\n",
    "```\n",
    "to interpret a tree:\n",
    "  interpret each of the nonterminal-rooted subtrees\n",
    "  find the augmentation associated with the root production of the tree\n",
    "    (it should be a function of as many arguments as there are nonterminals on the right-hand side)\n",
    "  return the result of applying the augmentation to the subtree values\n",
    "```\n",
    "(The base case of this recursion occurs when the number of nonterminal-rooted subtrees is zero, that is, a rule all of whose right-hand side elements are terminals.)\n",
    "\n",
    "Suppose we had such a function, call it `interpret`. How would it operate on, for instance, the tree `(S (S (NUM three)) (OP (ADD plus)) (S (NUM one)))`?\n",
    "\n",
    "```\n",
    "interpret (S (S (NUM three)) (OP (ADD plus)) (S (NUM one)))\n",
    "    |->interpret (S (NUM three))\n",
    "    |      |->interpret (NUM three)\n",
    "    |      |      |->(no subconstituents to evaluate)\n",
    "    |      |      |->apply the augmentation for the rule NUM -> three to the empty set of values\n",
    "    |      |      |      (lambda: 3) () ==> 3\n",
    "    |      |      \\==> 3\n",
    "    |      |->apply the augmentation for the rule S -> NUM to the value 3\n",
    "    |      |      (lambda NUM: NUM)(3) ==> 3\n",
    "    |      \\==> 3\n",
    "    |->interpret (OP (ADD plus)) \n",
    "    |      |...\n",
    "    |      \\==> lambda x, y: x + y\n",
    "    |->interpret (S (NUM one))\n",
    "    |      |...\n",
    "    |      \\==> 1\n",
    "    |->apply the augmentation for the rule S -> S OP S to the values 3, (lambda x, y: x + y), and 1\n",
    "    |      (lambda S1, Op, S2: Op(S1, S2))(3, (lambda x, y: x + y), 1) ==> 4\n",
    "    \\==> 4\n",
    "```\n",
    "\n",
    "Thus, the string \"three plus one\" is semantically interpreted as the value 4.\n",
    "\n",
    "We provide the `interpret` function to carry out this recursive process, copied over from lab 4-2:"
   ]
  },
  {
   "cell_type": "code",
   "execution_count": 91,
   "id": "99104630",
   "metadata": {
    "id": "AOtYqElK2I7T"
   },
   "outputs": [],
   "source": [
    "def interpret(tree, augmentations):\n",
    "  syntactic_rule = tree.productions()[0]\n",
    "  semantic_rule = augmentations[syntactic_rule]\n",
    "  child_meanings = [interpret(child, augmentations) \n",
    "                    for child in tree \n",
    "                    if isinstance(child, nltk.Tree)]\n",
    "  return semantic_rule(*child_meanings)"
   ]
  },
  {
   "cell_type": "markdown",
   "id": "622fb2dc",
   "metadata": {
    "id": "ikKmIXI72I7U"
   },
   "source": [
    "Now we should be able to evaluate the arithmetic example from above."
   ]
  },
  {
   "cell_type": "code",
   "execution_count": 92,
   "id": "855a5c99",
   "metadata": {
    "colab": {
     "base_uri": "https://localhost:8080/"
    },
    "outputId": "bb832f5b-8cd7-4c6f-f775-a1d9792196a1"
   },
   "outputs": [
    {
     "data": {
      "text/plain": [
       "16"
      ]
     },
     "execution_count": 92,
     "metadata": {},
     "output_type": "execute_result"
    }
   ],
   "source": [
    "interpret(parses[0], arithmetic_augmentations)"
   ]
  },
  {
   "cell_type": "markdown",
   "id": "6f348bc8",
   "metadata": {
    "id": "6Mrcmpcc2I7W"
   },
   "source": [
    "And we can even write a function that parses and interprets a string. We'll have it evaluate each of the possible parses and print the results."
   ]
  },
  {
   "cell_type": "code",
   "execution_count": 93,
   "id": "dd784592",
   "metadata": {
    "id": "LxwtJT8A2I7W"
   },
   "outputs": [],
   "source": [
    "def parse_and_interpret(string, grammar, augmentations):\n",
    "  parser = nltk.parse.BottomUpChartParser(grammar)\n",
    "  parses = parser.parse(string.split())\n",
    "  for parse in parses:\n",
    "    parse.pretty_print()\n",
    "    print(parse, \"==>\", interpret(parse, augmentations))"
   ]
  },
  {
   "cell_type": "code",
   "execution_count": 94,
   "id": "66a97c1c",
   "metadata": {
    "colab": {
     "base_uri": "https://localhost:8080/"
    },
    "outputId": "928a4f8a-bee2-466c-f635-c28cfffdb365"
   },
   "outputs": [
    {
     "name": "stdout",
     "output_type": "stream",
     "text": [
      "            S            \n",
      "        ____|_________    \n",
      "       S         |    |  \n",
      "   ____|____     |    |   \n",
      "  S    OP   S    OP   S  \n",
      "  |    |    |    |    |   \n",
      " NUM  ADD  NUM  MULT NUM \n",
      "  |    |    |    |    |   \n",
      "three plus one times four\n",
      "\n",
      "(S\n",
      "  (S (S (NUM three)) (OP (ADD plus)) (S (NUM one)))\n",
      "  (OP (MULT times))\n",
      "  (S (NUM four))) ==> 16\n",
      "            S            \n",
      "   _________|____         \n",
      "  |    |         S       \n",
      "  |    |     ____|____    \n",
      "  S    OP   S    OP   S  \n",
      "  |    |    |    |    |   \n",
      " NUM  ADD  NUM  MULT NUM \n",
      "  |    |    |    |    |   \n",
      "three plus one times four\n",
      "\n",
      "(S\n",
      "  (S (NUM three))\n",
      "  (OP (ADD plus))\n",
      "  (S (S (NUM one)) (OP (MULT times)) (S (NUM four)))) ==> 7\n"
     ]
    }
   ],
   "source": [
    "parse_and_interpret(\"three plus one times four\", arithmetic_grammar, arithmetic_augmentations)"
   ]
  },
  {
   "cell_type": "markdown",
   "id": "6231db03",
   "metadata": {
    "id": "5Mrbtt6D2I7X"
   },
   "source": [
    "Since the string is syntactically ambiguous according to the grammar, it is semantically ambiguous as well."
   ]
  },
  {
   "cell_type": "markdown",
   "id": "f065c35f",
   "metadata": {
    "id": "hFJqeTjo2I7Y"
   },
   "source": [
    "## Some grammar specification conveniences\n",
    "\n",
    "Before going on, it will be useful to have a few more conveniences in writing augmentations for rules. First, since the augmentations are arbitrary Python expressions, they can be built from and make use of other functions. For instance, you'll notice that many of the augmentations at the leaves of the tree took no arguments and returned a constant. We can define a function `constant` that returns a function that ignores its arguments and returns a particular value."
   ]
  },
  {
   "cell_type": "code",
   "execution_count": 95,
   "id": "8b8b3fea",
   "metadata": {
    "id": "iaPtS8Z42I7Y"
   },
   "outputs": [],
   "source": [
    "def constant(value):\n",
    "  \"\"\"Return `value`, ignoring any arguments\"\"\"\n",
    "  return lambda *args: value"
   ]
  },
  {
   "cell_type": "markdown",
   "id": "72a031be",
   "metadata": {
    "id": "az0vj6hx2I7Z"
   },
   "source": [
    "Similarly, several of the augmentations are functions that just return their first argument. Again, we can define a generic form `first` of such a function:"
   ]
  },
  {
   "cell_type": "code",
   "execution_count": 96,
   "id": "103a6d09",
   "metadata": {
    "id": "HNKWoa4f2I7Z"
   },
   "outputs": [],
   "source": [
    "def first(*args):\n",
    "  \"\"\"Return the value of the first (and perhaps only) subconstituent, \n",
    "     ignoring any others\"\"\"  \n",
    "  return args[0]"
   ]
  },
  {
   "cell_type": "markdown",
   "id": "0a433f17",
   "metadata": {
    "id": "tvMy8Dz62I7Z"
   },
   "source": [
    "We can now rewrite the grammar above to take advantage of these shortcuts. \n",
    "\n",
    "> In the call to `parse_augmented_grammar` below, we pass in the global environment, extracted via a `globals()` function call, via the named argument `globals`. This allows the `parse_augmented_grammar` function to make use of the global bindings for `constant`, `first`, and the like when evaluating the augmentation expressions to their values. You can check out the code in `transform.py` to see how the passed in `globals` bindings are used. To help understand what's going on, see what happens if you don't include the `globals=globals()`."
   ]
  },
  {
   "cell_type": "code",
   "execution_count": 97,
   "id": "6450c6e3",
   "metadata": {
    "id": "nUZdEEhH2I7Z"
   },
   "outputs": [],
   "source": [
    "arithmetic_grammar_2, arithmetic_augmentations_2 = xform.parse_augmented_grammar(\n",
    "    \"\"\"\n",
    "    ## Sample grammar for arithmetic expressions\n",
    "    \n",
    "    S -> NUM                              : first\n",
    "       | S OP S                           : lambda S1, Op, S2: Op(S1, S2)\n",
    "\n",
    "    OP -> ADD                             : first\n",
    "       | SUB \n",
    "       | MULT\n",
    "       | DIV\n",
    "\n",
    "    NUM -> 'zero'                         : constant(0)\n",
    "         | 'one'                          : constant(1)\n",
    "         | 'two'                          : constant(2)\n",
    "         | 'three'                        : constant(3)\n",
    "         | 'four'                         : constant(4)\n",
    "         | 'five'                         : constant(5)\n",
    "         | 'six'                          : constant(6)\n",
    "         | 'seven'                        : constant(7)\n",
    "         | 'eight'                        : constant(8)\n",
    "         | 'nine'                         : constant(9)\n",
    "         | 'ten'                          : constant(10)\n",
    "\n",
    "    ADD -> 'plus' | 'added' 'to'          : constant(lambda x, y: x + y)\n",
    "    SUB -> 'minus'                        : constant(lambda x, y: x - y)\n",
    "    MULT -> 'times' | 'multiplied' 'by'   : constant(lambda x, y: x * y)\n",
    "    DIV -> 'divided' 'by'                 : constant(lambda x, y: x / y)\n",
    "    \"\"\",\n",
    "    globals=globals())"
   ]
  },
  {
   "cell_type": "markdown",
   "id": "1e01f958",
   "metadata": {
    "id": "XK8pm5fR2I7a"
   },
   "source": [
    "Finally, it might make our lives easier to write a template of augmentations whose instantiation depends on the right-hand side of the rule. \n",
    "\n",
    "We use a reserved keyword `_RHS` to denote the right-hand side of the syntactic rule, which will be replaced by a **list** of the right-hand-side strings. For example, an augmentation `numeric_template(_RHS)` would be as if written as `numeric_template(['zero'])` when the rule is `NUM -> 'zero'`, and `numeric_template(['one'])` when the rule is `NUM -> 'one'`. The details of how this works can be found at [`scripts/transform.py`](https://github.com/nlp-236299/data/blob/master/scripts/trees/transform.py).\n",
    "\n",
    "This would allow us to use a single template function, for example,"
   ]
  },
  {
   "cell_type": "code",
   "execution_count": 98,
   "id": "a910940e",
   "metadata": {
    "id": "R-NhYa2z2I7a"
   },
   "outputs": [],
   "source": [
    "def numeric_template(rhs):\n",
    "  \"\"\"Ignore the subphrase meanings and lookup the first right-hand-side symbol \n",
    "     as a number\"\"\"\n",
    "  return constant({'zero':0, 'one':1, 'two':2, 'three':3, 'four':4, 'five':5,\n",
    "          'six':6, 'seven':7, 'eight':8, 'nine':9, 'ten':10}[rhs[0]])"
   ]
  },
  {
   "cell_type": "markdown",
   "id": "7c49ac69",
   "metadata": {
    "id": "izdoK5oK2I7b"
   },
   "source": [
    "and then further simplify the grammar specification:"
   ]
  },
  {
   "cell_type": "code",
   "execution_count": 99,
   "id": "be55160f",
   "metadata": {
    "id": "QfEHRbws2I7b"
   },
   "outputs": [],
   "source": [
    "arithmetic_grammar_3, arithmetic_augmentations_3 = xform.parse_augmented_grammar(\n",
    "    \"\"\"\n",
    "    ## Sample grammar for arithmetic expressions\n",
    "    \n",
    "    S -> NUM                              : first\n",
    "       | S OP S                           : lambda S1, Op, S2: Op(S1, S2)\n",
    "\n",
    "    OP -> ADD                             : first\n",
    "       | SUB\n",
    "       | MULT\n",
    "       | DIV\n",
    "\n",
    "    NUM -> 'zero'  | 'one'   | 'two'      : numeric_template(_RHS)\n",
    "         | 'three' | 'four'  | 'five'\n",
    "         | 'six'   | 'seven' | 'eight'\n",
    "         | 'nine'  | 'ten'\n",
    "\n",
    "    ADD -> 'plus' | 'added' 'to'          : constant(lambda x, y: x + y)\n",
    "    SUB -> 'minus'                        : constant(lambda x, y: x - y)\n",
    "    MULT -> 'times' | 'multiplied' 'by'   : constant(lambda x, y: x * y)\n",
    "    DIV -> 'divided' 'by'                 : constant(lambda x, y: x / y)\n",
    "    \"\"\",\n",
    "    globals=globals())"
   ]
  },
  {
   "cell_type": "code",
   "execution_count": 100,
   "id": "1b1267d2",
   "metadata": {
    "colab": {
     "base_uri": "https://localhost:8080/"
    },
    "outputId": "0604a394-c23a-4265-e589-d28b60a4e7ba"
   },
   "outputs": [
    {
     "name": "stdout",
     "output_type": "stream",
     "text": [
      "       S                 \n",
      "  _____|______________    \n",
      " S           OP       S  \n",
      " |           |        |   \n",
      "NUM         DIV      NUM \n",
      " |      _____|___     |   \n",
      "six divided      by three\n",
      "\n",
      "(S (S (NUM six)) (OP (DIV divided by)) (S (NUM three))) ==> 2.0\n"
     ]
    }
   ],
   "source": [
    "parse_and_interpret(\"six divided by three\", arithmetic_grammar_3, arithmetic_augmentations_3)"
   ]
  },
  {
   "cell_type": "markdown",
   "id": "7610d6de",
   "metadata": {
    "id": "Xrb5gJGl2I7c"
   },
   "source": [
    "## Example: _Green Eggs and Ham_ revisited\n",
    "\n",
    "This stuff is tricky, so it's useful to see more examples before jumping in the deep end. In this simple GEaH fragment grammar, we use a larger set of auxiliary functions to build the augmentations."
   ]
  },
  {
   "cell_type": "code",
   "execution_count": 101,
   "id": "14e7a796",
   "metadata": {
    "id": "UExUoClu2I7d"
   },
   "outputs": [],
   "source": [
    "def forward(F, A):\n",
    "  \"\"\"Forward application: Return the application of the first \n",
    "     argument to the second\"\"\"\n",
    "  return F(A)\n",
    "\n",
    "def backward(A, F):\n",
    "  \"\"\"Backward application: Return the application of the second \n",
    "     argument to the first\"\"\"\n",
    "  return F(A)\n",
    "\n",
    "def second(*args):\n",
    "  \"\"\"Return the value of the second subconstituent, ignoring any others\"\"\"\n",
    "  return args[1]\n",
    "\n",
    "def ignore(*args):\n",
    "  \"\"\"Return `None`, ignoring everything about the constituent. (Good as a\n",
    "     placeholder until a better augmentation can be devised.)\"\"\"\n",
    "  return None"
   ]
  },
  {
   "cell_type": "markdown",
   "id": "1335b23d",
   "metadata": {
    "id": "eAeFyh3s2I7d"
   },
   "source": [
    "Using these, we can build and test the grammar."
   ]
  },
  {
   "cell_type": "code",
   "execution_count": 102,
   "id": "7defaca8",
   "metadata": {
    "id": "7yVkW0hO2I7d"
   },
   "outputs": [],
   "source": [
    "geah_grammar_spec = \"\"\"\n",
    "  ## Productions\n",
    "  S -> NP VP            : backward\n",
    "  VP -> V NP            : forward\n",
    "\n",
    "  ## Lexicon\n",
    "  V -> 'likes'          : constant(lambda Object: lambda Subject: f\"like({Subject}, {Object})\")\n",
    "  NP -> 'Sam' | 'sam'   : constant(_RHS[0])\n",
    "  NP -> 'ham'\n",
    "  NP -> 'eggs'\n",
    "\"\"\""
   ]
  },
  {
   "cell_type": "code",
   "execution_count": 103,
   "id": "931fea18",
   "metadata": {
    "id": "bWbs9vFH2I7e"
   },
   "outputs": [],
   "source": [
    "geah_grammar, geah_augmentations = xform.parse_augmented_grammar(geah_grammar_spec, \n",
    "                                                                 globals=globals())"
   ]
  },
  {
   "cell_type": "code",
   "execution_count": 104,
   "id": "75d6b0b6",
   "metadata": {
    "colab": {
     "base_uri": "https://localhost:8080/"
    },
    "outputId": "f644e189-e5f3-4cd0-cd5d-667e312d825f"
   },
   "outputs": [
    {
     "name": "stdout",
     "output_type": "stream",
     "text": [
      "      S          \n",
      "  ____|____       \n",
      " |         VP    \n",
      " |     ____|___   \n",
      " NP   V        NP\n",
      " |    |        |  \n",
      "Sam likes     ham\n",
      "\n",
      "(S (NP Sam) (VP (V likes) (NP ham))) ==> like(Sam, ham)\n"
     ]
    }
   ],
   "source": [
    "parse_and_interpret(\"Sam likes ham\", geah_grammar, geah_augmentations)"
   ]
  },
  {
   "cell_type": "markdown",
   "id": "37c6846d",
   "metadata": {
    "id": "kfPU9-bM2I7e"
   },
   "source": [
    "# Semantics of ATIS queries\n",
    "\n",
    "Now you're in a good position to understand and add augmentations to a more comprehensive grammar, say, one that parses ATIS queries and generates SQL queries.\n",
    "\n",
    "In preparation for that, we need to load the ATIS data, both NL and SQL queries."
   ]
  },
  {
   "cell_type": "markdown",
   "id": "93384b7d",
   "metadata": {
    "id": "zBALH7ZHLjhh"
   },
   "source": [
    "## Loading and preprocessing the corpus\n",
    "\n",
    "To simplify things a bit, we'll only consider ATIS queries whose question type (remember that from project segment 1?) is `flight_id`. We download training, development, and test splits for this subset of the ATIS corpus, including corresponding SQL queries."
   ]
  },
  {
   "cell_type": "code",
   "execution_count": 24,
   "id": "4f51262c",
   "metadata": {
    "colab": {
     "base_uri": "https://localhost:8080/",
     "height": 36
    },
    "outputId": "82474d25-0806-4183-a972-577ea624f370"
   },
   "outputs": [
    {
     "name": "stdout",
     "output_type": "stream",
     "text": [
      "100% [..........................................................................] 2591248 / 2591248"
     ]
    },
    {
     "data": {
      "text/plain": [
       "'data//train_flightid (1).sql'"
      ]
     },
     "execution_count": 24,
     "metadata": {},
     "output_type": "execute_result"
    }
   ],
   "source": [
    "# Acquire the datasets - training, development, and test splits of the \n",
    "# ATIS queries and corresponding SQL queries\n",
    "wget.download(f\"{source_url}/ATIS/test_flightid.nl\", out=\"data/\")\n",
    "wget.download(f\"{source_url}/ATIS/test_flightid.sql\", out=\"data/\")\n",
    "wget.download(f\"{source_url}/ATIS/dev_flightid.nl\", out=\"data/\")\n",
    "wget.download(f\"{source_url}/ATIS/dev_flightid.sql\", out=\"data/\")\n",
    "wget.download(f\"{source_url}/ATIS/train_flightid.nl\", out=\"data/\")\n",
    "wget.download(f\"{source_url}/ATIS/train_flightid.sql\", out=\"data/\")"
   ]
  },
  {
   "cell_type": "markdown",
   "id": "e87c15b5",
   "metadata": {
    "id": "UW7A_icx3zjr"
   },
   "source": [
    "Let's take a look at the data: the NL queries are in `.nl` files, and the SQL queries are in `.sql` files."
   ]
  },
  {
   "cell_type": "code",
   "execution_count": 105,
   "id": "46cf3d34",
   "metadata": {
    "colab": {
     "base_uri": "https://localhost:8080/"
    },
    "outputId": "5e4ea6cd-e548-4bad-de03-a32da1a9326c"
   },
   "outputs": [
    {
     "name": "stdout",
     "output_type": "stream",
     "text": [
      "what flights are available tomorrow from denver to philadelphia\n",
      "SELECT DISTINCT flight_1.flight_id FROM flight flight_1 , airport_service airport_service_1 , city city_1 , airport_service airport_service_2 , city city_2 , days days_1 , date_day date_day_1 WHERE flight_1.from_airport = airport_service_1.airport_code AND airport_service_1.city_code = city_1.city_code AND city_1.city_name = 'DENVER' AND ( flight_1.to_airport = airport_service_2.airport_code AND airport_service_2.city_code = city_2.city_code AND city_2.city_name = 'PHILADELPHIA' AND flight_1.flight_days = days_1.days_code AND days_1.day_name = date_day_1.day_name AND date_day_1.year = 1991 AND date_day_1.month_number = 1 AND date_day_1.day_number = 20 )\n"
     ]
    }
   ],
   "source": [
    "shell(\"head -1 data/dev_flightid.nl\")\n",
    "shell(\"head -1 data/dev_flightid.sql\")"
   ]
  },
  {
   "cell_type": "markdown",
   "id": "2ec9ba80",
   "metadata": {
    "id": "32tFSXqiLq2h"
   },
   "source": [
    "## Corpus preprocessing"
   ]
  },
  {
   "cell_type": "markdown",
   "id": "8489fbcf",
   "metadata": {
    "id": "GxjjnghgCJ_b"
   },
   "source": [
    "We'll use `torchtext` to process the data. We use two `Field`s: `SRC` for the questions, and `TGT` for the SQL queries. We'll use the tokenizer from project segment 3."
   ]
  },
  {
   "cell_type": "code",
   "execution_count": 106,
   "id": "f9ad968f",
   "metadata": {
    "colab": {
     "base_uri": "https://localhost:8080/"
    },
    "outputId": "a35cf40a-c063-4a04-e954-fb5c3cbb7c42"
   },
   "outputs": [
    {
     "name": "stdout",
     "output_type": "stream",
     "text": [
      "['are', 'there', 'any', 'first-class', 'flights', 'from', 'st.', 'louis', 'at', '11', 'pm', 'for', 'less', 'than', '$3.50', '?']\n"
     ]
    }
   ],
   "source": [
    "## Tokenizer\n",
    "tokenizer = nltk.tokenize.RegexpTokenizer('\\d+|st\\.|[\\w-]+|\\$[\\d\\.]+|\\S+')\n",
    "def tokenize(string):\n",
    "  return tokenizer.tokenize(string.lower())\n",
    "\n",
    "## Demonstrating the tokenizer\n",
    "## Note especially the handling of `\"11pm\"` and hyphenated words.\n",
    "print(tokenize(\"Are there any first-class flights from St. Louis at 11pm for less than $3.50?\"))"
   ]
  },
  {
   "cell_type": "code",
   "execution_count": 107,
   "id": "22431b3b",
   "metadata": {
    "id": "ODU_4JYO8d9q"
   },
   "outputs": [],
   "source": [
    "SRC = tt.data.Field(include_lengths=True,         # include lengths\n",
    "                    batch_first=False,            # batches will be max_len x batch_size\n",
    "                    tokenize=tokenize,            # use our tokenizer\n",
    "                   ) \n",
    "TGT = tt.data.Field(include_lengths=False,\n",
    "                    batch_first=False,            # batches will be max_len x batch_size\n",
    "                    tokenize=lambda x: x.split(), # use split to tokenize\n",
    "                    init_token=\"<bos>\",           # prepend <bos>\n",
    "                    eos_token=\"<eos>\")            # append <eos>\n",
    "fields = [('src', SRC), ('tgt', TGT)]"
   ]
  },
  {
   "cell_type": "markdown",
   "id": "f9053b3a",
   "metadata": {
    "id": "PRXJ17mU99V0"
   },
   "source": [
    "> Note that we specified `batch_first=False` (as in lab 4-4), so that the returned batched tensors would be of size `max_length x batch_size`, which facilitates seq2seq implementation.\n",
    "\n",
    "Now, we load the data using `torchtext`. We use the `TranslationDataset` class here because our task is essentially a translation task: \"translating\" questions into the corresponding SQL queries. Therefore, we also refer to the questions as the _source_ side (`SRC`) and the SQL queries as the _target_ side (`TGT`)."
   ]
  },
  {
   "cell_type": "code",
   "execution_count": 108,
   "id": "596106b2",
   "metadata": {
    "colab": {
     "base_uri": "https://localhost:8080/"
    },
    "outputId": "9fe41ecf-fe7f-4011-d282-b9d0784b9cd0"
   },
   "outputs": [
    {
     "name": "stdout",
     "output_type": "stream",
     "text": [
      "Size of English vocab: 421\n",
      "Most common English words: [('to', 3478), ('from', 3019), ('flights', 2094), ('the', 1550), ('on', 1230), ('me', 973), ('flight', 972), ('show', 845), ('what', 833), ('boston', 813)]\n",
      "\n",
      "Size of SQL vocab: 392\n",
      "Most common SQL words: [('=', 38876), ('AND', 36564), (',', 22772), ('airport_service', 8314), ('city', 8313), ('(', 6432), (')', 6432), ('flight_1.flight_id', 4536), ('flight', 4221), ('SELECT', 4178)]\n",
      "\n",
      "Index for start of sequence token: 2\n",
      "Index for end of sequence token: 3\n"
     ]
    }
   ],
   "source": [
    "# Make splits for data\n",
    "train_data, val_data, test_data = tt.datasets.TranslationDataset.splits(\n",
    "    ('_flightid.nl', '_flightid.sql'), fields, path='./data/',\n",
    "    train='train', validation='dev', test='test')\n",
    "\n",
    "MIN_FREQ = 3\n",
    "SRC.build_vocab(train_data.src, min_freq=MIN_FREQ)\n",
    "TGT.build_vocab(train_data.tgt, min_freq=MIN_FREQ)\n",
    "\n",
    "print (f\"Size of English vocab: {len(SRC.vocab)}\")\n",
    "print (f\"Most common English words: {SRC.vocab.freqs.most_common(10)}\\n\")\n",
    "\n",
    "print (f\"Size of SQL vocab: {len(TGT.vocab)}\")\n",
    "print (f\"Most common SQL words: {TGT.vocab.freqs.most_common(10)}\\n\")\n",
    "\n",
    "print (f\"Index for start of sequence token: {TGT.vocab.stoi[TGT.init_token]}\")\n",
    "print (f\"Index for end of sequence token: {TGT.vocab.stoi[TGT.eos_token]}\")"
   ]
  },
  {
   "cell_type": "markdown",
   "id": "ae99d64d",
   "metadata": {
    "id": "y89Bvq7WJbc8"
   },
   "source": [
    "Next, we batch our data to facilitate processing on a GPU. Batching is a bit tricky because the source and target will typically be of different lengths. Fortunately, `torchtext` allows us to pass in a `sort_key` function. By sorting on length, we can minimize the amount of padding on the source side, but since there is still some padding, we need to handle them with [`pack`](https://pytorch.org/docs/stable/generated/torch.nn.utils.rnn.pack_padded_sequence.html#torch.nn.utils.rnn.pack_padded_sequence) and [`unpack`](https://pytorch.org/docs/stable/generated/torch.nn.utils.rnn.pad_packed_sequence.html) later on in the seq2seq part (as in lab 4-5). "
   ]
  },
  {
   "cell_type": "code",
   "execution_count": 109,
   "id": "b67bbe04",
   "metadata": {
    "id": "lnoY1oIj37bC"
   },
   "outputs": [],
   "source": [
    "BATCH_SIZE = 16 # batch size for training/validation\n",
    "TEST_BATCH_SIZE = 1 # batch size for test, we use 1 to make beam search implementation easier\n",
    "\n",
    "train_iter, val_iter = tt.data.BucketIterator.splits((train_data, val_data),\n",
    "                                                     batch_size=BATCH_SIZE, \n",
    "                                                     device=device,\n",
    "                                                     repeat=False, \n",
    "                                                     sort_key=lambda x: len(x.src), \n",
    "                                                     sort_within_batch=True)\n",
    "test_iter = tt.data.BucketIterator(test_data, \n",
    "                                   batch_size=TEST_BATCH_SIZE, \n",
    "                                   device=device,\n",
    "                                   repeat=False, \n",
    "                                   sort=False, \n",
    "                                   train=False)"
   ]
  },
  {
   "cell_type": "markdown",
   "id": "9f4b3ac6",
   "metadata": {
    "id": "kVzpFHVRKM1k"
   },
   "source": [
    "Let's look at a single batch from one of these iterators."
   ]
  },
  {
   "cell_type": "code",
   "execution_count": 110,
   "id": "b54608c0",
   "metadata": {
    "colab": {
     "base_uri": "https://localhost:8080/"
    },
    "outputId": "f5bdc461-ca25-4084-91a4-df3071a4ab65"
   },
   "outputs": [
    {
     "name": "stdout",
     "output_type": "stream",
     "text": [
      "Size of text batch: torch.Size([13, 16])\n",
      "Third sentence in batch: tensor([ 10,   4,   3,  17,   2,  80, 164,   6,  78,  54, 134, 387,  34])\n",
      "Length of the third sentence in batch: 13\n",
      "Converted back to string: what flights from atlanta to st. louis on tuesday arriving around 230 pm\n",
      "Size of sql batch: torch.Size([151, 16])\n",
      "Third SQL in batch: tensor([  2,  14,  31,  11,  13,  12,  16,   6,   7,  22,   6,   8,  23,   6,\n",
      "          7,  29,   6,   8,  30,   6,  33,  40,   6,  38,  46,  15,  21,   4,\n",
      "         18,   5,  19,   4,  17,   5,  20,   4,  57,   5,   9,  24,   4,  25,\n",
      "          5,  26,   4,  27,   5,  28,   4, 129, 214,   5,   9,  34,   4,  36,\n",
      "          5,  37,   4,  41,   5,  44,   4,  35,   5,  43,   4, 111,   5,  42,\n",
      "          4, 119,   5,   9,  60,  85, 242,   5,  60,  95, 272,  10,  10,  10,\n",
      "          3,   1,   1,   1,   1,   1,   1,   1,   1,   1,   1,   1,   1,   1,\n",
      "          1,   1,   1,   1,   1,   1,   1,   1,   1,   1,   1,   1,   1,   1,\n",
      "          1,   1,   1,   1,   1,   1,   1,   1,   1,   1,   1,   1,   1,   1,\n",
      "          1,   1,   1,   1,   1,   1,   1,   1,   1,   1,   1,   1,   1,   1,\n",
      "          1,   1,   1,   1,   1,   1,   1,   1,   1,   1,   1])\n",
      "Converted back to string: <bos> SELECT DISTINCT flight_1.flight_id FROM flight flight_1 , airport_service airport_service_1 , city city_1 , airport_service airport_service_2 , city city_2 , days days_1 , date_day date_day_1 WHERE flight_1.from_airport = airport_service_1.airport_code AND airport_service_1.city_code = city_1.city_code AND city_1.city_name = 'ATLANTA' AND ( flight_1.to_airport = airport_service_2.airport_code AND airport_service_2.city_code = city_2.city_code AND city_2.city_name = 'ST. LOUIS' AND ( flight_1.flight_days = days_1.days_code AND days_1.day_name = date_day_1.day_name AND date_day_1.year = 1991 AND date_day_1.month_number = 3 AND date_day_1.day_number = 22 AND ( flight_1.arrival_time >= 1400 AND flight_1.arrival_time <= 1500 ) ) ) <eos> <pad> <pad> <pad> <pad> <pad> <pad> <pad> <pad> <pad> <pad> <pad> <pad> <pad> <pad> <pad> <pad> <pad> <pad> <pad> <pad> <pad> <pad> <pad> <pad> <pad> <pad> <pad> <pad> <pad> <pad> <pad> <pad> <pad> <pad> <pad> <pad> <pad> <pad> <pad> <pad> <pad> <pad> <pad> <pad> <pad> <pad> <pad> <pad> <pad> <pad> <pad> <pad> <pad> <pad> <pad> <pad> <pad> <pad> <pad> <pad> <pad> <pad> <pad> <pad> <pad> <pad>\n"
     ]
    }
   ],
   "source": [
    "batch = next(iter(train_iter))\n",
    "train_batch_text, train_batch_text_lengths = batch.src\n",
    "print (f\"Size of text batch: {train_batch_text.shape}\")\n",
    "print (f\"Third sentence in batch: {train_batch_text[:, 2]}\")\n",
    "print (f\"Length of the third sentence in batch: {train_batch_text_lengths[2]}\")\n",
    "print (f\"Converted back to string: {' '.join([SRC.vocab.itos[i] for i in train_batch_text[:, 2]])}\")\n",
    "\n",
    "train_batch_sql = batch.tgt\n",
    "print (f\"Size of sql batch: {train_batch_sql.shape}\")\n",
    "print (f\"Third SQL in batch: {train_batch_sql[:, 2]}\")\n",
    "print (f\"Converted back to string: {' '.join([TGT.vocab.itos[i] for i in train_batch_sql[:, 2]])}\")"
   ]
  },
  {
   "cell_type": "markdown",
   "id": "87362e88",
   "metadata": {
    "id": "LZe96xm-tx2-"
   },
   "source": [
    "Alternatively, we can directly iterate over the raw examples:"
   ]
  },
  {
   "cell_type": "code",
   "execution_count": 111,
   "id": "51eec2bf",
   "metadata": {
    "colab": {
     "base_uri": "https://localhost:8080/"
    },
    "outputId": "72e8d078-902f-4c68-f7d9-e5272d09d0b6"
   },
   "outputs": [
    {
     "name": "stdout",
     "output_type": "stream",
     "text": [
      "Question: list all the flights that arrive at general mitchell international from various cities\n",
      "\n",
      "SQL: SELECT DISTINCT flight_1.flight_id FROM flight flight_1 , airport airport_1 , airport_service airport_service_1 , city city_1 WHERE flight_1.to_airport = airport_1.airport_code AND airport_1.airport_code = 'MKE' AND flight_1.from_airport = airport_service_1.airport_code AND airport_service_1.city_code = city_1.city_code AND 1 = 1\n"
     ]
    }
   ],
   "source": [
    "for example in train_iter.dataset[:1]:\n",
    "  train_text_1 = ' '.join(example.src) # detokenized question\n",
    "  train_sql_1 = ' '.join(example.tgt)  # detokenized sql\n",
    "  print (f\"Question: {train_text_1}\\n\")\n",
    "  print (f\"SQL: {train_sql_1}\")"
   ]
  },
  {
   "cell_type": "markdown",
   "id": "fd104480",
   "metadata": {
    "id": "Vp_CdmJC5ZY2"
   },
   "source": [
    "## Establishing a SQL database for evaluating ATIS queries\n",
    "\n",
    "The output of our systems will be SQL queries. How should we determine if the generated queries are correct? We can't merely compare against the gold SQL queries, since there are many ways to implement a SQL query that answers any given NL query.\n",
    "\n",
    "Instead, we will execute the queries – both the predicted SQL query and the gold SQL query – on an actual database, and verify that the returned responses are the same. For that purpose, we need a SQL database server to use. We'll set one up here, using the [Python `sqlite3` module](https://docs.python.org/3.8/library/sqlite3.html)."
   ]
  },
  {
   "cell_type": "code",
   "execution_count": 112,
   "id": "1de75894",
   "metadata": {
    "id": "yW2XrPpm2I7l"
   },
   "outputs": [],
   "source": [
    "@func_set_timeout(TIMEOUT)\n",
    "def execute_sql(sql):\n",
    "  conn = sqlite3.connect('data/atis_sqlite.db')  # establish the DB based on the downloaded data\n",
    "  c = conn.cursor()                              # build a \"cursor\"\n",
    "  c.execute(sql)\n",
    "  results = list(c.fetchall())\n",
    "  c.close()\n",
    "  conn.close()\n",
    "  return results"
   ]
  },
  {
   "cell_type": "markdown",
   "id": "b276ef58",
   "metadata": {
    "id": "qil-nmhc2I7l"
   },
   "source": [
    "To run a query, we use the cursor's `execute` function, and retrieve the results with `fetchall`. Let's get all the flights that arrive at General Mitchell International – the query `train_sql_1` above. There's a lot, so we'll just print out the first few."
   ]
  },
  {
   "cell_type": "code",
   "execution_count": 113,
   "id": "9c5786e3",
   "metadata": {
    "colab": {
     "base_uri": "https://localhost:8080/"
    },
    "outputId": "0632f299-9567-48c0-8aec-47a3f7b53f8d"
   },
   "outputs": [
    {
     "name": "stdout",
     "output_type": "stream",
     "text": [
      "\n",
      "Executing: SELECT DISTINCT flight_1.flight_id FROM flight flight_1 , airport airport_1 , airport_service airport_service_1 , city city_1 WHERE flight_1.to_airport = airport_1.airport_code AND airport_1.airport_code = 'MKE' AND flight_1.from_airport = airport_service_1.airport_code AND airport_service_1.city_code = city_1.city_code AND 1 = 1\n",
      "\n",
      "Result: 534 entries starting with\n",
      "\n",
      "[(107929,), (107930,), (107931,), (107932,), (107933,), (107934,), (107935,), (107936,), (107937,), (107938,)]\n",
      "\n"
     ]
    }
   ],
   "source": [
    "predicted_ret = execute_sql(train_sql_1)\n",
    "\n",
    "print(f\"\"\"\n",
    "Executing: {train_sql_1}\n",
    "\n",
    "Result: {len(predicted_ret)} entries starting with\n",
    "\n",
    "{predicted_ret[:10]}\n",
    "\"\"\")"
   ]
  },
  {
   "cell_type": "markdown",
   "id": "5033bff7",
   "metadata": {
    "id": "7T8eGnD42I7m"
   },
   "source": [
    "For your reference, the SQL database we are using has a database schema described at https://github.com/jkkummerfeld/text2sql-data/blob/master/data/atis-schema.csv, and is consistent with the SQL queries provided in the various `.sql` files loaded above."
   ]
  },
  {
   "cell_type": "markdown",
   "id": "fd23f820",
   "metadata": {
    "deletable": false,
    "editable": false,
    "id": "0Mri4_xjCecY"
   },
   "source": [
    "# Rule-based parsing and interpretation of ATIS queries\n",
    "\n",
    "First, you will implement a rule-based semantic parser using a grammar like the one you completed in the third project segment. We've placed an initial grammar in the file `data/grammar`.\n",
    "In addition to the helper functions defined above (`constant`, `first`, etc.), it makes use of some other simple functions. We've included those below, but you can (and almost certainly should) augment this set with others that you define as you build out the full set of augmentations.\n",
    "\n",
    "<!--\n",
    "BEGIN QUESTION\n",
    "name: helper_functions\n",
    "-->"
   ]
  },
  {
   "cell_type": "code",
   "execution_count": 114,
   "id": "c3c8f0f5",
   "metadata": {
    "id": "_UwunFRs2I7o"
   },
   "outputs": [],
   "source": [
    "def upper(term):\n",
    "  return '\"' + term.upper() + '\"'\n",
    "\n",
    "def weekday(day):\n",
    "  return f\"flight.flight_days IN (SELECT days.days_code FROM days WHERE days.day_name = '{day.upper()}')\"\n",
    "\n",
    "def month_name(month):\n",
    "  return {'JANUARY' : 1,\n",
    "          'FEBRUARY' : 2,\n",
    "          'MARCH' : 3,\n",
    "          'APRIL' : 4,\n",
    "          'MAY' : 5,\n",
    "          'JUNE' : 6,\n",
    "          'JULY' : 7,\n",
    "          'AUGUST' : 8,\n",
    "          'SEPTEMBER' : 9,\n",
    "          'OCTOBER' : 10,\n",
    "          'NOVEMBER' : 11,\n",
    "          'DECEMBER' : 12}[month.upper()]\n",
    "\n",
    "def airports_from_airport_name(airport_name):\n",
    "  return f\"(SELECT airport.airport_code FROM airport WHERE airport.airport_name = {upper(airport_name)})\"\n",
    "\n",
    "def airports_from_city(city):\n",
    "  return f\"\"\"\n",
    "    (SELECT airport_service.airport_code FROM airport_service WHERE airport_service.city_code IN\n",
    "      (SELECT city.city_code FROM city WHERE city.city_name = {upper(city)}))\n",
    "  \"\"\"\n",
    "\n",
    "def null_condition(*args, **kwargs):\n",
    "  return 1\n",
    "\n",
    "def depart_around(time):\n",
    "  return f\"\"\"\n",
    "    flight.departure_time >= {add_delta(miltime(time), -15).strftime('%H%M')}\n",
    "    AND flight.departure_time <= {add_delta(miltime(time), 15).strftime('%H%M')}\n",
    "    \"\"\".strip()\n",
    "\n",
    "def add_delta(tme, delta):\n",
    "    # transform to a full datetime first\n",
    "    return (datetime.datetime.combine(datetime.date.today(), tme) + \n",
    "            datetime.timedelta(minutes=delta)).time()\n",
    "\n",
    "def miltime(minutes):\n",
    "  return datetime.time(hour=int(minutes/100), minute=(minutes % 100))\n"
   ]
  },
  {
   "cell_type": "code",
   "execution_count": 115,
   "id": "2a1f0e2f-71c9-4042-8eb4-4abecd4d2d5e",
   "metadata": {},
   "outputs": [],
   "source": [
    "def flights_to_city(city):\n",
    "    return f\"\"\"\n",
    "        flight.to_airport IN {city}\n",
    "    \"\"\"\n",
    "def flights_from_city(city):\n",
    "    return f\"\"\"\n",
    "        flight.from_airport IN {city}\n",
    "    \"\"\"\n",
    "def flights_stop_in_city(city):\n",
    "    return f\"\"\"\n",
    "        flight.stop_airport IN {city}\n",
    "    \"\"\"\n",
    "def between_and(*args):\n",
    "    return f\"\"\"({flights_to_city(args[1])}) AND ({flights_from_city(args[0])})\n",
    "    \"\"\"\n",
    "def init_flights():\n",
    "    return f\"\"\"\n",
    "        1\n",
    "    \"\"\"\n",
    "def conjoin(L, R):\n",
    "    return f\"({R}) AND ({L})\"\n",
    "\n",
    "def begin(x):\n",
    "    return f\"\"\"\n",
    "        SELECT DISTINCT flight.flight_id\n",
    "        FROM flight\n",
    "        WHERE {x}\n",
    "    \"\"\"\n",
    "def begin_ignore(*args):\n",
    "    return begin(args[1])\n",
    "\n",
    "def adj_airline(x):\n",
    "    return f\"\"\"\n",
    "        flight.airline_code = '{x}'\n",
    "    \"\"\"\n",
    "def arrive_before(time):\n",
    "    return f' flight.arrival_time < {time}'\n",
    "\n",
    "def depart_before(time):\n",
    "    return f' flight.departure_time < {time}'\n",
    "\n",
    "def arrive_on(time):\n",
    "    return f' flight.arrival_time = {time}'\n",
    "\n",
    "def depart_on(time):\n",
    "    return f' flight.departure_time = {time}'\n",
    "\n",
    "def arrive_after(time):\n",
    "    return f' flight.arrival_time > {time}'\n",
    "\n",
    "def depart_after(time):\n",
    "    return f' flight.departure_time > {time}'\n",
    "\n",
    "def np_weekday(day):\n",
    "    return f\"\"\"\n",
    "        SELECT days.days_code \n",
    "        FROM days \n",
    "        WHERE days.day_name = '{(day)}'\n",
    "    \"\"\"\n",
    "def on_day(x):\n",
    "    return f' flight.flight_days IN ({x})'\n",
    "\n",
    "def is_airline(*args):\n",
    "    return f\"flight.airline_code = '{args[1]}'\""
   ]
  },
  {
   "cell_type": "markdown",
   "id": "ef45571a",
   "metadata": {
    "id": "_cDMyygB2I7p"
   },
   "source": [
    "We can build a parser with the augmented grammar:"
   ]
  },
  {
   "cell_type": "code",
   "execution_count": 116,
   "id": "3ba42b3a",
   "metadata": {
    "id": "ffnITiTa2I7p"
   },
   "outputs": [],
   "source": [
    "atis_grammar, atis_augmentations = xform.read_augmented_grammar('data/grammar', globals=globals())\n",
    "atis_parser = nltk.parse.BottomUpChartParser(atis_grammar)"
   ]
  },
  {
   "cell_type": "markdown",
   "id": "f4645008",
   "metadata": {
    "id": "W5r324z-2I73"
   },
   "source": [
    "We'll define a function to return a parse tree for a string according to the ATIS grammar (if available)."
   ]
  },
  {
   "cell_type": "code",
   "execution_count": 117,
   "id": "4cc626cd",
   "metadata": {
    "id": "e_oEe9-K2I74"
   },
   "outputs": [],
   "source": [
    "def parse_tree(sentence):\n",
    "  \"\"\"Parse a sentence and return the parse tree, or None if failure.\"\"\"\n",
    "  try:\n",
    "    parses = list(atis_parser.parse(tokenize(sentence)))\n",
    "    if len(parses) == 0:\n",
    "      return None\n",
    "    else:\n",
    "      return parses[0]\n",
    "  except:\n",
    "    return None"
   ]
  },
  {
   "cell_type": "markdown",
   "id": "34c97e0e",
   "metadata": {
    "id": "dkR03Lhr2I75"
   },
   "source": [
    "We can check the overall coverage of this grammar on the training set by using the `parse_tree` function to determine if a parse is available. The grammar that we provide should get about a 44% coverage of the training set."
   ]
  },
  {
   "cell_type": "code",
   "execution_count": 118,
   "id": "184f8699",
   "metadata": {
    "colab": {
     "base_uri": "https://localhost:8080/"
    },
    "outputId": "da92e37b-59e8-43d3-c986-f796a2cae758"
   },
   "outputs": [
    {
     "name": "stderr",
     "output_type": "stream",
     "text": [
      "100%|██████████████████████████████████████████████████████████████████| 3651/3651 [00:12<00:00, 287.25it/s]"
     ]
    },
    {
     "name": "stdout",
     "output_type": "stream",
     "text": [
      "\n",
      "Parsed 1609 of 3651 (44.07%)\n"
     ]
    },
    {
     "name": "stderr",
     "output_type": "stream",
     "text": [
      "\n"
     ]
    }
   ],
   "source": [
    "# Check coverage on training set\n",
    "parsed = 0\n",
    "with open(\"data/train_flightid.nl\") as train:\n",
    "  examples = train.readlines()[:]\n",
    "for sentence in tqdm(examples):\n",
    "  if parse_tree(sentence):\n",
    "    parsed += 1\n",
    "  else:\n",
    "    next\n",
    "\n",
    "print(f\"\\nParsed {parsed} of {len(examples)} ({parsed*100/(len(examples)):.2f}%)\")"
   ]
  },
  {
   "cell_type": "markdown",
   "id": "67844ce9",
   "metadata": {
    "id": "qF12SmJbDsYb"
   },
   "source": [
    "## Goal 1: Construct SQL queries from a parse tree and evaluate the results"
   ]
  },
  {
   "cell_type": "markdown",
   "id": "ee888162",
   "metadata": {
    "id": "5iqruasFCaws"
   },
   "source": [
    "It's time to turn to the first major part of this project segment, implementing a rule-based semantic parsing system to answer flight-ID-type ATIS queries.\n",
    "\n",
    "Recall that in rule-based semantic parsing, each syntactic rule is associated with a semantic composition rule. The grammar we've provided has semantic augmentations for some of the low-level phrases – cities, airports, times, airlines – but not the higher level syntactic types. You'll be adding those. \n",
    "\n",
    "In the ATIS grammar that we provide, as with the earlier toy grammars, the augmentation for a rule with $n$ nonterminals and $m$ terminals on the right-hand side is assumed to be called with $n$ positional arguments (the values for the corresponding children). The `interpret` function you've already defined should therefore work well with this grammar.\n",
    "\n",
    "Let's run through one way that a semantic derivation might proceed, for the sample query \"flights to boston\":"
   ]
  },
  {
   "cell_type": "code",
   "execution_count": 39,
   "id": "a684dccb",
   "metadata": {
    "colab": {
     "base_uri": "https://localhost:8080/"
    },
    "outputId": "9c1732d9-6625-4ffb-bcd1-9aa8e2b80da6"
   },
   "outputs": [
    {
     "name": "stdout",
     "output_type": "stream",
     "text": [
      "['flights', 'to', 'boston']\n",
      "                S                         \n",
      "                |                          \n",
      "            NP_FLIGHT                     \n",
      "                |                          \n",
      "            NOM_FLIGHT                    \n",
      "                |                          \n",
      "             N_FLIGHT                     \n",
      "      __________|_________                 \n",
      "     |                    PP              \n",
      "     |                    |                \n",
      "     |                 PP_PLACE           \n",
      "     |           _________|_________       \n",
      "  N_FLIGHT      |                N_PLACE  \n",
      "     |          |                   |      \n",
      "TERM_FLIGHT  P_PLACE            TERM_PLACE\n",
      "     |          |                   |      \n",
      "  flights       to                boston  \n",
      "\n"
     ]
    }
   ],
   "source": [
    "sample_query = \"flights to boston\"\n",
    "print(tokenize(sample_query))\n",
    "sample_tree = parse_tree(sample_query)\n",
    "sample_tree.pretty_print()"
   ]
  },
  {
   "cell_type": "markdown",
   "id": "1a0d63a4",
   "metadata": {
    "id": "XUtOag-e2I78"
   },
   "source": [
    "Given a sentence, we first construct its parse tree using the syntactic rules, then compose the corresponding semantic rules bottom-up, until eventually we arrive at the root node with a finished SQL statement. For this query, we will go through what the possible meaning representations for the subconstituents of \"flights to boston\" might be. But this is just one way of doing things; other ways are possible, and you should feel free to experiment.\n",
    "\n",
    "Working from bottom up:\n",
    "\n",
    "1. The `TERM_PLACE` phrase \"boston\" uses the composition function template `constant(airports_from_city(' '.join(_RHS)))`, which will be instantiated as `constant(airports_from_city(' '.join(['boston'])))` (recall that `_RHS` is replaced by the right-hand side of the rule). The meaning of `TERM_PLACE` will be the SQL snippet\n",
    "```\n",
    "SELECT airport_service.airport_code \n",
    "FROM airport_service \n",
    "WHERE airport_service.city_code IN\n",
    "    (SELECT city.city_code \n",
    "     FROM city \n",
    "     WHERE city.city_name = \"BOSTON\")\n",
    "```\n",
    "(This query generates a list of all of the airports in Boston.)\n",
    "\n",
    "2. The `N_PLACE` phrase \"boston\" can have the same meaning as the `TERM_PLACE`.\n",
    "\n",
    "3. The `P_PLACE` phrase \"to\" might be associated with a function that maps a SQL query for a list of airports to a SQL condition that holds of flights that go to one of those airports, i.e., `flight.to_airport IN (...)`.\n",
    "\n",
    "4. The `PP_PLACE` phrase \"to boston\" might apply the `P_PLACE` meaning to the `TERM_PLACE` meaning, thus generating a SQL condition that holds of flights that go to one of the Boston airports:\n",
    "```\n",
    "flight.to_airport IN\n",
    "    (SELECT airport_service.airport_code \n",
    "     FROM airport_service \n",
    "     WHERE airport_service.city_code IN\n",
    "         (SELECT city.city_code \n",
    "          FROM city \n",
    "          WHERE city.city_name = \"BOSTON\"))\n",
    "```\n",
    "\n",
    "5. The `PP` phrase \"to Boston\" can again get its meaning from the `PP_PLACE`.\n",
    "\n",
    "6. The `TERM_FLIGHT` phrase \"flights\" might also return a condition on flights, this time the \"null condition\", represented by the SQL truth value `1`. Ditto for the `N_FLIGHT` phrase \"flights\".\n",
    "\n",
    "7. The `N_FLIGHT` phrase \"flights to boston\" can conjoin the two conditions, yielding the SQL condition\n",
    "```\n",
    "flight.to_airport IN\n",
    "    (SELECT airport_service.airport_code \n",
    "     FROM airport_service \n",
    "     WHERE airport_service.city_code IN\n",
    "         (SELECT city.city_code \n",
    "          FROM city \n",
    "          WHERE city.city_name = \"BOSTON\"))\n",
    "AND 1\n",
    "```\n",
    "which can be inherited by the `NOM_FLIGHT` and `NP_FLIGHT` phrases.\n",
    "\n",
    "8. The `S` phrase \"flights to boston\" can use the condition provided by the `NP_FLIGHT` phrase to select all flights satisfying the condition with a SQL query like\n",
    "```\n",
    "SELECT DISTINCT flight.flight_id\n",
    "FROM flight\n",
    "WHERE flight.to_airport IN\n",
    "        (SELECT airport_service.airport_code \n",
    "         FROM airport_service \n",
    "         WHERE airport_service.city_code IN\n",
    "             (SELECT city.city_code \n",
    "              FROM city \n",
    "              WHERE city.city_name = \"BOSTON\"))\n",
    "      AND 1\n",
    "```\n",
    "\n",
    "This SQL query is then taken to be a representation of the meaning for the NL query \"flights to boston\", and can be executed against the ATIS database to retrieve the requested flights."
   ]
  },
  {
   "cell_type": "markdown",
   "id": "0b44a5b8",
   "metadata": {
    "id": "MlLiq50V2I78"
   },
   "source": [
    "Now, it's your turn to add augmentations to `data/grammar` to make this example work. The augmentations that we have provided for the grammar make use of a set of auxiliary functions that we defined above. You should feel free to add your own auxiliary functions that you make use of in the grammar."
   ]
  },
  {
   "cell_type": "code",
   "execution_count": 40,
   "id": "4dee1c62",
   "metadata": {
    "id": "3T3b43eHBTtq"
   },
   "outputs": [
    {
     "name": "stdout",
     "output_type": "stream",
     "text": [
      "Predicted SQL:\n",
      "\n",
      " \n",
      "        SELECT DISTINCT flight.flight_id\n",
      "        FROM flight\n",
      "        WHERE (\n",
      "        flight.to_airport IN \n",
      "    (SELECT airport_service.airport_code FROM airport_service WHERE airport_service.city_code IN\n",
      "      (SELECT city.city_code FROM city WHERE city.city_name = \"BOSTON\"))\n",
      "  \n",
      "    ) AND (\n",
      "        1\n",
      "    )\n",
      "     \n",
      "\n"
     ]
    }
   ],
   "source": [
    "#TODO: add augmentations to `data/grammar` to make this example work\n",
    "atis_grammar, atis_augmentations = xform.read_augmented_grammar('data/grammar', globals=globals())\n",
    "atis_parser = nltk.parse.BottomUpChartParser(atis_grammar)\n",
    "predicted_sql = interpret(sample_tree, atis_augmentations)\n",
    "print(\"Predicted SQL:\\n\\n\", predicted_sql, \"\\n\")"
   ]
  },
  {
   "cell_type": "markdown",
   "id": "51d5a690",
   "metadata": {
    "id": "3T3b43eHBTts"
   },
   "source": [
    "#### Verification on some examples\n",
    "\n",
    "With a rule-based semantic parsing system, we can generate SQL queries given questions, and then execute those queries on a SQL database to answer the given questions. To evaluate the performance of the system, we compare the returned results against the results of executing the ground truth queries.\n",
    "\n",
    "We provide a function `verify` to compare the results from our generated SQL to the ground truth SQL. It should be useful for testing individual queries."
   ]
  },
  {
   "cell_type": "code",
   "execution_count": 119,
   "id": "497bc442",
   "metadata": {
    "id": "zMGUCce9BXEd"
   },
   "outputs": [],
   "source": [
    "def verify(predicted_sql, gold_sql, silent=True):\n",
    "  \"\"\"\n",
    "  Compare the correctness of the generated SQL by executing on the \n",
    "  ATIS database and comparing the returned results.\n",
    "  Arguments:\n",
    "      predicted_sql: the predicted SQL query\n",
    "      gold_sql: the reference SQL query to compare against\n",
    "      silent: print outputs or not\n",
    "  Returns: True if the returned results are the same, otherwise False\n",
    "  \"\"\"\n",
    "  # Execute predicted SQL\n",
    "  try:\n",
    "    predicted_result = execute_sql(predicted_sql)\n",
    "  except BaseException as e:\n",
    "    if not silent:\n",
    "      print(f\"predicted sql exec failed: {e}\")\n",
    "    return False\n",
    "  if not silent:\n",
    "    print(\"Predicted DB result:\\n\\n\", predicted_result[:10], \"\\n\")\n",
    "\n",
    "  # Execute gold SQL\n",
    "  try:\n",
    "    gold_result = execute_sql(gold_sql)\n",
    "  except BaseException as e:\n",
    "    if not silent:\n",
    "      print(f\"gold sql exec failed: {e}\")\n",
    "    return False\n",
    "  if not silent:\n",
    "    print(\"Gold DB result:\\n\\n\", gold_result[:10], \"\\n\")\n",
    "  \n",
    "  # Verify correctness\n",
    "  if gold_result == predicted_result:\n",
    "    return True"
   ]
  },
  {
   "cell_type": "markdown",
   "id": "caf469c0",
   "metadata": {
    "id": "zoConst9BQSg"
   },
   "source": [
    "Let's try this methodology on a simple example: \"flights from phoenix to milwaukee\". we provide it along with the gold SQL query."
   ]
  },
  {
   "cell_type": "code",
   "execution_count": 120,
   "id": "57db3e51",
   "metadata": {
    "id": "JZNW0pWxBiyj"
   },
   "outputs": [],
   "source": [
    "def rule_based_trial(sentence, gold_sql):\n",
    "  print(\"Sentence: \", sentence, \"\\n\")\n",
    "  tree = parse_tree(sentence)\n",
    "  print(\"Parse:\\n\\n\")\n",
    "  tree.pretty_print()\n",
    "\n",
    "  predicted_sql = interpret(tree, atis_augmentations)\n",
    "  print(\"Predicted SQL:\\n\\n\", predicted_sql, \"\\n\")\n",
    "\n",
    "  if verify(predicted_sql, gold_sql, silent=False):\n",
    "    print ('Correct!')\n",
    "  else:\n",
    "    print ('Incorrect!')"
   ]
  },
  {
   "cell_type": "code",
   "execution_count": 121,
   "id": "e274f3e3",
   "metadata": {
    "id": "rkk6_Zkv2I8_"
   },
   "outputs": [],
   "source": [
    "# Run this cell to reload augmentations after you make changes to `data/grammar`\n",
    "atis_grammar, atis_augmentations = xform.read_augmented_grammar('data/grammar', globals=globals())\n",
    "atis_parser = nltk.parse.BottomUpChartParser(atis_grammar)"
   ]
  },
  {
   "cell_type": "code",
   "execution_count": 122,
   "id": "0f9d2e96",
   "metadata": {
    "colab": {
     "base_uri": "https://localhost:8080/"
    },
    "outputId": "866a2814-dfb9-4f8f-9b66-ced4689566c2"
   },
   "outputs": [
    {
     "name": "stdout",
     "output_type": "stream",
     "text": [
      "Sentence:  flights from phoenix to milwaukee \n",
      "\n",
      "Parse:\n",
      "\n",
      "\n",
      "                                  S                                 \n",
      "                                  |                                  \n",
      "                              NP_FLIGHT                             \n",
      "                                  |                                  \n",
      "                              NOM_FLIGHT                            \n",
      "                                  |                                  \n",
      "                               N_FLIGHT                             \n",
      "                __________________|_________________                 \n",
      "            N_FLIGHT                                |               \n",
      "      _________|________                            |                \n",
      "     |                  PP                          PP              \n",
      "     |                  |                           |                \n",
      "     |               PP_PLACE                    PP_PLACE           \n",
      "     |          ________|_________           _______|_________       \n",
      "  N_FLIGHT     |               N_PLACE      |              N_PLACE  \n",
      "     |         |                  |         |                 |      \n",
      "TERM_FLIGHT P_PLACE           TERM_PLACE P_PLACE          TERM_PLACE\n",
      "     |         |                  |         |                 |      \n",
      "  flights     from             phoenix      to            milwaukee \n",
      "\n",
      "Predicted SQL:\n",
      "\n",
      " \n",
      "        SELECT DISTINCT flight.flight_id\n",
      "        FROM flight\n",
      "        WHERE (\n",
      "        flight.to_airport IN \n",
      "    (SELECT airport_service.airport_code FROM airport_service WHERE airport_service.city_code IN\n",
      "      (SELECT city.city_code FROM city WHERE city.city_name = \"MILWAUKEE\"))\n",
      "  \n",
      "    ) AND ((\n",
      "        flight.from_airport IN \n",
      "    (SELECT airport_service.airport_code FROM airport_service WHERE airport_service.city_code IN\n",
      "      (SELECT city.city_code FROM city WHERE city.city_name = \"PHOENIX\"))\n",
      "  \n",
      "    ) AND (\n",
      "        1\n",
      "    ))\n",
      "     \n",
      "\n",
      "Predicted DB result:\n",
      "\n",
      " [(108086,), (108087,), (301763,), (301764,), (301765,), (301766,), (302323,), (304881,), (310619,), (310620,)] \n",
      "\n",
      "Gold DB result:\n",
      "\n",
      " [(108086,), (108087,), (301763,), (301764,), (301765,), (301766,), (302323,), (304881,), (310619,), (310620,)] \n",
      "\n",
      "Correct!\n"
     ]
    }
   ],
   "source": [
    "#TODO: add augmentations to `data/grammar` to make this example work\n",
    "# Example 1\n",
    "example_1 = 'flights from phoenix to milwaukee'\n",
    "gold_sql_1 = \"\"\"\n",
    "  SELECT DISTINCT flight_1.flight_id \n",
    "  FROM flight flight_1 , \n",
    "       airport_service airport_service_1 , \n",
    "       city city_1 , \n",
    "       airport_service airport_service_2 , \n",
    "       city city_2 \n",
    "  WHERE flight_1.from_airport = airport_service_1.airport_code \n",
    "        AND airport_service_1.city_code = city_1.city_code \n",
    "        AND city_1.city_name = 'PHOENIX' \n",
    "        AND flight_1.to_airport = airport_service_2.airport_code \n",
    "        AND airport_service_2.city_code = city_2.city_code \n",
    "        AND city_2.city_name = 'MILWAUKEE'\n",
    "  \"\"\"\n",
    "\n",
    "rule_based_trial(example_1, gold_sql_1)"
   ]
  },
  {
   "cell_type": "markdown",
   "id": "f9e90898",
   "metadata": {
    "id": "IPR4zSqzM58Z"
   },
   "source": [
    "To make development faster, we recommend starting with a few examples before running the full evaluation script. We've taken some examples from the ATIS dataset including the gold SQL queries that they provided. Of course, yours (and those of the project segment solution set) may differ."
   ]
  },
  {
   "cell_type": "code",
   "execution_count": 123,
   "id": "2af3beb4",
   "metadata": {
    "colab": {
     "base_uri": "https://localhost:8080/"
    },
    "outputId": "e338b817-a5e3-4e62-be8d-0728277b72dc"
   },
   "outputs": [
    {
     "name": "stdout",
     "output_type": "stream",
     "text": [
      "Sentence:  i would like a united flight \n",
      "\n",
      "Parse:\n",
      "\n",
      "\n",
      "                                                 S                                                                      \n",
      "                                     ____________|____________________________________________________                   \n",
      "                                    |                                                             NP_FLIGHT             \n",
      "                                    |                                                                 |                  \n",
      "                                PREIGNORE                                                         NOM_FLIGHT            \n",
      "        ____________________________|____________                                          ___________|___________       \n",
      "       |                                     PREIGNORE                                   ADJ                      |     \n",
      "       |                _________________________|____________                            |                       |      \n",
      "       |               |                                  PREIGNORE                  ADJ_AIRLINE              NOM_FLIGHT\n",
      "       |               |                          ____________|____________               |                       |      \n",
      "       |               |                         |                     PREIGNORE     TERM_AIRLINE              N_FLIGHT \n",
      "       |               |                         |                         |              |                       |      \n",
      "PREIGNORESYMBOL PREIGNORESYMBOL           PREIGNORESYMBOL           PREIGNORESYMBOL TERM_AIRBRAND            TERM_FLIGHT\n",
      "       |               |                         |                         |              |                       |      \n",
      "       i             would                      like                       a            united                  flight  \n",
      "\n",
      "Predicted SQL:\n",
      "\n",
      " \n",
      "        SELECT DISTINCT flight.flight_id\n",
      "        FROM flight\n",
      "        WHERE (\n",
      "        1\n",
      "    ) AND (\n",
      "        flight.airline_code = 'UA'\n",
      "    )\n",
      "     \n",
      "\n",
      "Predicted DB result:\n",
      "\n",
      " [(100094,), (100099,), (100145,), (100158,), (100164,), (100167,), (100169,), (100203,), (100204,), (100296,)] \n",
      "\n",
      "Gold DB result:\n",
      "\n",
      " [(100094,), (100099,), (100145,), (100158,), (100164,), (100167,), (100169,), (100203,), (100204,), (100296,)] \n",
      "\n",
      "Correct!\n"
     ]
    }
   ],
   "source": [
    "#TODO: add augmentations to `data/grammar` to make this example work\n",
    "# Example 2\n",
    "example_2 = 'i would like a united flight'\n",
    "gold_sql_2 = \"\"\"\n",
    "  SELECT DISTINCT flight_1.flight_id\n",
    "  FROM flight flight_1 \n",
    "  WHERE flight_1.airline_code = 'UA'\n",
    "  \"\"\"\n",
    "\n",
    "rule_based_trial(example_2, gold_sql_2)"
   ]
  },
  {
   "cell_type": "code",
   "execution_count": 124,
   "id": "03c0406b",
   "metadata": {
    "colab": {
     "base_uri": "https://localhost:8080/"
    },
    "outputId": "9e2bf9f8-1839-4381-ddf9-5e6635eb0a05"
   },
   "outputs": [
    {
     "name": "stdout",
     "output_type": "stream",
     "text": [
      "Sentence:  i would like a flight between boston and dallas \n",
      "\n",
      "Parse:\n",
      "\n",
      "\n",
      "                                                                                         S                                               \n",
      "                                     ____________________________________________________|__________                                      \n",
      "                                    |                                                           NP_FLIGHT                                \n",
      "                                    |                                                               |                                     \n",
      "                                    |                                                           NOM_FLIGHT                               \n",
      "                                    |                                                               |                                     \n",
      "                                PREIGNORE                                                        N_FLIGHT                                \n",
      "        ____________________________|____________                                         __________|_________                            \n",
      "       |                                     PREIGNORE                                   |                    PP                         \n",
      "       |                _________________________|____________                           |                    |                           \n",
      "       |               |                                  PREIGNORE                      |                 PP_PLACE                      \n",
      "       |               |                          ____________|____________              |           _________|____________________       \n",
      "       |               |                         |                     PREIGNORE      N_FLIGHT      |         |      N_PLACE    N_PLACE  \n",
      "       |               |                         |                         |             |          |         |         |          |      \n",
      "PREIGNORESYMBOL PREIGNORESYMBOL           PREIGNORESYMBOL           PREIGNORESYMBOL TERM_FLIGHT     |         |     TERM_PLACE TERM_PLACE\n",
      "       |               |                         |                         |             |          |         |         |          |      \n",
      "       i             would                      like                       a           flight    between     and      boston     dallas  \n",
      "\n",
      "Predicted SQL:\n",
      "\n",
      " \n",
      "        SELECT DISTINCT flight.flight_id\n",
      "        FROM flight\n",
      "        WHERE ((\n",
      "        flight.to_airport IN \n",
      "    (SELECT airport_service.airport_code FROM airport_service WHERE airport_service.city_code IN\n",
      "      (SELECT city.city_code FROM city WHERE city.city_name = \"DALLAS\"))\n",
      "  \n",
      "    ) AND (\n",
      "        flight.from_airport IN \n",
      "    (SELECT airport_service.airport_code FROM airport_service WHERE airport_service.city_code IN\n",
      "      (SELECT city.city_code FROM city WHERE city.city_name = \"BOSTON\"))\n",
      "  \n",
      "    )\n",
      "    ) AND (\n",
      "        1\n",
      "    )\n",
      "     \n",
      "\n",
      "Predicted DB result:\n",
      "\n",
      " [(103171,), (103172,), (103173,), (103174,), (103175,), (103176,), (103177,), (103178,), (103179,), (103180,)] \n",
      "\n",
      "Gold DB result:\n",
      "\n",
      " [(103171,), (103172,), (103173,), (103174,), (103175,), (103176,), (103177,), (103178,), (103179,), (103180,)] \n",
      "\n",
      "Correct!\n"
     ]
    }
   ],
   "source": [
    "#TODO: add augmentations to `data/grammar` to make this example work\n",
    "# Example 3\n",
    "example_3 = 'i would like a flight between boston and dallas'\n",
    "gold_sql_3 = \"\"\"\n",
    "  SELECT DISTINCT flight_1.flight_id \n",
    "  FROM flight flight_1 , \n",
    "       airport_service airport_service_1 , \n",
    "       city city_1 , \n",
    "       airport_service airport_service_2 , \n",
    "       city city_2 \n",
    "  WHERE flight_1.from_airport = airport_service_1.airport_code \n",
    "        AND airport_service_1.city_code = city_1.city_code \n",
    "        AND city_1.city_name = 'BOSTON' \n",
    "        AND flight_1.to_airport = airport_service_2.airport_code \n",
    "        AND airport_service_2.city_code = city_2.city_code \n",
    "        AND city_2.city_name = 'DALLAS'\n",
    "  \"\"\"\n",
    "\n",
    "# Note that the parse tree might appear wrong: instead of\n",
    "# `PP_PLACE -> 'between' N_PLACE 'and' N_PLACE`, the tree appears to be\n",
    "# `PP_PLACE -> 'between' 'and' N_PLACE N_PLACE`. But it's only a visualization\n",
    "# error of tree.pretty_print() and you should assume that the production is\n",
    "# `PP_PLACE -> 'between' N_PLACE 'and' N_PLACE` (you can verify by printing out\n",
    "# all productions).\n",
    "rule_based_trial(example_3, gold_sql_3)"
   ]
  },
  {
   "cell_type": "code",
   "execution_count": 125,
   "id": "18f27e89",
   "metadata": {
    "colab": {
     "base_uri": "https://localhost:8080/"
    },
    "outputId": "adc42130-fa59-4f0b-99eb-e7373d69a651"
   },
   "outputs": [
    {
     "name": "stdout",
     "output_type": "stream",
     "text": [
      "Sentence:  show me the united flights from denver to baltimore \n",
      "\n",
      "Parse:\n",
      "\n",
      "\n",
      "                                                                             S                                                                \n",
      "                        _____________________________________________________|__________                                                       \n",
      "                       |                                                            NP_FLIGHT                                                 \n",
      "                       |                                                                |                                                      \n",
      "                       |                                                            NOM_FLIGHT                                                \n",
      "                       |                                         _______________________|___________________                                   \n",
      "                       |                                        |                                       NOM_FLIGHT                            \n",
      "                       |                                        |                                           |                                  \n",
      "                       |                                        |                                        N_FLIGHT                             \n",
      "                       |                                        |                        ___________________|_________________                 \n",
      "                       |                                        |                    N_FLIGHT                                 |               \n",
      "                       |                                        |             __________|_________                            |                \n",
      "                   PREIGNORE                                   ADJ           |                    PP                          PP              \n",
      "        _______________|____________                            |            |                    |                           |                \n",
      "       |                        PREIGNORE                  ADJ_AIRLINE       |                 PP_PLACE                    PP_PLACE           \n",
      "       |                ____________|____________               |            |           _________|_________           _______|_________       \n",
      "       |               |                     PREIGNORE     TERM_AIRLINE   N_FLIGHT      |                N_PLACE      |              N_PLACE  \n",
      "       |               |                         |              |            |          |                   |         |                 |      \n",
      "PREIGNORESYMBOL PREIGNORESYMBOL           PREIGNORESYMBOL TERM_AIRBRAND TERM_FLIGHT  P_PLACE            TERM_PLACE P_PLACE          TERM_PLACE\n",
      "       |               |                         |              |            |          |                   |         |                 |      \n",
      "      show             me                       the           united      flights      from               denver      to            baltimore \n",
      "\n",
      "Predicted SQL:\n",
      "\n",
      " \n",
      "        SELECT DISTINCT flight.flight_id\n",
      "        FROM flight\n",
      "        WHERE ((\n",
      "        flight.to_airport IN \n",
      "    (SELECT airport_service.airport_code FROM airport_service WHERE airport_service.city_code IN\n",
      "      (SELECT city.city_code FROM city WHERE city.city_name = \"BALTIMORE\"))\n",
      "  \n",
      "    ) AND ((\n",
      "        flight.from_airport IN \n",
      "    (SELECT airport_service.airport_code FROM airport_service WHERE airport_service.city_code IN\n",
      "      (SELECT city.city_code FROM city WHERE city.city_name = \"DENVER\"))\n",
      "  \n",
      "    ) AND (\n",
      "        1\n",
      "    ))) AND (\n",
      "        flight.airline_code = 'UA'\n",
      "    )\n",
      "     \n",
      "\n",
      "Predicted DB result:\n",
      "\n",
      " [(101231,), (101233,), (305983,)] \n",
      "\n",
      "Gold DB result:\n",
      "\n",
      " [(101231,), (101233,), (305983,)] \n",
      "\n",
      "Correct!\n"
     ]
    }
   ],
   "source": [
    "#TODO: add augmentations to `data/grammar` to make this example work\n",
    "# Example 4\n",
    "example_4 = 'show me the united flights from denver to baltimore'\n",
    "gold_sql_4 = \"\"\"\n",
    "  SELECT DISTINCT flight_1.flight_id \n",
    "  FROM flight flight_1 , \n",
    "       airport_service airport_service_1 , \n",
    "       city city_1 , \n",
    "       airport_service airport_service_2 , \n",
    "       city city_2 \n",
    "  WHERE flight_1.airline_code = 'UA' \n",
    "        AND ( flight_1.from_airport = airport_service_1.airport_code \n",
    "              AND airport_service_1.city_code = city_1.city_code \n",
    "              AND city_1.city_name = 'DENVER' \n",
    "              AND flight_1.to_airport = airport_service_2.airport_code \n",
    "              AND airport_service_2.city_code = city_2.city_code \n",
    "              AND city_2.city_name = 'BALTIMORE' )\n",
    "\n",
    "  \"\"\"\n",
    "\n",
    "rule_based_trial(example_4, gold_sql_4)"
   ]
  },
  {
   "cell_type": "code",
   "execution_count": 126,
   "id": "a4e06de0",
   "metadata": {
    "colab": {
     "base_uri": "https://localhost:8080/"
    },
    "outputId": "b88c917a-4ac2-4c10-bba6-da28e03b8fa4"
   },
   "outputs": [
    {
     "name": "stdout",
     "output_type": "stream",
     "text": [
      "Sentence:  show flights from cleveland to miami that arrive before 4pm \n",
      "\n",
      "Parse:\n",
      "\n",
      "\n",
      "                               S                                                                                                         \n",
      "        _______________________|______________________________________________                                                            \n",
      "       |                                                                  NP_FLIGHT                                                      \n",
      "       |                                                                      |                                                           \n",
      "       |                                                                  NOM_FLIGHT                                                     \n",
      "       |                                                                      |                                                           \n",
      "       |                                                                   N_FLIGHT                                                      \n",
      "       |                                           ___________________________|_____________________                                      \n",
      "       |                                       N_FLIGHT                                             |                                    \n",
      "       |                        __________________|_________________                                |                                     \n",
      "       |                    N_FLIGHT                                |                               PP                                   \n",
      "       |              _________|________                            |                               |                                     \n",
      "       |             |                  PP                          PP                           PP_TIME                                 \n",
      "       |             |                  |                           |                        _______|__________________                   \n",
      "       |             |               PP_PLACE                    PP_PLACE                   |                       NP_TIME              \n",
      "       |             |          ________|_________           _______|_________              |                          |                  \n",
      "   PREIGNORE      N_FLIGHT     |               N_PLACE      |              N_PLACE          |                      TERM_TIME             \n",
      "       |             |         |                  |         |                 |             |                 _________|__________        \n",
      "PREIGNORESYMBOL TERM_FLIGHT P_PLACE           TERM_PLACE P_PLACE          TERM_PLACE      P_TIME         TERM_TIME           TERM_TIMEMOD\n",
      "       |             |         |                  |         |                 |        _____|_______         |                    |       \n",
      "      show        flights     from            cleveland     to              miami    that arrive  before     4                    pm     \n",
      "\n",
      "Predicted SQL:\n",
      "\n",
      " \n",
      "        SELECT DISTINCT flight.flight_id\n",
      "        FROM flight\n",
      "        WHERE ( flight.arrival_time < 1600) AND ((\n",
      "        flight.to_airport IN \n",
      "    (SELECT airport_service.airport_code FROM airport_service WHERE airport_service.city_code IN\n",
      "      (SELECT city.city_code FROM city WHERE city.city_name = \"MIAMI\"))\n",
      "  \n",
      "    ) AND ((\n",
      "        flight.from_airport IN \n",
      "    (SELECT airport_service.airport_code FROM airport_service WHERE airport_service.city_code IN\n",
      "      (SELECT city.city_code FROM city WHERE city.city_name = \"CLEVELAND\"))\n",
      "  \n",
      "    ) AND (\n",
      "        1\n",
      "    )))\n",
      "     \n",
      "\n",
      "Predicted DB result:\n",
      "\n",
      " [(107698,), (301117,)] \n",
      "\n",
      "Gold DB result:\n",
      "\n",
      " [(107698,), (301117,)] \n",
      "\n",
      "Correct!\n"
     ]
    }
   ],
   "source": [
    "#TODO: add augmentations to `data/grammar` to make this example work\n",
    "# Example 5\n",
    "example_5 = 'show flights from cleveland to miami that arrive before 4pm'\n",
    "gold_sql_5 = \"\"\"\n",
    "  SELECT DISTINCT flight_1.flight_id \n",
    "  FROM flight flight_1 , \n",
    "       airport_service airport_service_1 , \n",
    "       city city_1 , \n",
    "       airport_service airport_service_2 , \n",
    "       city city_2 \n",
    "  WHERE flight_1.from_airport = airport_service_1.airport_code \n",
    "        AND airport_service_1.city_code = city_1.city_code \n",
    "        AND city_1.city_name = 'CLEVELAND' \n",
    "        AND ( flight_1.to_airport = airport_service_2.airport_code \n",
    "              AND airport_service_2.city_code = city_2.city_code \n",
    "              AND city_2.city_name = 'MIAMI' \n",
    "              AND flight_1.arrival_time < 1600 )\n",
    "  \"\"\"\n",
    "\n",
    "rule_based_trial(example_5, gold_sql_5)"
   ]
  },
  {
   "cell_type": "code",
   "execution_count": 127,
   "id": "4aa401d5",
   "metadata": {
    "colab": {
     "base_uri": "https://localhost:8080/"
    },
    "outputId": "4bade917-65ee-4a3b-ad02-eb669090e819"
   },
   "outputs": [
    {
     "name": "stdout",
     "output_type": "stream",
     "text": [
      "Sentence:  okay how about a flight on sunday from tampa to charlotte \n",
      "\n",
      "Parse:\n",
      "\n",
      "\n",
      "                                                                                                   S                                                                                    \n",
      "                                     ______________________________________________________________|______________________________                                                       \n",
      "                                    |                                                                                         NP_FLIGHT                                                 \n",
      "                                    |                                                                                             |                                                      \n",
      "                                    |                                                                                         NOM_FLIGHT                                                \n",
      "                                    |                                                                                             |                                                      \n",
      "                                    |                                                                                          N_FLIGHT                                                 \n",
      "                                    |                                                                                  ___________|_____________________________________                 \n",
      "                                    |                                                                              N_FLIGHT                                             |               \n",
      "                                    |                                                               __________________|_____________________                            |                \n",
      "                                PREIGNORE                                                       N_FLIGHT                                    |                           |               \n",
      "        ____________________________|____________                                         _________|________                                |                           |                \n",
      "       |                                     PREIGNORE                                   |                  PP                              PP                          PP              \n",
      "       |                _________________________|____________                           |                  |                               |                           |                \n",
      "       |               |                                  PREIGNORE                      |               PP_DATE                         PP_PLACE                    PP_PLACE           \n",
      "       |               |                          ____________|____________              |          ________|_________             _________|_________           _______|_________       \n",
      "       |               |                         |                     PREIGNORE      N_FLIGHT     |               NP_DATE        |                N_PLACE      |              N_PLACE  \n",
      "       |               |                         |                         |             |         |                  |           |                   |         |                 |      \n",
      "PREIGNORESYMBOL PREIGNORESYMBOL           PREIGNORESYMBOL           PREIGNORESYMBOL TERM_FLIGHT  P_DATE          TERM_WEEKDAY  P_PLACE            TERM_PLACE P_PLACE          TERM_PLACE\n",
      "       |               |                         |                         |             |         |                  |           |                   |         |                 |      \n",
      "      okay            how                      about                       a           flight      on               sunday       from               tampa       to            charlotte \n",
      "\n",
      "Predicted SQL:\n",
      "\n",
      " \n",
      "        SELECT DISTINCT flight.flight_id\n",
      "        FROM flight\n",
      "        WHERE (\n",
      "        flight.to_airport IN \n",
      "    (SELECT airport_service.airport_code FROM airport_service WHERE airport_service.city_code IN\n",
      "      (SELECT city.city_code FROM city WHERE city.city_name = \"CHARLOTTE\"))\n",
      "  \n",
      "    ) AND ((\n",
      "        flight.from_airport IN \n",
      "    (SELECT airport_service.airport_code FROM airport_service WHERE airport_service.city_code IN\n",
      "      (SELECT city.city_code FROM city WHERE city.city_name = \"TAMPA\"))\n",
      "  \n",
      "    ) AND ((flight.flight_days IN (SELECT days.days_code FROM days WHERE days.day_name = 'SUNDAY')) AND (\n",
      "        1\n",
      "    )))\n",
      "     \n",
      "\n",
      "Predicted DB result:\n",
      "\n",
      " [(101860,), (101861,), (101862,), (101863,), (101864,), (101865,), (305231,)] \n",
      "\n",
      "Gold DB result:\n",
      "\n",
      " [(101860,), (101861,), (101862,), (101863,), (101864,), (101865,), (305231,)] \n",
      "\n",
      "Correct!\n"
     ]
    }
   ],
   "source": [
    "#TODO: add augmentations to `data/grammar` to make this example work\n",
    "# Example 6\n",
    "example_6 = 'okay how about a flight on sunday from tampa to charlotte'\n",
    "gold_sql_6 = \"\"\"\n",
    "  SELECT DISTINCT flight_1.flight_id \n",
    "  FROM flight flight_1 , \n",
    "       airport_service airport_service_1 , \n",
    "       city city_1 , \n",
    "       airport_service airport_service_2 , \n",
    "       city city_2 , \n",
    "       days days_1 , \n",
    "       date_day date_day_1 \n",
    "  WHERE flight_1.from_airport = airport_service_1.airport_code \n",
    "        AND airport_service_1.city_code = city_1.city_code \n",
    "        AND city_1.city_name = 'TAMPA' \n",
    "        AND ( flight_1.to_airport = airport_service_2.airport_code \n",
    "              AND airport_service_2.city_code = city_2.city_code \n",
    "              AND city_2.city_name = 'CHARLOTTE' \n",
    "              AND flight_1.flight_days = days_1.days_code \n",
    "              AND days_1.day_name = date_day_1.day_name \n",
    "              AND date_day_1.year = 1991 \n",
    "              AND date_day_1.month_number = 8 \n",
    "              AND date_day_1.day_number = 27 )\n",
    "  \"\"\"\n",
    "\n",
    "# You might notice that the gold answer above used the exact date, which is\n",
    "# not easily implementable. A more implementable way (generated by the project \n",
    "# segment 4 solution code) is:\n",
    "gold_sql_6b = \"\"\"\n",
    "  SELECT DISTINCT flight.flight_id \n",
    "  FROM flight \n",
    "  WHERE ((((1 \n",
    "            AND flight.flight_days IN (SELECT days.days_code \n",
    "                                       FROM days \n",
    "                                       WHERE days.day_name = 'SUNDAY')\n",
    "            ) \n",
    "           AND flight.from_airport IN (SELECT airport_service.airport_code \n",
    "                                       FROM airport_service \n",
    "                                       WHERE airport_service.city_code IN (SELECT city.city_code \n",
    "                                                                           FROM city \n",
    "                                                                           WHERE city.city_name = \"TAMPA\"))) \n",
    "          AND flight.to_airport IN (SELECT airport_service.airport_code \n",
    "                                    FROM airport_service \n",
    "                                    WHERE airport_service.city_code IN (SELECT city.city_code \n",
    "                                                                        FROM city \n",
    "                                                                        WHERE city.city_name = \"CHARLOTTE\")))) \n",
    "  \"\"\"\n",
    "\n",
    "rule_based_trial(example_6, gold_sql_6b)"
   ]
  },
  {
   "cell_type": "code",
   "execution_count": 128,
   "id": "10256866",
   "metadata": {
    "colab": {
     "base_uri": "https://localhost:8080/"
    },
    "outputId": "d7babbad-055a-4c12-abf5-8e4ec6f3b3d7"
   },
   "outputs": [
    {
     "name": "stdout",
     "output_type": "stream",
     "text": [
      "Sentence:  list all flights going from boston to atlanta that leaves before 7 am on thursday \n",
      "\n",
      "Parse:\n",
      "\n",
      "\n",
      "                                  S                                                                                                                                                  \n",
      "        __________________________|_____________________________________________________                                                                                              \n",
      "       |                                                                            NP_FLIGHT                                                                                        \n",
      "       |          ______________________________________________________________________|__________                                                                                   \n",
      "       |         |                                                                             NOM_FLIGHT                                                                            \n",
      "       |         |                                                                                 |                                                                                  \n",
      "       |         |                                                                              N_FLIGHT                                                                             \n",
      "       |         |                                                                       __________|________________________________________________________________                  \n",
      "       |         |                                                                   N_FLIGHT                                                                       |                \n",
      "       |         |                                 _____________________________________|___________________________                                                |                 \n",
      "       |         |                             N_FLIGHT                                                             |                                               |                \n",
      "       |         |                        ________|___________________________                                      |                                               |                 \n",
      "       |         |                    N_FLIGHT                                |                                     PP                                              |                \n",
      "       |         |        _______________|________                            |                                     |                                               |                 \n",
      "       |         |       |                        PP                          PP                                 PP_TIME                                            PP               \n",
      "       |         |       |                        |                           |                              _______|__________________                             |                 \n",
      "       |         |       |                     PP_PLACE                    PP_PLACE                         |                       NP_TIME                      PP_DATE             \n",
      "       |         |       |                ________|_________           _______|_________                    |                          |                     _______|_________        \n",
      "   PREIGNORE     |    N_FLIGHT           |               N_PLACE      |              N_PLACE                |                      TERM_TIME                |              NP_DATE   \n",
      "       |         |       |               |                  |         |                 |                   |                 _________|__________          |                 |       \n",
      "PREIGNORESYMBOL DET TERM_FLIGHT       P_PLACE           TERM_PLACE P_PLACE          TERM_PLACE            P_TIME         TERM_TIME           TERM_TIMEMOD P_DATE         TERM_WEEKDAY\n",
      "       |         |       |         ______|________          |         |                 |           ________|_______         |                    |         |                 |       \n",
      "      list      all   flights   going            from     boston      to             atlanta      that    leaves  before     7                    am        on             thursday  \n",
      "\n",
      "Predicted SQL:\n",
      "\n",
      " \n",
      "        SELECT DISTINCT flight.flight_id\n",
      "        FROM flight\n",
      "        WHERE (flight.flight_days IN (SELECT days.days_code FROM days WHERE days.day_name = 'THURSDAY')) AND (( flight.departure_time < 700) AND ((\n",
      "        flight.to_airport IN \n",
      "    (SELECT airport_service.airport_code FROM airport_service WHERE airport_service.city_code IN\n",
      "      (SELECT city.city_code FROM city WHERE city.city_name = \"ATLANTA\"))\n",
      "  \n",
      "    ) AND ((\n",
      "        flight.from_airport IN \n",
      "    (SELECT airport_service.airport_code FROM airport_service WHERE airport_service.city_code IN\n",
      "      (SELECT city.city_code FROM city WHERE city.city_name = \"BOSTON\"))\n",
      "  \n",
      "    ) AND (\n",
      "        1\n",
      "    ))))\n",
      "     \n",
      "\n",
      "Predicted DB result:\n",
      "\n",
      " [(100014,)] \n",
      "\n",
      "Gold DB result:\n",
      "\n",
      " [(100014,)] \n",
      "\n",
      "Correct!\n"
     ]
    }
   ],
   "source": [
    "#TODO: add augmentations to `data/grammar` to make this example work\n",
    "# Example 7\n",
    "example_7 = 'list all flights going from boston to atlanta that leaves before 7 am on thursday'\n",
    "gold_sql_7 = \"\"\"\n",
    "  SELECT DISTINCT flight_1.flight_id \n",
    "  FROM flight flight_1 , \n",
    "       airport_service airport_service_1 , \n",
    "       city city_1 , \n",
    "       airport_service airport_service_2 , \n",
    "       city city_2 , \n",
    "       days days_1 , \n",
    "       date_day date_day_1 \n",
    "  WHERE flight_1.from_airport = airport_service_1.airport_code \n",
    "        AND airport_service_1.city_code = city_1.city_code \n",
    "        AND city_1.city_name = 'BOSTON' \n",
    "        AND ( flight_1.to_airport = airport_service_2.airport_code \n",
    "              AND airport_service_2.city_code = city_2.city_code \n",
    "              AND city_2.city_name = 'ATLANTA' \n",
    "              AND ( flight_1.flight_days = days_1.days_code \n",
    "                    AND days_1.day_name = date_day_1.day_name \n",
    "                    AND date_day_1.year = 1991 \n",
    "                    AND date_day_1.month_number = 5 \n",
    "                    AND date_day_1.day_number = 24 \n",
    "                    AND flight_1.departure_time < 700 ) )\n",
    "  \"\"\"\n",
    "\n",
    "# Again, the gold answer above used the exact date, as opposed to the \n",
    "# following approach:\n",
    "gold_sql_7b = \"\"\"\n",
    "  SELECT DISTINCT flight.flight_id \n",
    "  FROM flight \n",
    "  WHERE ((1 \n",
    "          AND ((((1 \n",
    "                  AND flight.from_airport IN (SELECT airport_service.airport_code \n",
    "                                              FROM airport_service \n",
    "                                              WHERE airport_service.city_code IN (SELECT city.city_code \n",
    "                                                                                  FROM city \n",
    "                                                                                  WHERE city.city_name = \"BOSTON\")))\n",
    "                 AND flight.to_airport IN (SELECT airport_service.airport_code \n",
    "                                           FROM airport_service\n",
    "                                           WHERE airport_service.city_code IN (SELECT city.city_code \n",
    "                                                                               FROM city \n",
    "                                                                               WHERE city.city_name = \"ATLANTA\"))) \n",
    "                AND flight.departure_time <= 0700) \n",
    "               AND flight.flight_days IN (SELECT days.days_code \n",
    "                                          FROM days \n",
    "                                          WHERE days.day_name = 'THURSDAY')))) \n",
    "  \"\"\"\n",
    "\n",
    "rule_based_trial(example_7, gold_sql_7b)"
   ]
  },
  {
   "cell_type": "code",
   "execution_count": 129,
   "id": "b4a869db",
   "metadata": {
    "colab": {
     "base_uri": "https://localhost:8080/"
    },
    "outputId": "3c25153c-c79b-4061-c495-49ce54b84cf4"
   },
   "outputs": [
    {
     "name": "stdout",
     "output_type": "stream",
     "text": [
      "Sentence:  list the flights from dallas to san francisco on american airlines \n",
      "\n",
      "Parse:\n",
      "\n",
      "\n",
      "                                                                                      S                                                                                         \n",
      "                     _________________________________________________________________|________                                                                                  \n",
      "                    |                                                                      NP_FLIGHT                                                                            \n",
      "                    |                                                                          |                                                                                 \n",
      "                    |                                                                      NOM_FLIGHT                                                                           \n",
      "                    |                                                                          |                                                                                 \n",
      "                    |                                                                       N_FLIGHT                                                                            \n",
      "                    |                                                        __________________|___________________________________________                                      \n",
      "                    |                                                    N_FLIGHT                                                          |                                    \n",
      "                    |                                     __________________|__________________                                            |                                     \n",
      "                    |                                 N_FLIGHT                                 |                                           |                                    \n",
      "                    |                           _________|________                             |                                           |                                     \n",
      "                    |                          |                  PP                           PP                                          PP                                   \n",
      "                    |                          |                  |                            |                                           |                                     \n",
      "                PREIGNORE                      |               PP_PLACE                     PP_PLACE                                   PP_AIRLINE                               \n",
      "        ____________|____________              |          ________|_________           ________|__________                      ___________|____________                         \n",
      "       |                     PREIGNORE      N_FLIGHT     |               N_PLACE      |                N_PLACE                 |                   TERM_AIRLINE                 \n",
      "       |                         |             |         |                  |         |                   |                    |            ____________|______________          \n",
      "PREIGNORESYMBOL           PREIGNORESYMBOL TERM_FLIGHT P_PLACE           TERM_PLACE P_PLACE            TERM_PLACE           P_AIRLINE TERM_AIRBRAND              TERM_AIRBRANDTYP\n",
      "       |                         |             |         |                  |         |                   |                    |           |                           E        \n",
      "       |                         |             |         |                  |         |         __________|__________          |           |                           |         \n",
      "      list                      the         flights     from              dallas      to      san                francisco     on       american                    airlines    \n",
      "\n",
      "Predicted SQL:\n",
      "\n",
      " \n",
      "        SELECT DISTINCT flight.flight_id\n",
      "        FROM flight\n",
      "        WHERE (flight.airline_code = 'AA') AND ((\n",
      "        flight.to_airport IN \n",
      "    (SELECT airport_service.airport_code FROM airport_service WHERE airport_service.city_code IN\n",
      "      (SELECT city.city_code FROM city WHERE city.city_name = \"SAN FRANCISCO\"))\n",
      "  \n",
      "    ) AND ((\n",
      "        flight.from_airport IN \n",
      "    (SELECT airport_service.airport_code FROM airport_service WHERE airport_service.city_code IN\n",
      "      (SELECT city.city_code FROM city WHERE city.city_name = \"DALLAS\"))\n",
      "  \n",
      "    ) AND (\n",
      "        1\n",
      "    )))\n",
      "     \n",
      "\n",
      "Predicted DB result:\n",
      "\n",
      " [(108452,), (108454,), (108456,), (111083,), (111085,), (111086,), (111090,), (111091,), (111092,), (111094,)] \n",
      "\n",
      "Gold DB result:\n",
      "\n",
      " [(108452,), (108454,), (108456,), (111083,), (111085,), (111086,), (111090,), (111091,), (111092,), (111094,)] \n",
      "\n",
      "Correct!\n"
     ]
    }
   ],
   "source": [
    "#TODO: add augmentations to `data/grammar` to make this example work\n",
    "# Example 8\n",
    "example_8 = 'list the flights from dallas to san francisco on american airlines'\n",
    "gold_sql_8 = \"\"\"\n",
    "  SELECT DISTINCT flight_1.flight_id \n",
    "  FROM flight flight_1 , \n",
    "       airport_service airport_service_1 , \n",
    "       city city_1 , \n",
    "       airport_service airport_service_2 , \n",
    "       city city_2 \n",
    "  WHERE flight_1.airline_code = 'AA' \n",
    "        AND ( flight_1.from_airport = airport_service_1.airport_code \n",
    "              AND airport_service_1.city_code = city_1.city_code \n",
    "              AND city_1.city_name = 'DALLAS' \n",
    "              AND flight_1.to_airport = airport_service_2.airport_code \n",
    "              AND airport_service_2.city_code = city_2.city_code \n",
    "              AND city_2.city_name = 'SAN FRANCISCO' )\n",
    "  \"\"\"\n",
    "\n",
    "rule_based_trial(example_8, gold_sql_8)"
   ]
  },
  {
   "cell_type": "markdown",
   "id": "aedfdaee",
   "metadata": {
    "id": "-ovgNp8m2I8E"
   },
   "source": [
    "### Systematic evaluation on a test set\n",
    "\n",
    "We can perform a more systematic evaluation by checking the accuracy of the queries on an entire test set for which we have gold queries. The `evaluate` function below does just this, calculating precision, recall, and F1 metrics for the test set. It takes as argument a \"predictor\" function, which maps token sequences to predicted SQL queries. We've provided a predictor function for the rule-based model in the next cell (and a predictor for the seq2seq system below when we get to that system).\n",
    "\n",
    "The rule-based system does not generate predictions for all queries; many queries won't parse. The precision and recall metrics take this into account in measuring the efficacy of the method. The recall metric captures what proportion of _all of the test examples_ for which the system generates a correct query. The precision metric captures what proportion of _all of the test examples for which a prediction is generated_ for which the system generates a correct query. (Recall that F1 is just the geometric mean of precision and recall.)\n",
    "\n",
    "Once you've made some progress on adding augmentations to the grammar, you can evaluate your progress by seeing if the precision and recall have improved. For reference, the solution code achieves precision of about 66% and recall of about 28% for an F1 of 39%."
   ]
  },
  {
   "cell_type": "code",
   "execution_count": 130,
   "id": "25de63bb",
   "metadata": {
    "id": "nnEQFYBb2I8E"
   },
   "outputs": [],
   "source": [
    "def evaluate(predictor, dataset, num_examples=0, silent=True):\n",
    "  \"\"\"Evaluate accuracy of `predictor` by executing predictions on a\n",
    "  SQL database and comparing returned results against those of gold queries.\n",
    "  \n",
    "  Arguments:\n",
    "      predictor:    a function that maps a token sequence (provided by torchtext)\n",
    "                    to a predicted SQL query string\n",
    "      dataset:      the dataset of token sequences and gold SQL queries\n",
    "      num_examples: number of examples from `dataset` to use; all of\n",
    "                    them if 0\n",
    "      silent: if set to False, will print out logs\n",
    "  Returns: precision, recall, and F1 score\n",
    "  \"\"\"\n",
    "  # Prepare to count results\n",
    "  if num_examples <= 0:\n",
    "    num_examples = len(dataset)\n",
    "  example_count = 0\n",
    "  predicted_count = 0\n",
    "  correct = 0\n",
    "  incorrect = 0\n",
    "\n",
    "  # Process the examples from the dataset\n",
    "  for example in tqdm(dataset[:num_examples]):\n",
    "    example_count += 1\n",
    "    # obtain query SQL\n",
    "    predicted_sql = predictor(example.src)\n",
    "    if predicted_sql == None:\n",
    "      continue\n",
    "    predicted_count += 1\n",
    "    # obtain gold SQL\n",
    "    gold_sql = ' '.join(example.tgt)\n",
    "\n",
    "    # check that they're compatible\n",
    "    if verify(predicted_sql, gold_sql):\n",
    "      correct += 1\n",
    "    else:\n",
    "      incorrect += 1\n",
    "   \n",
    "  # Compute and return precision, recall, F1\n",
    "  precision = correct / predicted_count if predicted_count > 0 else 0\n",
    "  recall = correct / example_count\n",
    "  f1 = (2 * precision * recall) / (precision + recall) if precision + recall > 0 else 0\n",
    "  return precision, recall, f1"
   ]
  },
  {
   "cell_type": "code",
   "execution_count": 131,
   "id": "e33dfba3",
   "metadata": {
    "id": "XFxYpnE12I8F"
   },
   "outputs": [],
   "source": [
    "def rule_based_predictor(tokens):\n",
    "  query = ' '.join(tokens)    # detokenized query\n",
    "  tree = parse_tree(query)\n",
    "  if tree is None:\n",
    "    return None\n",
    "  try:\n",
    "    predicted_sql = interpret(tree, atis_augmentations)\n",
    "  except Exception as err:\n",
    "    return None\n",
    "  return predicted_sql"
   ]
  },
  {
   "cell_type": "code",
   "execution_count": 54,
   "id": "e2ffe5c7",
   "metadata": {
    "id": "TevHEoiu2I8G"
   },
   "outputs": [
    {
     "name": "stderr",
     "output_type": "stream",
     "text": [
      "100%|████████████████████████████████████████████████████████████████████| 332/332 [00:02<00:00, 165.97it/s]"
     ]
    },
    {
     "name": "stdout",
     "output_type": "stream",
     "text": [
      "precision: 0.63\n",
      "recall:    0.27\n",
      "F1:        0.37\n"
     ]
    },
    {
     "name": "stderr",
     "output_type": "stream",
     "text": [
      "\n"
     ]
    }
   ],
   "source": [
    "precision, recall, f1 = evaluate(rule_based_predictor, test_iter.dataset, num_examples=0)\n",
    "print(f\"precision: {precision:3.2f}\")\n",
    "print(f\"recall:    {recall:3.2f}\")\n",
    "print(f\"F1:        {f1:3.2f}\")"
   ]
  },
  {
   "cell_type": "markdown",
   "id": "fa1e29bf",
   "metadata": {
    "id": "j00wMxHP3MnB"
   },
   "source": [
    "# End-to-End Seq2Seq Model"
   ]
  },
  {
   "cell_type": "markdown",
   "id": "3040c18c",
   "metadata": {
    "id": "hE17C1s0QhSq"
   },
   "source": [
    "In this part, you will implement a seq2seq model **with attention mechanism** to directly learn the translation from NL query to SQL. You might find labs 4-4 and 4-5 particularly helpful, as the primary difference here is that we are using a different dataset.\n",
    "\n",
    "**Note:** We recommend using GPUs to train the model in this part (one way to get GPUs is to use [Google Colab](https://colab.research.google.com) and clicking Menu -> Runtime -> Change runtime type -> GPU), as we need to use a very large model to solve the task well. For development we recommend starting with a smaller model and training for only 1 epoch."
   ]
  },
  {
   "cell_type": "markdown",
   "id": "70cc14a7",
   "metadata": {
    "id": "dGvpHlNnN3ym"
   },
   "source": [
    "## Goal 2: Implement a seq2seq model (with attention)"
   ]
  },
  {
   "cell_type": "markdown",
   "id": "edce39ff",
   "metadata": {
    "id": "4TPBjDalLzXg"
   },
   "source": [
    "In lab 4-5, you implemented a neural encoder-decoder model with attention. That model was used to convert English number phrases to numbers, but one of the biggest advantages of neural models is that we can easily apply them to different tasks (such as machine translation and document summarization) by using different training datasets.\n",
    "\n",
    "<img src=\"https://github.com/nlp-236299/data/raw/master/img/encoderdecoder_attn_1layer.png\" alt=\"encoder-decoder-attn illustration\" />\n",
    "\n",
    "Implement the class `AttnEncoderDecoder` to convert natural language queries into SQL statements. You may find that you can reuse most of the code you wrote for lab 4-5. A reasonable way to proceed is to implement the following methods:\n",
    "\n",
    "* **Model**\n",
    "\n",
    "    1. `__init__`: an initializer where you create network modules.\n",
    "\n",
    "    2. `forward`: given source word ids of size `(max_src_len, batch_size)`, source lengths of size `(batch_size)` and decoder input target word ids `(max_tgt_len, batch_size)`, returns logits `(max_tgt_len, batch_size, V_tgt)`. For better modularity you might want to implement it by implementing two functions `forward_encoder` and `forward_decoder`.\n",
    "\n",
    "* **Optimization**\n",
    "\n",
    "    3. `train_all`: compute loss on training data, compute gradients, and update model parameters to minimize the loss.\n",
    "\n",
    "    4. `evaluate_ppl`: evaluate the current model's perplexity on a given dataset iterator, we use the perplexity value on the validation set to select the best model.\n",
    "\n",
    "* **Decoding**\n",
    "\n",
    "    5. `predict`: Generates the target sequence given a list of source tokens using beam search decoding. Note that here you can assume the batch size to be 1 for simplicity. "
   ]
  },
  {
   "cell_type": "code",
   "execution_count": 55,
   "id": "77e5a803-40ce-4ae2-84c6-dce818d0dde9",
   "metadata": {},
   "outputs": [],
   "source": [
    "def attention(batched_Q, batched_K, batched_V, mask=None):\n",
    "  \"\"\"\n",
    "  Performs the attention operation and returns the attention matrix\n",
    "  `batched_A` and the context matrix `batched_C` using queries \n",
    "  `batched_Q`, keys `batched_K`, and values `batched_V`.\n",
    "  \n",
    "  Arguments:\n",
    "      batched_Q: (q_len, bsz, D)\n",
    "      batched_K: (k_len, bsz, D)\n",
    "      batched_V: (k_len, bsz, D)\n",
    "      mask: (bsz, q_len, k_len). An optional boolean mask *disallowing* \n",
    "            attentions where the mask value is *`False`*.\n",
    "  Returns:\n",
    "      batched_A: the normalized attention scores (bsz, q_len, k_ken)\n",
    "      batched_C: a tensor of size (q_len, bsz, D).\n",
    "  \"\"\"\n",
    "  # Check sizes\n",
    "  D = batched_Q.size(-1)\n",
    "  bsz = batched_Q.size(1)\n",
    "  q_len = batched_Q.size(0)\n",
    "  k_len = batched_K.size(0)\n",
    "  assert batched_K.size(-1) == D and batched_V.size(-1) == D\n",
    "  assert batched_K.size(1) == bsz and batched_V.size(1) == bsz\n",
    "  assert batched_V.size(0) == k_len\n",
    "  if mask is not None:\n",
    "    assert mask.size() == torch.Size([bsz, q_len, k_len])\n",
    "\n",
    "  Q = torch.transpose(batched_Q, 0, 1)     # BxTxD\n",
    "  K_T = torch.transpose(torch.transpose(batched_K, 0, 1), 1, 2) # BxSxD\n",
    "  batched_A = torch.bmm(Q, K_T) # BxTxS\n",
    "  if mask is not None:\n",
    "    batched_A = batched_A.masked_fill(~mask, float('-inf'))\n",
    "  batched_A = nn.functional.softmax(batched_A, dim=-1) # BxTxS\n",
    "  V = torch.transpose(batched_V, 0, 1)  # BxSxD\n",
    "  batched_C = torch.transpose(torch.bmm(batched_A, V), 0, 1)  # TxBxD\n",
    "  # Verify that things sum up to one properly.\n",
    "  assert torch.all(torch.isclose(batched_A.sum(-1), \n",
    "                                 torch.ones(bsz, q_len).to(device)))\n",
    "  return batched_A, batched_C"
   ]
  },
  {
   "cell_type": "code",
   "execution_count": 56,
   "id": "decd8db3-3a32-405f-8e69-0840282bd873",
   "metadata": {},
   "outputs": [],
   "source": [
    "class Beam():\n",
    "  \"\"\"\n",
    "  Helper class for storing a hypothesis, its score and its decoder hidden state.\n",
    "  \"\"\"\n",
    "  def __init__(self, decoder_state, tokens, score):\n",
    "    self.decoder_state = decoder_state\n",
    "    self.tokens = tokens\n",
    "    self.score = score"
   ]
  },
  {
   "cell_type": "code",
   "execution_count": 57,
   "id": "f48b358e",
   "metadata": {
    "id": "febNSFFp4FT1"
   },
   "outputs": [],
   "source": [
    "#TODO - implement the `AttnEncoderDecoder` class.\n",
    "class AttnEncoderDecoder(nn.Module):\n",
    "  def __init__(self, src_field, tgt_field, hidden_size=64, layers=3):\n",
    "    \"\"\"\n",
    "    Initializer. Creates network modules and loss function.\n",
    "    Arguments:\n",
    "        src_field: src field\n",
    "        tgt_field: tgt field\n",
    "        hidden_size: hidden layer size of both encoder and decoder\n",
    "        layers: number of layers of both encoder and decoder\n",
    "    \"\"\"\n",
    "    super().__init__()\n",
    "    self.src_field = src_field\n",
    "    self.tgt_field = tgt_field\n",
    "    \n",
    "    # Keep the vocabulary sizes available\n",
    "    self.V_src = len(src_field.vocab.itos)\n",
    "    self.V_tgt = len(tgt_field.vocab.itos)\n",
    "    \n",
    "    # Get special word ids\n",
    "    self.padding_id_src = src_field.vocab.stoi[src_field.pad_token]\n",
    "    self.padding_id_tgt = tgt_field.vocab.stoi[tgt_field.pad_token]\n",
    "    self.bos_id = tgt_field.vocab.stoi[tgt_field.init_token]\n",
    "    self.eos_id = tgt_field.vocab.stoi[tgt_field.eos_token]\n",
    "\n",
    "    # Keep hyper-parameters available\n",
    "    self.embedding_size = hidden_size\n",
    "    self.hidden_size = hidden_size\n",
    "    self.layers = layers\n",
    "\n",
    "    # Create essential modules\n",
    "    self.word_embeddings_src = nn.Embedding(self.V_src, self.embedding_size)\n",
    "    self.word_embeddings_tgt = nn.Embedding(self.V_tgt, self.embedding_size)\n",
    "\n",
    "    # RNN cells\n",
    "    self.encoder_rnn = nn.LSTM(\n",
    "      input_size    = self.embedding_size,\n",
    "      hidden_size   = hidden_size // 2, # to match decoder hidden size\n",
    "      num_layers    = layers,\n",
    "      bidirectional = True              # bidirectional encoder\n",
    "    )\n",
    "    self.decoder_rnn = nn.LSTM(\n",
    "      input_size    = self.embedding_size,\n",
    "      hidden_size   = hidden_size,\n",
    "      num_layers    = layers,\n",
    "      bidirectional = False             # unidirectional decoder\n",
    "    )\n",
    "\n",
    "    # Final projection layer\n",
    "    self.hidden2output = nn.Linear(2*hidden_size, self.V_tgt) # project the concatenation to logits\n",
    "   \n",
    "    # Create loss function\n",
    "    self.loss_function = nn.CrossEntropyLoss(reduction='sum', \n",
    "                                             ignore_index=self.padding_id_tgt)\n",
    "\n",
    "  def forward_encoder(self, src, src_lengths):\n",
    "    \"\"\"\n",
    "    Encodes source words `src`.\n",
    "    Arguments:\n",
    "        src: src batch of size (max_src_len, bsz)\n",
    "        src_lengths: src lengths of size (bsz)\n",
    "    Returns:\n",
    "        memory_bank: a tensor of size (src_len, bsz, hidden_size)\n",
    "        (final_state, context): `final_state` is a tuple (h, c) where h/c is of size \n",
    "                                (layers, bsz, hidden_size), and `context` is `None`. \n",
    "    \"\"\"\n",
    "    #TODO\n",
    "    embedding = self.word_embeddings_src(src)\n",
    "    # packed = pack(embedding, src_lengths, batch_first=False, enforce_sorted=False)\n",
    "    outputs, (h, c) = self.encoder_rnn(embedding)\n",
    "    memory_bank = outputs\n",
    "    bidi = 2 if self.encoder_rnn.bidirectional else 1\n",
    "\n",
    "    h = h.reshape((bidi, self.layers, src.shape[1], self.hidden_size // 2))\n",
    "    h = torch.cat((h[0], h[1]), -1)\n",
    "\n",
    "    c = c.reshape((bidi, self.layers, src.shape[1], self.hidden_size // 2))\n",
    "    c = torch.cat((c[0], c[1]), -1)\n",
    "    final_state = (h, c)\n",
    "    context = None\n",
    "    return memory_bank, (final_state, context)\n",
    "\n",
    "  def forward_decoder(self, encoder_final_state, tgt_in, memory_bank, src_mask):\n",
    "    \"\"\"\n",
    "    Decodes based on encoder final state, memory bank, src_mask, and ground truth \n",
    "    target words.\n",
    "    Arguments:\n",
    "        encoder_final_state: (final_state, None) where final_state is the encoder\n",
    "                             final state used to initialize decoder. None is the\n",
    "                             initial context (there's no previous context at the\n",
    "                             first step).\n",
    "        tgt_in: a tensor of size (tgt_len, bsz)\n",
    "        memory_bank: a tensor of size (src_len, bsz, hidden_size), encoder outputs \n",
    "                     at every position\n",
    "        src_mask: a tensor of size (src_len, bsz): a boolean tensor, `False` where\n",
    "                  src is padding (we disallow decoder to attend to those places).\n",
    "    Returns:\n",
    "        Logits of size (tgt_len, bsz, V_tgt) (before the softmax operation)\n",
    "    \"\"\"\n",
    "    max_tgt_length = tgt_in.size(0)\n",
    "    \n",
    "    # Initialize decoder state, note that it's a tuple (state, context) here\n",
    "    decoder_states = encoder_final_state\n",
    "    \n",
    "    all_logits = []\n",
    "    for i in range(max_tgt_length):\n",
    "      logits, decoder_states, attn = \\\n",
    "        self.forward_decoder_incrementally(decoder_states, \n",
    "                                           tgt_in[i], \n",
    "                                           memory_bank,\n",
    "                                           src_mask,\n",
    "                                           normalize=False)\n",
    "      all_logits.append(logits)             # list of bsz, vocab_tgt\n",
    "    all_logits = torch.stack(all_logits, 0) # tgt_len, bsz, vocab_tgt\n",
    "    return all_logits\n",
    "\n",
    "  def forward(self, src, src_lengths, tgt_in):\n",
    "    \"\"\"\n",
    "    Performs forward computation, returns logits.\n",
    "    Arguments:\n",
    "        src: src batch of size (max_src_len, bsz)\n",
    "        src_lengths: src lengths of size (bsz)\n",
    "        tgt_in:  a tensor of size (tgt_len, bsz)\n",
    "    \"\"\"\n",
    "    src_mask = src.ne(self.padding_id_src) # max_src_len, bsz\n",
    "    # Forward encoder\n",
    "    memory_bank, encoder_final_state = self.forward_encoder(src, src_lengths)\n",
    "    # Forward decoder\n",
    "    logits = self.forward_decoder(encoder_final_state, tgt_in, memory_bank, src_mask)\n",
    "    return logits\n",
    "\n",
    "  def evaluate_ppl(self, iterator):\n",
    "    \"\"\"Returns the model's perplexity on a given dataset `iterator`.\"\"\"\n",
    "    # Switch to eval mode\n",
    "    self.eval()\n",
    "    total_loss = 0\n",
    "    total_words = 0\n",
    "    for batch in iterator:\n",
    "      # Input and target\n",
    "      src, src_lengths = batch.src\n",
    "      tgt = batch.tgt # max_length_sql, bsz\n",
    "      tgt_in = tgt[:-1] # remove <eos> for decode input (y_0=<bos>, y_1, y_2)\n",
    "      tgt_out = tgt[1:] # remove <bos> as target        (y_1, y_2, y_3=<eos>)\n",
    "      # Forward to get logits\n",
    "      logits = self.forward(src, src_lengths, tgt_in)\n",
    "      # Compute cross entropy loss\n",
    "      loss = self.loss_function(logits.view(-1, self.V_tgt), tgt_out.view(-1))\n",
    "      total_loss += loss.item()\n",
    "      total_words += tgt_out.ne(self.padding_id_tgt).float().sum().item()\n",
    "    return math.exp(total_loss/total_words)\n",
    "\n",
    "  def train_all(self, train_iter, val_iter, epochs=10, learning_rate=0.001):\n",
    "    \"\"\"Train the model.\"\"\"\n",
    "    # Switch the module to training mode\n",
    "    self.train()\n",
    "    # Use Adam to optimize the parameters\n",
    "    optim = torch.optim.Adam(self.parameters(), lr=learning_rate)\n",
    "    best_validation_ppl = float('inf')\n",
    "    best_model = None\n",
    "    # Run the optimization for multiple epochs\n",
    "    for epoch in range(epochs): \n",
    "      total_words = 0\n",
    "      total_loss = 0.0\n",
    "      for batch in tqdm(train_iter):\n",
    "        # Zero the parameter gradients\n",
    "        self.zero_grad()\n",
    "        # Input and target\n",
    "        src, src_lengths = batch.src # text: max_src_length, bsz\n",
    "        tgt = batch.tgt # max_tgt_length, bsz\n",
    "        tgt_in = tgt[:-1] # Remove <eos> for decode input (y_0=<bos>, y_1, y_2)\n",
    "        tgt_out = tgt[1:] # Remove <bos> as target        (y_1, y_2, y_3=<eos>)\n",
    "        bsz = tgt.size(1)\n",
    "        # Run forward pass and compute loss along the way.\n",
    "        logits = self.forward(src, src_lengths, tgt_in)\n",
    "        loss = self.loss_function(logits.view(-1, self.V_tgt), tgt_out.view(-1))\n",
    "        # Training stats\n",
    "        num_tgt_words = tgt_out.ne(self.padding_id_tgt).float().sum().item()\n",
    "        total_words += num_tgt_words\n",
    "        total_loss += loss.item()\n",
    "        # Perform backpropagation\n",
    "        loss.div(bsz).backward()\n",
    "        optim.step()\n",
    "\n",
    "      # Evaluate and track improvements on the validation dataset\n",
    "      validation_ppl = self.evaluate_ppl(val_iter)\n",
    "      self.train()\n",
    "      if validation_ppl < best_validation_ppl:\n",
    "        best_validation_ppl = validation_ppl\n",
    "        self.best_model = copy.deepcopy(self.state_dict())\n",
    "      epoch_loss = total_loss / total_words\n",
    "      print (f'Epoch: {epoch} Training Perplexity: {math.exp(epoch_loss):.4f} '\n",
    "             f'Validation Perplexity: {validation_ppl:.4f}')\n",
    "    \n",
    "  def forward_decoder_incrementally(self, prev_decoder_states, tgt_in_onestep, \n",
    "                                    memory_bank, src_mask,\n",
    "                                    normalize=True):\n",
    "    \"\"\"\n",
    "    Forward the decoder for a single step with token `tgt_in_onestep`.\n",
    "    This function will be used both in `forward_decoder` and in beam search.\n",
    "    Note that bsz can be greater than 1.\n",
    "    Arguments:\n",
    "        prev_decoder_states: a tuple (prev_decoder_state, prev_context). `prev_context`\n",
    "                             is `None` for the first step\n",
    "        tgt_in_onestep: a tensor of size (bsz), tokens at one step\n",
    "        memory_bank: a tensor of size (src_len, bsz, hidden_size), encoder outputs \n",
    "                     at every position\n",
    "        src_mask: a tensor of size (src_len, bsz): a boolean tensor, `False` where\n",
    "                  src is padding (we disallow decoder to attend to those places).\n",
    "        normalize: use log_softmax to normalize or not. Beam search needs to normalize,\n",
    "                   while `forward_decoder` does not\n",
    "    Returns:\n",
    "        logits: log probabilities for `tgt_in_token` of size (bsz, V_tgt)\n",
    "        decoder_states: (`decoder_state`, `context`) which will be used for the \n",
    "                        next incremental update\n",
    "        attn: normalized attention scores at this step (bsz, src_len)\n",
    "    \"\"\"\n",
    "    prev_decoder_state, prev_context = prev_decoder_states\n",
    "    #TODO\n",
    "    tgt_in = self.word_embeddings_tgt(tgt_in_onestep)\n",
    "    if prev_context is not None:\n",
    "      tgt_in = tgt_in + prev_context\n",
    "    if len(tgt_in.shape) == 2:\n",
    "        tgt_in = tgt_in.unsqueeze(0)\n",
    "    decoder_outs, decoder_state = self.decoder_rnn(tgt_in, prev_decoder_state)\n",
    "    mask = src_mask.transpose(0, 1)\n",
    "    mask = mask.unsqueeze(1)\n",
    "    (A, C) = attention(decoder_outs, memory_bank, memory_bank, mask)\n",
    "    decoder_states = (decoder_state, C)\n",
    "    features = torch.cat([decoder_outs, C]).transpose(0, 1)\n",
    "    logits = self.hidden2output(features.reshape(features.shape[0], -1))\n",
    "    # print(f'{logits.shape=} {decoder_outs.shape=} {C.shape=}')\n",
    "    if normalize:\n",
    "      logits = torch.log_softmax(logits, dim=-1)\n",
    "    return logits, decoder_states, A.squeeze(1)\n",
    "  def beam_search(self, src, src_lengths, K, max_T=15):\n",
    "    \"\"\"\n",
    "    Performs beam search decoding.\n",
    "    Arguments:\n",
    "        src: src batch of size (max_src_len, 1)\n",
    "        src_lengths: src lengths of size (1)\n",
    "        K: beam size\n",
    "        max_T: max possible target length considered\n",
    "    Returns:\n",
    "        a list of token ids and a list of attentions\n",
    "    \"\"\"\n",
    "    INIT_SCORE = 0\n",
    "    finished = []\n",
    "    all_attns = []\n",
    "\n",
    "    memory_bank, encoder_final_state = self.forward_encoder(src, src_lengths)\n",
    "    init_beam = Beam(encoder_final_state, torch.tensor([self.bos_id]), INIT_SCORE)\n",
    "    beams = [init_beam]\n",
    "    \n",
    "    with torch.no_grad():\n",
    "      for t in range(max_T): # main body of search over time steps\n",
    "        \n",
    "        # Expand each beam by all possible tokens y_{t+1}\n",
    "        all_total_scores = []\n",
    "        for beam in beams:\n",
    "          y_1_to_t, score, decoder_state = beam.tokens, beam.score, beam.decoder_state\n",
    "          y_t = y_1_to_t[-1]\n",
    "          #TODO - finish the code below\n",
    "          # Hint: you might want to use `model.forward_decoder_incrementally` with `normalize=True`\n",
    "          src_mask = src.ne(self.padding_id_src)\n",
    "          total_scores, decoder_state, attn = self.forward_decoder_incrementally(decoder_state, y_t.unsqueeze(0), memory_bank, src_mask)\n",
    "          total_scores = total_scores+score\n",
    "          # print(score)\n",
    "          # print(total_scores)\n",
    "          all_total_scores.append(total_scores)\n",
    "          all_attns.append(attn) # keep attentions for visualization\n",
    "          beam.decoder_state = decoder_state # update decoder state in the beam\n",
    "        all_total_scores = torch.stack(all_total_scores) # (K, V) when t>0, (1, V) when t=0\n",
    "\n",
    "        # Find K best next beams\n",
    "        # The code below has the same functionality as line 6-12, but is more efficient\n",
    "        all_scores_flattened = all_total_scores.view(-1) # K*V when t>0, 1*V when t=0\n",
    "        topk_scores, topk_ids = all_scores_flattened.topk(K, 0)\n",
    "        beam_ids = topk_ids.div(self.V_tgt, rounding_mode='floor')\n",
    "        next_tokens = topk_ids - beam_ids * self.V_tgt\n",
    "        new_beams = []\n",
    "        for k in range(K):\n",
    "          beam_id = beam_ids[k]       # which beam it comes from\n",
    "          y_t_plus_1 = next_tokens[k] # which y_{t+1}\n",
    "          score = topk_scores[k]\n",
    "          beam = beams[beam_id]\n",
    "          decoder_state = beam.decoder_state\n",
    "          y_1_to_t = beam.tokens\n",
    "          #TODO\n",
    "          y_1_to_t_plus_1 = torch.cat((y_1_to_t, y_t_plus_1.view(1)))\n",
    "          \n",
    "          new_beam = Beam(decoder_state, y_1_to_t_plus_1, score)\n",
    "          new_beams.append(new_beam)\n",
    "        beams = new_beams\n",
    "        # Set aside completed beams\n",
    "        # TODO - move completed beams to `finished` (and remove them from `beams`)\n",
    "        remaining = []\n",
    "        for beam in beams:\n",
    "            tokens, score, decoder_state = beam.tokens, beam.score, beam.decoder_state\n",
    "            y_t_1 = tokens[-1]\n",
    "            \n",
    "            if y_t_1 == self.eos_id:\n",
    "                finished.append(beam)\n",
    "            else:\n",
    "                remaining.append(beam)\n",
    "        beams = remaining\n",
    "        \n",
    "        # Break the loop if everything is completed\n",
    "        if len(beams) == 0:\n",
    "            break\n",
    "            \n",
    "    # Return the best hypothesis\n",
    "    if len(finished) > 0:\n",
    "      finished = sorted(finished, key=lambda beam: -beam.score)\n",
    "      return finished[0].tokens, all_attns\n",
    "    else: # when nothing is finished, return an unfinished hypothesis\n",
    "      return beams[0].tokens, all_attns\n",
    "\n",
    "  def predict(self, tokens, K=1, max_T=15):\n",
    "    seq = torch.Tensor([self.src_field.vocab.stoi[item] for item in tokens]).to(int).unsqueeze(1)\n",
    "    seq_lengths = torch.Tensor([len(tokens)]).to(int).unsqueeze(1)\n",
    "    # print(f'{seq} {seq_lengths}')\n",
    "    prediction, _ = self.beam_search(src=seq, src_lengths=seq_lengths, K=K, max_T=max_T)\n",
    "    pred = ' '.join([self.tgt_field.vocab.itos[token] for token in prediction])\n",
    "    pred = pred.lstrip('<bos>').rstrip('<eos>').strip()\n",
    "    return pred"
   ]
  },
  {
   "cell_type": "markdown",
   "id": "b3ff6c4a",
   "metadata": {
    "id": "JLuzTt-RFgoL"
   },
   "source": [
    "We provide the recommended hyperparameters for the final model in the script below, but you are free to tune the hyperparameters or change any part of the provided code. \n",
    "\n",
    ">For quick debugging, we recommend starting with smaller models (by using a very small `hidden_size`), and only a single epoch. If the model runs smoothly, then you can train the full model on GPUs."
   ]
  },
  {
   "cell_type": "code",
   "execution_count": 59,
   "id": "579f35f5",
   "metadata": {
    "colab": {
     "base_uri": "https://localhost:8080/",
     "height": 654
    },
    "outputId": "bcf06a3c-215c-4363-ee67-6378984b8e64"
   },
   "outputs": [
    {
     "name": "stdout",
     "output_type": "stream",
     "text": [
      "*** Loading model from checkpoint file rnn_e_50_D_1024\n"
     ]
    }
   ],
   "source": [
    "EPOCHS = 50 # epochs; we recommend starting with a smaller number like 1 # 50\n",
    "LEARNING_RATE = 1e-4 # learning rate\n",
    "HIDDEN_SIZE = 1024 \n",
    "checkpoint_filename = f'goal2_e_{EPOCHS}_D_{HIDDEN_SIZE}'\n",
    "# Instantiate and train classifier\n",
    "model = AttnEncoderDecoder(SRC, TGT,\n",
    "  hidden_size    = HIDDEN_SIZE, # 1024\n",
    "  layers         = 1,\n",
    ").to(device)\n",
    "\n",
    "if os.path.isfile(f'models/{checkpoint_filename}.pt'):\n",
    "    print(f'*** Loading model from checkpoint file {checkpoint_filename}')\n",
    "    model.load_state_dict(torch.load(f'models/{checkpoint_filename}.pt'))\n",
    "else:\n",
    "    model.train_all(train_iter, val_iter, epochs=EPOCHS, learning_rate=LEARNING_RATE)\n",
    "    model.load_state_dict(model.best_model)\n",
    "\n",
    "# Evaluate model performance, the expected value should be < 1.2\n",
    "# print (f'Validation perplexity: {model.evaluate_ppl(val_iter):.3f}')"
   ]
  },
  {
   "cell_type": "markdown",
   "id": "03ee437f",
   "metadata": {
    "id": "krTxz3Qo2I8P"
   },
   "source": [
    "With a trained model, we can convert questions to SQL statements. We recommend making sure that the model can generate at least reasonable results on the examples from before, before evaluating on the full test set."
   ]
  },
  {
   "cell_type": "code",
   "execution_count": 60,
   "id": "dccc5761",
   "metadata": {
    "id": "jVux00Ud2I8P"
   },
   "outputs": [],
   "source": [
    "def seq2seq_trial(sentence, gold_sql):\n",
    "  print(\"Sentence: \", sentence, \"\\n\")\n",
    "  tokens = tokenize(sentence)\n",
    "\n",
    "  predicted_sql = model.predict(tokens, K=1, max_T=400)\n",
    "  print(\"Predicted SQL:\\n\\n\", predicted_sql, \"\\n\")\n",
    "\n",
    "  if verify(predicted_sql, gold_sql, silent=False):\n",
    "    print ('Correct!')\n",
    "  else:\n",
    "    print ('Incorrect!')"
   ]
  },
  {
   "cell_type": "code",
   "execution_count": 61,
   "id": "7114b61b",
   "metadata": {
    "colab": {
     "base_uri": "https://localhost:8080/"
    },
    "outputId": "5ba2d49a-d875-4976-8359-8c1bccec8ee6"
   },
   "outputs": [
    {
     "name": "stdout",
     "output_type": "stream",
     "text": [
      "Sentence:  flights from phoenix to milwaukee \n",
      "\n",
      "Predicted SQL:\n",
      "\n",
      " SELECT DISTINCT flight_1.flight_id FROM flight flight_1 , airport_service airport_service_1 , city city_1 , airport_service airport_service_2 , city city_2 WHERE flight_1.from_airport = airport_service_1.airport_code AND airport_service_1.city_code = city_1.city_code AND city_1.city_name = 'PHOENIX' AND flight_1.to_airport = airport_service_2.airport_code AND airport_service_2.city_code = city_2.city_code AND city_2.city_name = 'MILWAUKEE' \n",
      "\n",
      "Predicted DB result:\n",
      "\n",
      " [(108086,), (108087,), (301763,), (301764,), (301765,), (301766,), (302323,), (304881,), (310619,), (310620,)] \n",
      "\n",
      "Gold DB result:\n",
      "\n",
      " [(108086,), (108087,), (301763,), (301764,), (301765,), (301766,), (302323,), (304881,), (310619,), (310620,)] \n",
      "\n",
      "Correct!\n"
     ]
    }
   ],
   "source": [
    "seq2seq_trial(example_1, gold_sql_1)"
   ]
  },
  {
   "cell_type": "code",
   "execution_count": 62,
   "id": "8c13fcf3",
   "metadata": {
    "colab": {
     "base_uri": "https://localhost:8080/"
    },
    "outputId": "8208194d-4ecc-48aa-8765-c99aa6281fca"
   },
   "outputs": [
    {
     "name": "stdout",
     "output_type": "stream",
     "text": [
      "Sentence:  i would like a united flight \n",
      "\n",
      "Predicted SQL:\n",
      "\n",
      " SELECT DISTINCT flight_1.flight_id FROM flight flight_1 , airport_service airport_service_1 , city city_1 , airport_service airport_service_2 , city city_2 WHERE flight_1.airline_code = 'UA' AND ( flight_1.airline_code = 'UA' AND 1 = 1 ) ) AND ( flight_1.airline_code = 'UA' AND 1 = 1 ) ) AND ( flight_1.airline_code = 'UA' AND 1 = 1 ) ) AND ( flight_1.airline_code = 'UA' AND 1 = 1 ) ) AND ( flight_1.airline_code = 'UA' AND 1 = 1 ) ) AND ( flight_1.airline_code = 'UA' AND 1 = 1 ) ) \n",
      "\n",
      "predicted sql exec failed: near \")\": syntax error\n",
      "Incorrect!\n"
     ]
    }
   ],
   "source": [
    "seq2seq_trial(example_2, gold_sql_2)"
   ]
  },
  {
   "cell_type": "code",
   "execution_count": 63,
   "id": "cabdfeae",
   "metadata": {
    "colab": {
     "base_uri": "https://localhost:8080/"
    },
    "outputId": "2a44ee2d-cc24-4886-b155-9cd7eaef288b"
   },
   "outputs": [
    {
     "name": "stdout",
     "output_type": "stream",
     "text": [
      "Sentence:  i would like a flight between boston and dallas \n",
      "\n",
      "Predicted SQL:\n",
      "\n",
      " SELECT DISTINCT flight_1.flight_id FROM flight flight_1 , airport_service airport_service_1 , city city_1 , airport_service airport_service_2 , city city_2 WHERE flight_1.from_airport = airport_service_1.airport_code AND airport_service_1.city_code = city_1.city_code AND city_1.city_name = 'BOSTON' AND flight_1.to_airport = airport_service_2.airport_code AND airport_service_2.city_code = city_2.city_code AND city_2.city_name = 'DALLAS' \n",
      "\n",
      "Predicted DB result:\n",
      "\n",
      " [(103171,), (103172,), (103173,), (103174,), (103175,), (103176,), (103177,), (103178,), (103179,), (103180,)] \n",
      "\n",
      "Gold DB result:\n",
      "\n",
      " [(103171,), (103172,), (103173,), (103174,), (103175,), (103176,), (103177,), (103178,), (103179,), (103180,)] \n",
      "\n",
      "Correct!\n"
     ]
    }
   ],
   "source": [
    "seq2seq_trial(example_3, gold_sql_3)"
   ]
  },
  {
   "cell_type": "code",
   "execution_count": 64,
   "id": "560b218c",
   "metadata": {
    "colab": {
     "base_uri": "https://localhost:8080/",
     "height": 171
    },
    "outputId": "439a677e-d97a-41e7-eb9e-1e5a43b59c2c"
   },
   "outputs": [
    {
     "name": "stdout",
     "output_type": "stream",
     "text": [
      "Sentence:  show me the united flights from denver to baltimore \n",
      "\n",
      "Predicted SQL:\n",
      "\n",
      " SELECT DISTINCT flight_1.flight_id FROM flight flight_1 , airport_service airport_service_1 , city city_1 , airport_service airport_service_2 , city city_2 WHERE flight_1.airline_code = 'UA' AND ( flight_1.from_airport = airport_service_1.airport_code AND airport_service_1.city_code = city_1.city_code AND city_1.city_name = 'DENVER' AND flight_1.to_airport = airport_service_2.airport_code AND airport_service_2.city_code = city_2.city_code AND city_2.city_name = 'BALTIMORE' ) \n",
      "\n",
      "Predicted DB result:\n",
      "\n",
      " [(101231,), (101233,), (305983,)] \n",
      "\n",
      "Gold DB result:\n",
      "\n",
      " [(101231,), (101233,), (305983,)] \n",
      "\n",
      "Correct!\n"
     ]
    }
   ],
   "source": [
    "seq2seq_trial(example_4, gold_sql_4)"
   ]
  },
  {
   "cell_type": "code",
   "execution_count": 65,
   "id": "069d8ba3",
   "metadata": {
    "id": "pgvfg5Df2I8Q"
   },
   "outputs": [
    {
     "name": "stdout",
     "output_type": "stream",
     "text": [
      "Sentence:  show flights from cleveland to miami that arrive before 4pm \n",
      "\n",
      "Predicted SQL:\n",
      "\n",
      " SELECT DISTINCT flight_1.flight_id FROM flight flight_1 , airport_service airport_service_1 , city city_1 , airport_service airport_service_2 , city city_2 WHERE flight_1.from_airport = airport_service_1.airport_code AND airport_service_1.city_code = city_1.city_code AND city_1.city_name = 'CLEVELAND' AND ( flight_1.to_airport = airport_service_2.airport_code AND airport_service_2.city_code = city_2.city_code AND city_2.city_name = 'MIAMI' AND flight_1.arrival_time < 1600 ) \n",
      "\n",
      "Predicted DB result:\n",
      "\n",
      " [(107698,), (301117,)] \n",
      "\n",
      "Gold DB result:\n",
      "\n",
      " [(107698,), (301117,)] \n",
      "\n",
      "Correct!\n"
     ]
    }
   ],
   "source": [
    "seq2seq_trial(example_5, gold_sql_5)"
   ]
  },
  {
   "cell_type": "code",
   "execution_count": 66,
   "id": "d042abfe",
   "metadata": {
    "id": "iyrwQXnS2I8Q"
   },
   "outputs": [
    {
     "name": "stdout",
     "output_type": "stream",
     "text": [
      "Sentence:  okay how about a flight on sunday from tampa to charlotte \n",
      "\n",
      "Predicted SQL:\n",
      "\n",
      " SELECT DISTINCT flight_1.flight_id FROM flight flight_1 , airport_service airport_service_1 , city city_1 , airport_service airport_service_2 , city city_2 , days days_1 , date_day date_day_1 WHERE flight_1.from_airport = airport_service_1.airport_code AND airport_service_1.city_code = city_1.city_code AND city_1.city_name = 'TAMPA' AND ( flight_1.to_airport = airport_service_2.airport_code AND airport_service_2.city_code = city_2.city_code AND city_2.city_name = 'CHARLOTTE' AND flight_1.flight_days = days_1.days_code AND days_1.day_name = date_day_1.day_name AND date_day_1.year = 1991 AND date_day_1.month_number = 8 AND date_day_1.day_number = 27 ) \n",
      "\n",
      "Predicted DB result:\n",
      "\n",
      " [(101860,), (101861,), (101862,), (101863,), (101864,), (101865,), (305231,)] \n",
      "\n",
      "Gold DB result:\n",
      "\n",
      " [(101860,), (101861,), (101862,), (101863,), (101864,), (101865,), (305231,)] \n",
      "\n",
      "Correct!\n"
     ]
    }
   ],
   "source": [
    "seq2seq_trial(example_6, gold_sql_6b)"
   ]
  },
  {
   "cell_type": "code",
   "execution_count": 67,
   "id": "3ef3fed0",
   "metadata": {
    "id": "xTv_NzXg2I8R"
   },
   "outputs": [
    {
     "name": "stdout",
     "output_type": "stream",
     "text": [
      "Sentence:  list all flights going from boston to atlanta that leaves before 7 am on thursday \n",
      "\n",
      "Predicted SQL:\n",
      "\n",
      " SELECT DISTINCT flight_1.flight_id FROM flight flight_1 , airport_service airport_service_1 , city city_1 , airport_service airport_service_2 , city city_2 , days days_1 , date_day date_day_1 WHERE flight_1.from_airport = airport_service_1.airport_code AND airport_service_1.city_code = city_1.city_code AND city_1.city_name = 'BOSTON' AND ( flight_1.to_airport = airport_service_2.airport_code AND airport_service_2.city_code = city_2.city_code AND city_2.city_name = 'ATLANTA' AND ( flight_1.flight_days = days_1.days_code AND days_1.day_name = date_day_1.day_name AND date_day_1.year = 1991 AND date_day_1.month_number = 5 AND date_day_1.day_number = 24 AND flight_1.departure_time < 700 ) ) \n",
      "\n",
      "Predicted DB result:\n",
      "\n",
      " [(100014,)] \n",
      "\n",
      "Gold DB result:\n",
      "\n",
      " [(100014,)] \n",
      "\n",
      "Correct!\n"
     ]
    }
   ],
   "source": [
    "seq2seq_trial(example_7, gold_sql_7b)"
   ]
  },
  {
   "cell_type": "code",
   "execution_count": 68,
   "id": "5f3719f9",
   "metadata": {
    "id": "OVs2SQyL2I8R"
   },
   "outputs": [
    {
     "name": "stdout",
     "output_type": "stream",
     "text": [
      "Sentence:  list the flights from dallas to san francisco on american airlines \n",
      "\n",
      "Predicted SQL:\n",
      "\n",
      " SELECT DISTINCT flight_1.flight_id FROM flight flight_1 , airport_service airport_service_1 , city city_1 , airport_service airport_service_2 , city city_2 WHERE flight_1.airline_code = 'AA' AND ( flight_1.from_airport = airport_service_1.airport_code AND airport_service_1.city_code = city_1.city_code AND city_1.city_name = 'DALLAS' AND flight_1.to_airport = airport_service_2.airport_code AND airport_service_2.city_code = city_2.city_code AND city_2.city_name = 'SAN FRANCISCO' ) \n",
      "\n",
      "Predicted DB result:\n",
      "\n",
      " [(108452,), (108454,), (108456,), (111083,), (111085,), (111086,), (111090,), (111091,), (111092,), (111094,)] \n",
      "\n",
      "Gold DB result:\n",
      "\n",
      " [(108452,), (108454,), (108456,), (111083,), (111085,), (111086,), (111090,), (111091,), (111092,), (111094,)] \n",
      "\n",
      "Correct!\n"
     ]
    }
   ],
   "source": [
    "seq2seq_trial(example_8, gold_sql_8)"
   ]
  },
  {
   "cell_type": "markdown",
   "id": "6a5ee90c",
   "metadata": {
    "id": "kLyrRJPsqPEs"
   },
   "source": [
    "### Evaluation\n",
    "\n",
    "Now we are ready to run the full evaluation. A proper implementation should reach more than 35% precision/recall/F1."
   ]
  },
  {
   "cell_type": "code",
   "execution_count": 69,
   "id": "2fb44bbf",
   "metadata": {
    "id": "TFNUIl0X2I8R"
   },
   "outputs": [],
   "source": [
    "def seq2seq_predictor(tokens):\n",
    "  prediction = model.predict(tokens, K=1, max_T=400)\n",
    "  return prediction"
   ]
  },
  {
   "cell_type": "code",
   "execution_count": 70,
   "id": "5e8a2323",
   "metadata": {
    "id": "Qyn3vZ5R2I8R"
   },
   "outputs": [
    {
     "name": "stderr",
     "output_type": "stream",
     "text": [
      "100%|█████████████████████████████████████████████████████████████████████| 332/332 [01:33<00:00,  3.53it/s]"
     ]
    },
    {
     "name": "stdout",
     "output_type": "stream",
     "text": [
      "precision: 0.43\n",
      "recall:    0.43\n",
      "F1:        0.43\n"
     ]
    },
    {
     "name": "stderr",
     "output_type": "stream",
     "text": [
      "\n"
     ]
    }
   ],
   "source": [
    "precision, recall, f1 = evaluate(seq2seq_predictor, test_iter.dataset, num_examples=0)\n",
    "print(f\"precision: {precision:3.2f}\")\n",
    "print(f\"recall:    {recall:3.2f}\")\n",
    "print(f\"F1:        {f1:3.2f}\")"
   ]
  },
  {
   "cell_type": "markdown",
   "id": "f59bab43",
   "metadata": {
    "id": "UeSUe7hV5nWw",
    "tags": []
   },
   "source": [
    "## Goal 3: Implement a seq2seq model (with cross attention and self attention)\n",
    "\n",
    "In the previous section, you have implemented a seq2seq model with attention. The attention mechanism used in that section is usually referred to as \"cross-attention\", as at each decoding step, the decoder attends to encoder outputs, enabling a dynamic view on the encoder side as decoding proceeds.\n",
    "\n",
    "Similarly, we can have a dynamic view on the decoder side as well as decoding proceeds, i.e., the decoder attends to decoder outputs at previous steps. This is called \"self attention\", and has been found very useful in modern neural architectures such as transformers.\n",
    "\n",
    "Augment the seq2seq model you implemented before with a decoder self-attention mechanism as class `AttnEncoderDecoder2`. A model diagram can be found below:\n",
    "\n",
    "\n",
    "<img src=\"https://github.com/nlp-236299/data/raw/master/img/encoderdecoder_attn_selfattn.png\" alt=\"encoder-decoder-attn-with-selfattn illustration\" />\n",
    "\n",
    "At each decoding step, the decoder LSTM first produces an output state $o_t$, then it attends to all previous output states $o_1, \\ldots, o_{t-1}$ (decoder self-attention). You need to special case the first decoding step to not perform self-attention, as there are no previous decoder states. The attention result is added to $o_t$ itself and the sum is used as $q_t$ to attend to the encoder side (encoder-decoder cross-attention). The rest of the model is the same as encoder-decoder with attention.\n"
   ]
  },
  {
   "cell_type": "code",
   "execution_count": 43,
   "id": "65b09b9a-97b1-456e-b3e9-79792a5f5a2f",
   "metadata": {},
   "outputs": [],
   "source": [
    "def attention(batched_Q, batched_K, batched_V, mask=None):\n",
    "  \"\"\"\n",
    "  Performs the attention operation and returns the attention matrix\n",
    "  `batched_A` and the context matrix `batched_C` using queries \n",
    "  `batched_Q`, keys `batched_K`, and values `batched_V`.\n",
    "  \n",
    "  Arguments:\n",
    "      batched_Q: (q_len, bsz, D)\n",
    "      batched_K: (k_len, bsz, D)\n",
    "      batched_V: (k_len, bsz, D)\n",
    "      mask: (bsz, q_len, k_len). An optional boolean mask *disallowing* \n",
    "            attentions where the mask value is *`False`*.\n",
    "  Returns:\n",
    "      batched_A: the normalized attention scores (bsz, q_len, k_ken)\n",
    "      batched_C: a tensor of size (q_len, bsz, D).\n",
    "  \"\"\"\n",
    "  # Check sizes\n",
    "  D = batched_Q.size(-1)\n",
    "  bsz = batched_Q.size(1)\n",
    "  q_len = batched_Q.size(0)\n",
    "  k_len = batched_K.size(0)\n",
    "  assert batched_K.size(-1) == D and batched_V.size(-1) == D\n",
    "  assert batched_K.size(1) == bsz and batched_V.size(1) == bsz\n",
    "  assert batched_V.size(0) == k_len\n",
    "  if mask is not None:\n",
    "    assert mask.size() == torch.Size([bsz, q_len, k_len])\n",
    "\n",
    "  Q = torch.transpose(batched_Q, 0, 1)     # BxTxD\n",
    "  K_T = torch.transpose(torch.transpose(batched_K, 0, 1), 1, 2) # BxSxD\n",
    "  batched_A = torch.bmm(Q, K_T) # BxTxS\n",
    "  if mask is not None:\n",
    "    batched_A = batched_A.masked_fill(~mask, float('-inf'))\n",
    "  batched_A = nn.functional.softmax(batched_A, dim=-1) # BxTxS\n",
    "  V = torch.transpose(batched_V, 0, 1)  # BxSxD\n",
    "  batched_C = torch.transpose(torch.bmm(batched_A, V), 0, 1)  # TxBxD\n",
    "  # Verify that things sum up to one properly.\n",
    "  assert torch.all(torch.isclose(batched_A.sum(-1), \n",
    "                                 torch.ones(bsz, q_len).to(device)))\n",
    "  return batched_A, batched_C"
   ]
  },
  {
   "cell_type": "code",
   "execution_count": 7,
   "id": "2297e7da-574f-416f-a99f-8d5ecc3b35ce",
   "metadata": {},
   "outputs": [],
   "source": [
    "class Beam_G3():\n",
    "  \"\"\"\n",
    "  Helper class for storing a hypothesis, its score and its decoder hidden state.\n",
    "  \"\"\"\n",
    "  def __init__(self, decoder_state, tokens, score, prev_outs=torch.Tensor()):\n",
    "    self.decoder_state = decoder_state\n",
    "    self.tokens = tokens\n",
    "    self.score = score\n",
    "    with torch.no_grad():\n",
    "      self.prev_outs = prev_outs"
   ]
  },
  {
   "cell_type": "code",
   "execution_count": 13,
   "id": "ce2d6d5b-b8ee-4a06-afaf-576d11311fef",
   "metadata": {},
   "outputs": [],
   "source": [
    "#TODO - implement the `AttnEncoderDecoder2` class.\n",
    "class AttnEncoderDecoder2(nn.Module):\n",
    "  def __init__(self, src_field, tgt_field, hidden_size=64, layers=3):\n",
    "    \"\"\"\n",
    "    Initializer. Creates network modules and loss function.\n",
    "    Arguments:\n",
    "        src_field: src field\n",
    "        tgt_field: tgt field\n",
    "        hidden_size: hidden layer size of both encoder and decoder\n",
    "        layers: number of layers of both encoder and decoder\n",
    "    \"\"\"\n",
    "    super().__init__()\n",
    "    self.src_field = src_field\n",
    "    self.tgt_field = tgt_field\n",
    "    \n",
    "    # Keep the vocabulary sizes available\n",
    "    self.V_src = len(src_field.vocab.itos)\n",
    "    self.V_tgt = len(tgt_field.vocab.itos)\n",
    "    \n",
    "    # Get special word ids\n",
    "    self.padding_id_src = src_field.vocab.stoi[src_field.pad_token]\n",
    "    self.padding_id_tgt = tgt_field.vocab.stoi[tgt_field.pad_token]\n",
    "    self.bos_id = tgt_field.vocab.stoi[tgt_field.init_token]\n",
    "    self.eos_id = tgt_field.vocab.stoi[tgt_field.eos_token]\n",
    "\n",
    "    # Keep hyper-parameters available\n",
    "    self.embedding_size = hidden_size\n",
    "    self.hidden_size = hidden_size\n",
    "    self.layers = layers\n",
    "\n",
    "    # Create essential modules\n",
    "    self.word_embeddings_src = nn.Embedding(self.V_src, self.embedding_size)\n",
    "    self.word_embeddings_tgt = nn.Embedding(self.V_tgt, self.embedding_size)\n",
    "\n",
    "    # RNN cells\n",
    "    self.encoder_rnn = nn.LSTM(\n",
    "      input_size    = self.embedding_size,\n",
    "      hidden_size   = hidden_size // 2, # to match decoder hidden size\n",
    "      num_layers    = layers,\n",
    "      bidirectional = True              # bidirectional encoder\n",
    "    )\n",
    "    self.decoder_rnn = nn.LSTM(\n",
    "      input_size    = self.embedding_size,\n",
    "      hidden_size   = hidden_size,\n",
    "      num_layers    = layers,\n",
    "      bidirectional = False             # unidirectional decoder\n",
    "    )\n",
    "\n",
    "    # Final projection layer\n",
    "    self.hidden2output = nn.Linear(2*hidden_size, self.V_tgt) # project the concatenation to logits\n",
    "   \n",
    "    # Create loss function\n",
    "    self.loss_function = nn.CrossEntropyLoss(reduction='sum', \n",
    "                                             ignore_index=self.padding_id_tgt)\n",
    "\n",
    "  def forward_encoder(self, src, src_lengths):\n",
    "    \"\"\"\n",
    "    Encodes source words `src`.\n",
    "    Arguments:\n",
    "        src: src batch of size (max_src_len, bsz)\n",
    "        src_lengths: src lengths of size (bsz)\n",
    "    Returns:\n",
    "        memory_bank: a tensor of size (src_len, bsz, hidden_size)\n",
    "        (final_state, context): `final_state` is a tuple (h, c) where h/c is of size \n",
    "                                (layers, bsz, hidden_size), and `context` is `None`. \n",
    "    \"\"\"\n",
    "    #TODO\n",
    "    embedding = self.word_embeddings_src(src)\n",
    "    # packed = pack(embedding, src_lengths, batch_first=False, enforce_sorted=False)\n",
    "    outputs, (h, c) = self.encoder_rnn(embedding)\n",
    "    memory_bank = outputs\n",
    "    bidi = 2 if self.encoder_rnn.bidirectional else 1\n",
    "\n",
    "    h = h.reshape((bidi, self.layers, src.shape[1], self.hidden_size // 2))\n",
    "    h = torch.cat((h[0], h[1]), -1)\n",
    "\n",
    "    c = c.reshape((bidi, self.layers, src.shape[1], self.hidden_size // 2))\n",
    "    c = torch.cat((c[0], c[1]), -1)\n",
    "    final_state = (h, c)\n",
    "    context = None\n",
    "    return memory_bank, (final_state, context)\n",
    "\n",
    "  def forward_decoder(self, encoder_final_state, tgt_in, memory_bank, src_mask):\n",
    "    \"\"\"\n",
    "    Decodes based on encoder final state, memory bank, src_mask, and ground truth \n",
    "    target words.\n",
    "    Arguments:\n",
    "        encoder_final_state: (final_state, None) where final_state is the encoder\n",
    "                             final state used to initialize decoder. None is the\n",
    "                             initial context (there's no previous context at the\n",
    "                             first step).\n",
    "        tgt_in: a tensor of size (tgt_len, bsz)\n",
    "        memory_bank: a tensor of size (src_len, bsz, hidden_size), encoder outputs \n",
    "                     at every position\n",
    "        src_mask: a tensor of size (src_len, bsz): a boolean tensor, `False` where\n",
    "                  src is padding (we disallow decoder to attend to those places).\n",
    "    Returns:\n",
    "        Logits of size (tgt_len, bsz, V_tgt) (before the softmax operation)\n",
    "    \"\"\"\n",
    "    max_tgt_length = tgt_in.size(0)\n",
    "    \n",
    "    # Initialize decoder state, note that it's a tuple (state, context) here\n",
    "    decoder_states = encoder_final_state\n",
    "    \n",
    "    \n",
    "    with torch.no_grad():\n",
    "        prev_outs = torch.Tensor()\n",
    "    all_logits = []\n",
    "    for i in range(max_tgt_length):\n",
    "      logits, decoder_states, attn, decoder_out = \\\n",
    "        self.forward_decoder_incrementally(decoder_states, \n",
    "                                           tgt_in[i], \n",
    "                                           memory_bank,\n",
    "                                           src_mask,\n",
    "                                           prev_outs,\n",
    "                                           normalize=False)\n",
    "      with torch.no_grad():\n",
    "        prev_outs = torch.cat([prev_outs, decoder_out], 0)\n",
    "      all_logits.append(logits)             # list of bsz, vocab_tgt\n",
    "    all_logits = torch.stack(all_logits, 0) # tgt_len, bsz, vocab_tgt\n",
    "    return all_logits\n",
    "\n",
    "  def forward(self, src, src_lengths, tgt_in):\n",
    "    \"\"\"\n",
    "    Performs forward computation, returns logits.\n",
    "    Arguments:\n",
    "        src: src batch of size (max_src_len, bsz)\n",
    "        src_lengths: src lengths of size (bsz)\n",
    "        tgt_in:  a tensor of size (tgt_len, bsz)\n",
    "    \"\"\"\n",
    "    src_mask = src.ne(self.padding_id_src) # max_src_len, bsz\n",
    "    # Forward encoder\n",
    "    memory_bank, encoder_final_state = self.forward_encoder(src, src_lengths)\n",
    "    # Forward decoder\n",
    "    logits = self.forward_decoder(encoder_final_state, tgt_in, memory_bank, src_mask)\n",
    "    return logits\n",
    "\n",
    "  def evaluate_ppl(self, iterator):\n",
    "    \"\"\"Returns the model's perplexity on a given dataset `iterator`.\"\"\"\n",
    "    # Switch to eval mode\n",
    "    self.eval()\n",
    "    total_loss = 0\n",
    "    total_words = 0\n",
    "    for batch in iterator:\n",
    "      # Input and target\n",
    "      src, src_lengths = batch.src\n",
    "      tgt = batch.tgt # max_length_sql, bsz\n",
    "      tgt_in = tgt[:-1] # remove <eos> for decode input (y_0=<bos>, y_1, y_2)\n",
    "      tgt_out = tgt[1:] # remove <bos> as target        (y_1, y_2, y_3=<eos>)\n",
    "      # Forward to get logits\n",
    "      logits = self.forward(src, src_lengths, tgt_in)\n",
    "      # Compute cross entropy loss\n",
    "      loss = self.loss_function(logits.view(-1, self.V_tgt), tgt_out.view(-1))\n",
    "      total_loss += loss.item()\n",
    "      total_words += tgt_out.ne(self.padding_id_tgt).float().sum().item()\n",
    "    return math.exp(total_loss/total_words)\n",
    "\n",
    "  def train_all(self, train_iter, val_iter, epochs=10, learning_rate=0.001, checkpoint_file=\"ae_e_D.pt\"):\n",
    "    \"\"\"Train the model.\"\"\"\n",
    "    # Switch the module to training mode\n",
    "    self.train()\n",
    "    # Use Adam to optimize the parameters\n",
    "    optim = torch.optim.Adam(self.parameters(), lr=learning_rate)\n",
    "    best_validation_ppl = float('inf')\n",
    "    best_model = None\n",
    "    # Run the optimization for multiple epochs\n",
    "    for epoch in range(epochs): \n",
    "      total_words = 0\n",
    "      total_loss = 0.0\n",
    "      for batch in tqdm(train_iter):\n",
    "        # Zero the parameter gradients\n",
    "        self.zero_grad()\n",
    "        # Input and target\n",
    "        src, src_lengths = batch.src # text: max_src_length, bsz\n",
    "        tgt = batch.tgt # max_tgt_length, bsz\n",
    "        tgt_in = tgt[:-1] # Remove <eos> for decode input (y_0=<bos>, y_1, y_2)\n",
    "        tgt_out = tgt[1:] # Remove <bos> as target        (y_1, y_2, y_3=<eos>)\n",
    "        bsz = tgt.size(1)\n",
    "        # Run forward pass and compute loss along the way.\n",
    "        logits = self.forward(src, src_lengths, tgt_in)\n",
    "        loss = self.loss_function(logits.view(-1, self.V_tgt), tgt_out.view(-1))\n",
    "        # Training stats\n",
    "        num_tgt_words = tgt_out.ne(self.padding_id_tgt).float().sum().item()\n",
    "        total_words += num_tgt_words\n",
    "        total_loss += loss.item()\n",
    "        # Perform backpropagation\n",
    "        loss.div(bsz).backward()\n",
    "        optim.step()\n",
    "\n",
    "      # Evaluate and track improvements on the validation dataset\n",
    "      validation_ppl = self.evaluate_ppl(val_iter)\n",
    "      self.train()\n",
    "      if validation_ppl < best_validation_ppl:\n",
    "        best_validation_ppl = validation_ppl\n",
    "        self.best_model = copy.deepcopy(self.state_dict())\n",
    "        torch.save(self.best_model, 'models/' + checkpoint_file + '.pt') # TODO\n",
    "      epoch_loss = total_loss / total_words\n",
    "      print (f'Epoch: {epoch} Training Perplexity: {math.exp(epoch_loss):.4f} '\n",
    "             f'Validation Perplexity: {validation_ppl:.4f}')\n",
    "    \n",
    "  def forward_decoder_incrementally(self, prev_decoder_states, tgt_in_onestep, \n",
    "                                    memory_bank, src_mask, prev_outs,\n",
    "                                    normalize=True):\n",
    "    \"\"\"\n",
    "    Forward the decoder for a single step with token `tgt_in_onestep`.\n",
    "    This function will be used both in `forward_decoder` and in beam search.\n",
    "    Note that bsz can be greater than 1.\n",
    "    Arguments:\n",
    "        prev_decoder_states: a tuple (prev_decoder_state, prev_context). `prev_context`\n",
    "                             is `None` for the first step\n",
    "        tgt_in_onestep: a tensor of size (bsz), tokens at one step\n",
    "        memory_bank: a tensor of size (src_len, bsz, hidden_size), encoder outputs \n",
    "                     at every position\n",
    "        src_mask: a tensor of size (src_len, bsz): a boolean tensor, `False` where\n",
    "                  src is padding (we disallow decoder to attend to those places).\n",
    "        normalize: use log_softmax to normalize or not. Beam search needs to normalize,\n",
    "                   while `forward_decoder` does not\n",
    "    Returns:\n",
    "        logits: log probabilities for `tgt_in_token` of size (bsz, V_tgt)\n",
    "        decoder_states: (`decoder_state`, `context`) which will be used for the \n",
    "                        next incremental update\n",
    "        attn: normalized attention scores at this step (bsz, src_len)\n",
    "    \"\"\"\n",
    "    prev_decoder_state, prev_context = prev_decoder_states\n",
    "    #TODO\n",
    "    tgt_in = self.word_embeddings_tgt(tgt_in_onestep)\n",
    "    if prev_context is not None:\n",
    "      tgt_in = tgt_in + prev_context\n",
    "    if len(tgt_in.shape) == 2:\n",
    "        tgt_in = tgt_in.unsqueeze(0)\n",
    "    decoder_outs, decoder_state = self.decoder_rnn(tgt_in, prev_decoder_state)\n",
    "    \n",
    "    forward_out = decoder_outs\n",
    "    if prev_outs.numel() > 0:\n",
    "        (A_out, C_out) = attention(batched_Q=forward_out, batched_K=prev_outs, batched_V=prev_outs)\n",
    "        forward_out += C_out\n",
    "    \n",
    "    mask = src_mask.transpose(0, 1)\n",
    "    mask = mask.unsqueeze(1)\n",
    "    (A, C) = attention(forward_out, memory_bank, memory_bank, mask)\n",
    "    decoder_states = (decoder_state, C)\n",
    "    features = torch.cat([forward_out, C]).transpose(0, 1)\n",
    "    logits = self.hidden2output(features.reshape(features.shape[0], -1))\n",
    "    # print(f'{logits.shape=} {decoder_outs.shape=} {C.shape=}')\n",
    "    if normalize:\n",
    "      logits = torch.log_softmax(logits, dim=-1)\n",
    "    return logits, decoder_states, A.squeeze(1), decoder_outs\n",
    "  def beam_search(self, src, src_lengths, K, max_T=15):\n",
    "    \"\"\"\n",
    "    Performs beam search decoding.\n",
    "    Arguments:\n",
    "        src: src batch of size (max_src_len, 1)\n",
    "        src_lengths: src lengths of size (1)\n",
    "        K: beam size\n",
    "        max_T: max possible target length considered\n",
    "    Returns:\n",
    "        a list of token ids and a list of attentions\n",
    "    \"\"\"\n",
    "    INIT_SCORE = 0\n",
    "    finished = []\n",
    "    all_attns = []\n",
    "\n",
    "    memory_bank, encoder_final_state = self.forward_encoder(src, src_lengths)\n",
    "    init_beam = Beam_G3(encoder_final_state, torch.tensor([self.bos_id]), INIT_SCORE)\n",
    "    beams = [init_beam]\n",
    "    \n",
    "    with torch.no_grad():\n",
    "      for t in range(max_T): # main body of search over time steps\n",
    "        # Expand each beam by all possible tokens y_{t+1}\n",
    "        all_total_scores = []\n",
    "        for beam in beams:\n",
    "          y_1_to_t, score, decoder_state = beam.tokens, beam.score, beam.decoder_state\n",
    "          y_t = y_1_to_t[-1]\n",
    "          #TODO - finish the code below\n",
    "          # Hint: you might want to use `model.forward_decoder_incrementally` with `normalize=True`\n",
    "          src_mask = src.ne(self.padding_id_src)\n",
    "          total_scores, decoder_state, attn, decoder_out = self.forward_decoder_incrementally(\n",
    "              decoder_state, y_t.unsqueeze(0), memory_bank, src_mask, beam.prev_outs)\n",
    "          total_scores = total_scores+score\n",
    "          # print(score)\n",
    "          # print(total_scores)\n",
    "          beam.prev_outs = torch.cat([beam.prev_outs, decoder_out], 0)\n",
    "          all_total_scores.append(total_scores)\n",
    "          all_attns.append(attn) # keep attentions for visualization\n",
    "          beam.decoder_state = decoder_state # update decoder state in the beam\n",
    "        all_total_scores = torch.stack(all_total_scores) # (K, V) when t>0, (1, V) when t=0\n",
    "\n",
    "        # Find K best next beams\n",
    "        # The code below has the same functionality as line 6-12, but is more efficient\n",
    "        all_scores_flattened = all_total_scores.view(-1) # K*V when t>0, 1*V when t=0\n",
    "        topk_scores, topk_ids = all_scores_flattened.topk(K, 0)\n",
    "        beam_ids = topk_ids.div(self.V_tgt, rounding_mode='floor')\n",
    "        next_tokens = topk_ids - beam_ids * self.V_tgt\n",
    "        new_beams = []\n",
    "        for k in range(K):\n",
    "          beam_id = beam_ids[k]       # which beam it comes from\n",
    "          y_t_plus_1 = next_tokens[k] # which y_{t+1}\n",
    "          score = topk_scores[k]\n",
    "          beam = beams[beam_id]\n",
    "          decoder_state = beam.decoder_state\n",
    "          prev_outs = beam.prev_outs\n",
    "          y_1_to_t = beam.tokens\n",
    "          #TODO\n",
    "          y_1_to_t_plus_1 = torch.cat((y_1_to_t, y_t_plus_1.view(1)))\n",
    "          \n",
    "          new_beam = Beam_G3(decoder_state, y_1_to_t_plus_1, score, prev_outs)\n",
    "          new_beams.append(new_beam)\n",
    "        beams = new_beams\n",
    "        # Set aside completed beams\n",
    "        # TODO - move completed beams to `finished` (and remove them from `beams`)\n",
    "        remaining = []\n",
    "        for beam in beams:\n",
    "            tokens, score, decoder_state = beam.tokens, beam.score, beam.decoder_state\n",
    "            y_t_1 = tokens[-1]\n",
    "            \n",
    "            if y_t_1 == self.eos_id:\n",
    "                finished.append(beam)\n",
    "            else:\n",
    "                remaining.append(beam)\n",
    "        beams = remaining\n",
    "        \n",
    "        # Break the loop if everything is completed\n",
    "        if len(beams) == 0:\n",
    "            break\n",
    "            \n",
    "    # Return the best hypothesis\n",
    "    if len(finished) > 0:\n",
    "      finished = sorted(finished, key=lambda beam: -beam.score)\n",
    "      return finished[0].tokens, all_attns\n",
    "    else: # when nothing is finished, return an unfinished hypothesis\n",
    "      return beams[0].tokens, all_attns\n",
    "\n",
    "  def predict(self, tokens, K=1, max_T=15):\n",
    "    seq = torch.Tensor([self.src_field.vocab.stoi[item] for item in tokens]).to(int).unsqueeze(1)\n",
    "    seq_lengths = torch.Tensor([len(tokens)]).to(int).unsqueeze(1)\n",
    "    # print(f'{seq} {seq_lengths}')\n",
    "    prediction, _ = self.beam_search(src=seq, src_lengths=seq_lengths, K=K, max_T=max_T)\n",
    "    pred = ' '.join([self.tgt_field.vocab.itos[token] for token in prediction])\n",
    "    pred = pred.lstrip('<bos>').rstrip('<eos>').strip()\n",
    "    return pred"
   ]
  },
  {
   "cell_type": "code",
   "execution_count": 155,
   "id": "b8fd7bb0",
   "metadata": {
    "colab": {
     "base_uri": "https://localhost:8080/"
    },
    "outputId": "e9286e07-b8a8-4485-d786-a81e408bcb0f"
   },
   "outputs": [
    {
     "name": "stdout",
     "output_type": "stream",
     "text": [
      "*** Loading model from checkpoint file goal3_e_50_D_1024.pt\n",
      "Validation perplexity: 1.933\n"
     ]
    }
   ],
   "source": [
    "EPOCHS = 50 # 50 # epochs, we recommend starting with a smaller number like 1\n",
    "LEARNING_RATE = 1e-4 # learning rate\n",
    "HIDDEN_SIZE = 1024\n",
    "\n",
    "checkpoint_filename = f'goal3_e_{EPOCHS}_D_{HIDDEN_SIZE}'\n",
    "# Instantiate and train classifier\n",
    "model2 = AttnEncoderDecoder2(SRC, TGT,\n",
    "  hidden_size    = HIDDEN_SIZE, # 1024,\n",
    "  layers         = 1,\n",
    ").to(device)\n",
    "if os.path.isfile(f'models/{checkpoint_filename}.pt'):\n",
    "    print(f'*** Loading model from checkpoint file {checkpoint_filename}.pt')\n",
    "    model2.load_state_dict(torch.load(f'models/{checkpoint_filename}.pt'))\n",
    "# model2.train_all(train_iter, val_iter, epochs=EPOCHS, learning_rate=LEARNING_RATE, checkpoint_file=checkpoint_filename)\n",
    "# model2.load_state_dict(model2.best_model)\n",
    "\n",
    "# Evaluate model performance, the expected value should be < 1.2\n",
    "print (f'Validation perplexity: {model2.evaluate_ppl(val_iter):.3f}')"
   ]
  },
  {
   "cell_type": "code",
   "execution_count": 156,
   "id": "3446881d-091d-43bf-9a5a-b525f5ca6765",
   "metadata": {},
   "outputs": [
    {
     "data": {
      "text/plain": [
       "<All keys matched successfully>"
      ]
     },
     "execution_count": 156,
     "metadata": {},
     "output_type": "execute_result"
    }
   ],
   "source": [
    "best_model2 = AttnEncoderDecoder2(SRC, TGT,\n",
    "  hidden_size    = HIDDEN_SIZE, # 1024\n",
    "  layers         = 1,\n",
    ").to(device)\n",
    "\n",
    "best_model2.load_state_dict(torch.load(f'models/goal3_e_{EPOCHS}_D_{HIDDEN_SIZE}_gh.pt'))"
   ]
  },
  {
   "cell_type": "markdown",
   "id": "c4e8d235",
   "metadata": {},
   "source": [
    "### Evaluation\n",
    "\n",
    "Now we are ready to run the full evaluation. A proper implementation should reach more than 35% precision/recall/F1."
   ]
  },
  {
   "cell_type": "code",
   "execution_count": 157,
   "id": "817f3005",
   "metadata": {
    "id": "TdHTptPuh1MY"
   },
   "outputs": [],
   "source": [
    "def seq2seq_predictor2(tokens):\n",
    "  prediction = best_model2.predict(tokens, K=1, max_T=400)\n",
    "  return prediction"
   ]
  },
  {
   "cell_type": "code",
   "execution_count": 158,
   "id": "76f6ee2a",
   "metadata": {
    "id": "ZxOPg-ldh6GR"
   },
   "outputs": [
    {
     "name": "stderr",
     "output_type": "stream",
     "text": [
      "100%|█████████████████████████████████████████████████████████████████████| 332/332 [01:19<00:00,  4.20it/s]"
     ]
    },
    {
     "name": "stdout",
     "output_type": "stream",
     "text": [
      "precision: 0.01\n",
      "recall:    0.01\n",
      "F1:        0.01\n"
     ]
    },
    {
     "name": "stderr",
     "output_type": "stream",
     "text": [
      "\n"
     ]
    }
   ],
   "source": [
    "precision, recall, f1 = evaluate(seq2seq_predictor2, test_iter.dataset, num_examples=0)\n",
    "print(f\"precision: {precision:3.2f}\")\n",
    "print(f\"recall:    {recall:3.2f}\")\n",
    "print(f\"F1:        {f1:3.2f}\")"
   ]
  },
  {
   "cell_type": "markdown",
   "id": "5779ee92",
   "metadata": {
    "id": "BZhVf4362I8T"
   },
   "source": [
    "## Goal 4: Use state-of-the-art pretrained transformers\n",
    "\n",
    "\n",
    "The most recent breakthrough in natural-language processing stems from the use of pretrained transformer models. For example, you might have heard of pretrained transformers such as [GPT-3](https://arxiv.org/abs/2005.14165) and [BERT](https://arxiv.org/abs/1810.04805). (BERT is already used in [Google search](https://searchengineland.com/google-bert-used-on-almost-every-english-query-342193).) These models are usually trained on vast amounts of text data using variants of language modeling objectives, and researchers have found that finetuning them on downstream tasks usually results in better performance as compared to training a model from scratch.\n",
    "\n",
    "In the previous part, you implemented an LSTM-based sequence-to-sequence approach. To \"upgrade\" the model to be a state-of-the-art pretrained transformer only requires minor modifications.\n",
    "\n",
    "The pretrained model that we will use is [BART](https://arxiv.org/abs/1910.13461), which uses a bidirectional transformer encoder and a unidirectional transformer decoder, as illustrated in the below diagram (image courtesy https://arxiv.org/pdf/1910.13461):\n",
    "\n",
    "<img src=\"https://raw.githubusercontent.com/nlp-236299/data/master/img/bart_architecture.png\" alt=\"encoder-decoder illustration\" />\n",
    "\n",
    "We can see that this model is strikingly similar to the LSTM-based encoder-decoder model we've been using. The only difference is that they use transformers instead of LSTMs. Therefore, we only need to change the modeling parts of the code, as we will see later."
   ]
  },
  {
   "cell_type": "markdown",
   "id": "398e9d94",
   "metadata": {
    "id": "4Njji5Bn2I8U"
   },
   "source": [
    "First, we download and load the pretrained BART model from the [transformers](https://github.com/huggingface/transformers) package by Huggingface. Note that we also need to use the \"tokenizer\" of BART, which is actually a combination of a tokenizer and a mapping from strings to word ids."
   ]
  },
  {
   "cell_type": "code",
   "execution_count": 64,
   "id": "5b698532",
   "metadata": {
    "id": "_76BjA9J2I8U"
   },
   "outputs": [],
   "source": [
    "pretrained_bart = BartForConditionalGeneration.from_pretrained('facebook/bart-base')\n",
    "bart_tokenizer = BartTokenizer.from_pretrained('facebook/bart-base')"
   ]
  },
  {
   "cell_type": "markdown",
   "id": "a3bf668a",
   "metadata": {
    "id": "rm7LrZgd2I8U"
   },
   "source": [
    "Below we demonstrate how to use BART's tokenizer to convert a sentence to a list of word ids, and vice versa."
   ]
  },
  {
   "cell_type": "code",
   "execution_count": 65,
   "id": "9a8c9ea8",
   "metadata": {
    "id": "TpTYpvZV2I8V"
   },
   "outputs": [
    {
     "name": "stdout",
     "output_type": "stream",
     "text": [
      "tokenized: [0, 13755, 89, 143, 78, 12, 4684, 4871, 31, 312, 4, 3217, 23, 365, 1685, 13, 540, 87, 68, 246, 4, 1096, 116, 2]\n",
      "detokenized: Are there any first-class flights from St. Louis at 11pm for less than $3.50?\n"
     ]
    }
   ],
   "source": [
    "# BART uses a predefined \"tokenizer\", which directly maps a sentence \n",
    "# to a list of ids\n",
    "def bart_tokenize(string):\n",
    "  return bart_tokenizer(string)['input_ids'][:1024] # BART model can process at most 1024 tokens\n",
    "\n",
    "def bart_detokenize(token_ids):\n",
    "    return bart_tokenizer.decode(token_ids, skip_special_tokens=True)\n",
    "\n",
    "## Demonstrating the tokenizer\n",
    "question = 'Are there any first-class flights from St. Louis at 11pm for less than $3.50?'\n",
    "\n",
    "tokenized_question = bart_tokenize(question)\n",
    "print('tokenized:', tokenized_question)\n",
    "\n",
    "detokenized_question = bart_detokenize(tokenized_question)\n",
    "print('detokenized:', detokenized_question)"
   ]
  },
  {
   "cell_type": "markdown",
   "id": "5f599aab",
   "metadata": {
    "id": "rNjWdC6W2I8W"
   },
   "source": [
    "We need to reprocess the data using our new tokenizer. Note that here we set `batch_first` to `True`, since that's the expected input shape of the transformers package."
   ]
  },
  {
   "cell_type": "code",
   "execution_count": 66,
   "id": "dcdc0c81",
   "metadata": {
    "id": "_kzOJOnf2I8X"
   },
   "outputs": [
    {
     "name": "stderr",
     "output_type": "stream",
     "text": [
      "Token indices sequence length is longer than the specified maximum sequence length for this model (1135 > 1024). Running this sequence through the model will result in indexing errors\n"
     ]
    }
   ],
   "source": [
    "SRC_BART = tt.data.Field(include_lengths=True,   # include lengths\n",
    "                         batch_first=True,       # batches will be batch_size x max_len\n",
    "                         tokenize=bart_tokenize, # use bart tokenizer\n",
    "                         use_vocab=False,        # bart tokenizer already converts to int ids\n",
    "                         pad_token=bart_tokenizer.pad_token_id\n",
    "                        ) \n",
    "TGT_BART = tt.data.Field(include_lengths=False,\n",
    "                         batch_first=True,       # batches will be batch_size x max_len\n",
    "                         tokenize=bart_tokenize, # use bart tokenizer\n",
    "                         use_vocab=False,        # bart tokenizer already converts to int ids\n",
    "                         pad_token=bart_tokenizer.pad_token_id\n",
    "                        )\n",
    "fields_bart = [('src', SRC_BART), ('tgt', TGT_BART)]\n",
    "\n",
    "# Make splits for data\n",
    "train_data_bart, val_data_bart, test_data_bart = tt.datasets.TranslationDataset.splits(\n",
    "    ('_flightid.nl', '_flightid.sql'), fields_bart, path='./data/',\n",
    "    train='train', validation='dev', test='test')\n",
    "\n",
    "BATCH_SIZE = 1 # batch size for training/validation\n",
    "TEST_BATCH_SIZE = 1 # batch size for test, we use 1 to make beam search implementation easier\n",
    "\n",
    "train_iter_bart, val_iter_bart = tt.data.BucketIterator.splits((train_data_bart, val_data_bart),\n",
    "                                                     batch_size=BATCH_SIZE, \n",
    "                                                     device=device,\n",
    "                                                     repeat=False, \n",
    "                                                     sort_key=lambda x: len(x.src), \n",
    "                                                     sort_within_batch=True)\n",
    "test_iter_bart = tt.data.BucketIterator(test_data_bart, \n",
    "                                   batch_size=1, \n",
    "                                   device=device,\n",
    "                                   repeat=False, \n",
    "                                   sort=False, \n",
    "                                   train=False)"
   ]
  },
  {
   "cell_type": "markdown",
   "id": "5fae57a7",
   "metadata": {
    "id": "amgKjT4t2I8X"
   },
   "source": [
    "Let's take a look at the batch. Note that the shape of the batch is `batch_size x max_len`, instead of `max_len x batch_size` as in the previous part."
   ]
  },
  {
   "cell_type": "code",
   "execution_count": 67,
   "id": "b83fb1f1",
   "metadata": {
    "id": "tFOvvcLs2I8X"
   },
   "outputs": [
    {
     "name": "stdout",
     "output_type": "stream",
     "text": [
      "Size of text batch: torch.Size([1, 18])\n",
      "First sentence in batch: tensor([    0, 12196,  4871,   473, 38744,    33,    31,   385, 35449,     7,\n",
      "         3069,  2802,    71,   195,  1021,   108, 17036,     2])\n",
      "Length of the third sentence in batch: 18\n",
      "Converted back to string: what flights does delta have from dallas to denver after 5 o'clock\n",
      "Size of sql batch: torch.Size([1, 179])\n",
      "First sql in batch: tensor([    0, 49179,   211, 11595,  2444,  7164,  2524,  1215,   134,     4,\n",
      "        15801,  1215,   808, 11974,  2524,  2524,  1215,   134,  2156,  3062,\n",
      "         1215, 11131,  3062,  1215, 11131,  1215,   134,  2156,   343,   343,\n",
      "         1215,   134,  2156,  3062,  1215, 11131,  3062,  1215, 11131,  1215,\n",
      "          176,  2156,   343,   343,  1215,   176, 29919,  2524,  1215,   134,\n",
      "            4,  2456,  1902,  1215, 20414,  5457,   128, 26109,   108,  4248,\n",
      "           36,  2524,  1215,   134,     4,  7761,  1215,  2456,  3427,  5457,\n",
      "         3062,  1215, 11131,  1215,   134,     4,  2456,  3427,  1215, 20414,\n",
      "         4248,  3062,  1215, 11131,  1215,   134,     4, 14853,  1215, 20414,\n",
      "         5457,   343,  1215,   134,     4, 14853,  1215, 20414,  4248,   343,\n",
      "         1215,   134,     4, 14853,  1215, 13650,  5457,   128,   495,  7981,\n",
      "         2336,   108,  4248,    36,  2524,  1215,   134,     4,   560,  1215,\n",
      "         2456,  3427,  5457,  3062,  1215, 11131,  1215,   176,     4,  2456,\n",
      "         3427,  1215, 20414,  4248,  3062,  1215, 11131,  1215,   176,     4,\n",
      "        14853,  1215, 20414,  5457,   343,  1215,   176,     4, 14853,  1215,\n",
      "        20414,  4248,   343,  1215,   176,     4, 14853,  1215, 13650,  5457,\n",
      "          128, 28082,  9847,   108,  4248,  2524,  1215,   134,     4, 17272,\n",
      "         2013,  2407,  1215,   958,  8061,  1764,  4839,  4839,     2])\n",
      "Converted back to string: SELECT DISTINCT flight_1.flight_id FROM flight flight_1, airport_service airport_service_1, city city_1, airport_service airport_service_2, city city_2 WHERE flight_1.airline_code = 'DL' AND ( flight_1.from_airport = airport_service_1.airport_code AND airport_service_1.city_code = city_1.city_code AND city_1.city_name = 'DALLAS' AND ( flight_1.to_airport = airport_service_2.airport_code AND airport_service_2.city_code = city_2.city_code AND city_2.city_name = 'DENVER' AND flight_1.departure_time > 500 ) )\n"
     ]
    }
   ],
   "source": [
    "batch = next(iter(train_iter_bart))\n",
    "train_batch_text, train_batch_text_lengths = batch.src\n",
    "print (f\"Size of text batch: {train_batch_text.shape}\")\n",
    "print (f\"First sentence in batch: {train_batch_text[0]}\")\n",
    "print (f\"Length of the third sentence in batch: {train_batch_text_lengths[0]}\")\n",
    "print (f\"Converted back to string: {bart_detokenize(train_batch_text[0])}\")\n",
    "\n",
    "train_batch_sql = batch.tgt\n",
    "print (f\"Size of sql batch: {train_batch_sql.shape}\")\n",
    "print (f\"First sql in batch: {train_batch_sql[0]}\")\n",
    "print (f\"Converted back to string: {bart_detokenize(train_batch_sql[0])}\")"
   ]
  },
  {
   "cell_type": "markdown",
   "id": "36743d25",
   "metadata": {
    "id": "1yxZvTRF2I8X"
   },
   "source": [
    "Now we are ready to implement the BART-based approach for the text-to-SQL conversion problem. In the below `BART` class, we have provided the constructer `__init__`, the `forward` function, and the `predict` function. Your job is to implement the main optimization `train_all`, and `evaluate_ppl` for evaluating validation perplexity for model selection.\n",
    "\n",
    "> Hint: you can use almost the same `train_all` and `evaluate_ppl` function you implemented before, but here a major difference is that due to setting `batch_first=True`, the batched source/target tensors are of size `batch_size x max_len`, as opposed to `max_len x batch_size` in the LSTM-based approach, and you need to make changes in `train_all` and `evaluate_ppl` accordingly."
   ]
  },
  {
   "cell_type": "code",
   "execution_count": 68,
   "id": "8bb56b85",
   "metadata": {
    "id": "pCxIwyh72I8Y"
   },
   "outputs": [],
   "source": [
    "#TODO - finish implementing the `BART` class.\n",
    "class BART(nn.Module):\n",
    "  def __init__(self, tokenizer, pretrained_bart):\n",
    "    \"\"\"\n",
    "    Initializer. Creates network modules and loss function.\n",
    "    Arguments:\n",
    "        tokenizer: BART tokenizer\n",
    "        pretrained_bart: pretrained BART\n",
    "    \"\"\"\n",
    "    super(BART, self).__init__()\n",
    "    \n",
    "    self.V_tgt = len(tokenizer)\n",
    "    \n",
    "    # Get special word ids\n",
    "    self.padding_id_tgt = tokenizer.pad_token_id\n",
    "\n",
    "    # Create essential modules\n",
    "    self.bart = pretrained_bart\n",
    "\n",
    "    # Create loss function\n",
    "    self.loss_function = nn.CrossEntropyLoss(reduction=\"sum\", \n",
    "                                             ignore_index=self.padding_id_tgt)\n",
    "\n",
    "  def forward(self, src, src_lengths, tgt_in):\n",
    "    \"\"\"\n",
    "    Performs forward computation, returns logits.\n",
    "    Arguments:\n",
    "        src: src batch of size (batch_size, max_src_len)\n",
    "        src_lengths: src lengths of size (batch_size)\n",
    "        tgt_in:  a tensor of size (tgt_len, bsz)\n",
    "    \"\"\"\n",
    "    # BART assumes inputs to be batch-first\n",
    "    # This single function is forwarding both encoder and decoder (w/ cross attn),\n",
    "    # using `input_ids` as encoder inputs, and `decoder_input_ids`\n",
    "    # as decoder inputs.\n",
    "    logits = self.bart(input_ids=src, \n",
    "                       decoder_input_ids=tgt_in,\n",
    "                       use_cache=False\n",
    "                      ).logits\n",
    "    return logits\n",
    "\n",
    "  def evaluate_ppl(self, iterator):\n",
    "    \"\"\"Returns the model's perplexity on a given dataset `iterator`.\"\"\"\n",
    "    #TODO - implement this function\n",
    "    # Switch to eval mode\n",
    "    self.eval()\n",
    "    total_loss = 0\n",
    "    total_words = 0\n",
    "    for batch in iterator:\n",
    "      # Input and target\n",
    "      src, src_lengths = batch.src\n",
    "      # print(f'{src.shape=}')\n",
    "      tgt = batch.tgt # bsz, max_length_sql\n",
    "      # print(f'{tgt.shape=}')\n",
    "      tgt_in = tgt[:, :-1] # remove <eos> for decode input (y_0=<bos>, y_1, y_2)\n",
    "      tgt_out = tgt[:, 1:] # remove <bos> as target        (y_1, y_2, y_3=<eos>)\n",
    "      # print(f'{tgt_in.shape=} {tgt_out.shape=}')\n",
    "      # Forward to get logits\n",
    "      logits = self.forward(src, src_lengths, tgt_in)\n",
    "      # Compute cross entropy loss\n",
    "      loss = self.loss_function(logits.view(-1, self.V_tgt), tgt_out.view(-1)) # TODO check here\n",
    "      total_loss += loss.item()\n",
    "      total_words += tgt_out.ne(self.padding_id_tgt).float().sum().item()\n",
    "    ppl = math.exp(total_loss/total_words)\n",
    "    return ppl\n",
    "\n",
    "  def train_all(self, train_iter, val_iter, epochs=10, learning_rate=0.001, checkpoint_file='bart.pt'):\n",
    "    \"\"\"Train the model.\"\"\"\n",
    "    #TODO - implement this function\n",
    "    \"\"\"Train the model.\"\"\"\n",
    "    # Switch the module to training mode\n",
    "    self.train()\n",
    "    # Use Adam to optimize the parameters\n",
    "    optim = torch.optim.Adam(self.parameters(), lr=learning_rate)\n",
    "    best_validation_ppl = float('inf')\n",
    "    best_model = None\n",
    "    # Run the optimization for multiple epochs\n",
    "    for epoch in range(epochs): \n",
    "      total_words = 0\n",
    "      total_loss = 0.0\n",
    "      for batch in tqdm(train_iter):\n",
    "        # Zero the parameter gradients\n",
    "        self.zero_grad()\n",
    "        # Input and target\n",
    "        src, src_lengths = batch.src # text: bsz, max_src_length\n",
    "        # print(f'{src.shape=}')\n",
    "        tgt = batch.tgt # bsz, max_tgt_length\n",
    "        # print(f'{tgt.shape=}')\n",
    "        tgt_in = tgt[:,:-1] # Remove <eos> for decode input (y_0=<bos>, y_1, y_2)\n",
    "        tgt_out = tgt[:,1:] # Remove <bos> as target        (y_1, y_2, y_3=<eos>)\n",
    "        bos_pad = torch.ones(tgt.shape[0]).unsqueeze(0) * self.bart.config.bos_token_id\n",
    "        # print(f'{tgt_in.shape=} {tgt_out.shape=}')\n",
    "        tgt_in = torch.cat([bos_pad, tgt_in], dim=-1).to(int)\n",
    "        tgt_out = torch.cat([bos_pad, tgt_out], dim=-1).to(int)\n",
    "        # print(f'{tgt_in.shape=} {tgt_out.shape=}')\n",
    "        bsz = tgt.size(0)\n",
    "        # Run forward pass and compute loss along the way.\n",
    "        logits = self.forward(src, src_lengths, tgt_in)\n",
    "        loss = self.loss_function(logits.view(-1, self.V_tgt), tgt_out.view(-1))\n",
    "        # Training stats\n",
    "        num_tgt_words = tgt_out.ne(self.padding_id_tgt).float().sum().item()\n",
    "        total_words += num_tgt_words\n",
    "        total_loss += loss.item()\n",
    "        # Perform backpropagation\n",
    "        loss.div(bsz).backward()\n",
    "        optim.step()\n",
    "\n",
    "      # Evaluate and track improvements on the validation dataset\n",
    "      validation_ppl = self.evaluate_ppl(val_iter)\n",
    "      self.train()\n",
    "      if validation_ppl < best_validation_ppl:\n",
    "        best_validation_ppl = validation_ppl\n",
    "        self.best_model = copy.deepcopy(self.state_dict())\n",
    "        torch.save(self.best_model, 'models/' + checkpoint_file) # TODO\n",
    "      epoch_loss = total_loss / total_words\n",
    "      print (f'Epoch: {epoch} Training Perplexity: {math.exp(epoch_loss):.4f} '\n",
    "             f'Validation Perplexity: {validation_ppl:.4f}')\n",
    "    \n",
    "        \n",
    "  def predict(self, tokens, K=1, max_T=400):\n",
    "    \"\"\"\n",
    "    Generates the target sequence given the source sequence using beam search decoding. \n",
    "    Note that for simplicity, we only use batch size 1.\n",
    "    Arguments:\n",
    "        tokens: a list of strings, the source sentence.\n",
    "        max_T: at most proceed this many steps of decoding\n",
    "    Returns: \n",
    "        a string of the generated target sentence.\n",
    "    \"\"\"\n",
    "    string = ' '.join(tokens) # first convert to a string\n",
    "    # Tokenize and map to a list of word ids\n",
    "    inputs = torch.LongTensor(bart_tokenize(string)).to(device).view(1, -1)\n",
    "    # The `transformers` package provides built-in beam search support\n",
    "    prediction = self.bart.generate(inputs, \n",
    "                                    num_beams=K, \n",
    "                                    max_length=max_T, \n",
    "                                    early_stopping=True, \n",
    "                                    no_repeat_ngram_size=0,\n",
    "                                    decoder_start_token_id=0, \n",
    "                                    use_cache=True)[0]\n",
    "    return bart_detokenize(prediction)"
   ]
  },
  {
   "cell_type": "markdown",
   "id": "70fbe888",
   "metadata": {
    "id": "Bw-tTTCI2I8Z"
   },
   "source": [
    "The code below will kick off training, and evaluate the validation perplexity. You should expect to see a value very close to 1."
   ]
  },
  {
   "cell_type": "code",
   "execution_count": 72,
   "id": "adc28ae6",
   "metadata": {
    "id": "tp0K3Ie32I8Z"
   },
   "outputs": [
    {
     "name": "stdout",
     "output_type": "stream",
     "text": [
      "*** Loading model from checkpoint file bart_e_5_lr_1e-05_win.pt\n",
      "Validation perplexity: 1.178\n"
     ]
    }
   ],
   "source": [
    "EPOCHS = 5 # epochs, we recommend starting with a smaller number like 1\n",
    "LEARNING_RATE = 1e-5 # learning rate\n",
    "bart_checkpoint_filename = f'bart_e_{EPOCHS}_lr_{LEARNING_RATE}_orig.pt'\n",
    "# Instantiate and train classifier\n",
    "bart_model = BART(bart_tokenizer,\n",
    "                 pretrained_bart\n",
    ").to(device)\n",
    "\n",
    "if os.path.isfile(f'models/{bart_checkpoint_filename}'):\n",
    "    print(f'*** Loading model from checkpoint file {bart_checkpoint_filename}')\n",
    "    bart_model.load_state_dict(torch.load(f'models/{bart_checkpoint_filename}', map_location=device))\n",
    "else:\n",
    "    bart_model.train_all(train_iter_bart, val_iter_bart, epochs=EPOCHS, learning_rate=LEARNING_RATE, checkpoint_file=bart_checkpoint_filename)\n",
    "    bart_model.load_state_dict(bart_model.best_model)\n",
    "\n",
    "# Evaluate model performance, the expected value should be < 1.2\n",
    "print (f'Validation perplexity: {bart_model.evaluate_ppl(val_iter_bart):.3f}')"
   ]
  },
  {
   "cell_type": "markdown",
   "id": "bf2f687c",
   "metadata": {
    "id": "O653HXta2I8Z"
   },
   "source": [
    "As before, make sure that your model is making reasonable predictions on a few examples before evaluating on the entire test set."
   ]
  },
  {
   "cell_type": "code",
   "execution_count": 140,
   "id": "cd03a058",
   "metadata": {
    "id": "YQg5IVKD2I8Z"
   },
   "outputs": [],
   "source": [
    "def bart_trial(sentence, gold_sql):\n",
    "  print(\"Sentence: \", sentence, \"\\n\")\n",
    "  tokens = tokenize(sentence)\n",
    "\n",
    "  predicted_sql = bart_model.predict(tokens, K=1, max_T=300)\n",
    "  print(\"Predicted SQL:\\n\\n\", predicted_sql, \"\\n\")\n",
    "\n",
    "  if verify(predicted_sql, gold_sql, silent=False):\n",
    "    print ('Correct!')\n",
    "  else:\n",
    "    print ('Incorrect!')"
   ]
  },
  {
   "cell_type": "code",
   "execution_count": 141,
   "id": "f0904585",
   "metadata": {
    "id": "5cpg2d6t2I8Z"
   },
   "outputs": [
    {
     "name": "stdout",
     "output_type": "stream",
     "text": [
      "Sentence:  flights from phoenix to milwaukee \n",
      "\n",
      "Predicted SQL:\n",
      "\n",
      " SELECT DISTINCT flight_1.flight_id FROM flight flight_1, airport_service airport_service_1, city city_1, airport_service airport_service_2, city city_2 WHERE flight_1.from_airport = airport_service_1.airport_code AND airport_service_1.city_code = city_1.city_code AND city_1.city_name = 'PHOENIX' AND flight_1.to_airport = airport_service_2.airport_code AND airport_service_2.city_code = city_2.city_code AND city_2.city_name = 'MILWAUKEE' \n",
      "\n",
      "Predicted DB result:\n",
      "\n",
      " [(108086,), (108087,), (301763,), (301764,), (301765,), (301766,), (302323,), (304881,), (310619,), (310620,)] \n",
      "\n",
      "Gold DB result:\n",
      "\n",
      " [(108086,), (108087,), (301763,), (301764,), (301765,), (301766,), (302323,), (304881,), (310619,), (310620,)] \n",
      "\n",
      "Correct!\n"
     ]
    }
   ],
   "source": [
    "bart_trial(example_1, gold_sql_1)"
   ]
  },
  {
   "cell_type": "code",
   "execution_count": 142,
   "id": "98226b84",
   "metadata": {
    "id": "j8p6vfrA2I8a"
   },
   "outputs": [
    {
     "name": "stdout",
     "output_type": "stream",
     "text": [
      "Sentence:  i would like a united flight \n",
      "\n",
      "Predicted SQL:\n",
      "\n",
      " SELECT DISTINCT flight_1.flight_id FROM flight flight_1 WHERE flight_1.airline_code = 'UA' AND 1 = 1 \n",
      "\n",
      "Predicted DB result:\n",
      "\n",
      " [(100094,), (100099,), (100145,), (100158,), (100164,), (100167,), (100169,), (100203,), (100204,), (100296,)] \n",
      "\n",
      "Gold DB result:\n",
      "\n",
      " [(100094,), (100099,), (100145,), (100158,), (100164,), (100167,), (100169,), (100203,), (100204,), (100296,)] \n",
      "\n",
      "Correct!\n"
     ]
    }
   ],
   "source": [
    "bart_trial(example_2, gold_sql_2)"
   ]
  },
  {
   "cell_type": "code",
   "execution_count": 143,
   "id": "1ebdfbab",
   "metadata": {
    "id": "Gqfx_GBt2I8a"
   },
   "outputs": [
    {
     "name": "stdout",
     "output_type": "stream",
     "text": [
      "Sentence:  i would like a flight between boston and dallas \n",
      "\n",
      "Predicted SQL:\n",
      "\n",
      " SELECT DISTINCT flight_1.flight_id FROM flight flight_1, airport_service airport_service_1, city city_1, airport_service airport_service_2, city city_2 WHERE flight_1.from_airport = airport_service_1.airport_code AND airport_service_1.city_code = city_1.city_code AND city_1.city_name = 'BOSTON' AND flight_1.to_airport = airport_service_2.airport_code AND airport_service_2.city_code = city_2.city_code AND city_2.city_name = 'DALLAS' \n",
      "\n",
      "Predicted DB result:\n",
      "\n",
      " [(103171,), (103172,), (103173,), (103174,), (103175,), (103176,), (103177,), (103178,), (103179,), (103180,)] \n",
      "\n",
      "Gold DB result:\n",
      "\n",
      " [(103171,), (103172,), (103173,), (103174,), (103175,), (103176,), (103177,), (103178,), (103179,), (103180,)] \n",
      "\n",
      "Correct!\n"
     ]
    }
   ],
   "source": [
    "bart_trial(example_3, gold_sql_3)"
   ]
  },
  {
   "cell_type": "code",
   "execution_count": 144,
   "id": "60969ae1",
   "metadata": {
    "id": "hUg3W5d72I8a"
   },
   "outputs": [
    {
     "name": "stdout",
     "output_type": "stream",
     "text": [
      "Sentence:  show me the united flights from denver to baltimore \n",
      "\n",
      "Predicted SQL:\n",
      "\n",
      " SELECT DISTINCT flight_1.flight_id FROM flight flight_1, airport_service airport_service_1, city city_1, airport_service airport_service_2, city city_2 WHERE flight_1.airline_code = 'UA' AND ( flight_1.from_airport = airport_service_1.airport_code AND airport_service_1.city_code = city_1.city_code AND city_1.city_name = 'DENVER' AND flight_1.to_airport = airport_service_2.airport_code AND airport_service_2.city_code = city_2.city_code AND city_2.city_name = 'BALTIMORE' ) \n",
      "\n",
      "Predicted DB result:\n",
      "\n",
      " [(101231,), (101233,), (305983,)] \n",
      "\n",
      "Gold DB result:\n",
      "\n",
      " [(101231,), (101233,), (305983,)] \n",
      "\n",
      "Correct!\n"
     ]
    }
   ],
   "source": [
    "bart_trial(example_4, gold_sql_4)"
   ]
  },
  {
   "cell_type": "code",
   "execution_count": 145,
   "id": "6652a685",
   "metadata": {
    "id": "tCg5ft6H2I8a"
   },
   "outputs": [
    {
     "name": "stdout",
     "output_type": "stream",
     "text": [
      "Sentence:  show flights from cleveland to miami that arrive before 4pm \n",
      "\n",
      "Predicted SQL:\n",
      "\n",
      " SELECT DISTINCT flight_1.flight_id FROM flight flight_1, airport_service airport_service_1, city city_1, airport_service airport_service_2, city city_2 WHERE flight_1.from_airport = airport_service_1.airport_code AND airport_service_1.city_code = city_1.city_code AND city_1.city_name = 'CLEVELAND' AND ( flight_1.to_airport = airport_service_2.airport_code AND airport_service_2.city_code = city_2.city_code AND city_2.city_name = 'MIAMI' AND flight_1.arrival_time < 1600 ) \n",
      "\n",
      "Predicted DB result:\n",
      "\n",
      " [(107698,), (301117,)] \n",
      "\n",
      "Gold DB result:\n",
      "\n",
      " [(107698,), (301117,)] \n",
      "\n",
      "Correct!\n"
     ]
    }
   ],
   "source": [
    "bart_trial(example_5, gold_sql_5)"
   ]
  },
  {
   "cell_type": "code",
   "execution_count": 146,
   "id": "ab965fec",
   "metadata": {
    "id": "omLXKhel2I8a"
   },
   "outputs": [
    {
     "name": "stdout",
     "output_type": "stream",
     "text": [
      "Sentence:  okay how about a flight on sunday from tampa to charlotte \n",
      "\n",
      "Predicted SQL:\n",
      "\n",
      " SELECT DISTINCT flight_1.flight_id FROM flight flight_1, airport_service airport_service_1, city city_1, airport_service airport_service_2, city city_2, days days_1, date_day date_day_1 WHERE flight_1.from_airport = airport_service_1.airport_code AND airport_service_1.city_code = city_1.city_code AND city_1.city_name = 'TAMPA' AND ( flight_1.to_airport = airport_service_2.airport_code AND airport_service_2.city_code = city_2.city_code AND city_2.city_name = 'CHARLOTTE' AND flight_1.flight_days = days_1.days_code AND days_1.day_name = date_day_1.day_name AND date_day_1.year = 1991 AND date_day_1.month_number = 8 AND date_day_1.day_number = 27 ) \n",
      "\n",
      "Predicted DB result:\n",
      "\n",
      " [(101860,), (101861,), (101862,), (101863,), (101864,), (101865,), (305231,)] \n",
      "\n",
      "Gold DB result:\n",
      "\n",
      " [(101860,), (101861,), (101862,), (101863,), (101864,), (101865,), (305231,)] \n",
      "\n",
      "Correct!\n"
     ]
    }
   ],
   "source": [
    "bart_trial(example_6, gold_sql_6b)"
   ]
  },
  {
   "cell_type": "code",
   "execution_count": 147,
   "id": "d3380769",
   "metadata": {
    "id": "nXD8nrX62I8b"
   },
   "outputs": [
    {
     "name": "stdout",
     "output_type": "stream",
     "text": [
      "Sentence:  list all flights going from boston to atlanta that leaves before 7 am on thursday \n",
      "\n",
      "Predicted SQL:\n",
      "\n",
      " SELECT DISTINCT flight_1.flight_id FROM flight flight_1, airport_service airport_service_1, city city_1, airport_service airport_service_2, city city_2, days days_1, date_day date_day_1 WHERE flight_1.from_airport = airport_service_1.airport_code AND airport_service_1.city_code = city_1.city_code AND city_1.city_name = 'BOSTON' AND ( flight_1.to_airport = airport_service_2.airport_code AND airport_service_2.city_code = city_2.city_code AND city_2.city_name = 'ATLANTA' AND ( flight_1.departure_time < 700 AND flight_1.flight_days = days_1.days_code AND days_1.day_name = date_day_1.day_name AND date_day_1.year = 1991 AND date_day_1.month_number = 5 AND date_day_1.day_number = 24 ) ) \n",
      "\n",
      "Predicted DB result:\n",
      "\n",
      " [(100014,)] \n",
      "\n",
      "Gold DB result:\n",
      "\n",
      " [(100014,)] \n",
      "\n",
      "Correct!\n"
     ]
    }
   ],
   "source": [
    "bart_trial(example_7, gold_sql_7b)"
   ]
  },
  {
   "cell_type": "code",
   "execution_count": 149,
   "id": "1578c156",
   "metadata": {
    "id": "37Puy-dT2I8b"
   },
   "outputs": [
    {
     "name": "stdout",
     "output_type": "stream",
     "text": [
      "Sentence:  list the flights from dallas to san francisco on american airlines \n",
      "\n",
      "Predicted SQL:\n",
      "\n",
      " SELECT DISTINCT flight_1.flight_id FROM flight flight_1, airport_service airport_service_1, city city_1, airport_service airport_service_2, city city_2 WHERE flight_1.airline_code = 'AA' AND ( flight_1.from_airport = airport_service_1.airport_code AND airport_service_1.city_code = city_1.city_code AND city_1.city_name = 'DALLAS' AND flight_1.to_airport = airport_service_2.airport_code AND airport_service_2.city_code = city_2.city_code AND city_2.city_name = 'SAN FRANCISCO' ) \n",
      "\n",
      "Predicted DB result:\n",
      "\n",
      " [(108452,), (108454,), (108456,), (111083,), (111085,), (111086,), (111090,), (111091,), (111092,), (111094,)] \n",
      "\n",
      "Gold DB result:\n",
      "\n",
      " [(108452,), (108454,), (108456,), (111083,), (111085,), (111086,), (111090,), (111091,), (111092,), (111094,)] \n",
      "\n",
      "Correct!\n"
     ]
    }
   ],
   "source": [
    "bart_trial(example_8, gold_sql_8)"
   ]
  },
  {
   "cell_type": "markdown",
   "id": "2b834df3",
   "metadata": {
    "id": "g8OUieX02I8b"
   },
   "source": [
    "### Evaluation"
   ]
  },
  {
   "cell_type": "markdown",
   "id": "d30379f2",
   "metadata": {
    "id": "APbL0lzP2I8b"
   },
   "source": [
    "The code below will evaluate on the entire test set. You should expect to see precision/recall/F1 greater than 40%."
   ]
  },
  {
   "cell_type": "code",
   "execution_count": 150,
   "id": "e5899692",
   "metadata": {
    "id": "Xx-aLKW42I8b"
   },
   "outputs": [],
   "source": [
    "def seq2seq_predictor_bart(tokens):\n",
    "  prediction = bart_model.predict(tokens, K=4, max_T=400)\n",
    "  return prediction"
   ]
  },
  {
   "cell_type": "code",
   "execution_count": 151,
   "id": "c7fd28e5",
   "metadata": {
    "id": "RCsKMLGy2I8b"
   },
   "outputs": [
    {
     "name": "stderr",
     "output_type": "stream",
     "text": [
      " 11%|███████▎                                                            | 36/332 [10:21<1:25:11, 17.27s/it]\n"
     ]
    },
    {
     "ename": "KeyboardInterrupt",
     "evalue": "",
     "output_type": "error",
     "traceback": [
      "\u001b[0;31m---------------------------------------------------------------------------\u001b[0m",
      "\u001b[0;31mKeyboardInterrupt\u001b[0m                         Traceback (most recent call last)",
      "Input \u001b[0;32mIn [151]\u001b[0m, in \u001b[0;36m<cell line: 1>\u001b[0;34m()\u001b[0m\n\u001b[0;32m----> 1\u001b[0m precision, recall, f1 \u001b[38;5;241m=\u001b[39m \u001b[43mevaluate\u001b[49m\u001b[43m(\u001b[49m\u001b[43mseq2seq_predictor_bart\u001b[49m\u001b[43m,\u001b[49m\u001b[43m \u001b[49m\u001b[43mtest_iter\u001b[49m\u001b[38;5;241;43m.\u001b[39;49m\u001b[43mdataset\u001b[49m\u001b[43m,\u001b[49m\u001b[43m \u001b[49m\u001b[43mnum_examples\u001b[49m\u001b[38;5;241;43m=\u001b[39;49m\u001b[38;5;241;43m0\u001b[39;49m\u001b[43m)\u001b[49m\n\u001b[1;32m      2\u001b[0m \u001b[38;5;28mprint\u001b[39m(\u001b[38;5;124mf\u001b[39m\u001b[38;5;124m\"\u001b[39m\u001b[38;5;124mprecision: \u001b[39m\u001b[38;5;132;01m{\u001b[39;00mprecision\u001b[38;5;132;01m:\u001b[39;00m\u001b[38;5;124m3.2f\u001b[39m\u001b[38;5;132;01m}\u001b[39;00m\u001b[38;5;124m\"\u001b[39m)\n\u001b[1;32m      3\u001b[0m \u001b[38;5;28mprint\u001b[39m(\u001b[38;5;124mf\u001b[39m\u001b[38;5;124m\"\u001b[39m\u001b[38;5;124mrecall:    \u001b[39m\u001b[38;5;132;01m{\u001b[39;00mrecall\u001b[38;5;132;01m:\u001b[39;00m\u001b[38;5;124m3.2f\u001b[39m\u001b[38;5;132;01m}\u001b[39;00m\u001b[38;5;124m\"\u001b[39m)\n",
      "Input \u001b[0;32mIn [130]\u001b[0m, in \u001b[0;36mevaluate\u001b[0;34m(predictor, dataset, num_examples, silent)\u001b[0m\n\u001b[1;32m     24\u001b[0m example_count \u001b[38;5;241m+\u001b[39m\u001b[38;5;241m=\u001b[39m \u001b[38;5;241m1\u001b[39m\n\u001b[1;32m     25\u001b[0m \u001b[38;5;66;03m# obtain query SQL\u001b[39;00m\n\u001b[0;32m---> 26\u001b[0m predicted_sql \u001b[38;5;241m=\u001b[39m \u001b[43mpredictor\u001b[49m\u001b[43m(\u001b[49m\u001b[43mexample\u001b[49m\u001b[38;5;241;43m.\u001b[39;49m\u001b[43msrc\u001b[49m\u001b[43m)\u001b[49m\n\u001b[1;32m     27\u001b[0m \u001b[38;5;28;01mif\u001b[39;00m predicted_sql \u001b[38;5;241m==\u001b[39m \u001b[38;5;28;01mNone\u001b[39;00m:\n\u001b[1;32m     28\u001b[0m   \u001b[38;5;28;01mcontinue\u001b[39;00m\n",
      "Input \u001b[0;32mIn [150]\u001b[0m, in \u001b[0;36mseq2seq_predictor_bart\u001b[0;34m(tokens)\u001b[0m\n\u001b[1;32m      1\u001b[0m \u001b[38;5;28;01mdef\u001b[39;00m \u001b[38;5;21mseq2seq_predictor_bart\u001b[39m(tokens):\n\u001b[0;32m----> 2\u001b[0m   prediction \u001b[38;5;241m=\u001b[39m \u001b[43mbart_model\u001b[49m\u001b[38;5;241;43m.\u001b[39;49m\u001b[43mpredict\u001b[49m\u001b[43m(\u001b[49m\u001b[43mtokens\u001b[49m\u001b[43m,\u001b[49m\u001b[43m \u001b[49m\u001b[43mK\u001b[49m\u001b[38;5;241;43m=\u001b[39;49m\u001b[38;5;241;43m4\u001b[39;49m\u001b[43m,\u001b[49m\u001b[43m \u001b[49m\u001b[43mmax_T\u001b[49m\u001b[38;5;241;43m=\u001b[39;49m\u001b[38;5;241;43m400\u001b[39;49m\u001b[43m)\u001b[49m\n\u001b[1;32m      3\u001b[0m   \u001b[38;5;28;01mreturn\u001b[39;00m prediction\n",
      "Input \u001b[0;32mIn [68]\u001b[0m, in \u001b[0;36mBART.predict\u001b[0;34m(self, tokens, K, max_T)\u001b[0m\n\u001b[1;32m    132\u001b[0m inputs \u001b[38;5;241m=\u001b[39m torch\u001b[38;5;241m.\u001b[39mLongTensor(bart_tokenize(string))\u001b[38;5;241m.\u001b[39mto(device)\u001b[38;5;241m.\u001b[39mview(\u001b[38;5;241m1\u001b[39m, \u001b[38;5;241m-\u001b[39m\u001b[38;5;241m1\u001b[39m)\n\u001b[1;32m    133\u001b[0m \u001b[38;5;66;03m# The `transformers` package provides built-in beam search support\u001b[39;00m\n\u001b[0;32m--> 134\u001b[0m prediction \u001b[38;5;241m=\u001b[39m \u001b[38;5;28;43mself\u001b[39;49m\u001b[38;5;241;43m.\u001b[39;49m\u001b[43mbart\u001b[49m\u001b[38;5;241;43m.\u001b[39;49m\u001b[43mgenerate\u001b[49m\u001b[43m(\u001b[49m\u001b[43minputs\u001b[49m\u001b[43m,\u001b[49m\u001b[43m \u001b[49m\n\u001b[1;32m    135\u001b[0m \u001b[43m                                \u001b[49m\u001b[43mnum_beams\u001b[49m\u001b[38;5;241;43m=\u001b[39;49m\u001b[43mK\u001b[49m\u001b[43m,\u001b[49m\u001b[43m \u001b[49m\n\u001b[1;32m    136\u001b[0m \u001b[43m                                \u001b[49m\u001b[43mmax_length\u001b[49m\u001b[38;5;241;43m=\u001b[39;49m\u001b[43mmax_T\u001b[49m\u001b[43m,\u001b[49m\u001b[43m \u001b[49m\n\u001b[1;32m    137\u001b[0m \u001b[43m                                \u001b[49m\u001b[43mearly_stopping\u001b[49m\u001b[38;5;241;43m=\u001b[39;49m\u001b[38;5;28;43;01mTrue\u001b[39;49;00m\u001b[43m,\u001b[49m\u001b[43m \u001b[49m\n\u001b[1;32m    138\u001b[0m \u001b[43m                                \u001b[49m\u001b[43mno_repeat_ngram_size\u001b[49m\u001b[38;5;241;43m=\u001b[39;49m\u001b[38;5;241;43m0\u001b[39;49m\u001b[43m,\u001b[49m\n\u001b[1;32m    139\u001b[0m \u001b[43m                                \u001b[49m\u001b[43mdecoder_start_token_id\u001b[49m\u001b[38;5;241;43m=\u001b[39;49m\u001b[38;5;241;43m0\u001b[39;49m\u001b[43m,\u001b[49m\u001b[43m \u001b[49m\n\u001b[1;32m    140\u001b[0m \u001b[43m                                \u001b[49m\u001b[43muse_cache\u001b[49m\u001b[38;5;241;43m=\u001b[39;49m\u001b[38;5;28;43;01mTrue\u001b[39;49;00m\u001b[43m)\u001b[49m[\u001b[38;5;241m0\u001b[39m]\n\u001b[1;32m    141\u001b[0m \u001b[38;5;28;01mreturn\u001b[39;00m bart_detokenize(prediction)\n",
      "File \u001b[0;32m/usr/local/Caskroom/miniconda/base/envs/236299/lib/python3.8/site-packages/torch/autograd/grad_mode.py:28\u001b[0m, in \u001b[0;36m_DecoratorContextManager.__call__.<locals>.decorate_context\u001b[0;34m(*args, **kwargs)\u001b[0m\n\u001b[1;32m     25\u001b[0m \u001b[38;5;129m@functools\u001b[39m\u001b[38;5;241m.\u001b[39mwraps(func)\n\u001b[1;32m     26\u001b[0m \u001b[38;5;28;01mdef\u001b[39;00m \u001b[38;5;21mdecorate_context\u001b[39m(\u001b[38;5;241m*\u001b[39margs, \u001b[38;5;241m*\u001b[39m\u001b[38;5;241m*\u001b[39mkwargs):\n\u001b[1;32m     27\u001b[0m     \u001b[38;5;28;01mwith\u001b[39;00m \u001b[38;5;28mself\u001b[39m\u001b[38;5;241m.\u001b[39m\u001b[38;5;18m__class__\u001b[39m():\n\u001b[0;32m---> 28\u001b[0m         \u001b[38;5;28;01mreturn\u001b[39;00m \u001b[43mfunc\u001b[49m\u001b[43m(\u001b[49m\u001b[38;5;241;43m*\u001b[39;49m\u001b[43margs\u001b[49m\u001b[43m,\u001b[49m\u001b[43m \u001b[49m\u001b[38;5;241;43m*\u001b[39;49m\u001b[38;5;241;43m*\u001b[39;49m\u001b[43mkwargs\u001b[49m\u001b[43m)\u001b[49m\n",
      "File \u001b[0;32m/usr/local/Caskroom/miniconda/base/envs/236299/lib/python3.8/site-packages/transformers/generation_utils.py:1354\u001b[0m, in \u001b[0;36mGenerationMixin.generate\u001b[0;34m(self, inputs, max_length, min_length, do_sample, early_stopping, num_beams, temperature, top_k, top_p, typical_p, repetition_penalty, bad_words_ids, force_words_ids, bos_token_id, pad_token_id, eos_token_id, length_penalty, no_repeat_ngram_size, encoder_no_repeat_ngram_size, num_return_sequences, max_time, max_new_tokens, decoder_start_token_id, use_cache, num_beam_groups, diversity_penalty, prefix_allowed_tokens_fn, logits_processor, renormalize_logits, stopping_criteria, constraints, output_attentions, output_hidden_states, output_scores, return_dict_in_generate, forced_bos_token_id, forced_eos_token_id, remove_invalid_values, synced_gpus, exponential_decay_length_penalty, **model_kwargs)\u001b[0m\n\u001b[1;32m   1350\u001b[0m     input_ids, model_kwargs \u001b[38;5;241m=\u001b[39m \u001b[38;5;28mself\u001b[39m\u001b[38;5;241m.\u001b[39m_expand_inputs_for_generation(\n\u001b[1;32m   1351\u001b[0m         input_ids, expand_size\u001b[38;5;241m=\u001b[39mnum_beams, is_encoder_decoder\u001b[38;5;241m=\u001b[39m\u001b[38;5;28mself\u001b[39m\u001b[38;5;241m.\u001b[39mconfig\u001b[38;5;241m.\u001b[39mis_encoder_decoder, \u001b[38;5;241m*\u001b[39m\u001b[38;5;241m*\u001b[39mmodel_kwargs\n\u001b[1;32m   1352\u001b[0m     )\n\u001b[1;32m   1353\u001b[0m     \u001b[38;5;66;03m# 12. run beam search\u001b[39;00m\n\u001b[0;32m-> 1354\u001b[0m     \u001b[38;5;28;01mreturn\u001b[39;00m \u001b[38;5;28;43mself\u001b[39;49m\u001b[38;5;241;43m.\u001b[39;49m\u001b[43mbeam_search\u001b[49m\u001b[43m(\u001b[49m\n\u001b[1;32m   1355\u001b[0m \u001b[43m        \u001b[49m\u001b[43minput_ids\u001b[49m\u001b[43m,\u001b[49m\n\u001b[1;32m   1356\u001b[0m \u001b[43m        \u001b[49m\u001b[43mbeam_scorer\u001b[49m\u001b[43m,\u001b[49m\n\u001b[1;32m   1357\u001b[0m \u001b[43m        \u001b[49m\u001b[43mlogits_processor\u001b[49m\u001b[38;5;241;43m=\u001b[39;49m\u001b[43mlogits_processor\u001b[49m\u001b[43m,\u001b[49m\n\u001b[1;32m   1358\u001b[0m \u001b[43m        \u001b[49m\u001b[43mstopping_criteria\u001b[49m\u001b[38;5;241;43m=\u001b[39;49m\u001b[43mstopping_criteria\u001b[49m\u001b[43m,\u001b[49m\n\u001b[1;32m   1359\u001b[0m \u001b[43m        \u001b[49m\u001b[43mpad_token_id\u001b[49m\u001b[38;5;241;43m=\u001b[39;49m\u001b[43mpad_token_id\u001b[49m\u001b[43m,\u001b[49m\n\u001b[1;32m   1360\u001b[0m \u001b[43m        \u001b[49m\u001b[43meos_token_id\u001b[49m\u001b[38;5;241;43m=\u001b[39;49m\u001b[43meos_token_id\u001b[49m\u001b[43m,\u001b[49m\n\u001b[1;32m   1361\u001b[0m \u001b[43m        \u001b[49m\u001b[43moutput_scores\u001b[49m\u001b[38;5;241;43m=\u001b[39;49m\u001b[43moutput_scores\u001b[49m\u001b[43m,\u001b[49m\n\u001b[1;32m   1362\u001b[0m \u001b[43m        \u001b[49m\u001b[43mreturn_dict_in_generate\u001b[49m\u001b[38;5;241;43m=\u001b[39;49m\u001b[43mreturn_dict_in_generate\u001b[49m\u001b[43m,\u001b[49m\n\u001b[1;32m   1363\u001b[0m \u001b[43m        \u001b[49m\u001b[43msynced_gpus\u001b[49m\u001b[38;5;241;43m=\u001b[39;49m\u001b[43msynced_gpus\u001b[49m\u001b[43m,\u001b[49m\n\u001b[1;32m   1364\u001b[0m \u001b[43m        \u001b[49m\u001b[38;5;241;43m*\u001b[39;49m\u001b[38;5;241;43m*\u001b[39;49m\u001b[43mmodel_kwargs\u001b[49m\u001b[43m,\u001b[49m\n\u001b[1;32m   1365\u001b[0m \u001b[43m    \u001b[49m\u001b[43m)\u001b[49m\n\u001b[1;32m   1367\u001b[0m \u001b[38;5;28;01melif\u001b[39;00m is_beam_sample_gen_mode:\n\u001b[1;32m   1368\u001b[0m     \u001b[38;5;66;03m# 10. prepare logits warper\u001b[39;00m\n\u001b[1;32m   1369\u001b[0m     logits_warper \u001b[38;5;241m=\u001b[39m \u001b[38;5;28mself\u001b[39m\u001b[38;5;241m.\u001b[39m_get_logits_warper(\n\u001b[1;32m   1370\u001b[0m         top_k\u001b[38;5;241m=\u001b[39mtop_k,\n\u001b[1;32m   1371\u001b[0m         top_p\u001b[38;5;241m=\u001b[39mtop_p,\n\u001b[0;32m   (...)\u001b[0m\n\u001b[1;32m   1375\u001b[0m         renormalize_logits\u001b[38;5;241m=\u001b[39mrenormalize_logits,\n\u001b[1;32m   1376\u001b[0m     )\n",
      "File \u001b[0;32m/usr/local/Caskroom/miniconda/base/envs/236299/lib/python3.8/site-packages/transformers/generation_utils.py:2205\u001b[0m, in \u001b[0;36mGenerationMixin.beam_search\u001b[0;34m(self, input_ids, beam_scorer, logits_processor, stopping_criteria, max_length, pad_token_id, eos_token_id, output_attentions, output_hidden_states, output_scores, return_dict_in_generate, synced_gpus, **model_kwargs)\u001b[0m\n\u001b[1;32m   2201\u001b[0m         \u001b[38;5;28;01mbreak\u001b[39;00m\n\u001b[1;32m   2203\u001b[0m model_inputs \u001b[38;5;241m=\u001b[39m \u001b[38;5;28mself\u001b[39m\u001b[38;5;241m.\u001b[39mprepare_inputs_for_generation(input_ids, \u001b[38;5;241m*\u001b[39m\u001b[38;5;241m*\u001b[39mmodel_kwargs)\n\u001b[0;32m-> 2205\u001b[0m outputs \u001b[38;5;241m=\u001b[39m \u001b[38;5;28mself\u001b[39m(\n\u001b[1;32m   2206\u001b[0m     \u001b[38;5;241m*\u001b[39m\u001b[38;5;241m*\u001b[39mmodel_inputs,\n\u001b[1;32m   2207\u001b[0m     return_dict\u001b[38;5;241m=\u001b[39m\u001b[38;5;28;01mTrue\u001b[39;00m,\n\u001b[1;32m   2208\u001b[0m     output_attentions\u001b[38;5;241m=\u001b[39moutput_attentions,\n\u001b[1;32m   2209\u001b[0m     output_hidden_states\u001b[38;5;241m=\u001b[39moutput_hidden_states,\n\u001b[1;32m   2210\u001b[0m )\n\u001b[1;32m   2212\u001b[0m \u001b[38;5;28;01mif\u001b[39;00m synced_gpus \u001b[38;5;129;01mand\u001b[39;00m this_peer_finished:\n\u001b[1;32m   2213\u001b[0m     cur_len \u001b[38;5;241m=\u001b[39m cur_len \u001b[38;5;241m+\u001b[39m \u001b[38;5;241m1\u001b[39m\n",
      "\u001b[0;31mKeyboardInterrupt\u001b[0m: "
     ]
    }
   ],
   "source": [
    "precision, recall, f1 = evaluate(seq2seq_predictor_bart, test_iter.dataset, num_examples=0)\n",
    "print(f\"precision: {precision:3.2f}\")\n",
    "print(f\"recall:    {recall:3.2f}\")\n",
    "print(f\"F1:        {f1:3.2f}\")"
   ]
  },
  {
   "cell_type": "markdown",
   "id": "49ba0a4b",
   "metadata": {},
   "source": [
    "# Discussion"
   ]
  },
  {
   "cell_type": "markdown",
   "id": "0039ef57",
   "metadata": {
    "deletable": false,
    "editable": false
   },
   "source": [
    "<!-- BEGIN QUESTION -->\n",
    "\n",
    "## Goal 5: Compare the pros and cons of rule-based and neural approaches.\n",
    "\n",
    "Compare the pros and cons of the rule-based approach and the neural approaches with relevant examples from your experiments above. Concerning the accuracy, which approach would you choose to be used in a product? Explain.\n",
    "<!--\n",
    "BEGIN QUESTION\n",
    "name: open_response_comp\n",
    "manual: true\n",
    "-->"
   ]
  },
  {
   "cell_type": "markdown",
   "id": "569975d4",
   "metadata": {},
   "source": [
    "**Our answer**\n",
    "\n",
    "A big advantange of a rule-based approach is that this approach does not require an actual DB, like ATIS.\n",
    "The algorithm behind the scenes isn't affected by a DB too, so there's no worry about a \"bad\" or biased DB.\n",
    "\n",
    "We can see that the rule-based approach made fewer errors, but also reproduces less correct answers. \n",
    "This is because the rule-based approach is limited to the options available by the grammar and therefore reproduces fewer queries overall. \n",
    "\n",
    "That is, for many of the inputs it does not return output at all, while the neural approach will always analyze the sentence and return some output, even if it is incorrect.\n",
    "Meaning, it is the programmer's responsibility to make sure the parse rules are correct - requiring domain knowledge and some hard work.\n",
    "\n",
    "Overall, the neural approach is more flexible and therefore successfully reproduces more outputs. So overall it is more accurate, and we will prefer it, but we must be aware of its disadvantages:\n",
    "- Since it will return output to each input, it cannot \"admit\" that it has no good answer. This is in contrast to the rule-based approach, which for inputs that are difficult to analyze will return empty output and hint to the user that he must reformulate the question, instead of misleading him.\n",
    "- The training of the model can take a long time and use a lot of resources, if we are interested in high accuracy.\n",
    "- In case of a common mistake, we can not make a point change in the model to avoid it, contrary to the rules-based approach - we need to re-train.\n",
    "\n",
    "However, the obvious advantage of the neural approach is that it is more accurate, and mostly manages to reproduce more correct outputs.\n",
    "\n",
    "If we needed to compare both in a production environment - we would try a simple neural approach first, before going to the \"big guns\", like BART/BERT/GPT-3. \n",
    "\n",
    "It is a choice depending on inference time, training resources, needed accuracy (a redunant chatbot can make mistakes, an autonomous car or an automatic doctor can't)"
   ]
  },
  {
   "cell_type": "markdown",
   "id": "7b69db02",
   "metadata": {
    "deletable": false,
    "editable": false,
    "id": "1xL28W1p2I8c"
   },
   "source": [
    "<!-- END QUESTION -->\n",
    "\n",
    "<!-- BEGIN QUESTION -->\n",
    "\n",
    "# Debrief\n",
    "\n",
    "**Question:** We're interested in any thoughts you have about this project segment so that we can improve it for later years, and to inform later segments for this year. Please list any issues that arose or comments you have to improve the project segment. Useful things to comment on might include the following: \n",
    "\n",
    "* Was the project segment clear or unclear? Which portions?\n",
    "* Were the readings appropriate background for the project segment? \n",
    "* Are there additions or changes you think would make the project segment better?\n",
    "\n",
    "<!--\n",
    "BEGIN QUESTION\n",
    "name: open_response_debrief\n",
    "manual: true\n",
    "-->\n",
    "\n",
    "but you should comment on whatever aspects you found especially positive or negative."
   ]
  },
  {
   "cell_type": "markdown",
   "id": "2f4d1d3c",
   "metadata": {},
   "source": [
    "It was really nice, we learned a lot by using an actual recent model."
   ]
  },
  {
   "cell_type": "markdown",
   "id": "6ed02a6a",
   "metadata": {
    "id": "CcgpogLj2I8c"
   },
   "source": [
    "<!-- END QUESTION -->\n",
    "\n",
    "\n",
    "\n",
    "# Instructions for submission of the project segment\n",
    "\n",
    "This project segment should be submitted to Gradescope at <https://rebrand.ly/project4-submit-code> and <https://rebrand.ly/project4-submit-pdf>, which will be made available some time before the due date.\n",
    "\n",
    "Project segment notebooks are manually graded, not autograded using otter as labs are. (Otter is used within project segment notebooks to synchronize distribution and solution code however.) **We will not run your notebook before grading it.** Instead, we ask that you submit the already freshly run notebook. The best method is to \"restart kernel and run all cells\", allowing time for all cells to be run to completion. You should submit your code to Gradescope at the code submission assignment at <https://rebrand.ly/project4-submit-code>. Make sure that you are also submitting your `data/grammar` file as part of your solution code as well.\n",
    "\n",
    "We also request that you **submit a PDF of the freshly run notebook**. The simplest method is to use \"Export notebook to PDF\", which will render the notebook to PDF via LaTeX. If that doesn't work, the method that seems to be most reliable is to export the notebook as HTML (if you are using Jupyter Notebook, you can do so using `File -> Print Preview`), open the HTML in a browser, and print it to a file. Then make sure to add the file to your git commit. Please name the file the same name as this notebook, but with a `.pdf` extension. (Conveniently, the methods just described will use that name by default.) You can then perform a git commit and push and submit the commit to Gradescope at <https://rebrand.ly/project4-submit-pdf>."
   ]
  },
  {
   "cell_type": "markdown",
   "id": "3f0d9f46",
   "metadata": {
    "id": "y3d0-waK2I8c"
   },
   "source": [
    "# End of project segment 4"
   ]
  }
 ],
 "metadata": {
  "accelerator": "GPU",
  "celltoolbar": "Tags",
  "colab": {
   "collapsed_sections": [],
   "name": "project4_semantics.ipynb",
   "provenance": [],
   "toc_visible": true
  },
  "kernelspec": {
   "display_name": "Python 3 (ipykernel)",
   "language": "python",
   "name": "python3"
  },
  "language_info": {
   "codemirror_mode": {
    "name": "ipython",
    "version": 3
   },
   "file_extension": ".py",
   "mimetype": "text/x-python",
   "name": "python",
   "nbconvert_exporter": "python",
   "pygments_lexer": "ipython3",
   "version": "3.8.12"
  },
  "title": "CS236299 Project Segment 4: Semantic Interpretation – Question Answering"
 },
 "nbformat": 4,
 "nbformat_minor": 5
}
